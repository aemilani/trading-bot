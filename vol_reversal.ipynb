{
 "cells": [
  {
   "cell_type": "code",
   "execution_count": 1,
   "id": "e55c4c39",
   "metadata": {},
   "outputs": [],
   "source": [
    "import datetime\n",
    "import numpy as np\n",
    "import pandas as pd\n",
    "import pandas_ta as ta\n",
    "import matplotlib.pyplot as plt\n",
    "import mplfinance as mpf\n",
    "from dateutil.parser import parse\n",
    "from dataset import Dataset\n",
    "from portfolio import Portfolio"
   ]
  },
  {
   "cell_type": "code",
   "execution_count": 2,
   "id": "b98a258f",
   "metadata": {},
   "outputs": [
    {
     "name": "stdout",
     "output_type": "stream",
     "text": [
      "days = 230\n"
     ]
    }
   ],
   "source": [
    "tf_hours = 1\n",
    "\n",
    "start_date = parse('2023-01-01')\n",
    "end_date = datetime.datetime.now()\n",
    "days = (end_date - start_date).days\n",
    "print(f'{days = }')\n",
    "\n",
    "data = Dataset().get_data(ticker='BTCUSDT', interval=f'{tf_hours}h', start_date=start_date.strftime('%Y-%m-%d'),\n",
    "                          end_date=end_date.strftime('%Y-%m-%d'))"
   ]
  },
  {
   "cell_type": "code",
   "execution_count": 3,
   "id": "1608baf0",
   "metadata": {},
   "outputs": [],
   "source": [
    "data = data[['open', 'high', 'low', 'close']]"
   ]
  },
  {
   "cell_type": "code",
   "execution_count": 4,
   "id": "d80e1fb9",
   "metadata": {},
   "outputs": [],
   "source": [
    "data['candle_size'] = data['high'] - data['low']\n",
    "data['candle_size_mean'] = data['candle_size'].rolling(14).mean()\n",
    "data['candle_size_std'] = data['candle_size'].rolling(14).std()\n",
    "data['std_ratio'] = (data['candle_size'] - data['candle_size_mean']) / data['candle_size_std']"
   ]
  },
  {
   "cell_type": "code",
   "execution_count": 5,
   "id": "c17b0ca5",
   "metadata": {},
   "outputs": [
    {
     "data": {
      "text/html": [
       "<div>\n",
       "<style scoped>\n",
       "    .dataframe tbody tr th:only-of-type {\n",
       "        vertical-align: middle;\n",
       "    }\n",
       "\n",
       "    .dataframe tbody tr th {\n",
       "        vertical-align: top;\n",
       "    }\n",
       "\n",
       "    .dataframe thead th {\n",
       "        text-align: right;\n",
       "    }\n",
       "</style>\n",
       "<table border=\"1\" class=\"dataframe\">\n",
       "  <thead>\n",
       "    <tr style=\"text-align: right;\">\n",
       "      <th></th>\n",
       "      <th>open</th>\n",
       "      <th>high</th>\n",
       "      <th>low</th>\n",
       "      <th>close</th>\n",
       "      <th>candle_size</th>\n",
       "      <th>candle_size_mean</th>\n",
       "      <th>candle_size_std</th>\n",
       "      <th>std_ratio</th>\n",
       "    </tr>\n",
       "    <tr>\n",
       "      <th>time</th>\n",
       "      <th></th>\n",
       "      <th></th>\n",
       "      <th></th>\n",
       "      <th></th>\n",
       "      <th></th>\n",
       "      <th></th>\n",
       "      <th></th>\n",
       "      <th></th>\n",
       "    </tr>\n",
       "  </thead>\n",
       "  <tbody>\n",
       "    <tr>\n",
       "      <th>2023-08-18 21:00:00</th>\n",
       "      <td>26065.01</td>\n",
       "      <td>26243.80</td>\n",
       "      <td>26049.02</td>\n",
       "      <td>26083.78</td>\n",
       "      <td>194.78</td>\n",
       "      <td>233.730000</td>\n",
       "      <td>124.299111</td>\n",
       "      <td>-0.313357</td>\n",
       "    </tr>\n",
       "    <tr>\n",
       "      <th>2023-08-18 22:00:00</th>\n",
       "      <td>26083.77</td>\n",
       "      <td>26177.70</td>\n",
       "      <td>26062.74</td>\n",
       "      <td>26062.75</td>\n",
       "      <td>114.96</td>\n",
       "      <td>234.480714</td>\n",
       "      <td>123.487340</td>\n",
       "      <td>-0.967878</td>\n",
       "    </tr>\n",
       "    <tr>\n",
       "      <th>2023-08-18 23:00:00</th>\n",
       "      <td>26062.75</td>\n",
       "      <td>26120.44</td>\n",
       "      <td>26040.14</td>\n",
       "      <td>26071.99</td>\n",
       "      <td>80.30</td>\n",
       "      <td>227.751429</td>\n",
       "      <td>129.430659</td>\n",
       "      <td>-1.139231</td>\n",
       "    </tr>\n",
       "    <tr>\n",
       "      <th>2023-08-19 00:00:00</th>\n",
       "      <td>26071.99</td>\n",
       "      <td>26094.49</td>\n",
       "      <td>26006.01</td>\n",
       "      <td>26054.00</td>\n",
       "      <td>88.48</td>\n",
       "      <td>220.940714</td>\n",
       "      <td>134.335366</td>\n",
       "      <td>-0.986045</td>\n",
       "    </tr>\n",
       "    <tr>\n",
       "      <th>2023-08-19 01:00:00</th>\n",
       "      <td>26054.00</td>\n",
       "      <td>26154.57</td>\n",
       "      <td>26017.68</td>\n",
       "      <td>26099.09</td>\n",
       "      <td>136.89</td>\n",
       "      <td>224.956429</td>\n",
       "      <td>130.608270</td>\n",
       "      <td>-0.674279</td>\n",
       "    </tr>\n",
       "  </tbody>\n",
       "</table>\n",
       "</div>"
      ],
      "text/plain": [
       "                         open      high       low     close  candle_size  \\\n",
       "time                                                                       \n",
       "2023-08-18 21:00:00  26065.01  26243.80  26049.02  26083.78       194.78   \n",
       "2023-08-18 22:00:00  26083.77  26177.70  26062.74  26062.75       114.96   \n",
       "2023-08-18 23:00:00  26062.75  26120.44  26040.14  26071.99        80.30   \n",
       "2023-08-19 00:00:00  26071.99  26094.49  26006.01  26054.00        88.48   \n",
       "2023-08-19 01:00:00  26054.00  26154.57  26017.68  26099.09       136.89   \n",
       "\n",
       "                     candle_size_mean  candle_size_std  std_ratio  \n",
       "time                                                               \n",
       "2023-08-18 21:00:00        233.730000       124.299111  -0.313357  \n",
       "2023-08-18 22:00:00        234.480714       123.487340  -0.967878  \n",
       "2023-08-18 23:00:00        227.751429       129.430659  -1.139231  \n",
       "2023-08-19 00:00:00        220.940714       134.335366  -0.986045  \n",
       "2023-08-19 01:00:00        224.956429       130.608270  -0.674279  "
      ]
     },
     "execution_count": 5,
     "metadata": {},
     "output_type": "execute_result"
    }
   ],
   "source": [
    "data.tail()"
   ]
  },
  {
   "cell_type": "code",
   "execution_count": 6,
   "id": "879f1331",
   "metadata": {},
   "outputs": [
    {
     "data": {
      "text/plain": [
       "3.4548606753808295"
      ]
     },
     "execution_count": 6,
     "metadata": {},
     "output_type": "execute_result"
    }
   ],
   "source": [
    "data['std_ratio'].max()"
   ]
  },
  {
   "cell_type": "code",
   "execution_count": 7,
   "id": "9032f8ff",
   "metadata": {},
   "outputs": [],
   "source": [
    "std_multiple = 3\n",
    "data_high_vol = data[data['std_ratio'] >= std_multiple]"
   ]
  },
  {
   "cell_type": "code",
   "execution_count": 8,
   "id": "c89dbce2",
   "metadata": {},
   "outputs": [
    {
     "data": {
      "text/html": [
       "<div>\n",
       "<style scoped>\n",
       "    .dataframe tbody tr th:only-of-type {\n",
       "        vertical-align: middle;\n",
       "    }\n",
       "\n",
       "    .dataframe tbody tr th {\n",
       "        vertical-align: top;\n",
       "    }\n",
       "\n",
       "    .dataframe thead th {\n",
       "        text-align: right;\n",
       "    }\n",
       "</style>\n",
       "<table border=\"1\" class=\"dataframe\">\n",
       "  <thead>\n",
       "    <tr style=\"text-align: right;\">\n",
       "      <th></th>\n",
       "      <th>open</th>\n",
       "      <th>high</th>\n",
       "      <th>low</th>\n",
       "      <th>close</th>\n",
       "      <th>candle_size</th>\n",
       "      <th>candle_size_mean</th>\n",
       "      <th>candle_size_std</th>\n",
       "      <th>std_ratio</th>\n",
       "    </tr>\n",
       "    <tr>\n",
       "      <th>time</th>\n",
       "      <th></th>\n",
       "      <th></th>\n",
       "      <th></th>\n",
       "      <th></th>\n",
       "      <th></th>\n",
       "      <th></th>\n",
       "      <th></th>\n",
       "      <th></th>\n",
       "    </tr>\n",
       "  </thead>\n",
       "  <tbody>\n",
       "    <tr>\n",
       "      <th>2023-01-02 04:00:00</th>\n",
       "      <td>16587.99</td>\n",
       "      <td>16707.25</td>\n",
       "      <td>16581.80</td>\n",
       "      <td>16661.94</td>\n",
       "      <td>125.45</td>\n",
       "      <td>36.592143</td>\n",
       "      <td>27.043775</td>\n",
       "      <td>3.285705</td>\n",
       "    </tr>\n",
       "    <tr>\n",
       "      <th>2023-01-03 15:00:00</th>\n",
       "      <td>16725.53</td>\n",
       "      <td>16773.00</td>\n",
       "      <td>16631.95</td>\n",
       "      <td>16661.23</td>\n",
       "      <td>141.05</td>\n",
       "      <td>41.395000</td>\n",
       "      <td>31.073023</td>\n",
       "      <td>3.207123</td>\n",
       "    </tr>\n",
       "    <tr>\n",
       "      <th>2023-01-06 14:00:00</th>\n",
       "      <td>16730.65</td>\n",
       "      <td>16817.00</td>\n",
       "      <td>16679.00</td>\n",
       "      <td>16774.19</td>\n",
       "      <td>138.00</td>\n",
       "      <td>43.005000</td>\n",
       "      <td>29.807879</td>\n",
       "      <td>3.186909</td>\n",
       "    </tr>\n",
       "    <tr>\n",
       "      <th>2023-01-08 16:00:00</th>\n",
       "      <td>16952.44</td>\n",
       "      <td>17019.79</td>\n",
       "      <td>16938.00</td>\n",
       "      <td>17000.43</td>\n",
       "      <td>81.79</td>\n",
       "      <td>22.468571</td>\n",
       "      <td>19.267396</td>\n",
       "      <td>3.078850</td>\n",
       "    </tr>\n",
       "    <tr>\n",
       "      <th>2023-01-12 00:00:00</th>\n",
       "      <td>17556.41</td>\n",
       "      <td>18000.00</td>\n",
       "      <td>17550.87</td>\n",
       "      <td>17943.26</td>\n",
       "      <td>449.13</td>\n",
       "      <td>96.177143</td>\n",
       "      <td>110.685448</td>\n",
       "      <td>3.188792</td>\n",
       "    </tr>\n",
       "  </tbody>\n",
       "</table>\n",
       "</div>"
      ],
      "text/plain": [
       "                         open      high       low     close  candle_size  \\\n",
       "time                                                                       \n",
       "2023-01-02 04:00:00  16587.99  16707.25  16581.80  16661.94       125.45   \n",
       "2023-01-03 15:00:00  16725.53  16773.00  16631.95  16661.23       141.05   \n",
       "2023-01-06 14:00:00  16730.65  16817.00  16679.00  16774.19       138.00   \n",
       "2023-01-08 16:00:00  16952.44  17019.79  16938.00  17000.43        81.79   \n",
       "2023-01-12 00:00:00  17556.41  18000.00  17550.87  17943.26       449.13   \n",
       "\n",
       "                     candle_size_mean  candle_size_std  std_ratio  \n",
       "time                                                               \n",
       "2023-01-02 04:00:00         36.592143        27.043775   3.285705  \n",
       "2023-01-03 15:00:00         41.395000        31.073023   3.207123  \n",
       "2023-01-06 14:00:00         43.005000        29.807879   3.186909  \n",
       "2023-01-08 16:00:00         22.468571        19.267396   3.078850  \n",
       "2023-01-12 00:00:00         96.177143       110.685448   3.188792  "
      ]
     },
     "execution_count": 8,
     "metadata": {},
     "output_type": "execute_result"
    }
   ],
   "source": [
    "data_high_vol.head()"
   ]
  },
  {
   "cell_type": "code",
   "execution_count": 9,
   "id": "6f7d0530",
   "metadata": {
    "scrolled": true
   },
   "outputs": [
    {
     "name": "stdout",
     "output_type": "stream",
     "text": [
      "1 / 99\n"
     ]
    },
    {
     "name": "stderr",
     "output_type": "stream",
     "text": [
      "C:\\Users\\aeali\\AppData\\Local\\Temp\\ipykernel_1632\\1068577375.py:20: SettingWithCopyWarning: \n",
      "A value is trying to be set on a copy of a slice from a DataFrame.\n",
      "Try using .loc[row_indexer,col_indexer] = value instead\n",
      "\n",
      "See the caveats in the documentation: https://pandas.pydata.org/pandas-docs/stable/user_guide/indexing.html#returning-a-view-versus-a-copy\n",
      "  data_high_vol.loc[idx, 'entry'] = entry\n",
      "C:\\Users\\aeali\\AppData\\Local\\Temp\\ipykernel_1632\\1068577375.py:21: SettingWithCopyWarning: \n",
      "A value is trying to be set on a copy of a slice from a DataFrame.\n",
      "Try using .loc[row_indexer,col_indexer] = value instead\n",
      "\n",
      "See the caveats in the documentation: https://pandas.pydata.org/pandas-docs/stable/user_guide/indexing.html#returning-a-view-versus-a-copy\n",
      "  data_high_vol.loc[idx, 'exit'] = exit\n",
      "C:\\Users\\aeali\\AppData\\Local\\Temp\\ipykernel_1632\\1068577375.py:22: SettingWithCopyWarning: \n",
      "A value is trying to be set on a copy of a slice from a DataFrame.\n",
      "Try using .loc[row_indexer,col_indexer] = value instead\n",
      "\n",
      "See the caveats in the documentation: https://pandas.pydata.org/pandas-docs/stable/user_guide/indexing.html#returning-a-view-versus-a-copy\n",
      "  data_high_vol.loc[idx, 'return_pct'] = (entry - exit) / entry\n",
      "C:\\Users\\aeali\\AppData\\Local\\Temp\\ipykernel_1632\\1068577375.py:23: SettingWithCopyWarning: \n",
      "A value is trying to be set on a copy of a slice from a DataFrame.\n",
      "Try using .loc[row_indexer,col_indexer] = value instead\n",
      "\n",
      "See the caveats in the documentation: https://pandas.pydata.org/pandas-docs/stable/user_guide/indexing.html#returning-a-view-versus-a-copy\n",
      "  data_high_vol.loc[idx, 'darwdown'] = (candle['high'] - entry) / entry\n"
     ]
    },
    {
     "name": "stdout",
     "output_type": "stream",
     "text": [
      "2 / 99\n",
      "3 / 99\n",
      "4 / 99\n",
      "5 / 99\n",
      "6 / 99\n",
      "7 / 99\n",
      "8 / 99\n",
      "9 / 99\n",
      "10 / 99\n",
      "11 / 99\n",
      "12 / 99\n",
      "13 / 99\n",
      "14 / 99\n",
      "15 / 99\n",
      "16 / 99\n",
      "17 / 99\n",
      "18 / 99\n",
      "19 / 99\n",
      "20 / 99\n",
      "21 / 99\n",
      "22 / 99\n",
      "23 / 99\n",
      "24 / 99\n",
      "25 / 99\n",
      "26 / 99\n",
      "27 / 99\n",
      "28 / 99\n",
      "29 / 99\n",
      "30 / 99\n",
      "31 / 99\n",
      "32 / 99\n",
      "33 / 99\n",
      "34 / 99\n",
      "35 / 99\n",
      "36 / 99\n",
      "37 / 99\n",
      "38 / 99\n",
      "39 / 99\n",
      "40 / 99\n",
      "41 / 99\n",
      "42 / 99\n",
      "43 / 99\n",
      "44 / 99\n",
      "45 / 99\n",
      "46 / 99\n",
      "47 / 99\n",
      "48 / 99\n",
      "49 / 99\n",
      "50 / 99\n",
      "51 / 99\n",
      "52 / 99\n",
      "53 / 99\n",
      "54 / 99\n",
      "55 / 99\n",
      "56 / 99\n",
      "57 / 99\n",
      "58 / 99\n",
      "59 / 99\n",
      "60 / 99\n",
      "61 / 99\n",
      "62 / 99\n",
      "63 / 99\n",
      "64 / 99\n",
      "65 / 99\n",
      "66 / 99\n",
      "67 / 99\n",
      "68 / 99\n",
      "69 / 99\n",
      "70 / 99\n",
      "71 / 99\n",
      "72 / 99\n",
      "73 / 99\n",
      "74 / 99\n",
      "75 / 99\n",
      "76 / 99\n",
      "77 / 99\n",
      "78 / 99\n",
      "79 / 99\n",
      "80 / 99\n",
      "81 / 99\n",
      "82 / 99\n",
      "83 / 99\n",
      "84 / 99\n",
      "85 / 99\n",
      "86 / 99\n",
      "87 / 99\n",
      "88 / 99\n",
      "89 / 99\n",
      "90 / 99\n",
      "91 / 99\n",
      "92 / 99\n",
      "93 / 99\n",
      "94 / 99\n",
      "95 / 99\n",
      "96 / 99\n",
      "97 / 99\n",
      "98 / 99\n",
      "99 / 99\n"
     ]
    }
   ],
   "source": [
    "t = 1\n",
    "for idx, candle in data_high_vol.iterrows():\n",
    "    print(f'{t} / {data_high_vol.shape[0]}')\n",
    "    t += 1\n",
    "    entry_range = candle['candle_size_mean'] + std_multiple * candle['candle_size_std']\n",
    "    \n",
    "    start_date = idx - datetime.timedelta(minutes=tf_hours * 60)\n",
    "    end_date = idx - datetime.timedelta(minutes=1)\n",
    "    data_1m = Dataset().get_data(ticker='BTCUSDT', interval='1m', start_date=start_date.strftime('%Y-%m-%d %H:%M:%S'),\n",
    "                                 end_date=end_date.strftime('%Y-%m-%d %H:%M:%S'))\n",
    "    for i in data_1m.index:\n",
    "        data_1m.loc[i, 'roll_high'] = data_1m.loc[:i]['high'].max()\n",
    "        data_1m.loc[i, 'roll_low'] = data_1m.loc[:i]['low'].min()\n",
    "    data_1m['roll_candle_size'] = data_1m['roll_high'] - data_1m['roll_low']\n",
    "    rough_price = data_1m[data_1m['roll_candle_size'] > entry_range].iloc[0]['close']\n",
    "    \n",
    "    if rough_price > candle['open']:\n",
    "        entry = candle['low'] + entry_range\n",
    "        exit = candle['close']\n",
    "        data_high_vol.loc[idx, 'entry'] = entry\n",
    "        data_high_vol.loc[idx, 'exit'] = exit\n",
    "        data_high_vol.loc[idx, 'return_pct'] = (entry - exit) / entry\n",
    "        data_high_vol.loc[idx, 'darwdown'] = (candle['high'] - entry) / entry\n",
    "    elif rough_price < candle['open']:\n",
    "        entry = candle['high'] - entry_range\n",
    "        exit = candle['close']\n",
    "        data_high_vol.loc[idx, 'entry'] = entry\n",
    "        data_high_vol.loc[idx, 'exit'] = exit\n",
    "        data_high_vol.loc[idx, 'return_pct'] = (exit - entry) / entry\n",
    "        data_high_vol.loc[idx, 'darwdown'] = (entry - candle['low']) / entry\n",
    "    else:\n",
    "        data_high_vol.loc[idx, 'entry'] = np.nan\n",
    "        data_high_vol.loc[idx, 'exit'] = np.nan\n",
    "        data_high_vol.loc[idx, 'return_pct'] = 0\n",
    "        data_high_vol.loc[idx, 'darwdown'] = 0"
   ]
  },
  {
   "cell_type": "code",
   "execution_count": 11,
   "id": "66b856fb",
   "metadata": {},
   "outputs": [
    {
     "data": {
      "text/plain": [
       "0.009630562656834605"
      ]
     },
     "execution_count": 11,
     "metadata": {},
     "output_type": "execute_result"
    }
   ],
   "source": [
    "data_high_vol['darwdown'].max()"
   ]
  },
  {
   "cell_type": "code",
   "execution_count": null,
   "id": "a7afb3af",
   "metadata": {},
   "outputs": [],
   "source": [
    "# for idx, candle in data_high_vol.iterrows():\n",
    "#     start_date = idx - datetime.timedelta(minutes=tf_hours * 60 - 1)\n",
    "#     end_date = idx\n",
    "#     data_1m = Dataset().get_data(ticker='BTCUSDT', interval='1m', start_date=start_date.strftime('%Y-%m-%d %H:%M:%S'),\n",
    "#                                  end_date=end_date.strftime('%Y-%m-%d %H:%M:%S'))\n",
    "#     high_idx = data_1m.index[data_1m['high'].argmax()]\n",
    "#     low_idx = data_1m.index[data_1m['low'].argmin()]\n",
    "#     if high_idx > low_idx:\n",
    "#         entry = candle['low'] + candle['candle_size_mean'] + std_multiple * candle['candle_size_std']\n",
    "#         exit = candle['close']\n",
    "#         data_high_vol.loc[idx, 'entry'] = entry\n",
    "#         data_high_vol.loc[idx, 'exit'] = exit\n",
    "#         data_high_vol.loc[idx, 'return_pct'] = (entry - exit) / entry\n",
    "#         data_high_vol.loc[idx, 'darwdown'] = (candle['high'] - entry) / entry\n",
    "#     elif high_idx < low_idx:\n",
    "#         entry = candle['high'] - (candle['candle_size_mean'] + std_multiple * candle['candle_size_std'])\n",
    "#         exit = candle['close']\n",
    "#         data_high_vol.loc[idx, 'entry'] = entry\n",
    "#         data_high_vol.loc[idx, 'exit'] = exit\n",
    "#         data_high_vol.loc[idx, 'return_pct'] = (exit - entry) / entry\n",
    "#         data_high_vol.loc[idx, 'darwdown'] = (entry - candle['low']) / entry\n",
    "#     else:\n",
    "#         data_high_vol.loc[idx, 'entry'] = np.nan\n",
    "#         data_high_vol.loc[idx, 'exit'] = np.nan\n",
    "#         data_high_vol.loc[idx, 'return_pct'] = 0\n",
    "#         data_high_vol.loc[idx, 'darwdown'] = 0"
   ]
  },
  {
   "cell_type": "code",
   "execution_count": 9,
   "id": "659246ff",
   "metadata": {},
   "outputs": [
    {
     "data": {
      "text/plain": [
       "0.9090909090909091"
      ]
     },
     "execution_count": 9,
     "metadata": {},
     "output_type": "execute_result"
    }
   ],
   "source": [
    "winrate = data_high_vol[data_high_vol['return_pct'] > 0].shape[0] / data_high_vol.shape[0]\n",
    "winrate"
   ]
  },
  {
   "cell_type": "code",
   "execution_count": 10,
   "id": "dcd43d93",
   "metadata": {},
   "outputs": [
    {
     "data": {
      "text/plain": [
       "(0.03318286491506298,\n",
       " -0.0026161670903659235,\n",
       " 0.004193706343923716,\n",
       " 0.005009552484527914)"
      ]
     },
     "execution_count": 10,
     "metadata": {},
     "output_type": "execute_result"
    }
   ],
   "source": [
    "(data_high_vol['return_pct'].max(), data_high_vol['return_pct'].min(),\n",
    "data_high_vol['return_pct'].mean(), data_high_vol['return_pct'].std())"
   ]
  },
  {
   "cell_type": "code",
   "execution_count": 11,
   "id": "ee6ac35e",
   "metadata": {},
   "outputs": [
    {
     "data": {
      "text/plain": [
       "(0.009630562656834605,\n",
       " 2.6544385765727893e-05,\n",
       " 0.001200605515831072,\n",
       " 0.0014621592770931527)"
      ]
     },
     "execution_count": 11,
     "metadata": {},
     "output_type": "execute_result"
    }
   ],
   "source": [
    "(data_high_vol['darwdown'].max(), data_high_vol['darwdown'].min(),\n",
    "data_high_vol['darwdown'].mean(), data_high_vol['darwdown'].std())"
   ]
  },
  {
   "cell_type": "code",
   "execution_count": 12,
   "id": "76272583",
   "metadata": {},
   "outputs": [
    {
     "data": {
      "image/png": "[encoded data removed]",
      "text/plain": [
       "<Figure size 720x432 with 1 Axes>"
      ]
     },
     "metadata": {
      "needs_background": "light"
     },
     "output_type": "display_data"
    }
   ],
   "source": [
    "plt.figure(figsize=(10, 6))\n",
    "plt.hist(data_high_vol['return_pct'], bins=50)\n",
    "plt.title('Returns')\n",
    "plt.show()"
   ]
  },
  {
   "cell_type": "code",
   "execution_count": 13,
   "id": "48cce17b",
   "metadata": {},
   "outputs": [
    {
     "data": {
      "image/png": "[encoded data removed]",
      "text/plain": [
       "<Figure size 720x432 with 1 Axes>"
      ]
     },
     "metadata": {
      "needs_background": "light"
     },
     "output_type": "display_data"
    }
   ],
   "source": [
    "plt.figure(figsize=(10, 6))\n",
    "plt.hist(data_high_vol['darwdown'], bins=50)\n",
    "plt.title('Drawdowns')\n",
    "plt.show()"
   ]
  },
  {
   "cell_type": "code",
   "execution_count": 14,
   "id": "d8412167",
   "metadata": {},
   "outputs": [],
   "source": [
    "max_drawdown = 0.1"
   ]
  },
  {
   "cell_type": "code",
   "execution_count": 31,
   "id": "ce442350",
   "metadata": {},
   "outputs": [
    {
     "data": {
      "text/plain": [
       "0.008511401901296836"
      ]
     },
     "execution_count": 31,
     "metadata": {},
     "output_type": "execute_result"
    }
   ],
   "source": [
    "data_high_vol['darwdown'].mean() + 5 * data_high_vol['darwdown'].std()"
   ]
  },
  {
   "cell_type": "code",
   "execution_count": 19,
   "id": "4be092ea",
   "metadata": {},
   "outputs": [
    {
     "data": {
      "text/plain": [
       "11.748945844604465"
      ]
     },
     "execution_count": 19,
     "metadata": {},
     "output_type": "execute_result"
    }
   ],
   "source": [
    "leverage = max_drawdown / (data_high_vol['darwdown'].mean() + 5 * data_high_vol['darwdown'].std())\n",
    "leverage"
   ]
  },
  {
   "cell_type": "code",
   "execution_count": 22,
   "id": "b51a3347",
   "metadata": {},
   "outputs": [],
   "source": [
    "leverage = 5"
   ]
  },
  {
   "cell_type": "code",
   "execution_count": 23,
   "id": "15698903",
   "metadata": {},
   "outputs": [],
   "source": [
    "taker_fee = 0.00055"
   ]
  },
  {
   "cell_type": "code",
   "execution_count": 24,
   "id": "f3ee1957",
   "metadata": {},
   "outputs": [
    {
     "data": {
      "text/plain": [
       "<AxesSubplot:xlabel='time'>"
      ]
     },
     "execution_count": 24,
     "metadata": {},
     "output_type": "execute_result"
    },
    {
     "data": {
      "image/png": "[encoded data removed]",
      "text/plain": [
       "<Figure size 432x288 with 1 Axes>"
      ]
     },
     "metadata": {
      "needs_background": "light"
     },
     "output_type": "display_data"
    }
   ],
   "source": [
    "(leverage * (data_high_vol['return_pct'] - 2 * taker_fee) + 1).cumprod().plot()"
   ]
  },
  {
   "cell_type": "code",
   "execution_count": 28,
   "id": "9d57b93f",
   "metadata": {
    "scrolled": true
   },
   "outputs": [
    {
     "name": "stdout",
     "output_type": "stream",
     "text": [
      "1 / 99\n"
     ]
    },
    {
     "name": "stderr",
     "output_type": "stream",
     "text": [
      "C:\\Users\\aeali\\AppData\\Local\\Temp\\ipykernel_14616\\3273599963.py:32: SettingWithCopyWarning: \n",
      "A value is trying to be set on a copy of a slice from a DataFrame\n",
      "\n",
      "See the caveats in the documentation: https://pandas.pydata.org/pandas-docs/stable/user_guide/indexing.html#returning-a-view-versus-a-copy\n",
      "  data_high_vol.loc[idx, 'entry'] = entry\n",
      "C:\\Users\\aeali\\AppData\\Local\\Temp\\ipykernel_14616\\3273599963.py:33: SettingWithCopyWarning: \n",
      "A value is trying to be set on a copy of a slice from a DataFrame\n",
      "\n",
      "See the caveats in the documentation: https://pandas.pydata.org/pandas-docs/stable/user_guide/indexing.html#returning-a-view-versus-a-copy\n",
      "  data_high_vol.loc[idx, 'exit'] = exit\n",
      "C:\\Users\\aeali\\AppData\\Local\\Temp\\ipykernel_14616\\3273599963.py:34: SettingWithCopyWarning: \n",
      "A value is trying to be set on a copy of a slice from a DataFrame\n",
      "\n",
      "See the caveats in the documentation: https://pandas.pydata.org/pandas-docs/stable/user_guide/indexing.html#returning-a-view-versus-a-copy\n",
      "  data_high_vol.loc[idx, 'return_pct'] = (entry - exit) / entry\n",
      "C:\\Users\\aeali\\AppData\\Local\\Temp\\ipykernel_14616\\3273599963.py:35: SettingWithCopyWarning: \n",
      "A value is trying to be set on a copy of a slice from a DataFrame\n",
      "\n",
      "See the caveats in the documentation: https://pandas.pydata.org/pandas-docs/stable/user_guide/indexing.html#returning-a-view-versus-a-copy\n",
      "  data_high_vol.loc[idx, 'darwdown'] = (candle['high'] - entry) / entry\n"
     ]
    },
    {
     "name": "stdout",
     "output_type": "stream",
     "text": [
      "2 / 99\n"
     ]
    },
    {
     "name": "stderr",
     "output_type": "stream",
     "text": [
      "C:\\Users\\aeali\\AppData\\Local\\Temp\\ipykernel_14616\\3273599963.py:46: SettingWithCopyWarning: \n",
      "A value is trying to be set on a copy of a slice from a DataFrame\n",
      "\n",
      "See the caveats in the documentation: https://pandas.pydata.org/pandas-docs/stable/user_guide/indexing.html#returning-a-view-versus-a-copy\n",
      "  data_high_vol.loc[idx, 'entry'] = entry\n",
      "C:\\Users\\aeali\\AppData\\Local\\Temp\\ipykernel_14616\\3273599963.py:47: SettingWithCopyWarning: \n",
      "A value is trying to be set on a copy of a slice from a DataFrame\n",
      "\n",
      "See the caveats in the documentation: https://pandas.pydata.org/pandas-docs/stable/user_guide/indexing.html#returning-a-view-versus-a-copy\n",
      "  data_high_vol.loc[idx, 'exit'] = exit\n",
      "C:\\Users\\aeali\\AppData\\Local\\Temp\\ipykernel_14616\\3273599963.py:48: SettingWithCopyWarning: \n",
      "A value is trying to be set on a copy of a slice from a DataFrame\n",
      "\n",
      "See the caveats in the documentation: https://pandas.pydata.org/pandas-docs/stable/user_guide/indexing.html#returning-a-view-versus-a-copy\n",
      "  data_high_vol.loc[idx, 'return_pct'] = (exit - entry) / entry\n",
      "C:\\Users\\aeali\\AppData\\Local\\Temp\\ipykernel_14616\\3273599963.py:49: SettingWithCopyWarning: \n",
      "A value is trying to be set on a copy of a slice from a DataFrame\n",
      "\n",
      "See the caveats in the documentation: https://pandas.pydata.org/pandas-docs/stable/user_guide/indexing.html#returning-a-view-versus-a-copy\n",
      "  data_high_vol.loc[idx, 'darwdown'] = (entry - candle['low']) / entry\n"
     ]
    },
    {
     "name": "stdout",
     "output_type": "stream",
     "text": [
      "3 / 99\n"
     ]
    },
    {
     "name": "stderr",
     "output_type": "stream",
     "text": [
      "C:\\Users\\aeali\\AppData\\Local\\Temp\\ipykernel_14616\\3273599963.py:32: SettingWithCopyWarning: \n",
      "A value is trying to be set on a copy of a slice from a DataFrame\n",
      "\n",
      "See the caveats in the documentation: https://pandas.pydata.org/pandas-docs/stable/user_guide/indexing.html#returning-a-view-versus-a-copy\n",
      "  data_high_vol.loc[idx, 'entry'] = entry\n",
      "C:\\Users\\aeali\\AppData\\Local\\Temp\\ipykernel_14616\\3273599963.py:33: SettingWithCopyWarning: \n",
      "A value is trying to be set on a copy of a slice from a DataFrame\n",
      "\n",
      "See the caveats in the documentation: https://pandas.pydata.org/pandas-docs/stable/user_guide/indexing.html#returning-a-view-versus-a-copy\n",
      "  data_high_vol.loc[idx, 'exit'] = exit\n",
      "C:\\Users\\aeali\\AppData\\Local\\Temp\\ipykernel_14616\\3273599963.py:34: SettingWithCopyWarning: \n",
      "A value is trying to be set on a copy of a slice from a DataFrame\n",
      "\n",
      "See the caveats in the documentation: https://pandas.pydata.org/pandas-docs/stable/user_guide/indexing.html#returning-a-view-versus-a-copy\n",
      "  data_high_vol.loc[idx, 'return_pct'] = (entry - exit) / entry\n",
      "C:\\Users\\aeali\\AppData\\Local\\Temp\\ipykernel_14616\\3273599963.py:35: SettingWithCopyWarning: \n",
      "A value is trying to be set on a copy of a slice from a DataFrame\n",
      "\n",
      "See the caveats in the documentation: https://pandas.pydata.org/pandas-docs/stable/user_guide/indexing.html#returning-a-view-versus-a-copy\n",
      "  data_high_vol.loc[idx, 'darwdown'] = (candle['high'] - entry) / entry\n"
     ]
    },
    {
     "name": "stdout",
     "output_type": "stream",
     "text": [
      "4 / 99\n"
     ]
    },
    {
     "name": "stderr",
     "output_type": "stream",
     "text": [
      "C:\\Users\\aeali\\AppData\\Local\\Temp\\ipykernel_14616\\3273599963.py:32: SettingWithCopyWarning: \n",
      "A value is trying to be set on a copy of a slice from a DataFrame\n",
      "\n",
      "See the caveats in the documentation: https://pandas.pydata.org/pandas-docs/stable/user_guide/indexing.html#returning-a-view-versus-a-copy\n",
      "  data_high_vol.loc[idx, 'entry'] = entry\n",
      "C:\\Users\\aeali\\AppData\\Local\\Temp\\ipykernel_14616\\3273599963.py:33: SettingWithCopyWarning: \n",
      "A value is trying to be set on a copy of a slice from a DataFrame\n",
      "\n",
      "See the caveats in the documentation: https://pandas.pydata.org/pandas-docs/stable/user_guide/indexing.html#returning-a-view-versus-a-copy\n",
      "  data_high_vol.loc[idx, 'exit'] = exit\n",
      "C:\\Users\\aeali\\AppData\\Local\\Temp\\ipykernel_14616\\3273599963.py:34: SettingWithCopyWarning: \n",
      "A value is trying to be set on a copy of a slice from a DataFrame\n",
      "\n",
      "See the caveats in the documentation: https://pandas.pydata.org/pandas-docs/stable/user_guide/indexing.html#returning-a-view-versus-a-copy\n",
      "  data_high_vol.loc[idx, 'return_pct'] = (entry - exit) / entry\n",
      "C:\\Users\\aeali\\AppData\\Local\\Temp\\ipykernel_14616\\3273599963.py:35: SettingWithCopyWarning: \n",
      "A value is trying to be set on a copy of a slice from a DataFrame\n",
      "\n",
      "See the caveats in the documentation: https://pandas.pydata.org/pandas-docs/stable/user_guide/indexing.html#returning-a-view-versus-a-copy\n",
      "  data_high_vol.loc[idx, 'darwdown'] = (candle['high'] - entry) / entry\n"
     ]
    },
    {
     "name": "stdout",
     "output_type": "stream",
     "text": [
      "5 / 99\n"
     ]
    },
    {
     "name": "stderr",
     "output_type": "stream",
     "text": [
      "C:\\Users\\aeali\\AppData\\Local\\Temp\\ipykernel_14616\\3273599963.py:32: SettingWithCopyWarning: \n",
      "A value is trying to be set on a copy of a slice from a DataFrame\n",
      "\n",
      "See the caveats in the documentation: https://pandas.pydata.org/pandas-docs/stable/user_guide/indexing.html#returning-a-view-versus-a-copy\n",
      "  data_high_vol.loc[idx, 'entry'] = entry\n",
      "C:\\Users\\aeali\\AppData\\Local\\Temp\\ipykernel_14616\\3273599963.py:33: SettingWithCopyWarning: \n",
      "A value is trying to be set on a copy of a slice from a DataFrame\n",
      "\n",
      "See the caveats in the documentation: https://pandas.pydata.org/pandas-docs/stable/user_guide/indexing.html#returning-a-view-versus-a-copy\n",
      "  data_high_vol.loc[idx, 'exit'] = exit\n",
      "C:\\Users\\aeali\\AppData\\Local\\Temp\\ipykernel_14616\\3273599963.py:34: SettingWithCopyWarning: \n",
      "A value is trying to be set on a copy of a slice from a DataFrame\n",
      "\n",
      "See the caveats in the documentation: https://pandas.pydata.org/pandas-docs/stable/user_guide/indexing.html#returning-a-view-versus-a-copy\n",
      "  data_high_vol.loc[idx, 'return_pct'] = (entry - exit) / entry\n",
      "C:\\Users\\aeali\\AppData\\Local\\Temp\\ipykernel_14616\\3273599963.py:35: SettingWithCopyWarning: \n",
      "A value is trying to be set on a copy of a slice from a DataFrame\n",
      "\n",
      "See the caveats in the documentation: https://pandas.pydata.org/pandas-docs/stable/user_guide/indexing.html#returning-a-view-versus-a-copy\n",
      "  data_high_vol.loc[idx, 'darwdown'] = (candle['high'] - entry) / entry\n"
     ]
    },
    {
     "name": "stdout",
     "output_type": "stream",
     "text": [
      "6 / 99\n"
     ]
    },
    {
     "name": "stderr",
     "output_type": "stream",
     "text": [
      "C:\\Users\\aeali\\AppData\\Local\\Temp\\ipykernel_14616\\3273599963.py:32: SettingWithCopyWarning: \n",
      "A value is trying to be set on a copy of a slice from a DataFrame\n",
      "\n",
      "See the caveats in the documentation: https://pandas.pydata.org/pandas-docs/stable/user_guide/indexing.html#returning-a-view-versus-a-copy\n",
      "  data_high_vol.loc[idx, 'entry'] = entry\n",
      "C:\\Users\\aeali\\AppData\\Local\\Temp\\ipykernel_14616\\3273599963.py:33: SettingWithCopyWarning: \n",
      "A value is trying to be set on a copy of a slice from a DataFrame\n",
      "\n",
      "See the caveats in the documentation: https://pandas.pydata.org/pandas-docs/stable/user_guide/indexing.html#returning-a-view-versus-a-copy\n",
      "  data_high_vol.loc[idx, 'exit'] = exit\n",
      "C:\\Users\\aeali\\AppData\\Local\\Temp\\ipykernel_14616\\3273599963.py:34: SettingWithCopyWarning: \n",
      "A value is trying to be set on a copy of a slice from a DataFrame\n",
      "\n",
      "See the caveats in the documentation: https://pandas.pydata.org/pandas-docs/stable/user_guide/indexing.html#returning-a-view-versus-a-copy\n",
      "  data_high_vol.loc[idx, 'return_pct'] = (entry - exit) / entry\n",
      "C:\\Users\\aeali\\AppData\\Local\\Temp\\ipykernel_14616\\3273599963.py:35: SettingWithCopyWarning: \n",
      "A value is trying to be set on a copy of a slice from a DataFrame\n",
      "\n",
      "See the caveats in the documentation: https://pandas.pydata.org/pandas-docs/stable/user_guide/indexing.html#returning-a-view-versus-a-copy\n",
      "  data_high_vol.loc[idx, 'darwdown'] = (candle['high'] - entry) / entry\n"
     ]
    },
    {
     "name": "stdout",
     "output_type": "stream",
     "text": [
      "7 / 99\n"
     ]
    },
    {
     "name": "stderr",
     "output_type": "stream",
     "text": [
      "C:\\Users\\aeali\\AppData\\Local\\Temp\\ipykernel_14616\\3273599963.py:46: SettingWithCopyWarning: \n",
      "A value is trying to be set on a copy of a slice from a DataFrame\n",
      "\n",
      "See the caveats in the documentation: https://pandas.pydata.org/pandas-docs/stable/user_guide/indexing.html#returning-a-view-versus-a-copy\n",
      "  data_high_vol.loc[idx, 'entry'] = entry\n",
      "C:\\Users\\aeali\\AppData\\Local\\Temp\\ipykernel_14616\\3273599963.py:47: SettingWithCopyWarning: \n",
      "A value is trying to be set on a copy of a slice from a DataFrame\n",
      "\n",
      "See the caveats in the documentation: https://pandas.pydata.org/pandas-docs/stable/user_guide/indexing.html#returning-a-view-versus-a-copy\n",
      "  data_high_vol.loc[idx, 'exit'] = exit\n",
      "C:\\Users\\aeali\\AppData\\Local\\Temp\\ipykernel_14616\\3273599963.py:48: SettingWithCopyWarning: \n",
      "A value is trying to be set on a copy of a slice from a DataFrame\n",
      "\n",
      "See the caveats in the documentation: https://pandas.pydata.org/pandas-docs/stable/user_guide/indexing.html#returning-a-view-versus-a-copy\n",
      "  data_high_vol.loc[idx, 'return_pct'] = (exit - entry) / entry\n",
      "C:\\Users\\aeali\\AppData\\Local\\Temp\\ipykernel_14616\\3273599963.py:49: SettingWithCopyWarning: \n",
      "A value is trying to be set on a copy of a slice from a DataFrame\n",
      "\n",
      "See the caveats in the documentation: https://pandas.pydata.org/pandas-docs/stable/user_guide/indexing.html#returning-a-view-versus-a-copy\n",
      "  data_high_vol.loc[idx, 'darwdown'] = (entry - candle['low']) / entry\n"
     ]
    },
    {
     "name": "stdout",
     "output_type": "stream",
     "text": [
      "8 / 99\n"
     ]
    },
    {
     "name": "stderr",
     "output_type": "stream",
     "text": [
      "C:\\Users\\aeali\\AppData\\Local\\Temp\\ipykernel_14616\\3273599963.py:46: SettingWithCopyWarning: \n",
      "A value is trying to be set on a copy of a slice from a DataFrame\n",
      "\n",
      "See the caveats in the documentation: https://pandas.pydata.org/pandas-docs/stable/user_guide/indexing.html#returning-a-view-versus-a-copy\n",
      "  data_high_vol.loc[idx, 'entry'] = entry\n",
      "C:\\Users\\aeali\\AppData\\Local\\Temp\\ipykernel_14616\\3273599963.py:47: SettingWithCopyWarning: \n",
      "A value is trying to be set on a copy of a slice from a DataFrame\n",
      "\n",
      "See the caveats in the documentation: https://pandas.pydata.org/pandas-docs/stable/user_guide/indexing.html#returning-a-view-versus-a-copy\n",
      "  data_high_vol.loc[idx, 'exit'] = exit\n",
      "C:\\Users\\aeali\\AppData\\Local\\Temp\\ipykernel_14616\\3273599963.py:48: SettingWithCopyWarning: \n",
      "A value is trying to be set on a copy of a slice from a DataFrame\n",
      "\n",
      "See the caveats in the documentation: https://pandas.pydata.org/pandas-docs/stable/user_guide/indexing.html#returning-a-view-versus-a-copy\n",
      "  data_high_vol.loc[idx, 'return_pct'] = (exit - entry) / entry\n",
      "C:\\Users\\aeali\\AppData\\Local\\Temp\\ipykernel_14616\\3273599963.py:49: SettingWithCopyWarning: \n",
      "A value is trying to be set on a copy of a slice from a DataFrame\n",
      "\n",
      "See the caveats in the documentation: https://pandas.pydata.org/pandas-docs/stable/user_guide/indexing.html#returning-a-view-versus-a-copy\n",
      "  data_high_vol.loc[idx, 'darwdown'] = (entry - candle['low']) / entry\n"
     ]
    },
    {
     "name": "stdout",
     "output_type": "stream",
     "text": [
      "9 / 99\n"
     ]
    },
    {
     "name": "stderr",
     "output_type": "stream",
     "text": [
      "C:\\Users\\aeali\\AppData\\Local\\Temp\\ipykernel_14616\\3273599963.py:32: SettingWithCopyWarning: \n",
      "A value is trying to be set on a copy of a slice from a DataFrame\n",
      "\n",
      "See the caveats in the documentation: https://pandas.pydata.org/pandas-docs/stable/user_guide/indexing.html#returning-a-view-versus-a-copy\n",
      "  data_high_vol.loc[idx, 'entry'] = entry\n",
      "C:\\Users\\aeali\\AppData\\Local\\Temp\\ipykernel_14616\\3273599963.py:33: SettingWithCopyWarning: \n",
      "A value is trying to be set on a copy of a slice from a DataFrame\n",
      "\n",
      "See the caveats in the documentation: https://pandas.pydata.org/pandas-docs/stable/user_guide/indexing.html#returning-a-view-versus-a-copy\n",
      "  data_high_vol.loc[idx, 'exit'] = exit\n",
      "C:\\Users\\aeali\\AppData\\Local\\Temp\\ipykernel_14616\\3273599963.py:34: SettingWithCopyWarning: \n",
      "A value is trying to be set on a copy of a slice from a DataFrame\n",
      "\n",
      "See the caveats in the documentation: https://pandas.pydata.org/pandas-docs/stable/user_guide/indexing.html#returning-a-view-versus-a-copy\n",
      "  data_high_vol.loc[idx, 'return_pct'] = (entry - exit) / entry\n",
      "C:\\Users\\aeali\\AppData\\Local\\Temp\\ipykernel_14616\\3273599963.py:35: SettingWithCopyWarning: \n",
      "A value is trying to be set on a copy of a slice from a DataFrame\n",
      "\n",
      "See the caveats in the documentation: https://pandas.pydata.org/pandas-docs/stable/user_guide/indexing.html#returning-a-view-versus-a-copy\n",
      "  data_high_vol.loc[idx, 'darwdown'] = (candle['high'] - entry) / entry\n"
     ]
    },
    {
     "name": "stdout",
     "output_type": "stream",
     "text": [
      "10 / 99\n"
     ]
    },
    {
     "name": "stderr",
     "output_type": "stream",
     "text": [
      "C:\\Users\\aeali\\AppData\\Local\\Temp\\ipykernel_14616\\3273599963.py:46: SettingWithCopyWarning: \n",
      "A value is trying to be set on a copy of a slice from a DataFrame\n",
      "\n",
      "See the caveats in the documentation: https://pandas.pydata.org/pandas-docs/stable/user_guide/indexing.html#returning-a-view-versus-a-copy\n",
      "  data_high_vol.loc[idx, 'entry'] = entry\n",
      "C:\\Users\\aeali\\AppData\\Local\\Temp\\ipykernel_14616\\3273599963.py:47: SettingWithCopyWarning: \n",
      "A value is trying to be set on a copy of a slice from a DataFrame\n",
      "\n",
      "See the caveats in the documentation: https://pandas.pydata.org/pandas-docs/stable/user_guide/indexing.html#returning-a-view-versus-a-copy\n",
      "  data_high_vol.loc[idx, 'exit'] = exit\n",
      "C:\\Users\\aeali\\AppData\\Local\\Temp\\ipykernel_14616\\3273599963.py:48: SettingWithCopyWarning: \n",
      "A value is trying to be set on a copy of a slice from a DataFrame\n",
      "\n",
      "See the caveats in the documentation: https://pandas.pydata.org/pandas-docs/stable/user_guide/indexing.html#returning-a-view-versus-a-copy\n",
      "  data_high_vol.loc[idx, 'return_pct'] = (exit - entry) / entry\n",
      "C:\\Users\\aeali\\AppData\\Local\\Temp\\ipykernel_14616\\3273599963.py:49: SettingWithCopyWarning: \n",
      "A value is trying to be set on a copy of a slice from a DataFrame\n",
      "\n",
      "See the caveats in the documentation: https://pandas.pydata.org/pandas-docs/stable/user_guide/indexing.html#returning-a-view-versus-a-copy\n",
      "  data_high_vol.loc[idx, 'darwdown'] = (entry - candle['low']) / entry\n"
     ]
    },
    {
     "name": "stdout",
     "output_type": "stream",
     "text": [
      "11 / 99\n"
     ]
    },
    {
     "name": "stderr",
     "output_type": "stream",
     "text": [
      "C:\\Users\\aeali\\AppData\\Local\\Temp\\ipykernel_14616\\3273599963.py:46: SettingWithCopyWarning: \n",
      "A value is trying to be set on a copy of a slice from a DataFrame\n",
      "\n",
      "See the caveats in the documentation: https://pandas.pydata.org/pandas-docs/stable/user_guide/indexing.html#returning-a-view-versus-a-copy\n",
      "  data_high_vol.loc[idx, 'entry'] = entry\n",
      "C:\\Users\\aeali\\AppData\\Local\\Temp\\ipykernel_14616\\3273599963.py:47: SettingWithCopyWarning: \n",
      "A value is trying to be set on a copy of a slice from a DataFrame\n",
      "\n",
      "See the caveats in the documentation: https://pandas.pydata.org/pandas-docs/stable/user_guide/indexing.html#returning-a-view-versus-a-copy\n",
      "  data_high_vol.loc[idx, 'exit'] = exit\n",
      "C:\\Users\\aeali\\AppData\\Local\\Temp\\ipykernel_14616\\3273599963.py:48: SettingWithCopyWarning: \n",
      "A value is trying to be set on a copy of a slice from a DataFrame\n",
      "\n",
      "See the caveats in the documentation: https://pandas.pydata.org/pandas-docs/stable/user_guide/indexing.html#returning-a-view-versus-a-copy\n",
      "  data_high_vol.loc[idx, 'return_pct'] = (exit - entry) / entry\n",
      "C:\\Users\\aeali\\AppData\\Local\\Temp\\ipykernel_14616\\3273599963.py:49: SettingWithCopyWarning: \n",
      "A value is trying to be set on a copy of a slice from a DataFrame\n",
      "\n",
      "See the caveats in the documentation: https://pandas.pydata.org/pandas-docs/stable/user_guide/indexing.html#returning-a-view-versus-a-copy\n",
      "  data_high_vol.loc[idx, 'darwdown'] = (entry - candle['low']) / entry\n"
     ]
    },
    {
     "name": "stdout",
     "output_type": "stream",
     "text": [
      "12 / 99\n"
     ]
    },
    {
     "name": "stderr",
     "output_type": "stream",
     "text": [
      "C:\\Users\\aeali\\AppData\\Local\\Temp\\ipykernel_14616\\3273599963.py:32: SettingWithCopyWarning: \n",
      "A value is trying to be set on a copy of a slice from a DataFrame\n",
      "\n",
      "See the caveats in the documentation: https://pandas.pydata.org/pandas-docs/stable/user_guide/indexing.html#returning-a-view-versus-a-copy\n",
      "  data_high_vol.loc[idx, 'entry'] = entry\n",
      "C:\\Users\\aeali\\AppData\\Local\\Temp\\ipykernel_14616\\3273599963.py:33: SettingWithCopyWarning: \n",
      "A value is trying to be set on a copy of a slice from a DataFrame\n",
      "\n",
      "See the caveats in the documentation: https://pandas.pydata.org/pandas-docs/stable/user_guide/indexing.html#returning-a-view-versus-a-copy\n",
      "  data_high_vol.loc[idx, 'exit'] = exit\n",
      "C:\\Users\\aeali\\AppData\\Local\\Temp\\ipykernel_14616\\3273599963.py:34: SettingWithCopyWarning: \n",
      "A value is trying to be set on a copy of a slice from a DataFrame\n",
      "\n",
      "See the caveats in the documentation: https://pandas.pydata.org/pandas-docs/stable/user_guide/indexing.html#returning-a-view-versus-a-copy\n",
      "  data_high_vol.loc[idx, 'return_pct'] = (entry - exit) / entry\n",
      "C:\\Users\\aeali\\AppData\\Local\\Temp\\ipykernel_14616\\3273599963.py:35: SettingWithCopyWarning: \n",
      "A value is trying to be set on a copy of a slice from a DataFrame\n",
      "\n",
      "See the caveats in the documentation: https://pandas.pydata.org/pandas-docs/stable/user_guide/indexing.html#returning-a-view-versus-a-copy\n",
      "  data_high_vol.loc[idx, 'darwdown'] = (candle['high'] - entry) / entry\n"
     ]
    },
    {
     "name": "stdout",
     "output_type": "stream",
     "text": [
      "13 / 99\n"
     ]
    },
    {
     "name": "stderr",
     "output_type": "stream",
     "text": [
      "C:\\Users\\aeali\\AppData\\Local\\Temp\\ipykernel_14616\\3273599963.py:46: SettingWithCopyWarning: \n",
      "A value is trying to be set on a copy of a slice from a DataFrame\n",
      "\n",
      "See the caveats in the documentation: https://pandas.pydata.org/pandas-docs/stable/user_guide/indexing.html#returning-a-view-versus-a-copy\n",
      "  data_high_vol.loc[idx, 'entry'] = entry\n",
      "C:\\Users\\aeali\\AppData\\Local\\Temp\\ipykernel_14616\\3273599963.py:47: SettingWithCopyWarning: \n",
      "A value is trying to be set on a copy of a slice from a DataFrame\n",
      "\n",
      "See the caveats in the documentation: https://pandas.pydata.org/pandas-docs/stable/user_guide/indexing.html#returning-a-view-versus-a-copy\n",
      "  data_high_vol.loc[idx, 'exit'] = exit\n",
      "C:\\Users\\aeali\\AppData\\Local\\Temp\\ipykernel_14616\\3273599963.py:48: SettingWithCopyWarning: \n",
      "A value is trying to be set on a copy of a slice from a DataFrame\n",
      "\n",
      "See the caveats in the documentation: https://pandas.pydata.org/pandas-docs/stable/user_guide/indexing.html#returning-a-view-versus-a-copy\n",
      "  data_high_vol.loc[idx, 'return_pct'] = (exit - entry) / entry\n",
      "C:\\Users\\aeali\\AppData\\Local\\Temp\\ipykernel_14616\\3273599963.py:49: SettingWithCopyWarning: \n",
      "A value is trying to be set on a copy of a slice from a DataFrame\n",
      "\n",
      "See the caveats in the documentation: https://pandas.pydata.org/pandas-docs/stable/user_guide/indexing.html#returning-a-view-versus-a-copy\n",
      "  data_high_vol.loc[idx, 'darwdown'] = (entry - candle['low']) / entry\n"
     ]
    },
    {
     "name": "stdout",
     "output_type": "stream",
     "text": [
      "14 / 99\n"
     ]
    },
    {
     "name": "stderr",
     "output_type": "stream",
     "text": [
      "C:\\Users\\aeali\\AppData\\Local\\Temp\\ipykernel_14616\\3273599963.py:32: SettingWithCopyWarning: \n",
      "A value is trying to be set on a copy of a slice from a DataFrame\n",
      "\n",
      "See the caveats in the documentation: https://pandas.pydata.org/pandas-docs/stable/user_guide/indexing.html#returning-a-view-versus-a-copy\n",
      "  data_high_vol.loc[idx, 'entry'] = entry\n",
      "C:\\Users\\aeali\\AppData\\Local\\Temp\\ipykernel_14616\\3273599963.py:33: SettingWithCopyWarning: \n",
      "A value is trying to be set on a copy of a slice from a DataFrame\n",
      "\n",
      "See the caveats in the documentation: https://pandas.pydata.org/pandas-docs/stable/user_guide/indexing.html#returning-a-view-versus-a-copy\n",
      "  data_high_vol.loc[idx, 'exit'] = exit\n",
      "C:\\Users\\aeali\\AppData\\Local\\Temp\\ipykernel_14616\\3273599963.py:34: SettingWithCopyWarning: \n",
      "A value is trying to be set on a copy of a slice from a DataFrame\n",
      "\n",
      "See the caveats in the documentation: https://pandas.pydata.org/pandas-docs/stable/user_guide/indexing.html#returning-a-view-versus-a-copy\n",
      "  data_high_vol.loc[idx, 'return_pct'] = (entry - exit) / entry\n",
      "C:\\Users\\aeali\\AppData\\Local\\Temp\\ipykernel_14616\\3273599963.py:35: SettingWithCopyWarning: \n",
      "A value is trying to be set on a copy of a slice from a DataFrame\n",
      "\n",
      "See the caveats in the documentation: https://pandas.pydata.org/pandas-docs/stable/user_guide/indexing.html#returning-a-view-versus-a-copy\n",
      "  data_high_vol.loc[idx, 'darwdown'] = (candle['high'] - entry) / entry\n"
     ]
    },
    {
     "name": "stdout",
     "output_type": "stream",
     "text": [
      "15 / 99\n"
     ]
    },
    {
     "name": "stderr",
     "output_type": "stream",
     "text": [
      "C:\\Users\\aeali\\AppData\\Local\\Temp\\ipykernel_14616\\3273599963.py:32: SettingWithCopyWarning: \n",
      "A value is trying to be set on a copy of a slice from a DataFrame\n",
      "\n",
      "See the caveats in the documentation: https://pandas.pydata.org/pandas-docs/stable/user_guide/indexing.html#returning-a-view-versus-a-copy\n",
      "  data_high_vol.loc[idx, 'entry'] = entry\n",
      "C:\\Users\\aeali\\AppData\\Local\\Temp\\ipykernel_14616\\3273599963.py:33: SettingWithCopyWarning: \n",
      "A value is trying to be set on a copy of a slice from a DataFrame\n",
      "\n",
      "See the caveats in the documentation: https://pandas.pydata.org/pandas-docs/stable/user_guide/indexing.html#returning-a-view-versus-a-copy\n",
      "  data_high_vol.loc[idx, 'exit'] = exit\n",
      "C:\\Users\\aeali\\AppData\\Local\\Temp\\ipykernel_14616\\3273599963.py:34: SettingWithCopyWarning: \n",
      "A value is trying to be set on a copy of a slice from a DataFrame\n",
      "\n",
      "See the caveats in the documentation: https://pandas.pydata.org/pandas-docs/stable/user_guide/indexing.html#returning-a-view-versus-a-copy\n",
      "  data_high_vol.loc[idx, 'return_pct'] = (entry - exit) / entry\n",
      "C:\\Users\\aeali\\AppData\\Local\\Temp\\ipykernel_14616\\3273599963.py:35: SettingWithCopyWarning: \n",
      "A value is trying to be set on a copy of a slice from a DataFrame\n",
      "\n",
      "See the caveats in the documentation: https://pandas.pydata.org/pandas-docs/stable/user_guide/indexing.html#returning-a-view-versus-a-copy\n",
      "  data_high_vol.loc[idx, 'darwdown'] = (candle['high'] - entry) / entry\n"
     ]
    },
    {
     "name": "stdout",
     "output_type": "stream",
     "text": [
      "16 / 99\n"
     ]
    },
    {
     "name": "stderr",
     "output_type": "stream",
     "text": [
      "C:\\Users\\aeali\\AppData\\Local\\Temp\\ipykernel_14616\\3273599963.py:32: SettingWithCopyWarning: \n",
      "A value is trying to be set on a copy of a slice from a DataFrame\n",
      "\n",
      "See the caveats in the documentation: https://pandas.pydata.org/pandas-docs/stable/user_guide/indexing.html#returning-a-view-versus-a-copy\n",
      "  data_high_vol.loc[idx, 'entry'] = entry\n",
      "C:\\Users\\aeali\\AppData\\Local\\Temp\\ipykernel_14616\\3273599963.py:33: SettingWithCopyWarning: \n",
      "A value is trying to be set on a copy of a slice from a DataFrame\n",
      "\n",
      "See the caveats in the documentation: https://pandas.pydata.org/pandas-docs/stable/user_guide/indexing.html#returning-a-view-versus-a-copy\n",
      "  data_high_vol.loc[idx, 'exit'] = exit\n",
      "C:\\Users\\aeali\\AppData\\Local\\Temp\\ipykernel_14616\\3273599963.py:34: SettingWithCopyWarning: \n",
      "A value is trying to be set on a copy of a slice from a DataFrame\n",
      "\n",
      "See the caveats in the documentation: https://pandas.pydata.org/pandas-docs/stable/user_guide/indexing.html#returning-a-view-versus-a-copy\n",
      "  data_high_vol.loc[idx, 'return_pct'] = (entry - exit) / entry\n",
      "C:\\Users\\aeali\\AppData\\Local\\Temp\\ipykernel_14616\\3273599963.py:35: SettingWithCopyWarning: \n",
      "A value is trying to be set on a copy of a slice from a DataFrame\n",
      "\n",
      "See the caveats in the documentation: https://pandas.pydata.org/pandas-docs/stable/user_guide/indexing.html#returning-a-view-versus-a-copy\n",
      "  data_high_vol.loc[idx, 'darwdown'] = (candle['high'] - entry) / entry\n"
     ]
    },
    {
     "name": "stdout",
     "output_type": "stream",
     "text": [
      "17 / 99\n"
     ]
    },
    {
     "name": "stderr",
     "output_type": "stream",
     "text": [
      "C:\\Users\\aeali\\AppData\\Local\\Temp\\ipykernel_14616\\3273599963.py:46: SettingWithCopyWarning: \n",
      "A value is trying to be set on a copy of a slice from a DataFrame\n",
      "\n",
      "See the caveats in the documentation: https://pandas.pydata.org/pandas-docs/stable/user_guide/indexing.html#returning-a-view-versus-a-copy\n",
      "  data_high_vol.loc[idx, 'entry'] = entry\n",
      "C:\\Users\\aeali\\AppData\\Local\\Temp\\ipykernel_14616\\3273599963.py:47: SettingWithCopyWarning: \n",
      "A value is trying to be set on a copy of a slice from a DataFrame\n",
      "\n",
      "See the caveats in the documentation: https://pandas.pydata.org/pandas-docs/stable/user_guide/indexing.html#returning-a-view-versus-a-copy\n",
      "  data_high_vol.loc[idx, 'exit'] = exit\n",
      "C:\\Users\\aeali\\AppData\\Local\\Temp\\ipykernel_14616\\3273599963.py:48: SettingWithCopyWarning: \n",
      "A value is trying to be set on a copy of a slice from a DataFrame\n",
      "\n",
      "See the caveats in the documentation: https://pandas.pydata.org/pandas-docs/stable/user_guide/indexing.html#returning-a-view-versus-a-copy\n",
      "  data_high_vol.loc[idx, 'return_pct'] = (exit - entry) / entry\n",
      "C:\\Users\\aeali\\AppData\\Local\\Temp\\ipykernel_14616\\3273599963.py:49: SettingWithCopyWarning: \n",
      "A value is trying to be set on a copy of a slice from a DataFrame\n",
      "\n",
      "See the caveats in the documentation: https://pandas.pydata.org/pandas-docs/stable/user_guide/indexing.html#returning-a-view-versus-a-copy\n",
      "  data_high_vol.loc[idx, 'darwdown'] = (entry - candle['low']) / entry\n"
     ]
    },
    {
     "name": "stdout",
     "output_type": "stream",
     "text": [
      "18 / 99\n"
     ]
    },
    {
     "name": "stderr",
     "output_type": "stream",
     "text": [
      "C:\\Users\\aeali\\AppData\\Local\\Temp\\ipykernel_14616\\3273599963.py:32: SettingWithCopyWarning: \n",
      "A value is trying to be set on a copy of a slice from a DataFrame\n",
      "\n",
      "See the caveats in the documentation: https://pandas.pydata.org/pandas-docs/stable/user_guide/indexing.html#returning-a-view-versus-a-copy\n",
      "  data_high_vol.loc[idx, 'entry'] = entry\n",
      "C:\\Users\\aeali\\AppData\\Local\\Temp\\ipykernel_14616\\3273599963.py:33: SettingWithCopyWarning: \n",
      "A value is trying to be set on a copy of a slice from a DataFrame\n",
      "\n",
      "See the caveats in the documentation: https://pandas.pydata.org/pandas-docs/stable/user_guide/indexing.html#returning-a-view-versus-a-copy\n",
      "  data_high_vol.loc[idx, 'exit'] = exit\n",
      "C:\\Users\\aeali\\AppData\\Local\\Temp\\ipykernel_14616\\3273599963.py:34: SettingWithCopyWarning: \n",
      "A value is trying to be set on a copy of a slice from a DataFrame\n",
      "\n",
      "See the caveats in the documentation: https://pandas.pydata.org/pandas-docs/stable/user_guide/indexing.html#returning-a-view-versus-a-copy\n",
      "  data_high_vol.loc[idx, 'return_pct'] = (entry - exit) / entry\n",
      "C:\\Users\\aeali\\AppData\\Local\\Temp\\ipykernel_14616\\3273599963.py:35: SettingWithCopyWarning: \n",
      "A value is trying to be set on a copy of a slice from a DataFrame\n",
      "\n",
      "See the caveats in the documentation: https://pandas.pydata.org/pandas-docs/stable/user_guide/indexing.html#returning-a-view-versus-a-copy\n",
      "  data_high_vol.loc[idx, 'darwdown'] = (candle['high'] - entry) / entry\n"
     ]
    },
    {
     "name": "stdout",
     "output_type": "stream",
     "text": [
      "19 / 99\n"
     ]
    },
    {
     "name": "stderr",
     "output_type": "stream",
     "text": [
      "C:\\Users\\aeali\\AppData\\Local\\Temp\\ipykernel_14616\\3273599963.py:46: SettingWithCopyWarning: \n",
      "A value is trying to be set on a copy of a slice from a DataFrame\n",
      "\n",
      "See the caveats in the documentation: https://pandas.pydata.org/pandas-docs/stable/user_guide/indexing.html#returning-a-view-versus-a-copy\n",
      "  data_high_vol.loc[idx, 'entry'] = entry\n",
      "C:\\Users\\aeali\\AppData\\Local\\Temp\\ipykernel_14616\\3273599963.py:47: SettingWithCopyWarning: \n",
      "A value is trying to be set on a copy of a slice from a DataFrame\n",
      "\n",
      "See the caveats in the documentation: https://pandas.pydata.org/pandas-docs/stable/user_guide/indexing.html#returning-a-view-versus-a-copy\n",
      "  data_high_vol.loc[idx, 'exit'] = exit\n",
      "C:\\Users\\aeali\\AppData\\Local\\Temp\\ipykernel_14616\\3273599963.py:48: SettingWithCopyWarning: \n",
      "A value is trying to be set on a copy of a slice from a DataFrame\n",
      "\n",
      "See the caveats in the documentation: https://pandas.pydata.org/pandas-docs/stable/user_guide/indexing.html#returning-a-view-versus-a-copy\n",
      "  data_high_vol.loc[idx, 'return_pct'] = (exit - entry) / entry\n",
      "C:\\Users\\aeali\\AppData\\Local\\Temp\\ipykernel_14616\\3273599963.py:49: SettingWithCopyWarning: \n",
      "A value is trying to be set on a copy of a slice from a DataFrame\n",
      "\n",
      "See the caveats in the documentation: https://pandas.pydata.org/pandas-docs/stable/user_guide/indexing.html#returning-a-view-versus-a-copy\n",
      "  data_high_vol.loc[idx, 'darwdown'] = (entry - candle['low']) / entry\n"
     ]
    },
    {
     "name": "stdout",
     "output_type": "stream",
     "text": [
      "20 / 99\n"
     ]
    },
    {
     "name": "stderr",
     "output_type": "stream",
     "text": [
      "C:\\Users\\aeali\\AppData\\Local\\Temp\\ipykernel_14616\\3273599963.py:46: SettingWithCopyWarning: \n",
      "A value is trying to be set on a copy of a slice from a DataFrame\n",
      "\n",
      "See the caveats in the documentation: https://pandas.pydata.org/pandas-docs/stable/user_guide/indexing.html#returning-a-view-versus-a-copy\n",
      "  data_high_vol.loc[idx, 'entry'] = entry\n",
      "C:\\Users\\aeali\\AppData\\Local\\Temp\\ipykernel_14616\\3273599963.py:47: SettingWithCopyWarning: \n",
      "A value is trying to be set on a copy of a slice from a DataFrame\n",
      "\n",
      "See the caveats in the documentation: https://pandas.pydata.org/pandas-docs/stable/user_guide/indexing.html#returning-a-view-versus-a-copy\n",
      "  data_high_vol.loc[idx, 'exit'] = exit\n",
      "C:\\Users\\aeali\\AppData\\Local\\Temp\\ipykernel_14616\\3273599963.py:48: SettingWithCopyWarning: \n",
      "A value is trying to be set on a copy of a slice from a DataFrame\n",
      "\n",
      "See the caveats in the documentation: https://pandas.pydata.org/pandas-docs/stable/user_guide/indexing.html#returning-a-view-versus-a-copy\n",
      "  data_high_vol.loc[idx, 'return_pct'] = (exit - entry) / entry\n",
      "C:\\Users\\aeali\\AppData\\Local\\Temp\\ipykernel_14616\\3273599963.py:49: SettingWithCopyWarning: \n",
      "A value is trying to be set on a copy of a slice from a DataFrame\n",
      "\n",
      "See the caveats in the documentation: https://pandas.pydata.org/pandas-docs/stable/user_guide/indexing.html#returning-a-view-versus-a-copy\n",
      "  data_high_vol.loc[idx, 'darwdown'] = (entry - candle['low']) / entry\n"
     ]
    },
    {
     "name": "stdout",
     "output_type": "stream",
     "text": [
      "21 / 99\n"
     ]
    },
    {
     "name": "stderr",
     "output_type": "stream",
     "text": [
      "C:\\Users\\aeali\\AppData\\Local\\Temp\\ipykernel_14616\\3273599963.py:46: SettingWithCopyWarning: \n",
      "A value is trying to be set on a copy of a slice from a DataFrame\n",
      "\n",
      "See the caveats in the documentation: https://pandas.pydata.org/pandas-docs/stable/user_guide/indexing.html#returning-a-view-versus-a-copy\n",
      "  data_high_vol.loc[idx, 'entry'] = entry\n",
      "C:\\Users\\aeali\\AppData\\Local\\Temp\\ipykernel_14616\\3273599963.py:47: SettingWithCopyWarning: \n",
      "A value is trying to be set on a copy of a slice from a DataFrame\n",
      "\n",
      "See the caveats in the documentation: https://pandas.pydata.org/pandas-docs/stable/user_guide/indexing.html#returning-a-view-versus-a-copy\n",
      "  data_high_vol.loc[idx, 'exit'] = exit\n",
      "C:\\Users\\aeali\\AppData\\Local\\Temp\\ipykernel_14616\\3273599963.py:48: SettingWithCopyWarning: \n",
      "A value is trying to be set on a copy of a slice from a DataFrame\n",
      "\n",
      "See the caveats in the documentation: https://pandas.pydata.org/pandas-docs/stable/user_guide/indexing.html#returning-a-view-versus-a-copy\n",
      "  data_high_vol.loc[idx, 'return_pct'] = (exit - entry) / entry\n",
      "C:\\Users\\aeali\\AppData\\Local\\Temp\\ipykernel_14616\\3273599963.py:49: SettingWithCopyWarning: \n",
      "A value is trying to be set on a copy of a slice from a DataFrame\n",
      "\n",
      "See the caveats in the documentation: https://pandas.pydata.org/pandas-docs/stable/user_guide/indexing.html#returning-a-view-versus-a-copy\n",
      "  data_high_vol.loc[idx, 'darwdown'] = (entry - candle['low']) / entry\n"
     ]
    },
    {
     "name": "stdout",
     "output_type": "stream",
     "text": [
      "22 / 99\n"
     ]
    },
    {
     "name": "stderr",
     "output_type": "stream",
     "text": [
      "C:\\Users\\aeali\\AppData\\Local\\Temp\\ipykernel_14616\\3273599963.py:32: SettingWithCopyWarning: \n",
      "A value is trying to be set on a copy of a slice from a DataFrame\n",
      "\n",
      "See the caveats in the documentation: https://pandas.pydata.org/pandas-docs/stable/user_guide/indexing.html#returning-a-view-versus-a-copy\n",
      "  data_high_vol.loc[idx, 'entry'] = entry\n",
      "C:\\Users\\aeali\\AppData\\Local\\Temp\\ipykernel_14616\\3273599963.py:33: SettingWithCopyWarning: \n",
      "A value is trying to be set on a copy of a slice from a DataFrame\n",
      "\n",
      "See the caveats in the documentation: https://pandas.pydata.org/pandas-docs/stable/user_guide/indexing.html#returning-a-view-versus-a-copy\n",
      "  data_high_vol.loc[idx, 'exit'] = exit\n",
      "C:\\Users\\aeali\\AppData\\Local\\Temp\\ipykernel_14616\\3273599963.py:34: SettingWithCopyWarning: \n",
      "A value is trying to be set on a copy of a slice from a DataFrame\n",
      "\n",
      "See the caveats in the documentation: https://pandas.pydata.org/pandas-docs/stable/user_guide/indexing.html#returning-a-view-versus-a-copy\n",
      "  data_high_vol.loc[idx, 'return_pct'] = (entry - exit) / entry\n",
      "C:\\Users\\aeali\\AppData\\Local\\Temp\\ipykernel_14616\\3273599963.py:35: SettingWithCopyWarning: \n",
      "A value is trying to be set on a copy of a slice from a DataFrame\n",
      "\n",
      "See the caveats in the documentation: https://pandas.pydata.org/pandas-docs/stable/user_guide/indexing.html#returning-a-view-versus-a-copy\n",
      "  data_high_vol.loc[idx, 'darwdown'] = (candle['high'] - entry) / entry\n"
     ]
    },
    {
     "name": "stdout",
     "output_type": "stream",
     "text": [
      "23 / 99\n"
     ]
    },
    {
     "name": "stderr",
     "output_type": "stream",
     "text": [
      "C:\\Users\\aeali\\AppData\\Local\\Temp\\ipykernel_14616\\3273599963.py:32: SettingWithCopyWarning: \n",
      "A value is trying to be set on a copy of a slice from a DataFrame\n",
      "\n",
      "See the caveats in the documentation: https://pandas.pydata.org/pandas-docs/stable/user_guide/indexing.html#returning-a-view-versus-a-copy\n",
      "  data_high_vol.loc[idx, 'entry'] = entry\n",
      "C:\\Users\\aeali\\AppData\\Local\\Temp\\ipykernel_14616\\3273599963.py:33: SettingWithCopyWarning: \n",
      "A value is trying to be set on a copy of a slice from a DataFrame\n",
      "\n",
      "See the caveats in the documentation: https://pandas.pydata.org/pandas-docs/stable/user_guide/indexing.html#returning-a-view-versus-a-copy\n",
      "  data_high_vol.loc[idx, 'exit'] = exit\n",
      "C:\\Users\\aeali\\AppData\\Local\\Temp\\ipykernel_14616\\3273599963.py:34: SettingWithCopyWarning: \n",
      "A value is trying to be set on a copy of a slice from a DataFrame\n",
      "\n",
      "See the caveats in the documentation: https://pandas.pydata.org/pandas-docs/stable/user_guide/indexing.html#returning-a-view-versus-a-copy\n",
      "  data_high_vol.loc[idx, 'return_pct'] = (entry - exit) / entry\n",
      "C:\\Users\\aeali\\AppData\\Local\\Temp\\ipykernel_14616\\3273599963.py:35: SettingWithCopyWarning: \n",
      "A value is trying to be set on a copy of a slice from a DataFrame\n",
      "\n",
      "See the caveats in the documentation: https://pandas.pydata.org/pandas-docs/stable/user_guide/indexing.html#returning-a-view-versus-a-copy\n",
      "  data_high_vol.loc[idx, 'darwdown'] = (candle['high'] - entry) / entry\n"
     ]
    },
    {
     "name": "stdout",
     "output_type": "stream",
     "text": [
      "24 / 99\n"
     ]
    },
    {
     "name": "stderr",
     "output_type": "stream",
     "text": [
      "C:\\Users\\aeali\\AppData\\Local\\Temp\\ipykernel_14616\\3273599963.py:32: SettingWithCopyWarning: \n",
      "A value is trying to be set on a copy of a slice from a DataFrame\n",
      "\n",
      "See the caveats in the documentation: https://pandas.pydata.org/pandas-docs/stable/user_guide/indexing.html#returning-a-view-versus-a-copy\n",
      "  data_high_vol.loc[idx, 'entry'] = entry\n",
      "C:\\Users\\aeali\\AppData\\Local\\Temp\\ipykernel_14616\\3273599963.py:33: SettingWithCopyWarning: \n",
      "A value is trying to be set on a copy of a slice from a DataFrame\n",
      "\n",
      "See the caveats in the documentation: https://pandas.pydata.org/pandas-docs/stable/user_guide/indexing.html#returning-a-view-versus-a-copy\n",
      "  data_high_vol.loc[idx, 'exit'] = exit\n",
      "C:\\Users\\aeali\\AppData\\Local\\Temp\\ipykernel_14616\\3273599963.py:34: SettingWithCopyWarning: \n",
      "A value is trying to be set on a copy of a slice from a DataFrame\n",
      "\n",
      "See the caveats in the documentation: https://pandas.pydata.org/pandas-docs/stable/user_guide/indexing.html#returning-a-view-versus-a-copy\n",
      "  data_high_vol.loc[idx, 'return_pct'] = (entry - exit) / entry\n",
      "C:\\Users\\aeali\\AppData\\Local\\Temp\\ipykernel_14616\\3273599963.py:35: SettingWithCopyWarning: \n",
      "A value is trying to be set on a copy of a slice from a DataFrame\n",
      "\n",
      "See the caveats in the documentation: https://pandas.pydata.org/pandas-docs/stable/user_guide/indexing.html#returning-a-view-versus-a-copy\n",
      "  data_high_vol.loc[idx, 'darwdown'] = (candle['high'] - entry) / entry\n"
     ]
    },
    {
     "name": "stdout",
     "output_type": "stream",
     "text": [
      "25 / 99\n"
     ]
    },
    {
     "name": "stderr",
     "output_type": "stream",
     "text": [
      "C:\\Users\\aeali\\AppData\\Local\\Temp\\ipykernel_14616\\3273599963.py:32: SettingWithCopyWarning: \n",
      "A value is trying to be set on a copy of a slice from a DataFrame\n",
      "\n",
      "See the caveats in the documentation: https://pandas.pydata.org/pandas-docs/stable/user_guide/indexing.html#returning-a-view-versus-a-copy\n",
      "  data_high_vol.loc[idx, 'entry'] = entry\n",
      "C:\\Users\\aeali\\AppData\\Local\\Temp\\ipykernel_14616\\3273599963.py:33: SettingWithCopyWarning: \n",
      "A value is trying to be set on a copy of a slice from a DataFrame\n",
      "\n",
      "See the caveats in the documentation: https://pandas.pydata.org/pandas-docs/stable/user_guide/indexing.html#returning-a-view-versus-a-copy\n",
      "  data_high_vol.loc[idx, 'exit'] = exit\n",
      "C:\\Users\\aeali\\AppData\\Local\\Temp\\ipykernel_14616\\3273599963.py:34: SettingWithCopyWarning: \n",
      "A value is trying to be set on a copy of a slice from a DataFrame\n",
      "\n",
      "See the caveats in the documentation: https://pandas.pydata.org/pandas-docs/stable/user_guide/indexing.html#returning-a-view-versus-a-copy\n",
      "  data_high_vol.loc[idx, 'return_pct'] = (entry - exit) / entry\n",
      "C:\\Users\\aeali\\AppData\\Local\\Temp\\ipykernel_14616\\3273599963.py:35: SettingWithCopyWarning: \n",
      "A value is trying to be set on a copy of a slice from a DataFrame\n",
      "\n",
      "See the caveats in the documentation: https://pandas.pydata.org/pandas-docs/stable/user_guide/indexing.html#returning-a-view-versus-a-copy\n",
      "  data_high_vol.loc[idx, 'darwdown'] = (candle['high'] - entry) / entry\n"
     ]
    },
    {
     "name": "stdout",
     "output_type": "stream",
     "text": [
      "26 / 99\n"
     ]
    },
    {
     "name": "stderr",
     "output_type": "stream",
     "text": [
      "C:\\Users\\aeali\\AppData\\Local\\Temp\\ipykernel_14616\\3273599963.py:32: SettingWithCopyWarning: \n",
      "A value is trying to be set on a copy of a slice from a DataFrame\n",
      "\n",
      "See the caveats in the documentation: https://pandas.pydata.org/pandas-docs/stable/user_guide/indexing.html#returning-a-view-versus-a-copy\n",
      "  data_high_vol.loc[idx, 'entry'] = entry\n",
      "C:\\Users\\aeali\\AppData\\Local\\Temp\\ipykernel_14616\\3273599963.py:33: SettingWithCopyWarning: \n",
      "A value is trying to be set on a copy of a slice from a DataFrame\n",
      "\n",
      "See the caveats in the documentation: https://pandas.pydata.org/pandas-docs/stable/user_guide/indexing.html#returning-a-view-versus-a-copy\n",
      "  data_high_vol.loc[idx, 'exit'] = exit\n",
      "C:\\Users\\aeali\\AppData\\Local\\Temp\\ipykernel_14616\\3273599963.py:34: SettingWithCopyWarning: \n",
      "A value is trying to be set on a copy of a slice from a DataFrame\n",
      "\n",
      "See the caveats in the documentation: https://pandas.pydata.org/pandas-docs/stable/user_guide/indexing.html#returning-a-view-versus-a-copy\n",
      "  data_high_vol.loc[idx, 'return_pct'] = (entry - exit) / entry\n",
      "C:\\Users\\aeali\\AppData\\Local\\Temp\\ipykernel_14616\\3273599963.py:35: SettingWithCopyWarning: \n",
      "A value is trying to be set on a copy of a slice from a DataFrame\n",
      "\n",
      "See the caveats in the documentation: https://pandas.pydata.org/pandas-docs/stable/user_guide/indexing.html#returning-a-view-versus-a-copy\n",
      "  data_high_vol.loc[idx, 'darwdown'] = (candle['high'] - entry) / entry\n"
     ]
    },
    {
     "name": "stdout",
     "output_type": "stream",
     "text": [
      "27 / 99\n"
     ]
    },
    {
     "name": "stderr",
     "output_type": "stream",
     "text": [
      "C:\\Users\\aeali\\AppData\\Local\\Temp\\ipykernel_14616\\3273599963.py:32: SettingWithCopyWarning: \n",
      "A value is trying to be set on a copy of a slice from a DataFrame\n",
      "\n",
      "See the caveats in the documentation: https://pandas.pydata.org/pandas-docs/stable/user_guide/indexing.html#returning-a-view-versus-a-copy\n",
      "  data_high_vol.loc[idx, 'entry'] = entry\n",
      "C:\\Users\\aeali\\AppData\\Local\\Temp\\ipykernel_14616\\3273599963.py:33: SettingWithCopyWarning: \n",
      "A value is trying to be set on a copy of a slice from a DataFrame\n",
      "\n",
      "See the caveats in the documentation: https://pandas.pydata.org/pandas-docs/stable/user_guide/indexing.html#returning-a-view-versus-a-copy\n",
      "  data_high_vol.loc[idx, 'exit'] = exit\n",
      "C:\\Users\\aeali\\AppData\\Local\\Temp\\ipykernel_14616\\3273599963.py:34: SettingWithCopyWarning: \n",
      "A value is trying to be set on a copy of a slice from a DataFrame\n",
      "\n",
      "See the caveats in the documentation: https://pandas.pydata.org/pandas-docs/stable/user_guide/indexing.html#returning-a-view-versus-a-copy\n",
      "  data_high_vol.loc[idx, 'return_pct'] = (entry - exit) / entry\n",
      "C:\\Users\\aeali\\AppData\\Local\\Temp\\ipykernel_14616\\3273599963.py:35: SettingWithCopyWarning: \n",
      "A value is trying to be set on a copy of a slice from a DataFrame\n",
      "\n",
      "See the caveats in the documentation: https://pandas.pydata.org/pandas-docs/stable/user_guide/indexing.html#returning-a-view-versus-a-copy\n",
      "  data_high_vol.loc[idx, 'darwdown'] = (candle['high'] - entry) / entry\n"
     ]
    },
    {
     "name": "stdout",
     "output_type": "stream",
     "text": [
      "28 / 99\n"
     ]
    },
    {
     "name": "stderr",
     "output_type": "stream",
     "text": [
      "C:\\Users\\aeali\\AppData\\Local\\Temp\\ipykernel_14616\\3273599963.py:46: SettingWithCopyWarning: \n",
      "A value is trying to be set on a copy of a slice from a DataFrame\n",
      "\n",
      "See the caveats in the documentation: https://pandas.pydata.org/pandas-docs/stable/user_guide/indexing.html#returning-a-view-versus-a-copy\n",
      "  data_high_vol.loc[idx, 'entry'] = entry\n",
      "C:\\Users\\aeali\\AppData\\Local\\Temp\\ipykernel_14616\\3273599963.py:47: SettingWithCopyWarning: \n",
      "A value is trying to be set on a copy of a slice from a DataFrame\n",
      "\n",
      "See the caveats in the documentation: https://pandas.pydata.org/pandas-docs/stable/user_guide/indexing.html#returning-a-view-versus-a-copy\n",
      "  data_high_vol.loc[idx, 'exit'] = exit\n",
      "C:\\Users\\aeali\\AppData\\Local\\Temp\\ipykernel_14616\\3273599963.py:48: SettingWithCopyWarning: \n",
      "A value is trying to be set on a copy of a slice from a DataFrame\n",
      "\n",
      "See the caveats in the documentation: https://pandas.pydata.org/pandas-docs/stable/user_guide/indexing.html#returning-a-view-versus-a-copy\n",
      "  data_high_vol.loc[idx, 'return_pct'] = (exit - entry) / entry\n",
      "C:\\Users\\aeali\\AppData\\Local\\Temp\\ipykernel_14616\\3273599963.py:49: SettingWithCopyWarning: \n",
      "A value is trying to be set on a copy of a slice from a DataFrame\n",
      "\n",
      "See the caveats in the documentation: https://pandas.pydata.org/pandas-docs/stable/user_guide/indexing.html#returning-a-view-versus-a-copy\n",
      "  data_high_vol.loc[idx, 'darwdown'] = (entry - candle['low']) / entry\n"
     ]
    },
    {
     "name": "stdout",
     "output_type": "stream",
     "text": [
      "29 / 99\n"
     ]
    },
    {
     "name": "stderr",
     "output_type": "stream",
     "text": [
      "C:\\Users\\aeali\\AppData\\Local\\Temp\\ipykernel_14616\\3273599963.py:32: SettingWithCopyWarning: \n",
      "A value is trying to be set on a copy of a slice from a DataFrame\n",
      "\n",
      "See the caveats in the documentation: https://pandas.pydata.org/pandas-docs/stable/user_guide/indexing.html#returning-a-view-versus-a-copy\n",
      "  data_high_vol.loc[idx, 'entry'] = entry\n",
      "C:\\Users\\aeali\\AppData\\Local\\Temp\\ipykernel_14616\\3273599963.py:33: SettingWithCopyWarning: \n",
      "A value is trying to be set on a copy of a slice from a DataFrame\n",
      "\n",
      "See the caveats in the documentation: https://pandas.pydata.org/pandas-docs/stable/user_guide/indexing.html#returning-a-view-versus-a-copy\n",
      "  data_high_vol.loc[idx, 'exit'] = exit\n",
      "C:\\Users\\aeali\\AppData\\Local\\Temp\\ipykernel_14616\\3273599963.py:34: SettingWithCopyWarning: \n",
      "A value is trying to be set on a copy of a slice from a DataFrame\n",
      "\n",
      "See the caveats in the documentation: https://pandas.pydata.org/pandas-docs/stable/user_guide/indexing.html#returning-a-view-versus-a-copy\n",
      "  data_high_vol.loc[idx, 'return_pct'] = (entry - exit) / entry\n",
      "C:\\Users\\aeali\\AppData\\Local\\Temp\\ipykernel_14616\\3273599963.py:35: SettingWithCopyWarning: \n",
      "A value is trying to be set on a copy of a slice from a DataFrame\n",
      "\n",
      "See the caveats in the documentation: https://pandas.pydata.org/pandas-docs/stable/user_guide/indexing.html#returning-a-view-versus-a-copy\n",
      "  data_high_vol.loc[idx, 'darwdown'] = (candle['high'] - entry) / entry\n"
     ]
    },
    {
     "name": "stdout",
     "output_type": "stream",
     "text": [
      "30 / 99\n"
     ]
    },
    {
     "name": "stderr",
     "output_type": "stream",
     "text": [
      "C:\\Users\\aeali\\AppData\\Local\\Temp\\ipykernel_14616\\3273599963.py:32: SettingWithCopyWarning: \n",
      "A value is trying to be set on a copy of a slice from a DataFrame\n",
      "\n",
      "See the caveats in the documentation: https://pandas.pydata.org/pandas-docs/stable/user_guide/indexing.html#returning-a-view-versus-a-copy\n",
      "  data_high_vol.loc[idx, 'entry'] = entry\n",
      "C:\\Users\\aeali\\AppData\\Local\\Temp\\ipykernel_14616\\3273599963.py:33: SettingWithCopyWarning: \n",
      "A value is trying to be set on a copy of a slice from a DataFrame\n",
      "\n",
      "See the caveats in the documentation: https://pandas.pydata.org/pandas-docs/stable/user_guide/indexing.html#returning-a-view-versus-a-copy\n",
      "  data_high_vol.loc[idx, 'exit'] = exit\n",
      "C:\\Users\\aeali\\AppData\\Local\\Temp\\ipykernel_14616\\3273599963.py:34: SettingWithCopyWarning: \n",
      "A value is trying to be set on a copy of a slice from a DataFrame\n",
      "\n",
      "See the caveats in the documentation: https://pandas.pydata.org/pandas-docs/stable/user_guide/indexing.html#returning-a-view-versus-a-copy\n",
      "  data_high_vol.loc[idx, 'return_pct'] = (entry - exit) / entry\n",
      "C:\\Users\\aeali\\AppData\\Local\\Temp\\ipykernel_14616\\3273599963.py:35: SettingWithCopyWarning: \n",
      "A value is trying to be set on a copy of a slice from a DataFrame\n",
      "\n",
      "See the caveats in the documentation: https://pandas.pydata.org/pandas-docs/stable/user_guide/indexing.html#returning-a-view-versus-a-copy\n",
      "  data_high_vol.loc[idx, 'darwdown'] = (candle['high'] - entry) / entry\n"
     ]
    },
    {
     "name": "stdout",
     "output_type": "stream",
     "text": [
      "31 / 99\n"
     ]
    },
    {
     "name": "stderr",
     "output_type": "stream",
     "text": [
      "C:\\Users\\aeali\\AppData\\Local\\Temp\\ipykernel_14616\\3273599963.py:46: SettingWithCopyWarning: \n",
      "A value is trying to be set on a copy of a slice from a DataFrame\n",
      "\n",
      "See the caveats in the documentation: https://pandas.pydata.org/pandas-docs/stable/user_guide/indexing.html#returning-a-view-versus-a-copy\n",
      "  data_high_vol.loc[idx, 'entry'] = entry\n",
      "C:\\Users\\aeali\\AppData\\Local\\Temp\\ipykernel_14616\\3273599963.py:47: SettingWithCopyWarning: \n",
      "A value is trying to be set on a copy of a slice from a DataFrame\n",
      "\n",
      "See the caveats in the documentation: https://pandas.pydata.org/pandas-docs/stable/user_guide/indexing.html#returning-a-view-versus-a-copy\n",
      "  data_high_vol.loc[idx, 'exit'] = exit\n",
      "C:\\Users\\aeali\\AppData\\Local\\Temp\\ipykernel_14616\\3273599963.py:48: SettingWithCopyWarning: \n",
      "A value is trying to be set on a copy of a slice from a DataFrame\n",
      "\n",
      "See the caveats in the documentation: https://pandas.pydata.org/pandas-docs/stable/user_guide/indexing.html#returning-a-view-versus-a-copy\n",
      "  data_high_vol.loc[idx, 'return_pct'] = (exit - entry) / entry\n",
      "C:\\Users\\aeali\\AppData\\Local\\Temp\\ipykernel_14616\\3273599963.py:49: SettingWithCopyWarning: \n",
      "A value is trying to be set on a copy of a slice from a DataFrame\n",
      "\n",
      "See the caveats in the documentation: https://pandas.pydata.org/pandas-docs/stable/user_guide/indexing.html#returning-a-view-versus-a-copy\n",
      "  data_high_vol.loc[idx, 'darwdown'] = (entry - candle['low']) / entry\n"
     ]
    },
    {
     "name": "stdout",
     "output_type": "stream",
     "text": [
      "32 / 99\n"
     ]
    },
    {
     "name": "stderr",
     "output_type": "stream",
     "text": [
      "C:\\Users\\aeali\\AppData\\Local\\Temp\\ipykernel_14616\\3273599963.py:32: SettingWithCopyWarning: \n",
      "A value is trying to be set on a copy of a slice from a DataFrame\n",
      "\n",
      "See the caveats in the documentation: https://pandas.pydata.org/pandas-docs/stable/user_guide/indexing.html#returning-a-view-versus-a-copy\n",
      "  data_high_vol.loc[idx, 'entry'] = entry\n",
      "C:\\Users\\aeali\\AppData\\Local\\Temp\\ipykernel_14616\\3273599963.py:33: SettingWithCopyWarning: \n",
      "A value is trying to be set on a copy of a slice from a DataFrame\n",
      "\n",
      "See the caveats in the documentation: https://pandas.pydata.org/pandas-docs/stable/user_guide/indexing.html#returning-a-view-versus-a-copy\n",
      "  data_high_vol.loc[idx, 'exit'] = exit\n",
      "C:\\Users\\aeali\\AppData\\Local\\Temp\\ipykernel_14616\\3273599963.py:34: SettingWithCopyWarning: \n",
      "A value is trying to be set on a copy of a slice from a DataFrame\n",
      "\n",
      "See the caveats in the documentation: https://pandas.pydata.org/pandas-docs/stable/user_guide/indexing.html#returning-a-view-versus-a-copy\n",
      "  data_high_vol.loc[idx, 'return_pct'] = (entry - exit) / entry\n",
      "C:\\Users\\aeali\\AppData\\Local\\Temp\\ipykernel_14616\\3273599963.py:35: SettingWithCopyWarning: \n",
      "A value is trying to be set on a copy of a slice from a DataFrame\n",
      "\n",
      "See the caveats in the documentation: https://pandas.pydata.org/pandas-docs/stable/user_guide/indexing.html#returning-a-view-versus-a-copy\n",
      "  data_high_vol.loc[idx, 'darwdown'] = (candle['high'] - entry) / entry\n"
     ]
    },
    {
     "name": "stdout",
     "output_type": "stream",
     "text": [
      "33 / 99\n"
     ]
    },
    {
     "name": "stderr",
     "output_type": "stream",
     "text": [
      "C:\\Users\\aeali\\AppData\\Local\\Temp\\ipykernel_14616\\3273599963.py:46: SettingWithCopyWarning: \n",
      "A value is trying to be set on a copy of a slice from a DataFrame\n",
      "\n",
      "See the caveats in the documentation: https://pandas.pydata.org/pandas-docs/stable/user_guide/indexing.html#returning-a-view-versus-a-copy\n",
      "  data_high_vol.loc[idx, 'entry'] = entry\n",
      "C:\\Users\\aeali\\AppData\\Local\\Temp\\ipykernel_14616\\3273599963.py:47: SettingWithCopyWarning: \n",
      "A value is trying to be set on a copy of a slice from a DataFrame\n",
      "\n",
      "See the caveats in the documentation: https://pandas.pydata.org/pandas-docs/stable/user_guide/indexing.html#returning-a-view-versus-a-copy\n",
      "  data_high_vol.loc[idx, 'exit'] = exit\n",
      "C:\\Users\\aeali\\AppData\\Local\\Temp\\ipykernel_14616\\3273599963.py:48: SettingWithCopyWarning: \n",
      "A value is trying to be set on a copy of a slice from a DataFrame\n",
      "\n",
      "See the caveats in the documentation: https://pandas.pydata.org/pandas-docs/stable/user_guide/indexing.html#returning-a-view-versus-a-copy\n",
      "  data_high_vol.loc[idx, 'return_pct'] = (exit - entry) / entry\n",
      "C:\\Users\\aeali\\AppData\\Local\\Temp\\ipykernel_14616\\3273599963.py:49: SettingWithCopyWarning: \n",
      "A value is trying to be set on a copy of a slice from a DataFrame\n",
      "\n",
      "See the caveats in the documentation: https://pandas.pydata.org/pandas-docs/stable/user_guide/indexing.html#returning-a-view-versus-a-copy\n",
      "  data_high_vol.loc[idx, 'darwdown'] = (entry - candle['low']) / entry\n"
     ]
    },
    {
     "name": "stdout",
     "output_type": "stream",
     "text": [
      "34 / 99\n"
     ]
    },
    {
     "name": "stderr",
     "output_type": "stream",
     "text": [
      "C:\\Users\\aeali\\AppData\\Local\\Temp\\ipykernel_14616\\3273599963.py:32: SettingWithCopyWarning: \n",
      "A value is trying to be set on a copy of a slice from a DataFrame\n",
      "\n",
      "See the caveats in the documentation: https://pandas.pydata.org/pandas-docs/stable/user_guide/indexing.html#returning-a-view-versus-a-copy\n",
      "  data_high_vol.loc[idx, 'entry'] = entry\n",
      "C:\\Users\\aeali\\AppData\\Local\\Temp\\ipykernel_14616\\3273599963.py:33: SettingWithCopyWarning: \n",
      "A value is trying to be set on a copy of a slice from a DataFrame\n",
      "\n",
      "See the caveats in the documentation: https://pandas.pydata.org/pandas-docs/stable/user_guide/indexing.html#returning-a-view-versus-a-copy\n",
      "  data_high_vol.loc[idx, 'exit'] = exit\n",
      "C:\\Users\\aeali\\AppData\\Local\\Temp\\ipykernel_14616\\3273599963.py:34: SettingWithCopyWarning: \n",
      "A value is trying to be set on a copy of a slice from a DataFrame\n",
      "\n",
      "See the caveats in the documentation: https://pandas.pydata.org/pandas-docs/stable/user_guide/indexing.html#returning-a-view-versus-a-copy\n",
      "  data_high_vol.loc[idx, 'return_pct'] = (entry - exit) / entry\n",
      "C:\\Users\\aeali\\AppData\\Local\\Temp\\ipykernel_14616\\3273599963.py:35: SettingWithCopyWarning: \n",
      "A value is trying to be set on a copy of a slice from a DataFrame\n",
      "\n",
      "See the caveats in the documentation: https://pandas.pydata.org/pandas-docs/stable/user_guide/indexing.html#returning-a-view-versus-a-copy\n",
      "  data_high_vol.loc[idx, 'darwdown'] = (candle['high'] - entry) / entry\n"
     ]
    },
    {
     "name": "stdout",
     "output_type": "stream",
     "text": [
      "35 / 99\n"
     ]
    },
    {
     "name": "stderr",
     "output_type": "stream",
     "text": [
      "C:\\Users\\aeali\\AppData\\Local\\Temp\\ipykernel_14616\\3273599963.py:46: SettingWithCopyWarning: \n",
      "A value is trying to be set on a copy of a slice from a DataFrame\n",
      "\n",
      "See the caveats in the documentation: https://pandas.pydata.org/pandas-docs/stable/user_guide/indexing.html#returning-a-view-versus-a-copy\n",
      "  data_high_vol.loc[idx, 'entry'] = entry\n",
      "C:\\Users\\aeali\\AppData\\Local\\Temp\\ipykernel_14616\\3273599963.py:47: SettingWithCopyWarning: \n",
      "A value is trying to be set on a copy of a slice from a DataFrame\n",
      "\n",
      "See the caveats in the documentation: https://pandas.pydata.org/pandas-docs/stable/user_guide/indexing.html#returning-a-view-versus-a-copy\n",
      "  data_high_vol.loc[idx, 'exit'] = exit\n",
      "C:\\Users\\aeali\\AppData\\Local\\Temp\\ipykernel_14616\\3273599963.py:48: SettingWithCopyWarning: \n",
      "A value is trying to be set on a copy of a slice from a DataFrame\n",
      "\n",
      "See the caveats in the documentation: https://pandas.pydata.org/pandas-docs/stable/user_guide/indexing.html#returning-a-view-versus-a-copy\n",
      "  data_high_vol.loc[idx, 'return_pct'] = (exit - entry) / entry\n",
      "C:\\Users\\aeali\\AppData\\Local\\Temp\\ipykernel_14616\\3273599963.py:49: SettingWithCopyWarning: \n",
      "A value is trying to be set on a copy of a slice from a DataFrame\n",
      "\n",
      "See the caveats in the documentation: https://pandas.pydata.org/pandas-docs/stable/user_guide/indexing.html#returning-a-view-versus-a-copy\n",
      "  data_high_vol.loc[idx, 'darwdown'] = (entry - candle['low']) / entry\n"
     ]
    },
    {
     "name": "stdout",
     "output_type": "stream",
     "text": [
      "36 / 99\n"
     ]
    },
    {
     "name": "stderr",
     "output_type": "stream",
     "text": [
      "C:\\Users\\aeali\\AppData\\Local\\Temp\\ipykernel_14616\\3273599963.py:32: SettingWithCopyWarning: \n",
      "A value is trying to be set on a copy of a slice from a DataFrame\n",
      "\n",
      "See the caveats in the documentation: https://pandas.pydata.org/pandas-docs/stable/user_guide/indexing.html#returning-a-view-versus-a-copy\n",
      "  data_high_vol.loc[idx, 'entry'] = entry\n",
      "C:\\Users\\aeali\\AppData\\Local\\Temp\\ipykernel_14616\\3273599963.py:33: SettingWithCopyWarning: \n",
      "A value is trying to be set on a copy of a slice from a DataFrame\n",
      "\n",
      "See the caveats in the documentation: https://pandas.pydata.org/pandas-docs/stable/user_guide/indexing.html#returning-a-view-versus-a-copy\n",
      "  data_high_vol.loc[idx, 'exit'] = exit\n",
      "C:\\Users\\aeali\\AppData\\Local\\Temp\\ipykernel_14616\\3273599963.py:34: SettingWithCopyWarning: \n",
      "A value is trying to be set on a copy of a slice from a DataFrame\n",
      "\n",
      "See the caveats in the documentation: https://pandas.pydata.org/pandas-docs/stable/user_guide/indexing.html#returning-a-view-versus-a-copy\n",
      "  data_high_vol.loc[idx, 'return_pct'] = (entry - exit) / entry\n",
      "C:\\Users\\aeali\\AppData\\Local\\Temp\\ipykernel_14616\\3273599963.py:35: SettingWithCopyWarning: \n",
      "A value is trying to be set on a copy of a slice from a DataFrame\n",
      "\n",
      "See the caveats in the documentation: https://pandas.pydata.org/pandas-docs/stable/user_guide/indexing.html#returning-a-view-versus-a-copy\n",
      "  data_high_vol.loc[idx, 'darwdown'] = (candle['high'] - entry) / entry\n"
     ]
    },
    {
     "name": "stdout",
     "output_type": "stream",
     "text": [
      "37 / 99\n"
     ]
    },
    {
     "name": "stderr",
     "output_type": "stream",
     "text": [
      "C:\\Users\\aeali\\AppData\\Local\\Temp\\ipykernel_14616\\3273599963.py:32: SettingWithCopyWarning: \n",
      "A value is trying to be set on a copy of a slice from a DataFrame\n",
      "\n",
      "See the caveats in the documentation: https://pandas.pydata.org/pandas-docs/stable/user_guide/indexing.html#returning-a-view-versus-a-copy\n",
      "  data_high_vol.loc[idx, 'entry'] = entry\n",
      "C:\\Users\\aeali\\AppData\\Local\\Temp\\ipykernel_14616\\3273599963.py:33: SettingWithCopyWarning: \n",
      "A value is trying to be set on a copy of a slice from a DataFrame\n",
      "\n",
      "See the caveats in the documentation: https://pandas.pydata.org/pandas-docs/stable/user_guide/indexing.html#returning-a-view-versus-a-copy\n",
      "  data_high_vol.loc[idx, 'exit'] = exit\n",
      "C:\\Users\\aeali\\AppData\\Local\\Temp\\ipykernel_14616\\3273599963.py:34: SettingWithCopyWarning: \n",
      "A value is trying to be set on a copy of a slice from a DataFrame\n",
      "\n",
      "See the caveats in the documentation: https://pandas.pydata.org/pandas-docs/stable/user_guide/indexing.html#returning-a-view-versus-a-copy\n",
      "  data_high_vol.loc[idx, 'return_pct'] = (entry - exit) / entry\n",
      "C:\\Users\\aeali\\AppData\\Local\\Temp\\ipykernel_14616\\3273599963.py:35: SettingWithCopyWarning: \n",
      "A value is trying to be set on a copy of a slice from a DataFrame\n",
      "\n",
      "See the caveats in the documentation: https://pandas.pydata.org/pandas-docs/stable/user_guide/indexing.html#returning-a-view-versus-a-copy\n",
      "  data_high_vol.loc[idx, 'darwdown'] = (candle['high'] - entry) / entry\n"
     ]
    },
    {
     "name": "stdout",
     "output_type": "stream",
     "text": [
      "38 / 99\n"
     ]
    },
    {
     "name": "stderr",
     "output_type": "stream",
     "text": [
      "C:\\Users\\aeali\\AppData\\Local\\Temp\\ipykernel_14616\\3273599963.py:32: SettingWithCopyWarning: \n",
      "A value is trying to be set on a copy of a slice from a DataFrame\n",
      "\n",
      "See the caveats in the documentation: https://pandas.pydata.org/pandas-docs/stable/user_guide/indexing.html#returning-a-view-versus-a-copy\n",
      "  data_high_vol.loc[idx, 'entry'] = entry\n",
      "C:\\Users\\aeali\\AppData\\Local\\Temp\\ipykernel_14616\\3273599963.py:33: SettingWithCopyWarning: \n",
      "A value is trying to be set on a copy of a slice from a DataFrame\n",
      "\n",
      "See the caveats in the documentation: https://pandas.pydata.org/pandas-docs/stable/user_guide/indexing.html#returning-a-view-versus-a-copy\n",
      "  data_high_vol.loc[idx, 'exit'] = exit\n",
      "C:\\Users\\aeali\\AppData\\Local\\Temp\\ipykernel_14616\\3273599963.py:34: SettingWithCopyWarning: \n",
      "A value is trying to be set on a copy of a slice from a DataFrame\n",
      "\n",
      "See the caveats in the documentation: https://pandas.pydata.org/pandas-docs/stable/user_guide/indexing.html#returning-a-view-versus-a-copy\n",
      "  data_high_vol.loc[idx, 'return_pct'] = (entry - exit) / entry\n",
      "C:\\Users\\aeali\\AppData\\Local\\Temp\\ipykernel_14616\\3273599963.py:35: SettingWithCopyWarning: \n",
      "A value is trying to be set on a copy of a slice from a DataFrame\n",
      "\n",
      "See the caveats in the documentation: https://pandas.pydata.org/pandas-docs/stable/user_guide/indexing.html#returning-a-view-versus-a-copy\n",
      "  data_high_vol.loc[idx, 'darwdown'] = (candle['high'] - entry) / entry\n"
     ]
    },
    {
     "name": "stdout",
     "output_type": "stream",
     "text": [
      "39 / 99\n"
     ]
    },
    {
     "name": "stderr",
     "output_type": "stream",
     "text": [
      "C:\\Users\\aeali\\AppData\\Local\\Temp\\ipykernel_14616\\3273599963.py:32: SettingWithCopyWarning: \n",
      "A value is trying to be set on a copy of a slice from a DataFrame\n",
      "\n",
      "See the caveats in the documentation: https://pandas.pydata.org/pandas-docs/stable/user_guide/indexing.html#returning-a-view-versus-a-copy\n",
      "  data_high_vol.loc[idx, 'entry'] = entry\n",
      "C:\\Users\\aeali\\AppData\\Local\\Temp\\ipykernel_14616\\3273599963.py:33: SettingWithCopyWarning: \n",
      "A value is trying to be set on a copy of a slice from a DataFrame\n",
      "\n",
      "See the caveats in the documentation: https://pandas.pydata.org/pandas-docs/stable/user_guide/indexing.html#returning-a-view-versus-a-copy\n",
      "  data_high_vol.loc[idx, 'exit'] = exit\n",
      "C:\\Users\\aeali\\AppData\\Local\\Temp\\ipykernel_14616\\3273599963.py:34: SettingWithCopyWarning: \n",
      "A value is trying to be set on a copy of a slice from a DataFrame\n",
      "\n",
      "See the caveats in the documentation: https://pandas.pydata.org/pandas-docs/stable/user_guide/indexing.html#returning-a-view-versus-a-copy\n",
      "  data_high_vol.loc[idx, 'return_pct'] = (entry - exit) / entry\n",
      "C:\\Users\\aeali\\AppData\\Local\\Temp\\ipykernel_14616\\3273599963.py:35: SettingWithCopyWarning: \n",
      "A value is trying to be set on a copy of a slice from a DataFrame\n",
      "\n",
      "See the caveats in the documentation: https://pandas.pydata.org/pandas-docs/stable/user_guide/indexing.html#returning-a-view-versus-a-copy\n",
      "  data_high_vol.loc[idx, 'darwdown'] = (candle['high'] - entry) / entry\n"
     ]
    },
    {
     "name": "stdout",
     "output_type": "stream",
     "text": [
      "40 / 99\n"
     ]
    },
    {
     "name": "stderr",
     "output_type": "stream",
     "text": [
      "C:\\Users\\aeali\\AppData\\Local\\Temp\\ipykernel_14616\\3273599963.py:32: SettingWithCopyWarning: \n",
      "A value is trying to be set on a copy of a slice from a DataFrame\n",
      "\n",
      "See the caveats in the documentation: https://pandas.pydata.org/pandas-docs/stable/user_guide/indexing.html#returning-a-view-versus-a-copy\n",
      "  data_high_vol.loc[idx, 'entry'] = entry\n",
      "C:\\Users\\aeali\\AppData\\Local\\Temp\\ipykernel_14616\\3273599963.py:33: SettingWithCopyWarning: \n",
      "A value is trying to be set on a copy of a slice from a DataFrame\n",
      "\n",
      "See the caveats in the documentation: https://pandas.pydata.org/pandas-docs/stable/user_guide/indexing.html#returning-a-view-versus-a-copy\n",
      "  data_high_vol.loc[idx, 'exit'] = exit\n",
      "C:\\Users\\aeali\\AppData\\Local\\Temp\\ipykernel_14616\\3273599963.py:34: SettingWithCopyWarning: \n",
      "A value is trying to be set on a copy of a slice from a DataFrame\n",
      "\n",
      "See the caveats in the documentation: https://pandas.pydata.org/pandas-docs/stable/user_guide/indexing.html#returning-a-view-versus-a-copy\n",
      "  data_high_vol.loc[idx, 'return_pct'] = (entry - exit) / entry\n",
      "C:\\Users\\aeali\\AppData\\Local\\Temp\\ipykernel_14616\\3273599963.py:35: SettingWithCopyWarning: \n",
      "A value is trying to be set on a copy of a slice from a DataFrame\n",
      "\n",
      "See the caveats in the documentation: https://pandas.pydata.org/pandas-docs/stable/user_guide/indexing.html#returning-a-view-versus-a-copy\n",
      "  data_high_vol.loc[idx, 'darwdown'] = (candle['high'] - entry) / entry\n"
     ]
    },
    {
     "name": "stdout",
     "output_type": "stream",
     "text": [
      "41 / 99\n"
     ]
    },
    {
     "name": "stderr",
     "output_type": "stream",
     "text": [
      "C:\\Users\\aeali\\AppData\\Local\\Temp\\ipykernel_14616\\3273599963.py:46: SettingWithCopyWarning: \n",
      "A value is trying to be set on a copy of a slice from a DataFrame\n",
      "\n",
      "See the caveats in the documentation: https://pandas.pydata.org/pandas-docs/stable/user_guide/indexing.html#returning-a-view-versus-a-copy\n",
      "  data_high_vol.loc[idx, 'entry'] = entry\n",
      "C:\\Users\\aeali\\AppData\\Local\\Temp\\ipykernel_14616\\3273599963.py:47: SettingWithCopyWarning: \n",
      "A value is trying to be set on a copy of a slice from a DataFrame\n",
      "\n",
      "See the caveats in the documentation: https://pandas.pydata.org/pandas-docs/stable/user_guide/indexing.html#returning-a-view-versus-a-copy\n",
      "  data_high_vol.loc[idx, 'exit'] = exit\n",
      "C:\\Users\\aeali\\AppData\\Local\\Temp\\ipykernel_14616\\3273599963.py:48: SettingWithCopyWarning: \n",
      "A value is trying to be set on a copy of a slice from a DataFrame\n",
      "\n",
      "See the caveats in the documentation: https://pandas.pydata.org/pandas-docs/stable/user_guide/indexing.html#returning-a-view-versus-a-copy\n",
      "  data_high_vol.loc[idx, 'return_pct'] = (exit - entry) / entry\n",
      "C:\\Users\\aeali\\AppData\\Local\\Temp\\ipykernel_14616\\3273599963.py:49: SettingWithCopyWarning: \n",
      "A value is trying to be set on a copy of a slice from a DataFrame\n",
      "\n",
      "See the caveats in the documentation: https://pandas.pydata.org/pandas-docs/stable/user_guide/indexing.html#returning-a-view-versus-a-copy\n",
      "  data_high_vol.loc[idx, 'darwdown'] = (entry - candle['low']) / entry\n"
     ]
    },
    {
     "name": "stdout",
     "output_type": "stream",
     "text": [
      "42 / 99\n"
     ]
    },
    {
     "name": "stderr",
     "output_type": "stream",
     "text": [
      "C:\\Users\\aeali\\AppData\\Local\\Temp\\ipykernel_14616\\3273599963.py:32: SettingWithCopyWarning: \n",
      "A value is trying to be set on a copy of a slice from a DataFrame\n",
      "\n",
      "See the caveats in the documentation: https://pandas.pydata.org/pandas-docs/stable/user_guide/indexing.html#returning-a-view-versus-a-copy\n",
      "  data_high_vol.loc[idx, 'entry'] = entry\n",
      "C:\\Users\\aeali\\AppData\\Local\\Temp\\ipykernel_14616\\3273599963.py:33: SettingWithCopyWarning: \n",
      "A value is trying to be set on a copy of a slice from a DataFrame\n",
      "\n",
      "See the caveats in the documentation: https://pandas.pydata.org/pandas-docs/stable/user_guide/indexing.html#returning-a-view-versus-a-copy\n",
      "  data_high_vol.loc[idx, 'exit'] = exit\n",
      "C:\\Users\\aeali\\AppData\\Local\\Temp\\ipykernel_14616\\3273599963.py:34: SettingWithCopyWarning: \n",
      "A value is trying to be set on a copy of a slice from a DataFrame\n",
      "\n",
      "See the caveats in the documentation: https://pandas.pydata.org/pandas-docs/stable/user_guide/indexing.html#returning-a-view-versus-a-copy\n",
      "  data_high_vol.loc[idx, 'return_pct'] = (entry - exit) / entry\n",
      "C:\\Users\\aeali\\AppData\\Local\\Temp\\ipykernel_14616\\3273599963.py:35: SettingWithCopyWarning: \n",
      "A value is trying to be set on a copy of a slice from a DataFrame\n",
      "\n",
      "See the caveats in the documentation: https://pandas.pydata.org/pandas-docs/stable/user_guide/indexing.html#returning-a-view-versus-a-copy\n",
      "  data_high_vol.loc[idx, 'darwdown'] = (candle['high'] - entry) / entry\n"
     ]
    },
    {
     "name": "stdout",
     "output_type": "stream",
     "text": [
      "43 / 99\n"
     ]
    },
    {
     "name": "stderr",
     "output_type": "stream",
     "text": [
      "C:\\Users\\aeali\\AppData\\Local\\Temp\\ipykernel_14616\\3273599963.py:46: SettingWithCopyWarning: \n",
      "A value is trying to be set on a copy of a slice from a DataFrame\n",
      "\n",
      "See the caveats in the documentation: https://pandas.pydata.org/pandas-docs/stable/user_guide/indexing.html#returning-a-view-versus-a-copy\n",
      "  data_high_vol.loc[idx, 'entry'] = entry\n",
      "C:\\Users\\aeali\\AppData\\Local\\Temp\\ipykernel_14616\\3273599963.py:47: SettingWithCopyWarning: \n",
      "A value is trying to be set on a copy of a slice from a DataFrame\n",
      "\n",
      "See the caveats in the documentation: https://pandas.pydata.org/pandas-docs/stable/user_guide/indexing.html#returning-a-view-versus-a-copy\n",
      "  data_high_vol.loc[idx, 'exit'] = exit\n",
      "C:\\Users\\aeali\\AppData\\Local\\Temp\\ipykernel_14616\\3273599963.py:48: SettingWithCopyWarning: \n",
      "A value is trying to be set on a copy of a slice from a DataFrame\n",
      "\n",
      "See the caveats in the documentation: https://pandas.pydata.org/pandas-docs/stable/user_guide/indexing.html#returning-a-view-versus-a-copy\n",
      "  data_high_vol.loc[idx, 'return_pct'] = (exit - entry) / entry\n",
      "C:\\Users\\aeali\\AppData\\Local\\Temp\\ipykernel_14616\\3273599963.py:49: SettingWithCopyWarning: \n",
      "A value is trying to be set on a copy of a slice from a DataFrame\n",
      "\n",
      "See the caveats in the documentation: https://pandas.pydata.org/pandas-docs/stable/user_guide/indexing.html#returning-a-view-versus-a-copy\n",
      "  data_high_vol.loc[idx, 'darwdown'] = (entry - candle['low']) / entry\n"
     ]
    },
    {
     "name": "stdout",
     "output_type": "stream",
     "text": [
      "44 / 99\n"
     ]
    },
    {
     "name": "stderr",
     "output_type": "stream",
     "text": [
      "C:\\Users\\aeali\\AppData\\Local\\Temp\\ipykernel_14616\\3273599963.py:32: SettingWithCopyWarning: \n",
      "A value is trying to be set on a copy of a slice from a DataFrame\n",
      "\n",
      "See the caveats in the documentation: https://pandas.pydata.org/pandas-docs/stable/user_guide/indexing.html#returning-a-view-versus-a-copy\n",
      "  data_high_vol.loc[idx, 'entry'] = entry\n",
      "C:\\Users\\aeali\\AppData\\Local\\Temp\\ipykernel_14616\\3273599963.py:33: SettingWithCopyWarning: \n",
      "A value is trying to be set on a copy of a slice from a DataFrame\n",
      "\n",
      "See the caveats in the documentation: https://pandas.pydata.org/pandas-docs/stable/user_guide/indexing.html#returning-a-view-versus-a-copy\n",
      "  data_high_vol.loc[idx, 'exit'] = exit\n",
      "C:\\Users\\aeali\\AppData\\Local\\Temp\\ipykernel_14616\\3273599963.py:34: SettingWithCopyWarning: \n",
      "A value is trying to be set on a copy of a slice from a DataFrame\n",
      "\n",
      "See the caveats in the documentation: https://pandas.pydata.org/pandas-docs/stable/user_guide/indexing.html#returning-a-view-versus-a-copy\n",
      "  data_high_vol.loc[idx, 'return_pct'] = (entry - exit) / entry\n",
      "C:\\Users\\aeali\\AppData\\Local\\Temp\\ipykernel_14616\\3273599963.py:35: SettingWithCopyWarning: \n",
      "A value is trying to be set on a copy of a slice from a DataFrame\n",
      "\n",
      "See the caveats in the documentation: https://pandas.pydata.org/pandas-docs/stable/user_guide/indexing.html#returning-a-view-versus-a-copy\n",
      "  data_high_vol.loc[idx, 'darwdown'] = (candle['high'] - entry) / entry\n"
     ]
    },
    {
     "name": "stdout",
     "output_type": "stream",
     "text": [
      "45 / 99\n"
     ]
    },
    {
     "name": "stderr",
     "output_type": "stream",
     "text": [
      "C:\\Users\\aeali\\AppData\\Local\\Temp\\ipykernel_14616\\3273599963.py:32: SettingWithCopyWarning: \n",
      "A value is trying to be set on a copy of a slice from a DataFrame\n",
      "\n",
      "See the caveats in the documentation: https://pandas.pydata.org/pandas-docs/stable/user_guide/indexing.html#returning-a-view-versus-a-copy\n",
      "  data_high_vol.loc[idx, 'entry'] = entry\n",
      "C:\\Users\\aeali\\AppData\\Local\\Temp\\ipykernel_14616\\3273599963.py:33: SettingWithCopyWarning: \n",
      "A value is trying to be set on a copy of a slice from a DataFrame\n",
      "\n",
      "See the caveats in the documentation: https://pandas.pydata.org/pandas-docs/stable/user_guide/indexing.html#returning-a-view-versus-a-copy\n",
      "  data_high_vol.loc[idx, 'exit'] = exit\n",
      "C:\\Users\\aeali\\AppData\\Local\\Temp\\ipykernel_14616\\3273599963.py:34: SettingWithCopyWarning: \n",
      "A value is trying to be set on a copy of a slice from a DataFrame\n",
      "\n",
      "See the caveats in the documentation: https://pandas.pydata.org/pandas-docs/stable/user_guide/indexing.html#returning-a-view-versus-a-copy\n",
      "  data_high_vol.loc[idx, 'return_pct'] = (entry - exit) / entry\n",
      "C:\\Users\\aeali\\AppData\\Local\\Temp\\ipykernel_14616\\3273599963.py:35: SettingWithCopyWarning: \n",
      "A value is trying to be set on a copy of a slice from a DataFrame\n",
      "\n",
      "See the caveats in the documentation: https://pandas.pydata.org/pandas-docs/stable/user_guide/indexing.html#returning-a-view-versus-a-copy\n",
      "  data_high_vol.loc[idx, 'darwdown'] = (candle['high'] - entry) / entry\n"
     ]
    },
    {
     "name": "stdout",
     "output_type": "stream",
     "text": [
      "46 / 99\n"
     ]
    },
    {
     "name": "stderr",
     "output_type": "stream",
     "text": [
      "C:\\Users\\aeali\\AppData\\Local\\Temp\\ipykernel_14616\\3273599963.py:32: SettingWithCopyWarning: \n",
      "A value is trying to be set on a copy of a slice from a DataFrame\n",
      "\n",
      "See the caveats in the documentation: https://pandas.pydata.org/pandas-docs/stable/user_guide/indexing.html#returning-a-view-versus-a-copy\n",
      "  data_high_vol.loc[idx, 'entry'] = entry\n",
      "C:\\Users\\aeali\\AppData\\Local\\Temp\\ipykernel_14616\\3273599963.py:33: SettingWithCopyWarning: \n",
      "A value is trying to be set on a copy of a slice from a DataFrame\n",
      "\n",
      "See the caveats in the documentation: https://pandas.pydata.org/pandas-docs/stable/user_guide/indexing.html#returning-a-view-versus-a-copy\n",
      "  data_high_vol.loc[idx, 'exit'] = exit\n",
      "C:\\Users\\aeali\\AppData\\Local\\Temp\\ipykernel_14616\\3273599963.py:34: SettingWithCopyWarning: \n",
      "A value is trying to be set on a copy of a slice from a DataFrame\n",
      "\n",
      "See the caveats in the documentation: https://pandas.pydata.org/pandas-docs/stable/user_guide/indexing.html#returning-a-view-versus-a-copy\n",
      "  data_high_vol.loc[idx, 'return_pct'] = (entry - exit) / entry\n",
      "C:\\Users\\aeali\\AppData\\Local\\Temp\\ipykernel_14616\\3273599963.py:35: SettingWithCopyWarning: \n",
      "A value is trying to be set on a copy of a slice from a DataFrame\n",
      "\n",
      "See the caveats in the documentation: https://pandas.pydata.org/pandas-docs/stable/user_guide/indexing.html#returning-a-view-versus-a-copy\n",
      "  data_high_vol.loc[idx, 'darwdown'] = (candle['high'] - entry) / entry\n"
     ]
    },
    {
     "name": "stdout",
     "output_type": "stream",
     "text": [
      "47 / 99\n"
     ]
    },
    {
     "name": "stderr",
     "output_type": "stream",
     "text": [
      "C:\\Users\\aeali\\AppData\\Local\\Temp\\ipykernel_14616\\3273599963.py:32: SettingWithCopyWarning: \n",
      "A value is trying to be set on a copy of a slice from a DataFrame\n",
      "\n",
      "See the caveats in the documentation: https://pandas.pydata.org/pandas-docs/stable/user_guide/indexing.html#returning-a-view-versus-a-copy\n",
      "  data_high_vol.loc[idx, 'entry'] = entry\n",
      "C:\\Users\\aeali\\AppData\\Local\\Temp\\ipykernel_14616\\3273599963.py:33: SettingWithCopyWarning: \n",
      "A value is trying to be set on a copy of a slice from a DataFrame\n",
      "\n",
      "See the caveats in the documentation: https://pandas.pydata.org/pandas-docs/stable/user_guide/indexing.html#returning-a-view-versus-a-copy\n",
      "  data_high_vol.loc[idx, 'exit'] = exit\n",
      "C:\\Users\\aeali\\AppData\\Local\\Temp\\ipykernel_14616\\3273599963.py:34: SettingWithCopyWarning: \n",
      "A value is trying to be set on a copy of a slice from a DataFrame\n",
      "\n",
      "See the caveats in the documentation: https://pandas.pydata.org/pandas-docs/stable/user_guide/indexing.html#returning-a-view-versus-a-copy\n",
      "  data_high_vol.loc[idx, 'return_pct'] = (entry - exit) / entry\n",
      "C:\\Users\\aeali\\AppData\\Local\\Temp\\ipykernel_14616\\3273599963.py:35: SettingWithCopyWarning: \n",
      "A value is trying to be set on a copy of a slice from a DataFrame\n",
      "\n",
      "See the caveats in the documentation: https://pandas.pydata.org/pandas-docs/stable/user_guide/indexing.html#returning-a-view-versus-a-copy\n",
      "  data_high_vol.loc[idx, 'darwdown'] = (candle['high'] - entry) / entry\n"
     ]
    },
    {
     "name": "stdout",
     "output_type": "stream",
     "text": [
      "48 / 99\n"
     ]
    },
    {
     "name": "stderr",
     "output_type": "stream",
     "text": [
      "C:\\Users\\aeali\\AppData\\Local\\Temp\\ipykernel_14616\\3273599963.py:46: SettingWithCopyWarning: \n",
      "A value is trying to be set on a copy of a slice from a DataFrame\n",
      "\n",
      "See the caveats in the documentation: https://pandas.pydata.org/pandas-docs/stable/user_guide/indexing.html#returning-a-view-versus-a-copy\n",
      "  data_high_vol.loc[idx, 'entry'] = entry\n",
      "C:\\Users\\aeali\\AppData\\Local\\Temp\\ipykernel_14616\\3273599963.py:47: SettingWithCopyWarning: \n",
      "A value is trying to be set on a copy of a slice from a DataFrame\n",
      "\n",
      "See the caveats in the documentation: https://pandas.pydata.org/pandas-docs/stable/user_guide/indexing.html#returning-a-view-versus-a-copy\n",
      "  data_high_vol.loc[idx, 'exit'] = exit\n",
      "C:\\Users\\aeali\\AppData\\Local\\Temp\\ipykernel_14616\\3273599963.py:48: SettingWithCopyWarning: \n",
      "A value is trying to be set on a copy of a slice from a DataFrame\n",
      "\n",
      "See the caveats in the documentation: https://pandas.pydata.org/pandas-docs/stable/user_guide/indexing.html#returning-a-view-versus-a-copy\n",
      "  data_high_vol.loc[idx, 'return_pct'] = (exit - entry) / entry\n",
      "C:\\Users\\aeali\\AppData\\Local\\Temp\\ipykernel_14616\\3273599963.py:49: SettingWithCopyWarning: \n",
      "A value is trying to be set on a copy of a slice from a DataFrame\n",
      "\n",
      "See the caveats in the documentation: https://pandas.pydata.org/pandas-docs/stable/user_guide/indexing.html#returning-a-view-versus-a-copy\n",
      "  data_high_vol.loc[idx, 'darwdown'] = (entry - candle['low']) / entry\n"
     ]
    },
    {
     "name": "stdout",
     "output_type": "stream",
     "text": [
      "49 / 99\n"
     ]
    },
    {
     "name": "stderr",
     "output_type": "stream",
     "text": [
      "C:\\Users\\aeali\\AppData\\Local\\Temp\\ipykernel_14616\\3273599963.py:46: SettingWithCopyWarning: \n",
      "A value is trying to be set on a copy of a slice from a DataFrame\n",
      "\n",
      "See the caveats in the documentation: https://pandas.pydata.org/pandas-docs/stable/user_guide/indexing.html#returning-a-view-versus-a-copy\n",
      "  data_high_vol.loc[idx, 'entry'] = entry\n",
      "C:\\Users\\aeali\\AppData\\Local\\Temp\\ipykernel_14616\\3273599963.py:47: SettingWithCopyWarning: \n",
      "A value is trying to be set on a copy of a slice from a DataFrame\n",
      "\n",
      "See the caveats in the documentation: https://pandas.pydata.org/pandas-docs/stable/user_guide/indexing.html#returning-a-view-versus-a-copy\n",
      "  data_high_vol.loc[idx, 'exit'] = exit\n",
      "C:\\Users\\aeali\\AppData\\Local\\Temp\\ipykernel_14616\\3273599963.py:48: SettingWithCopyWarning: \n",
      "A value is trying to be set on a copy of a slice from a DataFrame\n",
      "\n",
      "See the caveats in the documentation: https://pandas.pydata.org/pandas-docs/stable/user_guide/indexing.html#returning-a-view-versus-a-copy\n",
      "  data_high_vol.loc[idx, 'return_pct'] = (exit - entry) / entry\n",
      "C:\\Users\\aeali\\AppData\\Local\\Temp\\ipykernel_14616\\3273599963.py:49: SettingWithCopyWarning: \n",
      "A value is trying to be set on a copy of a slice from a DataFrame\n",
      "\n",
      "See the caveats in the documentation: https://pandas.pydata.org/pandas-docs/stable/user_guide/indexing.html#returning-a-view-versus-a-copy\n",
      "  data_high_vol.loc[idx, 'darwdown'] = (entry - candle['low']) / entry\n"
     ]
    },
    {
     "name": "stdout",
     "output_type": "stream",
     "text": [
      "50 / 99\n"
     ]
    },
    {
     "name": "stderr",
     "output_type": "stream",
     "text": [
      "C:\\Users\\aeali\\AppData\\Local\\Temp\\ipykernel_14616\\3273599963.py:32: SettingWithCopyWarning: \n",
      "A value is trying to be set on a copy of a slice from a DataFrame\n",
      "\n",
      "See the caveats in the documentation: https://pandas.pydata.org/pandas-docs/stable/user_guide/indexing.html#returning-a-view-versus-a-copy\n",
      "  data_high_vol.loc[idx, 'entry'] = entry\n",
      "C:\\Users\\aeali\\AppData\\Local\\Temp\\ipykernel_14616\\3273599963.py:33: SettingWithCopyWarning: \n",
      "A value is trying to be set on a copy of a slice from a DataFrame\n",
      "\n",
      "See the caveats in the documentation: https://pandas.pydata.org/pandas-docs/stable/user_guide/indexing.html#returning-a-view-versus-a-copy\n",
      "  data_high_vol.loc[idx, 'exit'] = exit\n",
      "C:\\Users\\aeali\\AppData\\Local\\Temp\\ipykernel_14616\\3273599963.py:34: SettingWithCopyWarning: \n",
      "A value is trying to be set on a copy of a slice from a DataFrame\n",
      "\n",
      "See the caveats in the documentation: https://pandas.pydata.org/pandas-docs/stable/user_guide/indexing.html#returning-a-view-versus-a-copy\n",
      "  data_high_vol.loc[idx, 'return_pct'] = (entry - exit) / entry\n",
      "C:\\Users\\aeali\\AppData\\Local\\Temp\\ipykernel_14616\\3273599963.py:35: SettingWithCopyWarning: \n",
      "A value is trying to be set on a copy of a slice from a DataFrame\n",
      "\n",
      "See the caveats in the documentation: https://pandas.pydata.org/pandas-docs/stable/user_guide/indexing.html#returning-a-view-versus-a-copy\n",
      "  data_high_vol.loc[idx, 'darwdown'] = (candle['high'] - entry) / entry\n"
     ]
    },
    {
     "name": "stdout",
     "output_type": "stream",
     "text": [
      "51 / 99\n"
     ]
    },
    {
     "name": "stderr",
     "output_type": "stream",
     "text": [
      "C:\\Users\\aeali\\AppData\\Local\\Temp\\ipykernel_14616\\3273599963.py:46: SettingWithCopyWarning: \n",
      "A value is trying to be set on a copy of a slice from a DataFrame\n",
      "\n",
      "See the caveats in the documentation: https://pandas.pydata.org/pandas-docs/stable/user_guide/indexing.html#returning-a-view-versus-a-copy\n",
      "  data_high_vol.loc[idx, 'entry'] = entry\n",
      "C:\\Users\\aeali\\AppData\\Local\\Temp\\ipykernel_14616\\3273599963.py:47: SettingWithCopyWarning: \n",
      "A value is trying to be set on a copy of a slice from a DataFrame\n",
      "\n",
      "See the caveats in the documentation: https://pandas.pydata.org/pandas-docs/stable/user_guide/indexing.html#returning-a-view-versus-a-copy\n",
      "  data_high_vol.loc[idx, 'exit'] = exit\n",
      "C:\\Users\\aeali\\AppData\\Local\\Temp\\ipykernel_14616\\3273599963.py:48: SettingWithCopyWarning: \n",
      "A value is trying to be set on a copy of a slice from a DataFrame\n",
      "\n",
      "See the caveats in the documentation: https://pandas.pydata.org/pandas-docs/stable/user_guide/indexing.html#returning-a-view-versus-a-copy\n",
      "  data_high_vol.loc[idx, 'return_pct'] = (exit - entry) / entry\n",
      "C:\\Users\\aeali\\AppData\\Local\\Temp\\ipykernel_14616\\3273599963.py:49: SettingWithCopyWarning: \n",
      "A value is trying to be set on a copy of a slice from a DataFrame\n",
      "\n",
      "See the caveats in the documentation: https://pandas.pydata.org/pandas-docs/stable/user_guide/indexing.html#returning-a-view-versus-a-copy\n",
      "  data_high_vol.loc[idx, 'darwdown'] = (entry - candle['low']) / entry\n"
     ]
    },
    {
     "name": "stdout",
     "output_type": "stream",
     "text": [
      "52 / 99\n"
     ]
    },
    {
     "name": "stderr",
     "output_type": "stream",
     "text": [
      "C:\\Users\\aeali\\AppData\\Local\\Temp\\ipykernel_14616\\3273599963.py:46: SettingWithCopyWarning: \n",
      "A value is trying to be set on a copy of a slice from a DataFrame\n",
      "\n",
      "See the caveats in the documentation: https://pandas.pydata.org/pandas-docs/stable/user_guide/indexing.html#returning-a-view-versus-a-copy\n",
      "  data_high_vol.loc[idx, 'entry'] = entry\n",
      "C:\\Users\\aeali\\AppData\\Local\\Temp\\ipykernel_14616\\3273599963.py:47: SettingWithCopyWarning: \n",
      "A value is trying to be set on a copy of a slice from a DataFrame\n",
      "\n",
      "See the caveats in the documentation: https://pandas.pydata.org/pandas-docs/stable/user_guide/indexing.html#returning-a-view-versus-a-copy\n",
      "  data_high_vol.loc[idx, 'exit'] = exit\n",
      "C:\\Users\\aeali\\AppData\\Local\\Temp\\ipykernel_14616\\3273599963.py:48: SettingWithCopyWarning: \n",
      "A value is trying to be set on a copy of a slice from a DataFrame\n",
      "\n",
      "See the caveats in the documentation: https://pandas.pydata.org/pandas-docs/stable/user_guide/indexing.html#returning-a-view-versus-a-copy\n",
      "  data_high_vol.loc[idx, 'return_pct'] = (exit - entry) / entry\n",
      "C:\\Users\\aeali\\AppData\\Local\\Temp\\ipykernel_14616\\3273599963.py:49: SettingWithCopyWarning: \n",
      "A value is trying to be set on a copy of a slice from a DataFrame\n",
      "\n",
      "See the caveats in the documentation: https://pandas.pydata.org/pandas-docs/stable/user_guide/indexing.html#returning-a-view-versus-a-copy\n",
      "  data_high_vol.loc[idx, 'darwdown'] = (entry - candle['low']) / entry\n"
     ]
    },
    {
     "name": "stdout",
     "output_type": "stream",
     "text": [
      "53 / 99\n"
     ]
    },
    {
     "name": "stderr",
     "output_type": "stream",
     "text": [
      "C:\\Users\\aeali\\AppData\\Local\\Temp\\ipykernel_14616\\3273599963.py:32: SettingWithCopyWarning: \n",
      "A value is trying to be set on a copy of a slice from a DataFrame\n",
      "\n",
      "See the caveats in the documentation: https://pandas.pydata.org/pandas-docs/stable/user_guide/indexing.html#returning-a-view-versus-a-copy\n",
      "  data_high_vol.loc[idx, 'entry'] = entry\n",
      "C:\\Users\\aeali\\AppData\\Local\\Temp\\ipykernel_14616\\3273599963.py:33: SettingWithCopyWarning: \n",
      "A value is trying to be set on a copy of a slice from a DataFrame\n",
      "\n",
      "See the caveats in the documentation: https://pandas.pydata.org/pandas-docs/stable/user_guide/indexing.html#returning-a-view-versus-a-copy\n",
      "  data_high_vol.loc[idx, 'exit'] = exit\n",
      "C:\\Users\\aeali\\AppData\\Local\\Temp\\ipykernel_14616\\3273599963.py:34: SettingWithCopyWarning: \n",
      "A value is trying to be set on a copy of a slice from a DataFrame\n",
      "\n",
      "See the caveats in the documentation: https://pandas.pydata.org/pandas-docs/stable/user_guide/indexing.html#returning-a-view-versus-a-copy\n",
      "  data_high_vol.loc[idx, 'return_pct'] = (entry - exit) / entry\n",
      "C:\\Users\\aeali\\AppData\\Local\\Temp\\ipykernel_14616\\3273599963.py:35: SettingWithCopyWarning: \n",
      "A value is trying to be set on a copy of a slice from a DataFrame\n",
      "\n",
      "See the caveats in the documentation: https://pandas.pydata.org/pandas-docs/stable/user_guide/indexing.html#returning-a-view-versus-a-copy\n",
      "  data_high_vol.loc[idx, 'darwdown'] = (candle['high'] - entry) / entry\n"
     ]
    },
    {
     "name": "stdout",
     "output_type": "stream",
     "text": [
      "54 / 99\n"
     ]
    },
    {
     "name": "stderr",
     "output_type": "stream",
     "text": [
      "C:\\Users\\aeali\\AppData\\Local\\Temp\\ipykernel_14616\\3273599963.py:32: SettingWithCopyWarning: \n",
      "A value is trying to be set on a copy of a slice from a DataFrame\n",
      "\n",
      "See the caveats in the documentation: https://pandas.pydata.org/pandas-docs/stable/user_guide/indexing.html#returning-a-view-versus-a-copy\n",
      "  data_high_vol.loc[idx, 'entry'] = entry\n",
      "C:\\Users\\aeali\\AppData\\Local\\Temp\\ipykernel_14616\\3273599963.py:33: SettingWithCopyWarning: \n",
      "A value is trying to be set on a copy of a slice from a DataFrame\n",
      "\n",
      "See the caveats in the documentation: https://pandas.pydata.org/pandas-docs/stable/user_guide/indexing.html#returning-a-view-versus-a-copy\n",
      "  data_high_vol.loc[idx, 'exit'] = exit\n",
      "C:\\Users\\aeali\\AppData\\Local\\Temp\\ipykernel_14616\\3273599963.py:34: SettingWithCopyWarning: \n",
      "A value is trying to be set on a copy of a slice from a DataFrame\n",
      "\n",
      "See the caveats in the documentation: https://pandas.pydata.org/pandas-docs/stable/user_guide/indexing.html#returning-a-view-versus-a-copy\n",
      "  data_high_vol.loc[idx, 'return_pct'] = (entry - exit) / entry\n",
      "C:\\Users\\aeali\\AppData\\Local\\Temp\\ipykernel_14616\\3273599963.py:35: SettingWithCopyWarning: \n",
      "A value is trying to be set on a copy of a slice from a DataFrame\n",
      "\n",
      "See the caveats in the documentation: https://pandas.pydata.org/pandas-docs/stable/user_guide/indexing.html#returning-a-view-versus-a-copy\n",
      "  data_high_vol.loc[idx, 'darwdown'] = (candle['high'] - entry) / entry\n"
     ]
    },
    {
     "name": "stdout",
     "output_type": "stream",
     "text": [
      "55 / 99\n"
     ]
    },
    {
     "name": "stderr",
     "output_type": "stream",
     "text": [
      "C:\\Users\\aeali\\AppData\\Local\\Temp\\ipykernel_14616\\3273599963.py:32: SettingWithCopyWarning: \n",
      "A value is trying to be set on a copy of a slice from a DataFrame\n",
      "\n",
      "See the caveats in the documentation: https://pandas.pydata.org/pandas-docs/stable/user_guide/indexing.html#returning-a-view-versus-a-copy\n",
      "  data_high_vol.loc[idx, 'entry'] = entry\n",
      "C:\\Users\\aeali\\AppData\\Local\\Temp\\ipykernel_14616\\3273599963.py:33: SettingWithCopyWarning: \n",
      "A value is trying to be set on a copy of a slice from a DataFrame\n",
      "\n",
      "See the caveats in the documentation: https://pandas.pydata.org/pandas-docs/stable/user_guide/indexing.html#returning-a-view-versus-a-copy\n",
      "  data_high_vol.loc[idx, 'exit'] = exit\n",
      "C:\\Users\\aeali\\AppData\\Local\\Temp\\ipykernel_14616\\3273599963.py:34: SettingWithCopyWarning: \n",
      "A value is trying to be set on a copy of a slice from a DataFrame\n",
      "\n",
      "See the caveats in the documentation: https://pandas.pydata.org/pandas-docs/stable/user_guide/indexing.html#returning-a-view-versus-a-copy\n",
      "  data_high_vol.loc[idx, 'return_pct'] = (entry - exit) / entry\n",
      "C:\\Users\\aeali\\AppData\\Local\\Temp\\ipykernel_14616\\3273599963.py:35: SettingWithCopyWarning: \n",
      "A value is trying to be set on a copy of a slice from a DataFrame\n",
      "\n",
      "See the caveats in the documentation: https://pandas.pydata.org/pandas-docs/stable/user_guide/indexing.html#returning-a-view-versus-a-copy\n",
      "  data_high_vol.loc[idx, 'darwdown'] = (candle['high'] - entry) / entry\n"
     ]
    },
    {
     "name": "stdout",
     "output_type": "stream",
     "text": [
      "56 / 99\n"
     ]
    },
    {
     "name": "stderr",
     "output_type": "stream",
     "text": [
      "C:\\Users\\aeali\\AppData\\Local\\Temp\\ipykernel_14616\\3273599963.py:46: SettingWithCopyWarning: \n",
      "A value is trying to be set on a copy of a slice from a DataFrame\n",
      "\n",
      "See the caveats in the documentation: https://pandas.pydata.org/pandas-docs/stable/user_guide/indexing.html#returning-a-view-versus-a-copy\n",
      "  data_high_vol.loc[idx, 'entry'] = entry\n",
      "C:\\Users\\aeali\\AppData\\Local\\Temp\\ipykernel_14616\\3273599963.py:47: SettingWithCopyWarning: \n",
      "A value is trying to be set on a copy of a slice from a DataFrame\n",
      "\n",
      "See the caveats in the documentation: https://pandas.pydata.org/pandas-docs/stable/user_guide/indexing.html#returning-a-view-versus-a-copy\n",
      "  data_high_vol.loc[idx, 'exit'] = exit\n",
      "C:\\Users\\aeali\\AppData\\Local\\Temp\\ipykernel_14616\\3273599963.py:48: SettingWithCopyWarning: \n",
      "A value is trying to be set on a copy of a slice from a DataFrame\n",
      "\n",
      "See the caveats in the documentation: https://pandas.pydata.org/pandas-docs/stable/user_guide/indexing.html#returning-a-view-versus-a-copy\n",
      "  data_high_vol.loc[idx, 'return_pct'] = (exit - entry) / entry\n",
      "C:\\Users\\aeali\\AppData\\Local\\Temp\\ipykernel_14616\\3273599963.py:49: SettingWithCopyWarning: \n",
      "A value is trying to be set on a copy of a slice from a DataFrame\n",
      "\n",
      "See the caveats in the documentation: https://pandas.pydata.org/pandas-docs/stable/user_guide/indexing.html#returning-a-view-versus-a-copy\n",
      "  data_high_vol.loc[idx, 'darwdown'] = (entry - candle['low']) / entry\n"
     ]
    },
    {
     "name": "stdout",
     "output_type": "stream",
     "text": [
      "57 / 99\n"
     ]
    },
    {
     "name": "stderr",
     "output_type": "stream",
     "text": [
      "C:\\Users\\aeali\\AppData\\Local\\Temp\\ipykernel_14616\\3273599963.py:32: SettingWithCopyWarning: \n",
      "A value is trying to be set on a copy of a slice from a DataFrame\n",
      "\n",
      "See the caveats in the documentation: https://pandas.pydata.org/pandas-docs/stable/user_guide/indexing.html#returning-a-view-versus-a-copy\n",
      "  data_high_vol.loc[idx, 'entry'] = entry\n",
      "C:\\Users\\aeali\\AppData\\Local\\Temp\\ipykernel_14616\\3273599963.py:33: SettingWithCopyWarning: \n",
      "A value is trying to be set on a copy of a slice from a DataFrame\n",
      "\n",
      "See the caveats in the documentation: https://pandas.pydata.org/pandas-docs/stable/user_guide/indexing.html#returning-a-view-versus-a-copy\n",
      "  data_high_vol.loc[idx, 'exit'] = exit\n",
      "C:\\Users\\aeali\\AppData\\Local\\Temp\\ipykernel_14616\\3273599963.py:34: SettingWithCopyWarning: \n",
      "A value is trying to be set on a copy of a slice from a DataFrame\n",
      "\n",
      "See the caveats in the documentation: https://pandas.pydata.org/pandas-docs/stable/user_guide/indexing.html#returning-a-view-versus-a-copy\n",
      "  data_high_vol.loc[idx, 'return_pct'] = (entry - exit) / entry\n",
      "C:\\Users\\aeali\\AppData\\Local\\Temp\\ipykernel_14616\\3273599963.py:35: SettingWithCopyWarning: \n",
      "A value is trying to be set on a copy of a slice from a DataFrame\n",
      "\n",
      "See the caveats in the documentation: https://pandas.pydata.org/pandas-docs/stable/user_guide/indexing.html#returning-a-view-versus-a-copy\n",
      "  data_high_vol.loc[idx, 'darwdown'] = (candle['high'] - entry) / entry\n"
     ]
    },
    {
     "name": "stdout",
     "output_type": "stream",
     "text": [
      "58 / 99\n"
     ]
    },
    {
     "name": "stderr",
     "output_type": "stream",
     "text": [
      "C:\\Users\\aeali\\AppData\\Local\\Temp\\ipykernel_14616\\3273599963.py:46: SettingWithCopyWarning: \n",
      "A value is trying to be set on a copy of a slice from a DataFrame\n",
      "\n",
      "See the caveats in the documentation: https://pandas.pydata.org/pandas-docs/stable/user_guide/indexing.html#returning-a-view-versus-a-copy\n",
      "  data_high_vol.loc[idx, 'entry'] = entry\n",
      "C:\\Users\\aeali\\AppData\\Local\\Temp\\ipykernel_14616\\3273599963.py:47: SettingWithCopyWarning: \n",
      "A value is trying to be set on a copy of a slice from a DataFrame\n",
      "\n",
      "See the caveats in the documentation: https://pandas.pydata.org/pandas-docs/stable/user_guide/indexing.html#returning-a-view-versus-a-copy\n",
      "  data_high_vol.loc[idx, 'exit'] = exit\n",
      "C:\\Users\\aeali\\AppData\\Local\\Temp\\ipykernel_14616\\3273599963.py:48: SettingWithCopyWarning: \n",
      "A value is trying to be set on a copy of a slice from a DataFrame\n",
      "\n",
      "See the caveats in the documentation: https://pandas.pydata.org/pandas-docs/stable/user_guide/indexing.html#returning-a-view-versus-a-copy\n",
      "  data_high_vol.loc[idx, 'return_pct'] = (exit - entry) / entry\n",
      "C:\\Users\\aeali\\AppData\\Local\\Temp\\ipykernel_14616\\3273599963.py:49: SettingWithCopyWarning: \n",
      "A value is trying to be set on a copy of a slice from a DataFrame\n",
      "\n",
      "See the caveats in the documentation: https://pandas.pydata.org/pandas-docs/stable/user_guide/indexing.html#returning-a-view-versus-a-copy\n",
      "  data_high_vol.loc[idx, 'darwdown'] = (entry - candle['low']) / entry\n"
     ]
    },
    {
     "name": "stdout",
     "output_type": "stream",
     "text": [
      "59 / 99\n"
     ]
    },
    {
     "name": "stderr",
     "output_type": "stream",
     "text": [
      "C:\\Users\\aeali\\AppData\\Local\\Temp\\ipykernel_14616\\3273599963.py:32: SettingWithCopyWarning: \n",
      "A value is trying to be set on a copy of a slice from a DataFrame\n",
      "\n",
      "See the caveats in the documentation: https://pandas.pydata.org/pandas-docs/stable/user_guide/indexing.html#returning-a-view-versus-a-copy\n",
      "  data_high_vol.loc[idx, 'entry'] = entry\n",
      "C:\\Users\\aeali\\AppData\\Local\\Temp\\ipykernel_14616\\3273599963.py:33: SettingWithCopyWarning: \n",
      "A value is trying to be set on a copy of a slice from a DataFrame\n",
      "\n",
      "See the caveats in the documentation: https://pandas.pydata.org/pandas-docs/stable/user_guide/indexing.html#returning-a-view-versus-a-copy\n",
      "  data_high_vol.loc[idx, 'exit'] = exit\n",
      "C:\\Users\\aeali\\AppData\\Local\\Temp\\ipykernel_14616\\3273599963.py:34: SettingWithCopyWarning: \n",
      "A value is trying to be set on a copy of a slice from a DataFrame\n",
      "\n",
      "See the caveats in the documentation: https://pandas.pydata.org/pandas-docs/stable/user_guide/indexing.html#returning-a-view-versus-a-copy\n",
      "  data_high_vol.loc[idx, 'return_pct'] = (entry - exit) / entry\n",
      "C:\\Users\\aeali\\AppData\\Local\\Temp\\ipykernel_14616\\3273599963.py:35: SettingWithCopyWarning: \n",
      "A value is trying to be set on a copy of a slice from a DataFrame\n",
      "\n",
      "See the caveats in the documentation: https://pandas.pydata.org/pandas-docs/stable/user_guide/indexing.html#returning-a-view-versus-a-copy\n",
      "  data_high_vol.loc[idx, 'darwdown'] = (candle['high'] - entry) / entry\n"
     ]
    },
    {
     "name": "stdout",
     "output_type": "stream",
     "text": [
      "60 / 99\n"
     ]
    },
    {
     "name": "stderr",
     "output_type": "stream",
     "text": [
      "C:\\Users\\aeali\\AppData\\Local\\Temp\\ipykernel_14616\\3273599963.py:46: SettingWithCopyWarning: \n",
      "A value is trying to be set on a copy of a slice from a DataFrame\n",
      "\n",
      "See the caveats in the documentation: https://pandas.pydata.org/pandas-docs/stable/user_guide/indexing.html#returning-a-view-versus-a-copy\n",
      "  data_high_vol.loc[idx, 'entry'] = entry\n",
      "C:\\Users\\aeali\\AppData\\Local\\Temp\\ipykernel_14616\\3273599963.py:47: SettingWithCopyWarning: \n",
      "A value is trying to be set on a copy of a slice from a DataFrame\n",
      "\n",
      "See the caveats in the documentation: https://pandas.pydata.org/pandas-docs/stable/user_guide/indexing.html#returning-a-view-versus-a-copy\n",
      "  data_high_vol.loc[idx, 'exit'] = exit\n",
      "C:\\Users\\aeali\\AppData\\Local\\Temp\\ipykernel_14616\\3273599963.py:48: SettingWithCopyWarning: \n",
      "A value is trying to be set on a copy of a slice from a DataFrame\n",
      "\n",
      "See the caveats in the documentation: https://pandas.pydata.org/pandas-docs/stable/user_guide/indexing.html#returning-a-view-versus-a-copy\n",
      "  data_high_vol.loc[idx, 'return_pct'] = (exit - entry) / entry\n",
      "C:\\Users\\aeali\\AppData\\Local\\Temp\\ipykernel_14616\\3273599963.py:49: SettingWithCopyWarning: \n",
      "A value is trying to be set on a copy of a slice from a DataFrame\n",
      "\n",
      "See the caveats in the documentation: https://pandas.pydata.org/pandas-docs/stable/user_guide/indexing.html#returning-a-view-versus-a-copy\n",
      "  data_high_vol.loc[idx, 'darwdown'] = (entry - candle['low']) / entry\n"
     ]
    },
    {
     "name": "stdout",
     "output_type": "stream",
     "text": [
      "61 / 99\n"
     ]
    },
    {
     "name": "stderr",
     "output_type": "stream",
     "text": [
      "C:\\Users\\aeali\\AppData\\Local\\Temp\\ipykernel_14616\\3273599963.py:32: SettingWithCopyWarning: \n",
      "A value is trying to be set on a copy of a slice from a DataFrame\n",
      "\n",
      "See the caveats in the documentation: https://pandas.pydata.org/pandas-docs/stable/user_guide/indexing.html#returning-a-view-versus-a-copy\n",
      "  data_high_vol.loc[idx, 'entry'] = entry\n",
      "C:\\Users\\aeali\\AppData\\Local\\Temp\\ipykernel_14616\\3273599963.py:33: SettingWithCopyWarning: \n",
      "A value is trying to be set on a copy of a slice from a DataFrame\n",
      "\n",
      "See the caveats in the documentation: https://pandas.pydata.org/pandas-docs/stable/user_guide/indexing.html#returning-a-view-versus-a-copy\n",
      "  data_high_vol.loc[idx, 'exit'] = exit\n",
      "C:\\Users\\aeali\\AppData\\Local\\Temp\\ipykernel_14616\\3273599963.py:34: SettingWithCopyWarning: \n",
      "A value is trying to be set on a copy of a slice from a DataFrame\n",
      "\n",
      "See the caveats in the documentation: https://pandas.pydata.org/pandas-docs/stable/user_guide/indexing.html#returning-a-view-versus-a-copy\n",
      "  data_high_vol.loc[idx, 'return_pct'] = (entry - exit) / entry\n",
      "C:\\Users\\aeali\\AppData\\Local\\Temp\\ipykernel_14616\\3273599963.py:35: SettingWithCopyWarning: \n",
      "A value is trying to be set on a copy of a slice from a DataFrame\n",
      "\n",
      "See the caveats in the documentation: https://pandas.pydata.org/pandas-docs/stable/user_guide/indexing.html#returning-a-view-versus-a-copy\n",
      "  data_high_vol.loc[idx, 'darwdown'] = (candle['high'] - entry) / entry\n"
     ]
    },
    {
     "name": "stdout",
     "output_type": "stream",
     "text": [
      "62 / 99\n"
     ]
    },
    {
     "name": "stderr",
     "output_type": "stream",
     "text": [
      "C:\\Users\\aeali\\AppData\\Local\\Temp\\ipykernel_14616\\3273599963.py:46: SettingWithCopyWarning: \n",
      "A value is trying to be set on a copy of a slice from a DataFrame\n",
      "\n",
      "See the caveats in the documentation: https://pandas.pydata.org/pandas-docs/stable/user_guide/indexing.html#returning-a-view-versus-a-copy\n",
      "  data_high_vol.loc[idx, 'entry'] = entry\n",
      "C:\\Users\\aeali\\AppData\\Local\\Temp\\ipykernel_14616\\3273599963.py:47: SettingWithCopyWarning: \n",
      "A value is trying to be set on a copy of a slice from a DataFrame\n",
      "\n",
      "See the caveats in the documentation: https://pandas.pydata.org/pandas-docs/stable/user_guide/indexing.html#returning-a-view-versus-a-copy\n",
      "  data_high_vol.loc[idx, 'exit'] = exit\n",
      "C:\\Users\\aeali\\AppData\\Local\\Temp\\ipykernel_14616\\3273599963.py:48: SettingWithCopyWarning: \n",
      "A value is trying to be set on a copy of a slice from a DataFrame\n",
      "\n",
      "See the caveats in the documentation: https://pandas.pydata.org/pandas-docs/stable/user_guide/indexing.html#returning-a-view-versus-a-copy\n",
      "  data_high_vol.loc[idx, 'return_pct'] = (exit - entry) / entry\n",
      "C:\\Users\\aeali\\AppData\\Local\\Temp\\ipykernel_14616\\3273599963.py:49: SettingWithCopyWarning: \n",
      "A value is trying to be set on a copy of a slice from a DataFrame\n",
      "\n",
      "See the caveats in the documentation: https://pandas.pydata.org/pandas-docs/stable/user_guide/indexing.html#returning-a-view-versus-a-copy\n",
      "  data_high_vol.loc[idx, 'darwdown'] = (entry - candle['low']) / entry\n"
     ]
    },
    {
     "name": "stdout",
     "output_type": "stream",
     "text": [
      "63 / 99\n"
     ]
    },
    {
     "name": "stderr",
     "output_type": "stream",
     "text": [
      "C:\\Users\\aeali\\AppData\\Local\\Temp\\ipykernel_14616\\3273599963.py:46: SettingWithCopyWarning: \n",
      "A value is trying to be set on a copy of a slice from a DataFrame\n",
      "\n",
      "See the caveats in the documentation: https://pandas.pydata.org/pandas-docs/stable/user_guide/indexing.html#returning-a-view-versus-a-copy\n",
      "  data_high_vol.loc[idx, 'entry'] = entry\n",
      "C:\\Users\\aeali\\AppData\\Local\\Temp\\ipykernel_14616\\3273599963.py:47: SettingWithCopyWarning: \n",
      "A value is trying to be set on a copy of a slice from a DataFrame\n",
      "\n",
      "See the caveats in the documentation: https://pandas.pydata.org/pandas-docs/stable/user_guide/indexing.html#returning-a-view-versus-a-copy\n",
      "  data_high_vol.loc[idx, 'exit'] = exit\n",
      "C:\\Users\\aeali\\AppData\\Local\\Temp\\ipykernel_14616\\3273599963.py:48: SettingWithCopyWarning: \n",
      "A value is trying to be set on a copy of a slice from a DataFrame\n",
      "\n",
      "See the caveats in the documentation: https://pandas.pydata.org/pandas-docs/stable/user_guide/indexing.html#returning-a-view-versus-a-copy\n",
      "  data_high_vol.loc[idx, 'return_pct'] = (exit - entry) / entry\n",
      "C:\\Users\\aeali\\AppData\\Local\\Temp\\ipykernel_14616\\3273599963.py:49: SettingWithCopyWarning: \n",
      "A value is trying to be set on a copy of a slice from a DataFrame\n",
      "\n",
      "See the caveats in the documentation: https://pandas.pydata.org/pandas-docs/stable/user_guide/indexing.html#returning-a-view-versus-a-copy\n",
      "  data_high_vol.loc[idx, 'darwdown'] = (entry - candle['low']) / entry\n"
     ]
    },
    {
     "name": "stdout",
     "output_type": "stream",
     "text": [
      "64 / 99\n"
     ]
    },
    {
     "name": "stderr",
     "output_type": "stream",
     "text": [
      "C:\\Users\\aeali\\AppData\\Local\\Temp\\ipykernel_14616\\3273599963.py:32: SettingWithCopyWarning: \n",
      "A value is trying to be set on a copy of a slice from a DataFrame\n",
      "\n",
      "See the caveats in the documentation: https://pandas.pydata.org/pandas-docs/stable/user_guide/indexing.html#returning-a-view-versus-a-copy\n",
      "  data_high_vol.loc[idx, 'entry'] = entry\n",
      "C:\\Users\\aeali\\AppData\\Local\\Temp\\ipykernel_14616\\3273599963.py:33: SettingWithCopyWarning: \n",
      "A value is trying to be set on a copy of a slice from a DataFrame\n",
      "\n",
      "See the caveats in the documentation: https://pandas.pydata.org/pandas-docs/stable/user_guide/indexing.html#returning-a-view-versus-a-copy\n",
      "  data_high_vol.loc[idx, 'exit'] = exit\n",
      "C:\\Users\\aeali\\AppData\\Local\\Temp\\ipykernel_14616\\3273599963.py:34: SettingWithCopyWarning: \n",
      "A value is trying to be set on a copy of a slice from a DataFrame\n",
      "\n",
      "See the caveats in the documentation: https://pandas.pydata.org/pandas-docs/stable/user_guide/indexing.html#returning-a-view-versus-a-copy\n",
      "  data_high_vol.loc[idx, 'return_pct'] = (entry - exit) / entry\n",
      "C:\\Users\\aeali\\AppData\\Local\\Temp\\ipykernel_14616\\3273599963.py:35: SettingWithCopyWarning: \n",
      "A value is trying to be set on a copy of a slice from a DataFrame\n",
      "\n",
      "See the caveats in the documentation: https://pandas.pydata.org/pandas-docs/stable/user_guide/indexing.html#returning-a-view-versus-a-copy\n",
      "  data_high_vol.loc[idx, 'darwdown'] = (candle['high'] - entry) / entry\n"
     ]
    },
    {
     "name": "stdout",
     "output_type": "stream",
     "text": [
      "65 / 99\n"
     ]
    },
    {
     "name": "stderr",
     "output_type": "stream",
     "text": [
      "C:\\Users\\aeali\\AppData\\Local\\Temp\\ipykernel_14616\\3273599963.py:46: SettingWithCopyWarning: \n",
      "A value is trying to be set on a copy of a slice from a DataFrame\n",
      "\n",
      "See the caveats in the documentation: https://pandas.pydata.org/pandas-docs/stable/user_guide/indexing.html#returning-a-view-versus-a-copy\n",
      "  data_high_vol.loc[idx, 'entry'] = entry\n",
      "C:\\Users\\aeali\\AppData\\Local\\Temp\\ipykernel_14616\\3273599963.py:47: SettingWithCopyWarning: \n",
      "A value is trying to be set on a copy of a slice from a DataFrame\n",
      "\n",
      "See the caveats in the documentation: https://pandas.pydata.org/pandas-docs/stable/user_guide/indexing.html#returning-a-view-versus-a-copy\n",
      "  data_high_vol.loc[idx, 'exit'] = exit\n",
      "C:\\Users\\aeali\\AppData\\Local\\Temp\\ipykernel_14616\\3273599963.py:48: SettingWithCopyWarning: \n",
      "A value is trying to be set on a copy of a slice from a DataFrame\n",
      "\n",
      "See the caveats in the documentation: https://pandas.pydata.org/pandas-docs/stable/user_guide/indexing.html#returning-a-view-versus-a-copy\n",
      "  data_high_vol.loc[idx, 'return_pct'] = (exit - entry) / entry\n",
      "C:\\Users\\aeali\\AppData\\Local\\Temp\\ipykernel_14616\\3273599963.py:49: SettingWithCopyWarning: \n",
      "A value is trying to be set on a copy of a slice from a DataFrame\n",
      "\n",
      "See the caveats in the documentation: https://pandas.pydata.org/pandas-docs/stable/user_guide/indexing.html#returning-a-view-versus-a-copy\n",
      "  data_high_vol.loc[idx, 'darwdown'] = (entry - candle['low']) / entry\n"
     ]
    },
    {
     "name": "stdout",
     "output_type": "stream",
     "text": [
      "66 / 99\n"
     ]
    },
    {
     "name": "stderr",
     "output_type": "stream",
     "text": [
      "C:\\Users\\aeali\\AppData\\Local\\Temp\\ipykernel_14616\\3273599963.py:32: SettingWithCopyWarning: \n",
      "A value is trying to be set on a copy of a slice from a DataFrame\n",
      "\n",
      "See the caveats in the documentation: https://pandas.pydata.org/pandas-docs/stable/user_guide/indexing.html#returning-a-view-versus-a-copy\n",
      "  data_high_vol.loc[idx, 'entry'] = entry\n",
      "C:\\Users\\aeali\\AppData\\Local\\Temp\\ipykernel_14616\\3273599963.py:33: SettingWithCopyWarning: \n",
      "A value is trying to be set on a copy of a slice from a DataFrame\n",
      "\n",
      "See the caveats in the documentation: https://pandas.pydata.org/pandas-docs/stable/user_guide/indexing.html#returning-a-view-versus-a-copy\n",
      "  data_high_vol.loc[idx, 'exit'] = exit\n",
      "C:\\Users\\aeali\\AppData\\Local\\Temp\\ipykernel_14616\\3273599963.py:34: SettingWithCopyWarning: \n",
      "A value is trying to be set on a copy of a slice from a DataFrame\n",
      "\n",
      "See the caveats in the documentation: https://pandas.pydata.org/pandas-docs/stable/user_guide/indexing.html#returning-a-view-versus-a-copy\n",
      "  data_high_vol.loc[idx, 'return_pct'] = (entry - exit) / entry\n",
      "C:\\Users\\aeali\\AppData\\Local\\Temp\\ipykernel_14616\\3273599963.py:35: SettingWithCopyWarning: \n",
      "A value is trying to be set on a copy of a slice from a DataFrame\n",
      "\n",
      "See the caveats in the documentation: https://pandas.pydata.org/pandas-docs/stable/user_guide/indexing.html#returning-a-view-versus-a-copy\n",
      "  data_high_vol.loc[idx, 'darwdown'] = (candle['high'] - entry) / entry\n"
     ]
    },
    {
     "name": "stdout",
     "output_type": "stream",
     "text": [
      "67 / 99\n"
     ]
    },
    {
     "name": "stderr",
     "output_type": "stream",
     "text": [
      "C:\\Users\\aeali\\AppData\\Local\\Temp\\ipykernel_14616\\3273599963.py:32: SettingWithCopyWarning: \n",
      "A value is trying to be set on a copy of a slice from a DataFrame\n",
      "\n",
      "See the caveats in the documentation: https://pandas.pydata.org/pandas-docs/stable/user_guide/indexing.html#returning-a-view-versus-a-copy\n",
      "  data_high_vol.loc[idx, 'entry'] = entry\n",
      "C:\\Users\\aeali\\AppData\\Local\\Temp\\ipykernel_14616\\3273599963.py:33: SettingWithCopyWarning: \n",
      "A value is trying to be set on a copy of a slice from a DataFrame\n",
      "\n",
      "See the caveats in the documentation: https://pandas.pydata.org/pandas-docs/stable/user_guide/indexing.html#returning-a-view-versus-a-copy\n",
      "  data_high_vol.loc[idx, 'exit'] = exit\n",
      "C:\\Users\\aeali\\AppData\\Local\\Temp\\ipykernel_14616\\3273599963.py:34: SettingWithCopyWarning: \n",
      "A value is trying to be set on a copy of a slice from a DataFrame\n",
      "\n",
      "See the caveats in the documentation: https://pandas.pydata.org/pandas-docs/stable/user_guide/indexing.html#returning-a-view-versus-a-copy\n",
      "  data_high_vol.loc[idx, 'return_pct'] = (entry - exit) / entry\n",
      "C:\\Users\\aeali\\AppData\\Local\\Temp\\ipykernel_14616\\3273599963.py:35: SettingWithCopyWarning: \n",
      "A value is trying to be set on a copy of a slice from a DataFrame\n",
      "\n",
      "See the caveats in the documentation: https://pandas.pydata.org/pandas-docs/stable/user_guide/indexing.html#returning-a-view-versus-a-copy\n",
      "  data_high_vol.loc[idx, 'darwdown'] = (candle['high'] - entry) / entry\n"
     ]
    },
    {
     "name": "stdout",
     "output_type": "stream",
     "text": [
      "68 / 99\n"
     ]
    },
    {
     "name": "stderr",
     "output_type": "stream",
     "text": [
      "C:\\Users\\aeali\\AppData\\Local\\Temp\\ipykernel_14616\\3273599963.py:46: SettingWithCopyWarning: \n",
      "A value is trying to be set on a copy of a slice from a DataFrame\n",
      "\n",
      "See the caveats in the documentation: https://pandas.pydata.org/pandas-docs/stable/user_guide/indexing.html#returning-a-view-versus-a-copy\n",
      "  data_high_vol.loc[idx, 'entry'] = entry\n",
      "C:\\Users\\aeali\\AppData\\Local\\Temp\\ipykernel_14616\\3273599963.py:47: SettingWithCopyWarning: \n",
      "A value is trying to be set on a copy of a slice from a DataFrame\n",
      "\n",
      "See the caveats in the documentation: https://pandas.pydata.org/pandas-docs/stable/user_guide/indexing.html#returning-a-view-versus-a-copy\n",
      "  data_high_vol.loc[idx, 'exit'] = exit\n",
      "C:\\Users\\aeali\\AppData\\Local\\Temp\\ipykernel_14616\\3273599963.py:48: SettingWithCopyWarning: \n",
      "A value is trying to be set on a copy of a slice from a DataFrame\n",
      "\n",
      "See the caveats in the documentation: https://pandas.pydata.org/pandas-docs/stable/user_guide/indexing.html#returning-a-view-versus-a-copy\n",
      "  data_high_vol.loc[idx, 'return_pct'] = (exit - entry) / entry\n",
      "C:\\Users\\aeali\\AppData\\Local\\Temp\\ipykernel_14616\\3273599963.py:49: SettingWithCopyWarning: \n",
      "A value is trying to be set on a copy of a slice from a DataFrame\n",
      "\n",
      "See the caveats in the documentation: https://pandas.pydata.org/pandas-docs/stable/user_guide/indexing.html#returning-a-view-versus-a-copy\n",
      "  data_high_vol.loc[idx, 'darwdown'] = (entry - candle['low']) / entry\n"
     ]
    },
    {
     "name": "stdout",
     "output_type": "stream",
     "text": [
      "69 / 99\n"
     ]
    },
    {
     "name": "stderr",
     "output_type": "stream",
     "text": [
      "C:\\Users\\aeali\\AppData\\Local\\Temp\\ipykernel_14616\\3273599963.py:46: SettingWithCopyWarning: \n",
      "A value is trying to be set on a copy of a slice from a DataFrame\n",
      "\n",
      "See the caveats in the documentation: https://pandas.pydata.org/pandas-docs/stable/user_guide/indexing.html#returning-a-view-versus-a-copy\n",
      "  data_high_vol.loc[idx, 'entry'] = entry\n",
      "C:\\Users\\aeali\\AppData\\Local\\Temp\\ipykernel_14616\\3273599963.py:47: SettingWithCopyWarning: \n",
      "A value is trying to be set on a copy of a slice from a DataFrame\n",
      "\n",
      "See the caveats in the documentation: https://pandas.pydata.org/pandas-docs/stable/user_guide/indexing.html#returning-a-view-versus-a-copy\n",
      "  data_high_vol.loc[idx, 'exit'] = exit\n",
      "C:\\Users\\aeali\\AppData\\Local\\Temp\\ipykernel_14616\\3273599963.py:48: SettingWithCopyWarning: \n",
      "A value is trying to be set on a copy of a slice from a DataFrame\n",
      "\n",
      "See the caveats in the documentation: https://pandas.pydata.org/pandas-docs/stable/user_guide/indexing.html#returning-a-view-versus-a-copy\n",
      "  data_high_vol.loc[idx, 'return_pct'] = (exit - entry) / entry\n",
      "C:\\Users\\aeali\\AppData\\Local\\Temp\\ipykernel_14616\\3273599963.py:49: SettingWithCopyWarning: \n",
      "A value is trying to be set on a copy of a slice from a DataFrame\n",
      "\n",
      "See the caveats in the documentation: https://pandas.pydata.org/pandas-docs/stable/user_guide/indexing.html#returning-a-view-versus-a-copy\n",
      "  data_high_vol.loc[idx, 'darwdown'] = (entry - candle['low']) / entry\n"
     ]
    },
    {
     "name": "stdout",
     "output_type": "stream",
     "text": [
      "70 / 99\n"
     ]
    },
    {
     "name": "stderr",
     "output_type": "stream",
     "text": [
      "C:\\Users\\aeali\\AppData\\Local\\Temp\\ipykernel_14616\\3273599963.py:46: SettingWithCopyWarning: \n",
      "A value is trying to be set on a copy of a slice from a DataFrame\n",
      "\n",
      "See the caveats in the documentation: https://pandas.pydata.org/pandas-docs/stable/user_guide/indexing.html#returning-a-view-versus-a-copy\n",
      "  data_high_vol.loc[idx, 'entry'] = entry\n",
      "C:\\Users\\aeali\\AppData\\Local\\Temp\\ipykernel_14616\\3273599963.py:47: SettingWithCopyWarning: \n",
      "A value is trying to be set on a copy of a slice from a DataFrame\n",
      "\n",
      "See the caveats in the documentation: https://pandas.pydata.org/pandas-docs/stable/user_guide/indexing.html#returning-a-view-versus-a-copy\n",
      "  data_high_vol.loc[idx, 'exit'] = exit\n",
      "C:\\Users\\aeali\\AppData\\Local\\Temp\\ipykernel_14616\\3273599963.py:48: SettingWithCopyWarning: \n",
      "A value is trying to be set on a copy of a slice from a DataFrame\n",
      "\n",
      "See the caveats in the documentation: https://pandas.pydata.org/pandas-docs/stable/user_guide/indexing.html#returning-a-view-versus-a-copy\n",
      "  data_high_vol.loc[idx, 'return_pct'] = (exit - entry) / entry\n",
      "C:\\Users\\aeali\\AppData\\Local\\Temp\\ipykernel_14616\\3273599963.py:49: SettingWithCopyWarning: \n",
      "A value is trying to be set on a copy of a slice from a DataFrame\n",
      "\n",
      "See the caveats in the documentation: https://pandas.pydata.org/pandas-docs/stable/user_guide/indexing.html#returning-a-view-versus-a-copy\n",
      "  data_high_vol.loc[idx, 'darwdown'] = (entry - candle['low']) / entry\n"
     ]
    },
    {
     "name": "stdout",
     "output_type": "stream",
     "text": [
      "71 / 99\n"
     ]
    },
    {
     "name": "stderr",
     "output_type": "stream",
     "text": [
      "C:\\Users\\aeali\\AppData\\Local\\Temp\\ipykernel_14616\\3273599963.py:46: SettingWithCopyWarning: \n",
      "A value is trying to be set on a copy of a slice from a DataFrame\n",
      "\n",
      "See the caveats in the documentation: https://pandas.pydata.org/pandas-docs/stable/user_guide/indexing.html#returning-a-view-versus-a-copy\n",
      "  data_high_vol.loc[idx, 'entry'] = entry\n",
      "C:\\Users\\aeali\\AppData\\Local\\Temp\\ipykernel_14616\\3273599963.py:47: SettingWithCopyWarning: \n",
      "A value is trying to be set on a copy of a slice from a DataFrame\n",
      "\n",
      "See the caveats in the documentation: https://pandas.pydata.org/pandas-docs/stable/user_guide/indexing.html#returning-a-view-versus-a-copy\n",
      "  data_high_vol.loc[idx, 'exit'] = exit\n",
      "C:\\Users\\aeali\\AppData\\Local\\Temp\\ipykernel_14616\\3273599963.py:48: SettingWithCopyWarning: \n",
      "A value is trying to be set on a copy of a slice from a DataFrame\n",
      "\n",
      "See the caveats in the documentation: https://pandas.pydata.org/pandas-docs/stable/user_guide/indexing.html#returning-a-view-versus-a-copy\n",
      "  data_high_vol.loc[idx, 'return_pct'] = (exit - entry) / entry\n",
      "C:\\Users\\aeali\\AppData\\Local\\Temp\\ipykernel_14616\\3273599963.py:49: SettingWithCopyWarning: \n",
      "A value is trying to be set on a copy of a slice from a DataFrame\n",
      "\n",
      "See the caveats in the documentation: https://pandas.pydata.org/pandas-docs/stable/user_guide/indexing.html#returning-a-view-versus-a-copy\n",
      "  data_high_vol.loc[idx, 'darwdown'] = (entry - candle['low']) / entry\n"
     ]
    },
    {
     "name": "stdout",
     "output_type": "stream",
     "text": [
      "72 / 99\n"
     ]
    },
    {
     "name": "stderr",
     "output_type": "stream",
     "text": [
      "C:\\Users\\aeali\\AppData\\Local\\Temp\\ipykernel_14616\\3273599963.py:46: SettingWithCopyWarning: \n",
      "A value is trying to be set on a copy of a slice from a DataFrame\n",
      "\n",
      "See the caveats in the documentation: https://pandas.pydata.org/pandas-docs/stable/user_guide/indexing.html#returning-a-view-versus-a-copy\n",
      "  data_high_vol.loc[idx, 'entry'] = entry\n",
      "C:\\Users\\aeali\\AppData\\Local\\Temp\\ipykernel_14616\\3273599963.py:47: SettingWithCopyWarning: \n",
      "A value is trying to be set on a copy of a slice from a DataFrame\n",
      "\n",
      "See the caveats in the documentation: https://pandas.pydata.org/pandas-docs/stable/user_guide/indexing.html#returning-a-view-versus-a-copy\n",
      "  data_high_vol.loc[idx, 'exit'] = exit\n",
      "C:\\Users\\aeali\\AppData\\Local\\Temp\\ipykernel_14616\\3273599963.py:48: SettingWithCopyWarning: \n",
      "A value is trying to be set on a copy of a slice from a DataFrame\n",
      "\n",
      "See the caveats in the documentation: https://pandas.pydata.org/pandas-docs/stable/user_guide/indexing.html#returning-a-view-versus-a-copy\n",
      "  data_high_vol.loc[idx, 'return_pct'] = (exit - entry) / entry\n",
      "C:\\Users\\aeali\\AppData\\Local\\Temp\\ipykernel_14616\\3273599963.py:49: SettingWithCopyWarning: \n",
      "A value is trying to be set on a copy of a slice from a DataFrame\n",
      "\n",
      "See the caveats in the documentation: https://pandas.pydata.org/pandas-docs/stable/user_guide/indexing.html#returning-a-view-versus-a-copy\n",
      "  data_high_vol.loc[idx, 'darwdown'] = (entry - candle['low']) / entry\n"
     ]
    },
    {
     "name": "stdout",
     "output_type": "stream",
     "text": [
      "73 / 99\n"
     ]
    },
    {
     "name": "stderr",
     "output_type": "stream",
     "text": [
      "C:\\Users\\aeali\\AppData\\Local\\Temp\\ipykernel_14616\\3273599963.py:32: SettingWithCopyWarning: \n",
      "A value is trying to be set on a copy of a slice from a DataFrame\n",
      "\n",
      "See the caveats in the documentation: https://pandas.pydata.org/pandas-docs/stable/user_guide/indexing.html#returning-a-view-versus-a-copy\n",
      "  data_high_vol.loc[idx, 'entry'] = entry\n",
      "C:\\Users\\aeali\\AppData\\Local\\Temp\\ipykernel_14616\\3273599963.py:33: SettingWithCopyWarning: \n",
      "A value is trying to be set on a copy of a slice from a DataFrame\n",
      "\n",
      "See the caveats in the documentation: https://pandas.pydata.org/pandas-docs/stable/user_guide/indexing.html#returning-a-view-versus-a-copy\n",
      "  data_high_vol.loc[idx, 'exit'] = exit\n",
      "C:\\Users\\aeali\\AppData\\Local\\Temp\\ipykernel_14616\\3273599963.py:34: SettingWithCopyWarning: \n",
      "A value is trying to be set on a copy of a slice from a DataFrame\n",
      "\n",
      "See the caveats in the documentation: https://pandas.pydata.org/pandas-docs/stable/user_guide/indexing.html#returning-a-view-versus-a-copy\n",
      "  data_high_vol.loc[idx, 'return_pct'] = (entry - exit) / entry\n",
      "C:\\Users\\aeali\\AppData\\Local\\Temp\\ipykernel_14616\\3273599963.py:35: SettingWithCopyWarning: \n",
      "A value is trying to be set on a copy of a slice from a DataFrame\n",
      "\n",
      "See the caveats in the documentation: https://pandas.pydata.org/pandas-docs/stable/user_guide/indexing.html#returning-a-view-versus-a-copy\n",
      "  data_high_vol.loc[idx, 'darwdown'] = (candle['high'] - entry) / entry\n"
     ]
    },
    {
     "name": "stdout",
     "output_type": "stream",
     "text": [
      "74 / 99\n"
     ]
    },
    {
     "name": "stderr",
     "output_type": "stream",
     "text": [
      "C:\\Users\\aeali\\AppData\\Local\\Temp\\ipykernel_14616\\3273599963.py:46: SettingWithCopyWarning: \n",
      "A value is trying to be set on a copy of a slice from a DataFrame\n",
      "\n",
      "See the caveats in the documentation: https://pandas.pydata.org/pandas-docs/stable/user_guide/indexing.html#returning-a-view-versus-a-copy\n",
      "  data_high_vol.loc[idx, 'entry'] = entry\n",
      "C:\\Users\\aeali\\AppData\\Local\\Temp\\ipykernel_14616\\3273599963.py:47: SettingWithCopyWarning: \n",
      "A value is trying to be set on a copy of a slice from a DataFrame\n",
      "\n",
      "See the caveats in the documentation: https://pandas.pydata.org/pandas-docs/stable/user_guide/indexing.html#returning-a-view-versus-a-copy\n",
      "  data_high_vol.loc[idx, 'exit'] = exit\n",
      "C:\\Users\\aeali\\AppData\\Local\\Temp\\ipykernel_14616\\3273599963.py:48: SettingWithCopyWarning: \n",
      "A value is trying to be set on a copy of a slice from a DataFrame\n",
      "\n",
      "See the caveats in the documentation: https://pandas.pydata.org/pandas-docs/stable/user_guide/indexing.html#returning-a-view-versus-a-copy\n",
      "  data_high_vol.loc[idx, 'return_pct'] = (exit - entry) / entry\n",
      "C:\\Users\\aeali\\AppData\\Local\\Temp\\ipykernel_14616\\3273599963.py:49: SettingWithCopyWarning: \n",
      "A value is trying to be set on a copy of a slice from a DataFrame\n",
      "\n",
      "See the caveats in the documentation: https://pandas.pydata.org/pandas-docs/stable/user_guide/indexing.html#returning-a-view-versus-a-copy\n",
      "  data_high_vol.loc[idx, 'darwdown'] = (entry - candle['low']) / entry\n"
     ]
    },
    {
     "name": "stdout",
     "output_type": "stream",
     "text": [
      "75 / 99\n"
     ]
    },
    {
     "name": "stderr",
     "output_type": "stream",
     "text": [
      "C:\\Users\\aeali\\AppData\\Local\\Temp\\ipykernel_14616\\3273599963.py:46: SettingWithCopyWarning: \n",
      "A value is trying to be set on a copy of a slice from a DataFrame\n",
      "\n",
      "See the caveats in the documentation: https://pandas.pydata.org/pandas-docs/stable/user_guide/indexing.html#returning-a-view-versus-a-copy\n",
      "  data_high_vol.loc[idx, 'entry'] = entry\n",
      "C:\\Users\\aeali\\AppData\\Local\\Temp\\ipykernel_14616\\3273599963.py:47: SettingWithCopyWarning: \n",
      "A value is trying to be set on a copy of a slice from a DataFrame\n",
      "\n",
      "See the caveats in the documentation: https://pandas.pydata.org/pandas-docs/stable/user_guide/indexing.html#returning-a-view-versus-a-copy\n",
      "  data_high_vol.loc[idx, 'exit'] = exit\n",
      "C:\\Users\\aeali\\AppData\\Local\\Temp\\ipykernel_14616\\3273599963.py:48: SettingWithCopyWarning: \n",
      "A value is trying to be set on a copy of a slice from a DataFrame\n",
      "\n",
      "See the caveats in the documentation: https://pandas.pydata.org/pandas-docs/stable/user_guide/indexing.html#returning-a-view-versus-a-copy\n",
      "  data_high_vol.loc[idx, 'return_pct'] = (exit - entry) / entry\n",
      "C:\\Users\\aeali\\AppData\\Local\\Temp\\ipykernel_14616\\3273599963.py:49: SettingWithCopyWarning: \n",
      "A value is trying to be set on a copy of a slice from a DataFrame\n",
      "\n",
      "See the caveats in the documentation: https://pandas.pydata.org/pandas-docs/stable/user_guide/indexing.html#returning-a-view-versus-a-copy\n",
      "  data_high_vol.loc[idx, 'darwdown'] = (entry - candle['low']) / entry\n"
     ]
    },
    {
     "name": "stdout",
     "output_type": "stream",
     "text": [
      "76 / 99\n"
     ]
    },
    {
     "name": "stderr",
     "output_type": "stream",
     "text": [
      "C:\\Users\\aeali\\AppData\\Local\\Temp\\ipykernel_14616\\3273599963.py:32: SettingWithCopyWarning: \n",
      "A value is trying to be set on a copy of a slice from a DataFrame\n",
      "\n",
      "See the caveats in the documentation: https://pandas.pydata.org/pandas-docs/stable/user_guide/indexing.html#returning-a-view-versus-a-copy\n",
      "  data_high_vol.loc[idx, 'entry'] = entry\n",
      "C:\\Users\\aeali\\AppData\\Local\\Temp\\ipykernel_14616\\3273599963.py:33: SettingWithCopyWarning: \n",
      "A value is trying to be set on a copy of a slice from a DataFrame\n",
      "\n",
      "See the caveats in the documentation: https://pandas.pydata.org/pandas-docs/stable/user_guide/indexing.html#returning-a-view-versus-a-copy\n",
      "  data_high_vol.loc[idx, 'exit'] = exit\n",
      "C:\\Users\\aeali\\AppData\\Local\\Temp\\ipykernel_14616\\3273599963.py:34: SettingWithCopyWarning: \n",
      "A value is trying to be set on a copy of a slice from a DataFrame\n",
      "\n",
      "See the caveats in the documentation: https://pandas.pydata.org/pandas-docs/stable/user_guide/indexing.html#returning-a-view-versus-a-copy\n",
      "  data_high_vol.loc[idx, 'return_pct'] = (entry - exit) / entry\n",
      "C:\\Users\\aeali\\AppData\\Local\\Temp\\ipykernel_14616\\3273599963.py:35: SettingWithCopyWarning: \n",
      "A value is trying to be set on a copy of a slice from a DataFrame\n",
      "\n",
      "See the caveats in the documentation: https://pandas.pydata.org/pandas-docs/stable/user_guide/indexing.html#returning-a-view-versus-a-copy\n",
      "  data_high_vol.loc[idx, 'darwdown'] = (candle['high'] - entry) / entry\n"
     ]
    },
    {
     "name": "stdout",
     "output_type": "stream",
     "text": [
      "77 / 99\n"
     ]
    },
    {
     "name": "stderr",
     "output_type": "stream",
     "text": [
      "C:\\Users\\aeali\\AppData\\Local\\Temp\\ipykernel_14616\\3273599963.py:46: SettingWithCopyWarning: \n",
      "A value is trying to be set on a copy of a slice from a DataFrame\n",
      "\n",
      "See the caveats in the documentation: https://pandas.pydata.org/pandas-docs/stable/user_guide/indexing.html#returning-a-view-versus-a-copy\n",
      "  data_high_vol.loc[idx, 'entry'] = entry\n",
      "C:\\Users\\aeali\\AppData\\Local\\Temp\\ipykernel_14616\\3273599963.py:47: SettingWithCopyWarning: \n",
      "A value is trying to be set on a copy of a slice from a DataFrame\n",
      "\n",
      "See the caveats in the documentation: https://pandas.pydata.org/pandas-docs/stable/user_guide/indexing.html#returning-a-view-versus-a-copy\n",
      "  data_high_vol.loc[idx, 'exit'] = exit\n",
      "C:\\Users\\aeali\\AppData\\Local\\Temp\\ipykernel_14616\\3273599963.py:48: SettingWithCopyWarning: \n",
      "A value is trying to be set on a copy of a slice from a DataFrame\n",
      "\n",
      "See the caveats in the documentation: https://pandas.pydata.org/pandas-docs/stable/user_guide/indexing.html#returning-a-view-versus-a-copy\n",
      "  data_high_vol.loc[idx, 'return_pct'] = (exit - entry) / entry\n",
      "C:\\Users\\aeali\\AppData\\Local\\Temp\\ipykernel_14616\\3273599963.py:49: SettingWithCopyWarning: \n",
      "A value is trying to be set on a copy of a slice from a DataFrame\n",
      "\n",
      "See the caveats in the documentation: https://pandas.pydata.org/pandas-docs/stable/user_guide/indexing.html#returning-a-view-versus-a-copy\n",
      "  data_high_vol.loc[idx, 'darwdown'] = (entry - candle['low']) / entry\n"
     ]
    },
    {
     "name": "stdout",
     "output_type": "stream",
     "text": [
      "78 / 99\n"
     ]
    },
    {
     "name": "stderr",
     "output_type": "stream",
     "text": [
      "C:\\Users\\aeali\\AppData\\Local\\Temp\\ipykernel_14616\\3273599963.py:46: SettingWithCopyWarning: \n",
      "A value is trying to be set on a copy of a slice from a DataFrame\n",
      "\n",
      "See the caveats in the documentation: https://pandas.pydata.org/pandas-docs/stable/user_guide/indexing.html#returning-a-view-versus-a-copy\n",
      "  data_high_vol.loc[idx, 'entry'] = entry\n",
      "C:\\Users\\aeali\\AppData\\Local\\Temp\\ipykernel_14616\\3273599963.py:47: SettingWithCopyWarning: \n",
      "A value is trying to be set on a copy of a slice from a DataFrame\n",
      "\n",
      "See the caveats in the documentation: https://pandas.pydata.org/pandas-docs/stable/user_guide/indexing.html#returning-a-view-versus-a-copy\n",
      "  data_high_vol.loc[idx, 'exit'] = exit\n",
      "C:\\Users\\aeali\\AppData\\Local\\Temp\\ipykernel_14616\\3273599963.py:48: SettingWithCopyWarning: \n",
      "A value is trying to be set on a copy of a slice from a DataFrame\n",
      "\n",
      "See the caveats in the documentation: https://pandas.pydata.org/pandas-docs/stable/user_guide/indexing.html#returning-a-view-versus-a-copy\n",
      "  data_high_vol.loc[idx, 'return_pct'] = (exit - entry) / entry\n",
      "C:\\Users\\aeali\\AppData\\Local\\Temp\\ipykernel_14616\\3273599963.py:49: SettingWithCopyWarning: \n",
      "A value is trying to be set on a copy of a slice from a DataFrame\n",
      "\n",
      "See the caveats in the documentation: https://pandas.pydata.org/pandas-docs/stable/user_guide/indexing.html#returning-a-view-versus-a-copy\n",
      "  data_high_vol.loc[idx, 'darwdown'] = (entry - candle['low']) / entry\n"
     ]
    },
    {
     "name": "stdout",
     "output_type": "stream",
     "text": [
      "79 / 99\n"
     ]
    },
    {
     "name": "stderr",
     "output_type": "stream",
     "text": [
      "C:\\Users\\aeali\\AppData\\Local\\Temp\\ipykernel_14616\\3273599963.py:46: SettingWithCopyWarning: \n",
      "A value is trying to be set on a copy of a slice from a DataFrame\n",
      "\n",
      "See the caveats in the documentation: https://pandas.pydata.org/pandas-docs/stable/user_guide/indexing.html#returning-a-view-versus-a-copy\n",
      "  data_high_vol.loc[idx, 'entry'] = entry\n",
      "C:\\Users\\aeali\\AppData\\Local\\Temp\\ipykernel_14616\\3273599963.py:47: SettingWithCopyWarning: \n",
      "A value is trying to be set on a copy of a slice from a DataFrame\n",
      "\n",
      "See the caveats in the documentation: https://pandas.pydata.org/pandas-docs/stable/user_guide/indexing.html#returning-a-view-versus-a-copy\n",
      "  data_high_vol.loc[idx, 'exit'] = exit\n",
      "C:\\Users\\aeali\\AppData\\Local\\Temp\\ipykernel_14616\\3273599963.py:48: SettingWithCopyWarning: \n",
      "A value is trying to be set on a copy of a slice from a DataFrame\n",
      "\n",
      "See the caveats in the documentation: https://pandas.pydata.org/pandas-docs/stable/user_guide/indexing.html#returning-a-view-versus-a-copy\n",
      "  data_high_vol.loc[idx, 'return_pct'] = (exit - entry) / entry\n",
      "C:\\Users\\aeali\\AppData\\Local\\Temp\\ipykernel_14616\\3273599963.py:49: SettingWithCopyWarning: \n",
      "A value is trying to be set on a copy of a slice from a DataFrame\n",
      "\n",
      "See the caveats in the documentation: https://pandas.pydata.org/pandas-docs/stable/user_guide/indexing.html#returning-a-view-versus-a-copy\n",
      "  data_high_vol.loc[idx, 'darwdown'] = (entry - candle['low']) / entry\n"
     ]
    },
    {
     "name": "stdout",
     "output_type": "stream",
     "text": [
      "80 / 99\n"
     ]
    },
    {
     "name": "stderr",
     "output_type": "stream",
     "text": [
      "C:\\Users\\aeali\\AppData\\Local\\Temp\\ipykernel_14616\\3273599963.py:32: SettingWithCopyWarning: \n",
      "A value is trying to be set on a copy of a slice from a DataFrame\n",
      "\n",
      "See the caveats in the documentation: https://pandas.pydata.org/pandas-docs/stable/user_guide/indexing.html#returning-a-view-versus-a-copy\n",
      "  data_high_vol.loc[idx, 'entry'] = entry\n",
      "C:\\Users\\aeali\\AppData\\Local\\Temp\\ipykernel_14616\\3273599963.py:33: SettingWithCopyWarning: \n",
      "A value is trying to be set on a copy of a slice from a DataFrame\n",
      "\n",
      "See the caveats in the documentation: https://pandas.pydata.org/pandas-docs/stable/user_guide/indexing.html#returning-a-view-versus-a-copy\n",
      "  data_high_vol.loc[idx, 'exit'] = exit\n",
      "C:\\Users\\aeali\\AppData\\Local\\Temp\\ipykernel_14616\\3273599963.py:34: SettingWithCopyWarning: \n",
      "A value is trying to be set on a copy of a slice from a DataFrame\n",
      "\n",
      "See the caveats in the documentation: https://pandas.pydata.org/pandas-docs/stable/user_guide/indexing.html#returning-a-view-versus-a-copy\n",
      "  data_high_vol.loc[idx, 'return_pct'] = (entry - exit) / entry\n",
      "C:\\Users\\aeali\\AppData\\Local\\Temp\\ipykernel_14616\\3273599963.py:35: SettingWithCopyWarning: \n",
      "A value is trying to be set on a copy of a slice from a DataFrame\n",
      "\n",
      "See the caveats in the documentation: https://pandas.pydata.org/pandas-docs/stable/user_guide/indexing.html#returning-a-view-versus-a-copy\n",
      "  data_high_vol.loc[idx, 'darwdown'] = (candle['high'] - entry) / entry\n"
     ]
    },
    {
     "name": "stdout",
     "output_type": "stream",
     "text": [
      "81 / 99\n"
     ]
    },
    {
     "name": "stderr",
     "output_type": "stream",
     "text": [
      "C:\\Users\\aeali\\AppData\\Local\\Temp\\ipykernel_14616\\3273599963.py:46: SettingWithCopyWarning: \n",
      "A value is trying to be set on a copy of a slice from a DataFrame\n",
      "\n",
      "See the caveats in the documentation: https://pandas.pydata.org/pandas-docs/stable/user_guide/indexing.html#returning-a-view-versus-a-copy\n",
      "  data_high_vol.loc[idx, 'entry'] = entry\n",
      "C:\\Users\\aeali\\AppData\\Local\\Temp\\ipykernel_14616\\3273599963.py:47: SettingWithCopyWarning: \n",
      "A value is trying to be set on a copy of a slice from a DataFrame\n",
      "\n",
      "See the caveats in the documentation: https://pandas.pydata.org/pandas-docs/stable/user_guide/indexing.html#returning-a-view-versus-a-copy\n",
      "  data_high_vol.loc[idx, 'exit'] = exit\n",
      "C:\\Users\\aeali\\AppData\\Local\\Temp\\ipykernel_14616\\3273599963.py:48: SettingWithCopyWarning: \n",
      "A value is trying to be set on a copy of a slice from a DataFrame\n",
      "\n",
      "See the caveats in the documentation: https://pandas.pydata.org/pandas-docs/stable/user_guide/indexing.html#returning-a-view-versus-a-copy\n",
      "  data_high_vol.loc[idx, 'return_pct'] = (exit - entry) / entry\n",
      "C:\\Users\\aeali\\AppData\\Local\\Temp\\ipykernel_14616\\3273599963.py:49: SettingWithCopyWarning: \n",
      "A value is trying to be set on a copy of a slice from a DataFrame\n",
      "\n",
      "See the caveats in the documentation: https://pandas.pydata.org/pandas-docs/stable/user_guide/indexing.html#returning-a-view-versus-a-copy\n",
      "  data_high_vol.loc[idx, 'darwdown'] = (entry - candle['low']) / entry\n"
     ]
    },
    {
     "name": "stdout",
     "output_type": "stream",
     "text": [
      "82 / 99\n"
     ]
    },
    {
     "name": "stderr",
     "output_type": "stream",
     "text": [
      "C:\\Users\\aeali\\AppData\\Local\\Temp\\ipykernel_14616\\3273599963.py:32: SettingWithCopyWarning: \n",
      "A value is trying to be set on a copy of a slice from a DataFrame\n",
      "\n",
      "See the caveats in the documentation: https://pandas.pydata.org/pandas-docs/stable/user_guide/indexing.html#returning-a-view-versus-a-copy\n",
      "  data_high_vol.loc[idx, 'entry'] = entry\n",
      "C:\\Users\\aeali\\AppData\\Local\\Temp\\ipykernel_14616\\3273599963.py:33: SettingWithCopyWarning: \n",
      "A value is trying to be set on a copy of a slice from a DataFrame\n",
      "\n",
      "See the caveats in the documentation: https://pandas.pydata.org/pandas-docs/stable/user_guide/indexing.html#returning-a-view-versus-a-copy\n",
      "  data_high_vol.loc[idx, 'exit'] = exit\n",
      "C:\\Users\\aeali\\AppData\\Local\\Temp\\ipykernel_14616\\3273599963.py:34: SettingWithCopyWarning: \n",
      "A value is trying to be set on a copy of a slice from a DataFrame\n",
      "\n",
      "See the caveats in the documentation: https://pandas.pydata.org/pandas-docs/stable/user_guide/indexing.html#returning-a-view-versus-a-copy\n",
      "  data_high_vol.loc[idx, 'return_pct'] = (entry - exit) / entry\n",
      "C:\\Users\\aeali\\AppData\\Local\\Temp\\ipykernel_14616\\3273599963.py:35: SettingWithCopyWarning: \n",
      "A value is trying to be set on a copy of a slice from a DataFrame\n",
      "\n",
      "See the caveats in the documentation: https://pandas.pydata.org/pandas-docs/stable/user_guide/indexing.html#returning-a-view-versus-a-copy\n",
      "  data_high_vol.loc[idx, 'darwdown'] = (candle['high'] - entry) / entry\n"
     ]
    },
    {
     "name": "stdout",
     "output_type": "stream",
     "text": [
      "83 / 99\n"
     ]
    },
    {
     "name": "stderr",
     "output_type": "stream",
     "text": [
      "C:\\Users\\aeali\\AppData\\Local\\Temp\\ipykernel_14616\\3273599963.py:32: SettingWithCopyWarning: \n",
      "A value is trying to be set on a copy of a slice from a DataFrame\n",
      "\n",
      "See the caveats in the documentation: https://pandas.pydata.org/pandas-docs/stable/user_guide/indexing.html#returning-a-view-versus-a-copy\n",
      "  data_high_vol.loc[idx, 'entry'] = entry\n",
      "C:\\Users\\aeali\\AppData\\Local\\Temp\\ipykernel_14616\\3273599963.py:33: SettingWithCopyWarning: \n",
      "A value is trying to be set on a copy of a slice from a DataFrame\n",
      "\n",
      "See the caveats in the documentation: https://pandas.pydata.org/pandas-docs/stable/user_guide/indexing.html#returning-a-view-versus-a-copy\n",
      "  data_high_vol.loc[idx, 'exit'] = exit\n",
      "C:\\Users\\aeali\\AppData\\Local\\Temp\\ipykernel_14616\\3273599963.py:34: SettingWithCopyWarning: \n",
      "A value is trying to be set on a copy of a slice from a DataFrame\n",
      "\n",
      "See the caveats in the documentation: https://pandas.pydata.org/pandas-docs/stable/user_guide/indexing.html#returning-a-view-versus-a-copy\n",
      "  data_high_vol.loc[idx, 'return_pct'] = (entry - exit) / entry\n",
      "C:\\Users\\aeali\\AppData\\Local\\Temp\\ipykernel_14616\\3273599963.py:35: SettingWithCopyWarning: \n",
      "A value is trying to be set on a copy of a slice from a DataFrame\n",
      "\n",
      "See the caveats in the documentation: https://pandas.pydata.org/pandas-docs/stable/user_guide/indexing.html#returning-a-view-versus-a-copy\n",
      "  data_high_vol.loc[idx, 'darwdown'] = (candle['high'] - entry) / entry\n"
     ]
    },
    {
     "name": "stdout",
     "output_type": "stream",
     "text": [
      "84 / 99\n"
     ]
    },
    {
     "name": "stderr",
     "output_type": "stream",
     "text": [
      "C:\\Users\\aeali\\AppData\\Local\\Temp\\ipykernel_14616\\3273599963.py:46: SettingWithCopyWarning: \n",
      "A value is trying to be set on a copy of a slice from a DataFrame\n",
      "\n",
      "See the caveats in the documentation: https://pandas.pydata.org/pandas-docs/stable/user_guide/indexing.html#returning-a-view-versus-a-copy\n",
      "  data_high_vol.loc[idx, 'entry'] = entry\n",
      "C:\\Users\\aeali\\AppData\\Local\\Temp\\ipykernel_14616\\3273599963.py:47: SettingWithCopyWarning: \n",
      "A value is trying to be set on a copy of a slice from a DataFrame\n",
      "\n",
      "See the caveats in the documentation: https://pandas.pydata.org/pandas-docs/stable/user_guide/indexing.html#returning-a-view-versus-a-copy\n",
      "  data_high_vol.loc[idx, 'exit'] = exit\n",
      "C:\\Users\\aeali\\AppData\\Local\\Temp\\ipykernel_14616\\3273599963.py:48: SettingWithCopyWarning: \n",
      "A value is trying to be set on a copy of a slice from a DataFrame\n",
      "\n",
      "See the caveats in the documentation: https://pandas.pydata.org/pandas-docs/stable/user_guide/indexing.html#returning-a-view-versus-a-copy\n",
      "  data_high_vol.loc[idx, 'return_pct'] = (exit - entry) / entry\n",
      "C:\\Users\\aeali\\AppData\\Local\\Temp\\ipykernel_14616\\3273599963.py:49: SettingWithCopyWarning: \n",
      "A value is trying to be set on a copy of a slice from a DataFrame\n",
      "\n",
      "See the caveats in the documentation: https://pandas.pydata.org/pandas-docs/stable/user_guide/indexing.html#returning-a-view-versus-a-copy\n",
      "  data_high_vol.loc[idx, 'darwdown'] = (entry - candle['low']) / entry\n"
     ]
    },
    {
     "name": "stdout",
     "output_type": "stream",
     "text": [
      "85 / 99\n"
     ]
    },
    {
     "name": "stderr",
     "output_type": "stream",
     "text": [
      "C:\\Users\\aeali\\AppData\\Local\\Temp\\ipykernel_14616\\3273599963.py:32: SettingWithCopyWarning: \n",
      "A value is trying to be set on a copy of a slice from a DataFrame\n",
      "\n",
      "See the caveats in the documentation: https://pandas.pydata.org/pandas-docs/stable/user_guide/indexing.html#returning-a-view-versus-a-copy\n",
      "  data_high_vol.loc[idx, 'entry'] = entry\n",
      "C:\\Users\\aeali\\AppData\\Local\\Temp\\ipykernel_14616\\3273599963.py:33: SettingWithCopyWarning: \n",
      "A value is trying to be set on a copy of a slice from a DataFrame\n",
      "\n",
      "See the caveats in the documentation: https://pandas.pydata.org/pandas-docs/stable/user_guide/indexing.html#returning-a-view-versus-a-copy\n",
      "  data_high_vol.loc[idx, 'exit'] = exit\n",
      "C:\\Users\\aeali\\AppData\\Local\\Temp\\ipykernel_14616\\3273599963.py:34: SettingWithCopyWarning: \n",
      "A value is trying to be set on a copy of a slice from a DataFrame\n",
      "\n",
      "See the caveats in the documentation: https://pandas.pydata.org/pandas-docs/stable/user_guide/indexing.html#returning-a-view-versus-a-copy\n",
      "  data_high_vol.loc[idx, 'return_pct'] = (entry - exit) / entry\n",
      "C:\\Users\\aeali\\AppData\\Local\\Temp\\ipykernel_14616\\3273599963.py:35: SettingWithCopyWarning: \n",
      "A value is trying to be set on a copy of a slice from a DataFrame\n",
      "\n",
      "See the caveats in the documentation: https://pandas.pydata.org/pandas-docs/stable/user_guide/indexing.html#returning-a-view-versus-a-copy\n",
      "  data_high_vol.loc[idx, 'darwdown'] = (candle['high'] - entry) / entry\n"
     ]
    },
    {
     "name": "stdout",
     "output_type": "stream",
     "text": [
      "86 / 99\n"
     ]
    },
    {
     "name": "stderr",
     "output_type": "stream",
     "text": [
      "C:\\Users\\aeali\\AppData\\Local\\Temp\\ipykernel_14616\\3273599963.py:46: SettingWithCopyWarning: \n",
      "A value is trying to be set on a copy of a slice from a DataFrame\n",
      "\n",
      "See the caveats in the documentation: https://pandas.pydata.org/pandas-docs/stable/user_guide/indexing.html#returning-a-view-versus-a-copy\n",
      "  data_high_vol.loc[idx, 'entry'] = entry\n",
      "C:\\Users\\aeali\\AppData\\Local\\Temp\\ipykernel_14616\\3273599963.py:47: SettingWithCopyWarning: \n",
      "A value is trying to be set on a copy of a slice from a DataFrame\n",
      "\n",
      "See the caveats in the documentation: https://pandas.pydata.org/pandas-docs/stable/user_guide/indexing.html#returning-a-view-versus-a-copy\n",
      "  data_high_vol.loc[idx, 'exit'] = exit\n",
      "C:\\Users\\aeali\\AppData\\Local\\Temp\\ipykernel_14616\\3273599963.py:48: SettingWithCopyWarning: \n",
      "A value is trying to be set on a copy of a slice from a DataFrame\n",
      "\n",
      "See the caveats in the documentation: https://pandas.pydata.org/pandas-docs/stable/user_guide/indexing.html#returning-a-view-versus-a-copy\n",
      "  data_high_vol.loc[idx, 'return_pct'] = (exit - entry) / entry\n",
      "C:\\Users\\aeali\\AppData\\Local\\Temp\\ipykernel_14616\\3273599963.py:49: SettingWithCopyWarning: \n",
      "A value is trying to be set on a copy of a slice from a DataFrame\n",
      "\n",
      "See the caveats in the documentation: https://pandas.pydata.org/pandas-docs/stable/user_guide/indexing.html#returning-a-view-versus-a-copy\n",
      "  data_high_vol.loc[idx, 'darwdown'] = (entry - candle['low']) / entry\n"
     ]
    },
    {
     "name": "stdout",
     "output_type": "stream",
     "text": [
      "87 / 99\n"
     ]
    },
    {
     "name": "stderr",
     "output_type": "stream",
     "text": [
      "C:\\Users\\aeali\\AppData\\Local\\Temp\\ipykernel_14616\\3273599963.py:32: SettingWithCopyWarning: \n",
      "A value is trying to be set on a copy of a slice from a DataFrame\n",
      "\n",
      "See the caveats in the documentation: https://pandas.pydata.org/pandas-docs/stable/user_guide/indexing.html#returning-a-view-versus-a-copy\n",
      "  data_high_vol.loc[idx, 'entry'] = entry\n",
      "C:\\Users\\aeali\\AppData\\Local\\Temp\\ipykernel_14616\\3273599963.py:33: SettingWithCopyWarning: \n",
      "A value is trying to be set on a copy of a slice from a DataFrame\n",
      "\n",
      "See the caveats in the documentation: https://pandas.pydata.org/pandas-docs/stable/user_guide/indexing.html#returning-a-view-versus-a-copy\n",
      "  data_high_vol.loc[idx, 'exit'] = exit\n",
      "C:\\Users\\aeali\\AppData\\Local\\Temp\\ipykernel_14616\\3273599963.py:34: SettingWithCopyWarning: \n",
      "A value is trying to be set on a copy of a slice from a DataFrame\n",
      "\n",
      "See the caveats in the documentation: https://pandas.pydata.org/pandas-docs/stable/user_guide/indexing.html#returning-a-view-versus-a-copy\n",
      "  data_high_vol.loc[idx, 'return_pct'] = (entry - exit) / entry\n",
      "C:\\Users\\aeali\\AppData\\Local\\Temp\\ipykernel_14616\\3273599963.py:35: SettingWithCopyWarning: \n",
      "A value is trying to be set on a copy of a slice from a DataFrame\n",
      "\n",
      "See the caveats in the documentation: https://pandas.pydata.org/pandas-docs/stable/user_guide/indexing.html#returning-a-view-versus-a-copy\n",
      "  data_high_vol.loc[idx, 'darwdown'] = (candle['high'] - entry) / entry\n"
     ]
    },
    {
     "name": "stdout",
     "output_type": "stream",
     "text": [
      "88 / 99\n"
     ]
    },
    {
     "name": "stderr",
     "output_type": "stream",
     "text": [
      "C:\\Users\\aeali\\AppData\\Local\\Temp\\ipykernel_14616\\3273599963.py:46: SettingWithCopyWarning: \n",
      "A value is trying to be set on a copy of a slice from a DataFrame\n",
      "\n",
      "See the caveats in the documentation: https://pandas.pydata.org/pandas-docs/stable/user_guide/indexing.html#returning-a-view-versus-a-copy\n",
      "  data_high_vol.loc[idx, 'entry'] = entry\n",
      "C:\\Users\\aeali\\AppData\\Local\\Temp\\ipykernel_14616\\3273599963.py:47: SettingWithCopyWarning: \n",
      "A value is trying to be set on a copy of a slice from a DataFrame\n",
      "\n",
      "See the caveats in the documentation: https://pandas.pydata.org/pandas-docs/stable/user_guide/indexing.html#returning-a-view-versus-a-copy\n",
      "  data_high_vol.loc[idx, 'exit'] = exit\n",
      "C:\\Users\\aeali\\AppData\\Local\\Temp\\ipykernel_14616\\3273599963.py:48: SettingWithCopyWarning: \n",
      "A value is trying to be set on a copy of a slice from a DataFrame\n",
      "\n",
      "See the caveats in the documentation: https://pandas.pydata.org/pandas-docs/stable/user_guide/indexing.html#returning-a-view-versus-a-copy\n",
      "  data_high_vol.loc[idx, 'return_pct'] = (exit - entry) / entry\n",
      "C:\\Users\\aeali\\AppData\\Local\\Temp\\ipykernel_14616\\3273599963.py:49: SettingWithCopyWarning: \n",
      "A value is trying to be set on a copy of a slice from a DataFrame\n",
      "\n",
      "See the caveats in the documentation: https://pandas.pydata.org/pandas-docs/stable/user_guide/indexing.html#returning-a-view-versus-a-copy\n",
      "  data_high_vol.loc[idx, 'darwdown'] = (entry - candle['low']) / entry\n"
     ]
    },
    {
     "name": "stdout",
     "output_type": "stream",
     "text": [
      "89 / 99\n"
     ]
    },
    {
     "name": "stderr",
     "output_type": "stream",
     "text": [
      "C:\\Users\\aeali\\AppData\\Local\\Temp\\ipykernel_14616\\3273599963.py:46: SettingWithCopyWarning: \n",
      "A value is trying to be set on a copy of a slice from a DataFrame\n",
      "\n",
      "See the caveats in the documentation: https://pandas.pydata.org/pandas-docs/stable/user_guide/indexing.html#returning-a-view-versus-a-copy\n",
      "  data_high_vol.loc[idx, 'entry'] = entry\n",
      "C:\\Users\\aeali\\AppData\\Local\\Temp\\ipykernel_14616\\3273599963.py:47: SettingWithCopyWarning: \n",
      "A value is trying to be set on a copy of a slice from a DataFrame\n",
      "\n",
      "See the caveats in the documentation: https://pandas.pydata.org/pandas-docs/stable/user_guide/indexing.html#returning-a-view-versus-a-copy\n",
      "  data_high_vol.loc[idx, 'exit'] = exit\n",
      "C:\\Users\\aeali\\AppData\\Local\\Temp\\ipykernel_14616\\3273599963.py:48: SettingWithCopyWarning: \n",
      "A value is trying to be set on a copy of a slice from a DataFrame\n",
      "\n",
      "See the caveats in the documentation: https://pandas.pydata.org/pandas-docs/stable/user_guide/indexing.html#returning-a-view-versus-a-copy\n",
      "  data_high_vol.loc[idx, 'return_pct'] = (exit - entry) / entry\n",
      "C:\\Users\\aeali\\AppData\\Local\\Temp\\ipykernel_14616\\3273599963.py:49: SettingWithCopyWarning: \n",
      "A value is trying to be set on a copy of a slice from a DataFrame\n",
      "\n",
      "See the caveats in the documentation: https://pandas.pydata.org/pandas-docs/stable/user_guide/indexing.html#returning-a-view-versus-a-copy\n",
      "  data_high_vol.loc[idx, 'darwdown'] = (entry - candle['low']) / entry\n"
     ]
    },
    {
     "name": "stdout",
     "output_type": "stream",
     "text": [
      "90 / 99\n"
     ]
    },
    {
     "name": "stderr",
     "output_type": "stream",
     "text": [
      "C:\\Users\\aeali\\AppData\\Local\\Temp\\ipykernel_14616\\3273599963.py:32: SettingWithCopyWarning: \n",
      "A value is trying to be set on a copy of a slice from a DataFrame\n",
      "\n",
      "See the caveats in the documentation: https://pandas.pydata.org/pandas-docs/stable/user_guide/indexing.html#returning-a-view-versus-a-copy\n",
      "  data_high_vol.loc[idx, 'entry'] = entry\n",
      "C:\\Users\\aeali\\AppData\\Local\\Temp\\ipykernel_14616\\3273599963.py:33: SettingWithCopyWarning: \n",
      "A value is trying to be set on a copy of a slice from a DataFrame\n",
      "\n",
      "See the caveats in the documentation: https://pandas.pydata.org/pandas-docs/stable/user_guide/indexing.html#returning-a-view-versus-a-copy\n",
      "  data_high_vol.loc[idx, 'exit'] = exit\n",
      "C:\\Users\\aeali\\AppData\\Local\\Temp\\ipykernel_14616\\3273599963.py:34: SettingWithCopyWarning: \n",
      "A value is trying to be set on a copy of a slice from a DataFrame\n",
      "\n",
      "See the caveats in the documentation: https://pandas.pydata.org/pandas-docs/stable/user_guide/indexing.html#returning-a-view-versus-a-copy\n",
      "  data_high_vol.loc[idx, 'return_pct'] = (entry - exit) / entry\n",
      "C:\\Users\\aeali\\AppData\\Local\\Temp\\ipykernel_14616\\3273599963.py:35: SettingWithCopyWarning: \n",
      "A value is trying to be set on a copy of a slice from a DataFrame\n",
      "\n",
      "See the caveats in the documentation: https://pandas.pydata.org/pandas-docs/stable/user_guide/indexing.html#returning-a-view-versus-a-copy\n",
      "  data_high_vol.loc[idx, 'darwdown'] = (candle['high'] - entry) / entry\n"
     ]
    },
    {
     "name": "stdout",
     "output_type": "stream",
     "text": [
      "91 / 99\n"
     ]
    },
    {
     "name": "stderr",
     "output_type": "stream",
     "text": [
      "C:\\Users\\aeali\\AppData\\Local\\Temp\\ipykernel_14616\\3273599963.py:46: SettingWithCopyWarning: \n",
      "A value is trying to be set on a copy of a slice from a DataFrame\n",
      "\n",
      "See the caveats in the documentation: https://pandas.pydata.org/pandas-docs/stable/user_guide/indexing.html#returning-a-view-versus-a-copy\n",
      "  data_high_vol.loc[idx, 'entry'] = entry\n",
      "C:\\Users\\aeali\\AppData\\Local\\Temp\\ipykernel_14616\\3273599963.py:47: SettingWithCopyWarning: \n",
      "A value is trying to be set on a copy of a slice from a DataFrame\n",
      "\n",
      "See the caveats in the documentation: https://pandas.pydata.org/pandas-docs/stable/user_guide/indexing.html#returning-a-view-versus-a-copy\n",
      "  data_high_vol.loc[idx, 'exit'] = exit\n",
      "C:\\Users\\aeali\\AppData\\Local\\Temp\\ipykernel_14616\\3273599963.py:48: SettingWithCopyWarning: \n",
      "A value is trying to be set on a copy of a slice from a DataFrame\n",
      "\n",
      "See the caveats in the documentation: https://pandas.pydata.org/pandas-docs/stable/user_guide/indexing.html#returning-a-view-versus-a-copy\n",
      "  data_high_vol.loc[idx, 'return_pct'] = (exit - entry) / entry\n",
      "C:\\Users\\aeali\\AppData\\Local\\Temp\\ipykernel_14616\\3273599963.py:49: SettingWithCopyWarning: \n",
      "A value is trying to be set on a copy of a slice from a DataFrame\n",
      "\n",
      "See the caveats in the documentation: https://pandas.pydata.org/pandas-docs/stable/user_guide/indexing.html#returning-a-view-versus-a-copy\n",
      "  data_high_vol.loc[idx, 'darwdown'] = (entry - candle['low']) / entry\n"
     ]
    },
    {
     "name": "stdout",
     "output_type": "stream",
     "text": [
      "92 / 99\n"
     ]
    },
    {
     "name": "stderr",
     "output_type": "stream",
     "text": [
      "C:\\Users\\aeali\\AppData\\Local\\Temp\\ipykernel_14616\\3273599963.py:32: SettingWithCopyWarning: \n",
      "A value is trying to be set on a copy of a slice from a DataFrame\n",
      "\n",
      "See the caveats in the documentation: https://pandas.pydata.org/pandas-docs/stable/user_guide/indexing.html#returning-a-view-versus-a-copy\n",
      "  data_high_vol.loc[idx, 'entry'] = entry\n",
      "C:\\Users\\aeali\\AppData\\Local\\Temp\\ipykernel_14616\\3273599963.py:33: SettingWithCopyWarning: \n",
      "A value is trying to be set on a copy of a slice from a DataFrame\n",
      "\n",
      "See the caveats in the documentation: https://pandas.pydata.org/pandas-docs/stable/user_guide/indexing.html#returning-a-view-versus-a-copy\n",
      "  data_high_vol.loc[idx, 'exit'] = exit\n",
      "C:\\Users\\aeali\\AppData\\Local\\Temp\\ipykernel_14616\\3273599963.py:34: SettingWithCopyWarning: \n",
      "A value is trying to be set on a copy of a slice from a DataFrame\n",
      "\n",
      "See the caveats in the documentation: https://pandas.pydata.org/pandas-docs/stable/user_guide/indexing.html#returning-a-view-versus-a-copy\n",
      "  data_high_vol.loc[idx, 'return_pct'] = (entry - exit) / entry\n",
      "C:\\Users\\aeali\\AppData\\Local\\Temp\\ipykernel_14616\\3273599963.py:35: SettingWithCopyWarning: \n",
      "A value is trying to be set on a copy of a slice from a DataFrame\n",
      "\n",
      "See the caveats in the documentation: https://pandas.pydata.org/pandas-docs/stable/user_guide/indexing.html#returning-a-view-versus-a-copy\n",
      "  data_high_vol.loc[idx, 'darwdown'] = (candle['high'] - entry) / entry\n"
     ]
    },
    {
     "name": "stdout",
     "output_type": "stream",
     "text": [
      "93 / 99\n"
     ]
    },
    {
     "name": "stderr",
     "output_type": "stream",
     "text": [
      "C:\\Users\\aeali\\AppData\\Local\\Temp\\ipykernel_14616\\3273599963.py:46: SettingWithCopyWarning: \n",
      "A value is trying to be set on a copy of a slice from a DataFrame\n",
      "\n",
      "See the caveats in the documentation: https://pandas.pydata.org/pandas-docs/stable/user_guide/indexing.html#returning-a-view-versus-a-copy\n",
      "  data_high_vol.loc[idx, 'entry'] = entry\n",
      "C:\\Users\\aeali\\AppData\\Local\\Temp\\ipykernel_14616\\3273599963.py:47: SettingWithCopyWarning: \n",
      "A value is trying to be set on a copy of a slice from a DataFrame\n",
      "\n",
      "See the caveats in the documentation: https://pandas.pydata.org/pandas-docs/stable/user_guide/indexing.html#returning-a-view-versus-a-copy\n",
      "  data_high_vol.loc[idx, 'exit'] = exit\n",
      "C:\\Users\\aeali\\AppData\\Local\\Temp\\ipykernel_14616\\3273599963.py:48: SettingWithCopyWarning: \n",
      "A value is trying to be set on a copy of a slice from a DataFrame\n",
      "\n",
      "See the caveats in the documentation: https://pandas.pydata.org/pandas-docs/stable/user_guide/indexing.html#returning-a-view-versus-a-copy\n",
      "  data_high_vol.loc[idx, 'return_pct'] = (exit - entry) / entry\n",
      "C:\\Users\\aeali\\AppData\\Local\\Temp\\ipykernel_14616\\3273599963.py:49: SettingWithCopyWarning: \n",
      "A value is trying to be set on a copy of a slice from a DataFrame\n",
      "\n",
      "See the caveats in the documentation: https://pandas.pydata.org/pandas-docs/stable/user_guide/indexing.html#returning-a-view-versus-a-copy\n",
      "  data_high_vol.loc[idx, 'darwdown'] = (entry - candle['low']) / entry\n"
     ]
    },
    {
     "name": "stdout",
     "output_type": "stream",
     "text": [
      "94 / 99\n"
     ]
    },
    {
     "name": "stderr",
     "output_type": "stream",
     "text": [
      "C:\\Users\\aeali\\AppData\\Local\\Temp\\ipykernel_14616\\3273599963.py:46: SettingWithCopyWarning: \n",
      "A value is trying to be set on a copy of a slice from a DataFrame\n",
      "\n",
      "See the caveats in the documentation: https://pandas.pydata.org/pandas-docs/stable/user_guide/indexing.html#returning-a-view-versus-a-copy\n",
      "  data_high_vol.loc[idx, 'entry'] = entry\n",
      "C:\\Users\\aeali\\AppData\\Local\\Temp\\ipykernel_14616\\3273599963.py:47: SettingWithCopyWarning: \n",
      "A value is trying to be set on a copy of a slice from a DataFrame\n",
      "\n",
      "See the caveats in the documentation: https://pandas.pydata.org/pandas-docs/stable/user_guide/indexing.html#returning-a-view-versus-a-copy\n",
      "  data_high_vol.loc[idx, 'exit'] = exit\n",
      "C:\\Users\\aeali\\AppData\\Local\\Temp\\ipykernel_14616\\3273599963.py:48: SettingWithCopyWarning: \n",
      "A value is trying to be set on a copy of a slice from a DataFrame\n",
      "\n",
      "See the caveats in the documentation: https://pandas.pydata.org/pandas-docs/stable/user_guide/indexing.html#returning-a-view-versus-a-copy\n",
      "  data_high_vol.loc[idx, 'return_pct'] = (exit - entry) / entry\n",
      "C:\\Users\\aeali\\AppData\\Local\\Temp\\ipykernel_14616\\3273599963.py:49: SettingWithCopyWarning: \n",
      "A value is trying to be set on a copy of a slice from a DataFrame\n",
      "\n",
      "See the caveats in the documentation: https://pandas.pydata.org/pandas-docs/stable/user_guide/indexing.html#returning-a-view-versus-a-copy\n",
      "  data_high_vol.loc[idx, 'darwdown'] = (entry - candle['low']) / entry\n"
     ]
    },
    {
     "name": "stdout",
     "output_type": "stream",
     "text": [
      "95 / 99\n"
     ]
    },
    {
     "name": "stderr",
     "output_type": "stream",
     "text": [
      "C:\\Users\\aeali\\AppData\\Local\\Temp\\ipykernel_14616\\3273599963.py:46: SettingWithCopyWarning: \n",
      "A value is trying to be set on a copy of a slice from a DataFrame\n",
      "\n",
      "See the caveats in the documentation: https://pandas.pydata.org/pandas-docs/stable/user_guide/indexing.html#returning-a-view-versus-a-copy\n",
      "  data_high_vol.loc[idx, 'entry'] = entry\n",
      "C:\\Users\\aeali\\AppData\\Local\\Temp\\ipykernel_14616\\3273599963.py:47: SettingWithCopyWarning: \n",
      "A value is trying to be set on a copy of a slice from a DataFrame\n",
      "\n",
      "See the caveats in the documentation: https://pandas.pydata.org/pandas-docs/stable/user_guide/indexing.html#returning-a-view-versus-a-copy\n",
      "  data_high_vol.loc[idx, 'exit'] = exit\n",
      "C:\\Users\\aeali\\AppData\\Local\\Temp\\ipykernel_14616\\3273599963.py:48: SettingWithCopyWarning: \n",
      "A value is trying to be set on a copy of a slice from a DataFrame\n",
      "\n",
      "See the caveats in the documentation: https://pandas.pydata.org/pandas-docs/stable/user_guide/indexing.html#returning-a-view-versus-a-copy\n",
      "  data_high_vol.loc[idx, 'return_pct'] = (exit - entry) / entry\n",
      "C:\\Users\\aeali\\AppData\\Local\\Temp\\ipykernel_14616\\3273599963.py:49: SettingWithCopyWarning: \n",
      "A value is trying to be set on a copy of a slice from a DataFrame\n",
      "\n",
      "See the caveats in the documentation: https://pandas.pydata.org/pandas-docs/stable/user_guide/indexing.html#returning-a-view-versus-a-copy\n",
      "  data_high_vol.loc[idx, 'darwdown'] = (entry - candle['low']) / entry\n"
     ]
    },
    {
     "name": "stdout",
     "output_type": "stream",
     "text": [
      "96 / 99\n"
     ]
    },
    {
     "name": "stderr",
     "output_type": "stream",
     "text": [
      "C:\\Users\\aeali\\AppData\\Local\\Temp\\ipykernel_14616\\3273599963.py:46: SettingWithCopyWarning: \n",
      "A value is trying to be set on a copy of a slice from a DataFrame\n",
      "\n",
      "See the caveats in the documentation: https://pandas.pydata.org/pandas-docs/stable/user_guide/indexing.html#returning-a-view-versus-a-copy\n",
      "  data_high_vol.loc[idx, 'entry'] = entry\n",
      "C:\\Users\\aeali\\AppData\\Local\\Temp\\ipykernel_14616\\3273599963.py:47: SettingWithCopyWarning: \n",
      "A value is trying to be set on a copy of a slice from a DataFrame\n",
      "\n",
      "See the caveats in the documentation: https://pandas.pydata.org/pandas-docs/stable/user_guide/indexing.html#returning-a-view-versus-a-copy\n",
      "  data_high_vol.loc[idx, 'exit'] = exit\n",
      "C:\\Users\\aeali\\AppData\\Local\\Temp\\ipykernel_14616\\3273599963.py:48: SettingWithCopyWarning: \n",
      "A value is trying to be set on a copy of a slice from a DataFrame\n",
      "\n",
      "See the caveats in the documentation: https://pandas.pydata.org/pandas-docs/stable/user_guide/indexing.html#returning-a-view-versus-a-copy\n",
      "  data_high_vol.loc[idx, 'return_pct'] = (exit - entry) / entry\n",
      "C:\\Users\\aeali\\AppData\\Local\\Temp\\ipykernel_14616\\3273599963.py:49: SettingWithCopyWarning: \n",
      "A value is trying to be set on a copy of a slice from a DataFrame\n",
      "\n",
      "See the caveats in the documentation: https://pandas.pydata.org/pandas-docs/stable/user_guide/indexing.html#returning-a-view-versus-a-copy\n",
      "  data_high_vol.loc[idx, 'darwdown'] = (entry - candle['low']) / entry\n"
     ]
    },
    {
     "name": "stdout",
     "output_type": "stream",
     "text": [
      "97 / 99\n"
     ]
    },
    {
     "name": "stderr",
     "output_type": "stream",
     "text": [
      "C:\\Users\\aeali\\AppData\\Local\\Temp\\ipykernel_14616\\3273599963.py:32: SettingWithCopyWarning: \n",
      "A value is trying to be set on a copy of a slice from a DataFrame\n",
      "\n",
      "See the caveats in the documentation: https://pandas.pydata.org/pandas-docs/stable/user_guide/indexing.html#returning-a-view-versus-a-copy\n",
      "  data_high_vol.loc[idx, 'entry'] = entry\n",
      "C:\\Users\\aeali\\AppData\\Local\\Temp\\ipykernel_14616\\3273599963.py:33: SettingWithCopyWarning: \n",
      "A value is trying to be set on a copy of a slice from a DataFrame\n",
      "\n",
      "See the caveats in the documentation: https://pandas.pydata.org/pandas-docs/stable/user_guide/indexing.html#returning-a-view-versus-a-copy\n",
      "  data_high_vol.loc[idx, 'exit'] = exit\n",
      "C:\\Users\\aeali\\AppData\\Local\\Temp\\ipykernel_14616\\3273599963.py:34: SettingWithCopyWarning: \n",
      "A value is trying to be set on a copy of a slice from a DataFrame\n",
      "\n",
      "See the caveats in the documentation: https://pandas.pydata.org/pandas-docs/stable/user_guide/indexing.html#returning-a-view-versus-a-copy\n",
      "  data_high_vol.loc[idx, 'return_pct'] = (entry - exit) / entry\n",
      "C:\\Users\\aeali\\AppData\\Local\\Temp\\ipykernel_14616\\3273599963.py:35: SettingWithCopyWarning: \n",
      "A value is trying to be set on a copy of a slice from a DataFrame\n",
      "\n",
      "See the caveats in the documentation: https://pandas.pydata.org/pandas-docs/stable/user_guide/indexing.html#returning-a-view-versus-a-copy\n",
      "  data_high_vol.loc[idx, 'darwdown'] = (candle['high'] - entry) / entry\n"
     ]
    },
    {
     "name": "stdout",
     "output_type": "stream",
     "text": [
      "98 / 99\n"
     ]
    },
    {
     "name": "stderr",
     "output_type": "stream",
     "text": [
      "C:\\Users\\aeali\\AppData\\Local\\Temp\\ipykernel_14616\\3273599963.py:46: SettingWithCopyWarning: \n",
      "A value is trying to be set on a copy of a slice from a DataFrame\n",
      "\n",
      "See the caveats in the documentation: https://pandas.pydata.org/pandas-docs/stable/user_guide/indexing.html#returning-a-view-versus-a-copy\n",
      "  data_high_vol.loc[idx, 'entry'] = entry\n",
      "C:\\Users\\aeali\\AppData\\Local\\Temp\\ipykernel_14616\\3273599963.py:47: SettingWithCopyWarning: \n",
      "A value is trying to be set on a copy of a slice from a DataFrame\n",
      "\n",
      "See the caveats in the documentation: https://pandas.pydata.org/pandas-docs/stable/user_guide/indexing.html#returning-a-view-versus-a-copy\n",
      "  data_high_vol.loc[idx, 'exit'] = exit\n",
      "C:\\Users\\aeali\\AppData\\Local\\Temp\\ipykernel_14616\\3273599963.py:48: SettingWithCopyWarning: \n",
      "A value is trying to be set on a copy of a slice from a DataFrame\n",
      "\n",
      "See the caveats in the documentation: https://pandas.pydata.org/pandas-docs/stable/user_guide/indexing.html#returning-a-view-versus-a-copy\n",
      "  data_high_vol.loc[idx, 'return_pct'] = (exit - entry) / entry\n",
      "C:\\Users\\aeali\\AppData\\Local\\Temp\\ipykernel_14616\\3273599963.py:49: SettingWithCopyWarning: \n",
      "A value is trying to be set on a copy of a slice from a DataFrame\n",
      "\n",
      "See the caveats in the documentation: https://pandas.pydata.org/pandas-docs/stable/user_guide/indexing.html#returning-a-view-versus-a-copy\n",
      "  data_high_vol.loc[idx, 'darwdown'] = (entry - candle['low']) / entry\n"
     ]
    },
    {
     "name": "stdout",
     "output_type": "stream",
     "text": [
      "99 / 99\n"
     ]
    },
    {
     "name": "stderr",
     "output_type": "stream",
     "text": [
      "C:\\Users\\aeali\\AppData\\Local\\Temp\\ipykernel_14616\\3273599963.py:46: SettingWithCopyWarning: \n",
      "A value is trying to be set on a copy of a slice from a DataFrame\n",
      "\n",
      "See the caveats in the documentation: https://pandas.pydata.org/pandas-docs/stable/user_guide/indexing.html#returning-a-view-versus-a-copy\n",
      "  data_high_vol.loc[idx, 'entry'] = entry\n",
      "C:\\Users\\aeali\\AppData\\Local\\Temp\\ipykernel_14616\\3273599963.py:47: SettingWithCopyWarning: \n",
      "A value is trying to be set on a copy of a slice from a DataFrame\n",
      "\n",
      "See the caveats in the documentation: https://pandas.pydata.org/pandas-docs/stable/user_guide/indexing.html#returning-a-view-versus-a-copy\n",
      "  data_high_vol.loc[idx, 'exit'] = exit\n",
      "C:\\Users\\aeali\\AppData\\Local\\Temp\\ipykernel_14616\\3273599963.py:48: SettingWithCopyWarning: \n",
      "A value is trying to be set on a copy of a slice from a DataFrame\n",
      "\n",
      "See the caveats in the documentation: https://pandas.pydata.org/pandas-docs/stable/user_guide/indexing.html#returning-a-view-versus-a-copy\n",
      "  data_high_vol.loc[idx, 'return_pct'] = (exit - entry) / entry\n",
      "C:\\Users\\aeali\\AppData\\Local\\Temp\\ipykernel_14616\\3273599963.py:49: SettingWithCopyWarning: \n",
      "A value is trying to be set on a copy of a slice from a DataFrame\n",
      "\n",
      "See the caveats in the documentation: https://pandas.pydata.org/pandas-docs/stable/user_guide/indexing.html#returning-a-view-versus-a-copy\n",
      "  data_high_vol.loc[idx, 'darwdown'] = (entry - candle['low']) / entry\n"
     ]
    }
   ],
   "source": [
    "start_cash = 1000\n",
    "risk = 1\n",
    "leverage = 10\n",
    "pf = Portfolio(start_cash=start_cash, max_pos_pct=1, max_leverage=100, maker_fee=0.0002, taker_fee=0.00055)\n",
    "\n",
    "t = 1\n",
    "for idx, candle in data_high_vol.iterrows():\n",
    "    print(f'{t} / {data_high_vol.shape[0]}')\n",
    "    t += 1\n",
    "    entry_range = candle['candle_size_mean'] + std_multiple * candle['candle_size_std']\n",
    "    \n",
    "    start_date = idx - datetime.timedelta(minutes=tf_hours * 60)\n",
    "    end_date = idx - datetime.timedelta(minutes=1)\n",
    "    data_1m = Dataset().get_data(ticker='BTCUSDT', interval='1m', start_date=start_date.strftime('%Y-%m-%d %H:%M:%S'),\n",
    "                                 end_date=end_date.strftime('%Y-%m-%d %H:%M:%S'))\n",
    "    for i in data_1m.index:\n",
    "        data_1m.loc[i, 'roll_high'] = data_1m.loc[:i]['high'].max()\n",
    "        data_1m.loc[i, 'roll_low'] = data_1m.loc[:i]['low'].min()\n",
    "    data_1m['roll_candle_size'] = data_1m['roll_high'] - data_1m['roll_low']\n",
    "    rough_price = data_1m[data_1m['roll_candle_size'] > entry_range].iloc[0]['close']\n",
    "    \n",
    "    if rough_price > candle['open']:\n",
    "        entry = candle['low'] + entry_range\n",
    "        exit = candle['close']\n",
    "        \n",
    "        pf.open_trade(entry, sl=1000000, tp=0, date=idx, risk=risk, lev=leverage)\n",
    "        if exit <= entry:\n",
    "            pf.take_profit(tp=exit, date=idx, order_type='market')\n",
    "        else:\n",
    "            pf.stop_loss(sl=exit, date=idx)\n",
    "        \n",
    "        data_high_vol.loc[idx, 'entry'] = entry\n",
    "        data_high_vol.loc[idx, 'exit'] = exit\n",
    "        data_high_vol.loc[idx, 'return_pct'] = (entry - exit) / entry\n",
    "        data_high_vol.loc[idx, 'darwdown'] = (candle['high'] - entry) / entry\n",
    "    elif rough_price < candle['open']:\n",
    "        entry = candle['high'] - entry_range\n",
    "        exit = candle['close']\n",
    "        \n",
    "        pf.open_trade(entry, sl=0, tp=1000000, date=idx, risk=risk, lev=leverage)\n",
    "        if exit >= entry:\n",
    "            pf.take_profit(tp=exit, date=idx, order_type='market')\n",
    "        else:\n",
    "            pf.stop_loss(sl=exit, date=idx)  \n",
    "        \n",
    "        data_high_vol.loc[idx, 'entry'] = entry\n",
    "        data_high_vol.loc[idx, 'exit'] = exit\n",
    "        data_high_vol.loc[idx, 'return_pct'] = (exit - entry) / entry\n",
    "        data_high_vol.loc[idx, 'darwdown'] = (entry - candle['low']) / entry\n",
    "    else:\n",
    "        data_high_vol.loc[idx, 'entry'] = np.nan\n",
    "        data_high_vol.loc[idx, 'exit'] = np.nan\n",
    "        data_high_vol.loc[idx, 'return_pct'] = 0\n",
    "        data_high_vol.loc[idx, 'darwdown'] = 0"
   ]
  },
  {
   "cell_type": "code",
   "execution_count": 29,
   "id": "e129b06f",
   "metadata": {},
   "outputs": [
    {
     "data": {
      "text/html": [
       "<div>\n",
       "<style scoped>\n",
       "    .dataframe tbody tr th:only-of-type {\n",
       "        vertical-align: middle;\n",
       "    }\n",
       "\n",
       "    .dataframe tbody tr th {\n",
       "        vertical-align: top;\n",
       "    }\n",
       "\n",
       "    .dataframe thead th {\n",
       "        text-align: right;\n",
       "    }\n",
       "</style>\n",
       "<table border=\"1\" class=\"dataframe\">\n",
       "  <thead>\n",
       "    <tr style=\"text-align: right;\">\n",
       "      <th></th>\n",
       "      <th>position</th>\n",
       "      <th>size</th>\n",
       "      <th>open_date</th>\n",
       "      <th>close_date</th>\n",
       "      <th>entry</th>\n",
       "      <th>sl</th>\n",
       "      <th>tp</th>\n",
       "      <th>result</th>\n",
       "      <th>balance</th>\n",
       "    </tr>\n",
       "  </thead>\n",
       "  <tbody>\n",
       "    <tr>\n",
       "      <th>0</th>\n",
       "      <td>short</td>\n",
       "      <td>10000</td>\n",
       "      <td>2023-01-02 04:00:00</td>\n",
       "      <td>2023-01-02 04:00:00</td>\n",
       "      <td>16699.523468</td>\n",
       "      <td>1000000</td>\n",
       "      <td>16661.94</td>\n",
       "      <td>win</td>\n",
       "      <td>1011.505713</td>\n",
       "    </tr>\n",
       "    <tr>\n",
       "      <th>1</th>\n",
       "      <td>long</td>\n",
       "      <td>10115.05713</td>\n",
       "      <td>2023-01-03 15:00:00</td>\n",
       "      <td>2023-01-03 15:00:00</td>\n",
       "      <td>16638.38593</td>\n",
       "      <td>0</td>\n",
       "      <td>16661.23</td>\n",
       "      <td>win</td>\n",
       "      <td>1014.26686</td>\n",
       "    </tr>\n",
       "    <tr>\n",
       "      <th>2</th>\n",
       "      <td>short</td>\n",
       "      <td>10142.668598</td>\n",
       "      <td>2023-01-06 14:00:00</td>\n",
       "      <td>2023-01-06 14:00:00</td>\n",
       "      <td>16811.428637</td>\n",
       "      <td>1000000</td>\n",
       "      <td>16774.19</td>\n",
       "      <td>win</td>\n",
       "      <td>1025.576733</td>\n",
       "    </tr>\n",
       "    <tr>\n",
       "      <th>3</th>\n",
       "      <td>short</td>\n",
       "      <td>10255.76733</td>\n",
       "      <td>2023-01-08 16:00:00</td>\n",
       "      <td>2023-01-08 16:00:00</td>\n",
       "      <td>17018.270761</td>\n",
       "      <td>1000000</td>\n",
       "      <td>17000.43</td>\n",
       "      <td>win</td>\n",
       "      <td>1025.046816</td>\n",
       "    </tr>\n",
       "    <tr>\n",
       "      <th>4</th>\n",
       "      <td>short</td>\n",
       "      <td>10250.468157</td>\n",
       "      <td>2023-01-12 00:00:00</td>\n",
       "      <td>2023-01-12 00:00:00</td>\n",
       "      <td>17979.103487</td>\n",
       "      <td>1000000</td>\n",
       "      <td>17943.26</td>\n",
       "      <td>win</td>\n",
       "      <td>1034.206832</td>\n",
       "    </tr>\n",
       "    <tr>\n",
       "      <th>...</th>\n",
       "      <td>...</td>\n",
       "      <td>...</td>\n",
       "      <td>...</td>\n",
       "      <td>...</td>\n",
       "      <td>...</td>\n",
       "      <td>...</td>\n",
       "      <td>...</td>\n",
       "      <td>...</td>\n",
       "      <td>...</td>\n",
       "    </tr>\n",
       "    <tr>\n",
       "      <th>94</th>\n",
       "      <td>long</td>\n",
       "      <td>136192.564246</td>\n",
       "      <td>2023-08-07 16:00:00</td>\n",
       "      <td>2023-08-07 16:00:00</td>\n",
       "      <td>28791.023011</td>\n",
       "      <td>0</td>\n",
       "      <td>28858.44</td>\n",
       "      <td>win</td>\n",
       "      <td>13788.352781</td>\n",
       "    </tr>\n",
       "    <tr>\n",
       "      <th>95</th>\n",
       "      <td>long</td>\n",
       "      <td>137883.527807</td>\n",
       "      <td>2023-08-10 15:00:00</td>\n",
       "      <td>2023-08-10 15:00:00</td>\n",
       "      <td>29403.972693</td>\n",
       "      <td>0</td>\n",
       "      <td>29495.76</td>\n",
       "      <td>win</td>\n",
       "      <td>14067.09749</td>\n",
       "    </tr>\n",
       "    <tr>\n",
       "      <th>96</th>\n",
       "      <td>short</td>\n",
       "      <td>140670.9749</td>\n",
       "      <td>2023-08-14 03:00:00</td>\n",
       "      <td>2023-08-14 03:00:00</td>\n",
       "      <td>29355.343719</td>\n",
       "      <td>1000000</td>\n",
       "      <td>29319.99</td>\n",
       "      <td>win</td>\n",
       "      <td>14081.774642</td>\n",
       "    </tr>\n",
       "    <tr>\n",
       "      <th>97</th>\n",
       "      <td>long</td>\n",
       "      <td>140817.746422</td>\n",
       "      <td>2023-08-17 16:00:00</td>\n",
       "      <td>2023-08-17 16:00:00</td>\n",
       "      <td>27940.420109</td>\n",
       "      <td>27934.02</td>\n",
       "      <td>1000000</td>\n",
       "      <td>lose</td>\n",
       "      <td>13894.619022</td>\n",
       "    </tr>\n",
       "    <tr>\n",
       "      <th>98</th>\n",
       "      <td>long</td>\n",
       "      <td>138946.190219</td>\n",
       "      <td>2023-08-17 22:00:00</td>\n",
       "      <td>2023-08-17 22:00:00</td>\n",
       "      <td>25410.719527</td>\n",
       "      <td>0</td>\n",
       "      <td>26253.92</td>\n",
       "      <td>win</td>\n",
       "      <td>18352.410873</td>\n",
       "    </tr>\n",
       "  </tbody>\n",
       "</table>\n",
       "<p>99 rows × 9 columns</p>\n",
       "</div>"
      ],
      "text/plain": [
       "   position           size            open_date           close_date  \\\n",
       "0     short          10000  2023-01-02 04:00:00  2023-01-02 04:00:00   \n",
       "1      long    10115.05713  2023-01-03 15:00:00  2023-01-03 15:00:00   \n",
       "2     short   10142.668598  2023-01-06 14:00:00  2023-01-06 14:00:00   \n",
       "3     short    10255.76733  2023-01-08 16:00:00  2023-01-08 16:00:00   \n",
       "4     short   10250.468157  2023-01-12 00:00:00  2023-01-12 00:00:00   \n",
       "..      ...            ...                  ...                  ...   \n",
       "94     long  136192.564246  2023-08-07 16:00:00  2023-08-07 16:00:00   \n",
       "95     long  137883.527807  2023-08-10 15:00:00  2023-08-10 15:00:00   \n",
       "96    short    140670.9749  2023-08-14 03:00:00  2023-08-14 03:00:00   \n",
       "97     long  140817.746422  2023-08-17 16:00:00  2023-08-17 16:00:00   \n",
       "98     long  138946.190219  2023-08-17 22:00:00  2023-08-17 22:00:00   \n",
       "\n",
       "           entry        sl        tp result       balance  \n",
       "0   16699.523468   1000000  16661.94    win   1011.505713  \n",
       "1    16638.38593         0  16661.23    win    1014.26686  \n",
       "2   16811.428637   1000000  16774.19    win   1025.576733  \n",
       "3   17018.270761   1000000  17000.43    win   1025.046816  \n",
       "4   17979.103487   1000000  17943.26    win   1034.206832  \n",
       "..           ...       ...       ...    ...           ...  \n",
       "94  28791.023011         0  28858.44    win  13788.352781  \n",
       "95  29403.972693         0  29495.76    win   14067.09749  \n",
       "96  29355.343719   1000000  29319.99    win  14081.774642  \n",
       "97  27940.420109  27934.02   1000000   lose  13894.619022  \n",
       "98  25410.719527         0  26253.92    win  18352.410873  \n",
       "\n",
       "[99 rows x 9 columns]"
      ]
     },
     "execution_count": 29,
     "metadata": {},
     "output_type": "execute_result"
    }
   ],
   "source": [
    "pf.trade_ts"
   ]
  }
 ],
 "metadata": {
  "kernelspec": {
   "display_name": "Python 3 (ipykernel)",
   "language": "python",
   "name": "python3"
  },
  "language_info": {
   "codemirror_mode": {
    "name": "ipython",
    "version": 3
   },
   "file_extension": ".py",
   "mimetype": "text/x-python",
   "name": "python",
   "nbconvert_exporter": "python",
   "pygments_lexer": "ipython3",
   "version": "3.9.7"
  }
 },
 "nbformat": 4,
 "nbformat_minor": 5
}
