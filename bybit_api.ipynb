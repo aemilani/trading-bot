{
 "cells": [
  {
   "cell_type": "markdown",
   "id": "34403865",
   "metadata": {},
   "source": [
    "Notes:\n",
    "- The default limit is 10/s for all users.\n",
    "- Query-based APIs CANNOT increase in frequency and are limited to 10 requests per second (WebSocket is recommended for data reception).\n",
    "- With V5, users can request the last 500 orders in real-time.\n",
    "- Users can cancel all Derivatives orders settled by the same currency with settleCoin.\n",
    "- API V5 support the query of funding rate changes, which allows users to conduct historical funding backtests.\n",
    "- Previous APIs returned data as E2 and E8. API V3 and V5 return data as actual values, eliminating the need for users to implement conversion logic."
   ]
  },
  {
   "cell_type": "code",
   "execution_count": 13,
   "id": "db5403d9",
   "metadata": {},
   "outputs": [],
   "source": [
    "import datetime\n",
    "import requests\n",
    "import numpy as np\n",
    "import pandas as pd"
   ]
  },
  {
   "cell_type": "code",
   "execution_count": 60,
   "id": "ec135665",
   "metadata": {},
   "outputs": [],
   "source": [
    "API_KEY = 'P7cr5wnUHvI9El1l4G'\n",
    "API_SECRET = 'C61cVcaooMXHcHex8WjcGWgtuYWx0D91QR7E'"
   ]
  },
  {
   "cell_type": "markdown",
   "id": "9575570f",
   "metadata": {},
   "source": [
    "# Bybit server time"
   ]
  },
  {
   "cell_type": "code",
   "execution_count": 38,
   "id": "91becaa4",
   "metadata": {},
   "outputs": [
    {
     "name": "stdout",
     "output_type": "stream",
     "text": [
      "Bybit server time: 2023-08-18 16:20:37.657000\n"
     ]
    }
   ],
   "source": [
    "url = 'https://api.bybit.com/v5/market/time'\n",
    "response = requests.get(url)\n",
    "cur_time = response.json()['time']\n",
    "print('Bybit server time:', datetime.datetime.fromtimestamp(cur_time / 1000))"
   ]
  },
  {
   "cell_type": "markdown",
   "id": "8e37a824",
   "metadata": {},
   "source": [
    "# Market endpoint"
   ]
  },
  {
   "cell_type": "code",
   "execution_count": 43,
   "id": "0475b7ca",
   "metadata": {},
   "outputs": [
    {
     "data": {
      "text/plain": [
       "{'retCode': 0,\n",
       " 'retMsg': 'OK',\n",
       " 'result': {'symbol': 'BTCUSDT',\n",
       "  'category': 'linear',\n",
       "  'list': [['1692367200000',\n",
       "    '26222.7',\n",
       "    '26267.3',\n",
       "    '26100.5',\n",
       "    '26222.3',\n",
       "    '7264.495',\n",
       "    '190199538.3872']]},\n",
       " 'retExtInfo': {},\n",
       " 'time': 1692369414129}"
      ]
     },
     "execution_count": 43,
     "metadata": {},
     "output_type": "execute_result"
    }
   ],
   "source": [
    "url = 'https://api.bybit.com/v5/market/kline'\n",
    "params = {'category': 'linear', 'symbol': 'BTCUSDT', 'interval': 60, 'start': cur_time - 3600000}\n",
    "response = requests.get(url, params=params)\n",
    "response.json()"
   ]
  },
  {
   "cell_type": "markdown",
   "id": "0a99b056",
   "metadata": {},
   "source": [
    "- list[0]: startTime (string):\tStart time of the candle (ms)\n",
    "- list[1]: openPrice (string): Open price\n",
    "- list[2]: highPrice (string): Highest price\n",
    "- list[3]: lowPrice\t(string): Lowest price\n",
    "- list[4]: closePrice (string): Close price.\n",
    "- list[5]: volume (string): Trade volume. Unit of contract: pieces of contract. Unit of spot: quantity of coins\n",
    "- list[6]: turnover (string): Turnover. Unit of figure: quantity of quota coin"
   ]
  },
  {
   "cell_type": "code",
   "execution_count": 44,
   "id": "4967a619",
   "metadata": {},
   "outputs": [
    {
     "data": {
      "text/plain": [
       "{'retCode': 0,\n",
       " 'retMsg': 'OK',\n",
       " 'result': {'category': 'linear',\n",
       "  'list': [{'symbol': 'BTCUSDT',\n",
       "    'contractType': 'LinearPerpetual',\n",
       "    'status': 'Trading',\n",
       "    'baseCoin': 'BTC',\n",
       "    'quoteCoin': 'USDT',\n",
       "    'launchTime': '1584230400000',\n",
       "    'deliveryTime': '0',\n",
       "    'deliveryFeeRate': '',\n",
       "    'priceScale': '2',\n",
       "    'leverageFilter': {'minLeverage': '1',\n",
       "     'maxLeverage': '100.00',\n",
       "     'leverageStep': '0.01'},\n",
       "    'priceFilter': {'minPrice': '0.10',\n",
       "     'maxPrice': '199999.80',\n",
       "     'tickSize': '0.10'},\n",
       "    'lotSizeFilter': {'maxOrderQty': '100.000',\n",
       "     'minOrderQty': '0.001',\n",
       "     'qtyStep': '0.001',\n",
       "     'postOnlyMaxOrderQty': '1000.000'},\n",
       "    'unifiedMarginTrade': True,\n",
       "    'fundingInterval': 480,\n",
       "    'settleCoin': 'USDT',\n",
       "    'copyTrading': 'normalOnly'}],\n",
       "  'nextPageCursor': ''},\n",
       " 'retExtInfo': {},\n",
       " 'time': 1692369420668}"
      ]
     },
     "execution_count": 44,
     "metadata": {},
     "output_type": "execute_result"
    }
   ],
   "source": [
    "url = 'https://api.bybit.com/v5/market/instruments-info'\n",
    "params = {'category': 'linear', 'symbol': 'BTCUSDT'}\n",
    "response = requests.get(url, params=params)\n",
    "response.json()"
   ]
  },
  {
   "cell_type": "code",
   "execution_count": 46,
   "id": "db272f53",
   "metadata": {},
   "outputs": [
    {
     "data": {
      "text/plain": [
       "{'retCode': 0,\n",
       " 'retMsg': 'OK',\n",
       " 'result': {'s': 'BTCUSDT',\n",
       "  'b': [['26250', '1.082'],\n",
       "   ['26249.9', '0.011'],\n",
       "   ['26249.8', '0.001'],\n",
       "   ['26249.7', '0.001'],\n",
       "   ['26249.6', '0.001']],\n",
       "  'a': [['26250.1', '70.278'],\n",
       "   ['26250.2', '0.01'],\n",
       "   ['26250.9', '0.549'],\n",
       "   ['26251', '2.299'],\n",
       "   ['26251.1', '21.298']],\n",
       "  'ts': 1692369657846,\n",
       "  'u': 104547421},\n",
       " 'retExtInfo': {},\n",
       " 'time': 1692369657905}"
      ]
     },
     "execution_count": 46,
     "metadata": {},
     "output_type": "execute_result"
    }
   ],
   "source": [
    "url = 'https://api.bybit.com/v5/market/orderbook'\n",
    "params = {'category': 'linear', 'symbol': 'BTCUSDT', 'limit': 5}\n",
    "response = requests.get(url, params=params)\n",
    "response.json()"
   ]
  },
  {
   "cell_type": "markdown",
   "id": "4886fc97",
   "metadata": {},
   "source": [
    "- limit:\n",
    "    - spot: [1, 50]. Default: 1.\n",
    "    - linear&inverse: [1, 200]. Default: 25.\n",
    "    - option: [1, 25]. Default: 1.\n",
    "- ts (integer): The timestamp (ms) that the system generates the data.\n",
    "- u (integer): Update ID, is always in sequence."
   ]
  },
  {
   "cell_type": "code",
   "execution_count": 52,
   "id": "3a76ce2b",
   "metadata": {},
   "outputs": [
    {
     "data": {
      "text/plain": [
       "{'retCode': 0,\n",
       " 'retMsg': 'OK',\n",
       " 'result': {'category': 'linear',\n",
       "  'list': [{'symbol': 'BTCUSDT',\n",
       "    'lastPrice': '26226.30',\n",
       "    'indexPrice': '26238.96',\n",
       "    'markPrice': '26226.71',\n",
       "    'prevPrice24h': '28355.60',\n",
       "    'price24hPcnt': '-0.075092',\n",
       "    'highPrice24h': '28511.20',\n",
       "    'lowPrice24h': '24200.90',\n",
       "    'prevPrice1h': '26339.40',\n",
       "    'openInterest': '58606.188',\n",
       "    'openInterestValue': '1537047496.88',\n",
       "    'turnover24h': '9518868638.9617',\n",
       "    'volume24h': '354908.4760',\n",
       "    'fundingRate': '0',\n",
       "    'nextFundingTime': '1692374400000',\n",
       "    'predictedDeliveryPrice': '',\n",
       "    'basisRate': '',\n",
       "    'deliveryFeeRate': '',\n",
       "    'deliveryTime': '0',\n",
       "    'ask1Size': '0.114',\n",
       "    'bid1Price': '26226.20',\n",
       "    'ask1Price': '26226.30',\n",
       "    'bid1Size': '103.846',\n",
       "    'basis': ''}]},\n",
       " 'retExtInfo': {},\n",
       " 'time': 1692370179633}"
      ]
     },
     "execution_count": 52,
     "metadata": {},
     "output_type": "execute_result"
    }
   ],
   "source": [
    "# Query for the latest price snapshot, best bid/ask price, and trading volume in the last 24 hours.\n",
    "url = 'https://api.bybit.com/v5/market/tickers'\n",
    "params = {'category': 'linear', 'symbol': 'BTCUSDT'}\n",
    "response = requests.get(url, params=params)\n",
    "response.json()"
   ]
  },
  {
   "cell_type": "code",
   "execution_count": 56,
   "id": "d4c01e57",
   "metadata": {},
   "outputs": [
    {
     "data": {
      "text/plain": [
       "{'retCode': 0,\n",
       " 'retMsg': 'OK',\n",
       " 'result': {'category': 'linear',\n",
       "  'list': [{'symbol': 'BTCUSDT',\n",
       "    'fundingRate': '-0.00000492',\n",
       "    'fundingRateTimestamp': '1692345600000'},\n",
       "   {'symbol': 'BTCUSDT',\n",
       "    'fundingRate': '0.00006393',\n",
       "    'fundingRateTimestamp': '1692316800000'},\n",
       "   {'symbol': 'BTCUSDT',\n",
       "    'fundingRate': '0.0001',\n",
       "    'fundingRateTimestamp': '1692288000000'}]},\n",
       " 'retExtInfo': {},\n",
       " 'time': 1692370473472}"
      ]
     },
     "execution_count": 56,
     "metadata": {},
     "output_type": "execute_result"
    }
   ],
   "source": [
    "url = 'https://api.bybit.com/v5/market/funding/history'\n",
    "params = {'category': 'linear', 'symbol': 'BTCUSDT', 'limit': 3}\n",
    "response = requests.get(url, params=params)\n",
    "response.json()"
   ]
  },
  {
   "cell_type": "code",
   "execution_count": 55,
   "id": "4eb08cfa",
   "metadata": {},
   "outputs": [
    {
     "data": {
      "text/plain": [
       "{'retCode': 0,\n",
       " 'retMsg': 'OK',\n",
       " 'result': {'category': 'linear',\n",
       "  'list': [{'execId': 'bad8311e-902a-5f24-b2d8-237b11fbd7a4',\n",
       "    'symbol': 'BTCUSDT',\n",
       "    'price': '26194.90',\n",
       "    'size': '0.005',\n",
       "    'side': 'Sell',\n",
       "    'time': '1692370343377',\n",
       "    'isBlockTrade': False},\n",
       "   {'execId': 'd38ea554-31e4-55dc-af1a-c2bee1b70396',\n",
       "    'symbol': 'BTCUSDT',\n",
       "    'price': '26194.90',\n",
       "    'size': '0.143',\n",
       "    'side': 'Sell',\n",
       "    'time': '1692370343347',\n",
       "    'isBlockTrade': False}]},\n",
       " 'retExtInfo': {},\n",
       " 'time': 1692370343450}"
      ]
     },
     "execution_count": 55,
     "metadata": {},
     "output_type": "execute_result"
    }
   ],
   "source": [
    "url = 'https://api.bybit.com/v5/market/recent-trade'\n",
    "params = {'category': 'linear', 'symbol': 'BTCUSDT', 'limit': 2}\n",
    "response = requests.get(url, params=params)\n",
    "response.json()"
   ]
  },
  {
   "cell_type": "markdown",
   "id": "7fc5b0cb",
   "metadata": {},
   "source": [
    "limit:\n",
    "- spot: [1,60], default: 60.\n",
    "- others: [1,1000], default: 500"
   ]
  },
  {
   "cell_type": "code",
   "execution_count": 57,
   "id": "2141fc96",
   "metadata": {},
   "outputs": [
    {
     "data": {
      "text/plain": [
       "{'retCode': 0,\n",
       " 'retMsg': 'OK',\n",
       " 'result': {'symbol': 'BTCUSDT',\n",
       "  'category': 'linear',\n",
       "  'list': [{'openInterest': '58615.33500000', 'timestamp': '1692369900000'},\n",
       "   {'openInterest': '57958.54900000', 'timestamp': '1692369000000'}],\n",
       "  'nextPageCursor': 'lastid%3D64884144%26lasttime%3D1692369000'},\n",
       " 'retExtInfo': {},\n",
       " 'time': 1692370559803}"
      ]
     },
     "execution_count": 57,
     "metadata": {},
     "output_type": "execute_result"
    }
   ],
   "source": [
    "url = 'https://api.bybit.com/v5/market/open-interest'\n",
    "params = {'category': 'linear', 'symbol': 'BTCUSDT', 'intervalTime': '15min', 'limit': 2}\n",
    "response = requests.get(url, params=params)\n",
    "response.json()"
   ]
  },
  {
   "cell_type": "markdown",
   "id": "d23fafa4",
   "metadata": {},
   "source": [
    "- intervalTime (string): Interval. 5min,15min,30min,1h,4h,1d\n",
    "- limit (integer): Limit for data size per page. [1, 200]. Default: 50"
   ]
  },
  {
   "cell_type": "code",
   "execution_count": 58,
   "id": "272b95b4",
   "metadata": {},
   "outputs": [
    {
     "data": {
      "text/plain": [
       "{'retCode': 0,\n",
       " 'retMsg': 'SUCCESS',\n",
       " 'category': 'option',\n",
       " 'result': [{'period': 30, 'value': '0.28227017', 'time': '1692370800000'}]}"
      ]
     },
     "execution_count": 58,
     "metadata": {},
     "output_type": "execute_result"
    }
   ],
   "source": [
    "# - The data is hourly.\n",
    "# - If both startTime and endTime are not specified, it will return the most recent 1 hours worth of data.\n",
    "# - startTime and endTime are a pair of params. Either both are passed or they are not passed at all.\n",
    "# - This endpoint can query the last 2 years worth of data, but make sure [endTime - startTime] <= 30 days.\n",
    "\n",
    "url = 'https://api.bybit.com/v5/market/historical-volatility'\n",
    "params = {'category': 'option', 'baseCoin': 'BTC', 'period': 30}\n",
    "response = requests.get(url, params=params)\n",
    "response.json()"
   ]
  },
  {
   "cell_type": "markdown",
   "id": "73993139",
   "metadata": {},
   "source": [
    "# Account endpoint"
   ]
  },
  {
   "cell_type": "code",
   "execution_count": 67,
   "id": "9140eb55",
   "metadata": {},
   "outputs": [
    {
     "data": {
      "text/plain": [
       "<Response [401]>"
      ]
     },
     "execution_count": 67,
     "metadata": {},
     "output_type": "execute_result"
    }
   ],
   "source": [
    "BASE_URL = 'https://api.bybit.com'\n",
    "endpoint = '/v5/account/wallet-balance'\n",
    "url = BASE_URL + endpoint\n",
    "params = {'accountType': 'UNIFIED'}\n",
    "response = requests.get(url, params=params)\n",
    "response"
   ]
  },
  {
   "cell_type": "markdown",
   "id": "9dd566c8",
   "metadata": {},
   "source": [
    "# Order endpoint"
   ]
  },
  {
   "cell_type": "code",
   "execution_count": null,
   "id": "6f72e7bf",
   "metadata": {},
   "outputs": [],
   "source": [
    "BASE_URL = 'https://api-testnet.bybit.com'\n",
    "endpoint = '/v5/order/create'\n",
    "params = {'category': 'linear', 'symbol': 'BTCUSDT', 'side': 'Buy', 'orderType': 'Market', 'qty': '0.001'}"
   ]
  }
 ],
 "metadata": {
  "kernelspec": {
   "display_name": "Python 3 (ipykernel)",
   "language": "python",
   "name": "python3"
  },
  "language_info": {
   "codemirror_mode": {
    "name": "ipython",
    "version": 3
   },
   "file_extension": ".py",
   "mimetype": "text/x-python",
   "name": "python",
   "nbconvert_exporter": "python",
   "pygments_lexer": "ipython3",
   "version": "3.9.7"
  }
 },
 "nbformat": 4,
 "nbformat_minor": 5
}
