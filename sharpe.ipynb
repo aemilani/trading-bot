{
 "cells": [
  {
   "cell_type": "code",
   "execution_count": 1,
   "id": "5738b080",
   "metadata": {},
   "outputs": [],
   "source": [
    "import datetime\n",
    "import requests\n",
    "import ccxt\n",
    "import numpy as np\n",
    "import pandas as pd\n",
    "import pandas_ta as ta\n",
    "import matplotlib.pyplot as plt"
   ]
  },
  {
   "cell_type": "code",
   "execution_count": 2,
   "id": "a057a974",
   "metadata": {},
   "outputs": [],
   "source": [
    "def top_crypto(n=100):\n",
    "    url = \"https://api.coingecko.com/api/v3/coins/markets\"\n",
    "    params = {\n",
    "        \"vs_currency\": \"usd\",\n",
    "        \"order\": \"market_cap_desc\",\n",
    "        \"per_page\": n,\n",
    "        \"page\": 1,\n",
    "        \"sparkline\": False,\n",
    "    }\n",
    "    \n",
    "    try:\n",
    "        response = requests.get(url, params=params)\n",
    "        response.raise_for_status()\n",
    "        data = response.json()\n",
    "        \n",
    "        return data\n",
    "    except requests.exceptions.HTTPError as e:\n",
    "        print(\"Error retrieving data:\", e)\n",
    "        return None"
   ]
  },
  {
   "cell_type": "code",
   "execution_count": 3,
   "id": "4d522fae",
   "metadata": {},
   "outputs": [],
   "source": [
    "def get_close_price(tickers, timeframe='1d'):\n",
    "    data = pd.DataFrame()\n",
    "    for ticker in tickers:\n",
    "        try:\n",
    "            ohlv = ccxt.binance().fetch_ohlcv(f'{ticker}USDT', timeframe, limit=1000)\n",
    "        except:\n",
    "            continue\n",
    "        if ohlv[0][0] > 1704067200000:  # 2024-01-01 00:00:00\n",
    "            continue\n",
    "        close = [row[4] for row in ohlv]\n",
    "        time = [row[0] for row in ohlv]\n",
    "        data[ticker] = pd.Series(index=time, data=close)\n",
    "    data.index = pd.to_datetime(data.index, unit='ms')\n",
    "    return data"
   ]
  },
  {
   "cell_type": "code",
   "execution_count": 4,
   "id": "8102597d",
   "metadata": {},
   "outputs": [],
   "source": [
    "def calc_sharpe(log_returns, period=30):\n",
    "    return log_returns.rolling(period).mean() / log_returns.rolling(period).std()"
   ]
  },
  {
   "cell_type": "code",
   "execution_count": 7,
   "id": "6d5d5873",
   "metadata": {},
   "outputs": [],
   "source": [
    "coins = top_crypto(100)\n",
    "coins = [c['symbol'].upper() for c in coins]"
   ]
  },
  {
   "cell_type": "code",
   "execution_count": 8,
   "id": "cd5727e3",
   "metadata": {},
   "outputs": [],
   "source": [
    "for c in ['USDC', 'STETH', 'WSTETH', 'WBTC', 'CTB', 'WETH', 'WEETH', 'USDS', 'USDE', 'CBBTC', 'FDUSD', 'RETH', 'LBTC', 'USD0',\n",
    "         'BNSOL', 'METH', 'SOLVBTC', 'DAI', 'XMR']:\n",
    "    if c in coins:\n",
    "        coins.remove(c)"
   ]
  },
  {
   "cell_type": "code",
   "execution_count": 10,
   "id": "446d5772",
   "metadata": {},
   "outputs": [],
   "source": [
    "data = get_close_price(coins)"
   ]
  },
  {
   "cell_type": "code",
   "execution_count": 11,
   "id": "4a510442",
   "metadata": {},
   "outputs": [],
   "source": [
    "returns = data.pct_change().dropna()"
   ]
  },
  {
   "cell_type": "code",
   "execution_count": 12,
   "id": "e2eaba20",
   "metadata": {},
   "outputs": [],
   "source": [
    "log_returns = np.log(data.dropna() / data.dropna().shift(1)).dropna()"
   ]
  },
  {
   "cell_type": "code",
   "execution_count": 13,
   "id": "dfdbf7c4",
   "metadata": {},
   "outputs": [
    {
     "data": {
      "text/plain": [
       "OM       0.181667\n",
       "XRP      0.110956\n",
       "PEPE     0.109496\n",
       "RAY      0.106770\n",
       "SUI      0.104534\n",
       "BNB      0.098105\n",
       "BTC      0.095909\n",
       "SOL      0.089300\n",
       "DOGE     0.086798\n",
       "JASMY    0.081744\n",
       "XLM      0.078805\n",
       "AAVE     0.078436\n",
       "HBAR     0.078154\n",
       "FLOKI    0.075408\n",
       "NEAR     0.061595\n",
       "TRX      0.061480\n",
       "ALGO     0.058267\n",
       "NEXO     0.057005\n",
       "SHIB     0.056518\n",
       "UNI      0.056148\n",
       "dtype: float64"
      ]
     },
     "execution_count": 13,
     "metadata": {},
     "output_type": "execute_result"
    }
   ],
   "source": [
    "(returns.mean(axis=0) / returns.std(axis=0)).sort_values(ascending=False)[:20]"
   ]
  },
  {
   "cell_type": "code",
   "execution_count": 14,
   "id": "96860c05",
   "metadata": {},
   "outputs": [
    {
     "data": {
      "text/plain": [
       "OM       0.156109\n",
       "XRP      0.092327\n",
       "BNB      0.084333\n",
       "BTC      0.082976\n",
       "SUI      0.077612\n",
       "PEPE     0.075772\n",
       "RAY      0.075182\n",
       "SOL      0.067693\n",
       "DOGE     0.062383\n",
       "XLM      0.060064\n",
       "AAVE     0.054384\n",
       "HBAR     0.052912\n",
       "TRX      0.052642\n",
       "JASMY    0.050392\n",
       "FLOKI    0.042659\n",
       "NEXO     0.041896\n",
       "ALGO     0.033611\n",
       "LTC      0.033276\n",
       "NEAR     0.033191\n",
       "BCH      0.032844\n",
       "dtype: float64"
      ]
     },
     "execution_count": 14,
     "metadata": {},
     "output_type": "execute_result"
    }
   ],
   "source": [
    "(log_returns.mean(axis=0) / log_returns.std(axis=0)).sort_values(ascending=False)[:20]"
   ]
  },
  {
   "cell_type": "code",
   "execution_count": 15,
   "id": "f57cc3b4",
   "metadata": {},
   "outputs": [
    {
     "data": {
      "text/plain": [
       "OM       58.562991\n",
       "TRX      40.082491\n",
       "BTC      34.321311\n",
       "SUI      33.101591\n",
       "BNB      32.219698\n",
       "PEPE     30.166639\n",
       "RAY      27.119859\n",
       "AAVE     26.886720\n",
       "SOL      26.591417\n",
       "DOGE     23.005983\n",
       "NEXO     20.990025\n",
       "JASMY    20.833631\n",
       "XRP      20.124281\n",
       "ETH      19.848782\n",
       "FLOKI    17.183045\n",
       "BONK     15.015633\n",
       "FET      14.628488\n",
       "THETA    13.871862\n",
       "UNI      13.813166\n",
       "LTC      13.658396\n",
       "dtype: float64"
      ]
     },
     "execution_count": 15,
     "metadata": {},
     "output_type": "execute_result"
    }
   ],
   "source": [
    "(returns.rolling(30).mean().dropna() / returns.rolling(30).std().dropna()).sum(axis=0).sort_values(ascending=False)[:20]"
   ]
  },
  {
   "cell_type": "code",
   "execution_count": 16,
   "id": "9b51b42b",
   "metadata": {},
   "outputs": [
    {
     "data": {
      "text/plain": [
       "OM       48.875394\n",
       "TRX      36.162767\n",
       "BTC      30.001286\n",
       "BNB      27.471243\n",
       "SUI      24.014949\n",
       "PEPE     19.528602\n",
       "SOL      19.186755\n",
       "AAVE     19.009787\n",
       "RAY      16.327624\n",
       "NEXO     15.841890\n",
       "DOGE     15.277407\n",
       "ETH      14.608608\n",
       "XRP      14.417604\n",
       "JASMY    10.977411\n",
       "LTC       7.368456\n",
       "FLOKI     7.269479\n",
       "UNI       6.259878\n",
       "LINK      5.735880\n",
       "THETA     5.430220\n",
       "BCH       4.676048\n",
       "dtype: float64"
      ]
     },
     "execution_count": 16,
     "metadata": {},
     "output_type": "execute_result"
    }
   ],
   "source": [
    "(log_returns.rolling(30).mean().dropna() / log_returns.rolling(30).std().dropna()).sum(axis=0).sort_values(ascending=False)[:20]"
   ]
  },
  {
   "cell_type": "code",
   "execution_count": 17,
   "id": "01c38b79",
   "metadata": {},
   "outputs": [
    {
     "data": {
      "text/plain": [
       "XRP      23.163063\n",
       "DOGE     16.630374\n",
       "SUI      16.342772\n",
       "ADA      16.115011\n",
       "BTC      16.096879\n",
       "HBAR     15.698618\n",
       "RAY      15.434257\n",
       "XLM      14.799114\n",
       "ALGO     14.205572\n",
       "AAVE     12.913457\n",
       "LINK     12.191294\n",
       "LTC      11.596560\n",
       "NEXO     11.385091\n",
       "UNI      10.638450\n",
       "OM       10.061013\n",
       "VET       9.575167\n",
       "SOL       9.463511\n",
       "GALA      9.344719\n",
       "LDO       9.069380\n",
       "THETA     8.756065\n",
       "dtype: float64"
      ]
     },
     "execution_count": 17,
     "metadata": {},
     "output_type": "execute_result"
    }
   ],
   "source": [
    "(returns[-120:].rolling(30).mean().dropna() / returns[-120:].rolling(30).std().dropna()).sum(axis=0).sort_values(ascending=False)[:20]"
   ]
  },
  {
   "cell_type": "code",
   "execution_count": 19,
   "id": "137cf202",
   "metadata": {},
   "outputs": [
    {
     "data": {
      "text/plain": [
       "XRP      18.108778\n",
       "HBAR     13.355695\n",
       "AAVE     11.339578\n",
       "ALGO     10.837722\n",
       "SUI      10.293972\n",
       "ADA       9.567668\n",
       "XLM       8.734346\n",
       "LINK      8.384514\n",
       "LDO       7.952297\n",
       "THETA     7.742666\n",
       "VET       7.675413\n",
       "UNI       7.465758\n",
       "LTC       7.337655\n",
       "BTC       7.132287\n",
       "QNT       6.765382\n",
       "GALA      6.734991\n",
       "NEXO      6.598466\n",
       "OM        6.174964\n",
       "FIL       5.678094\n",
       "JASMY     5.638007\n",
       "dtype: float64"
      ]
     },
     "execution_count": 19,
     "metadata": {},
     "output_type": "execute_result"
    }
   ],
   "source": [
    "(returns[-90:].rolling(30).mean().dropna() / returns[-90:].rolling(30).std().dropna()).sum(axis=0).sort_values(ascending=False)[:20]"
   ]
  },
  {
   "cell_type": "code",
   "execution_count": 18,
   "id": "12a6e770",
   "metadata": {},
   "outputs": [
    {
     "data": {
      "image/png": "[encoded data removed]",
      "text/plain": [
       "<Figure size 576x360 with 1 Axes>"
      ]
     },
     "metadata": {
      "needs_background": "light"
     },
     "output_type": "display_data"
    }
   ],
   "source": [
    "n_outperform_btc = (returns.iloc[:, 1:].gt(returns['BTC'], axis=0)).sum(axis=1)\n",
    "\n",
    "plt.figure(figsize=(8, 5))\n",
    "plt.plot(n_outperform_btc.rolling(30).mean())\n",
    "plt.show()"
   ]
  }
 ],
 "metadata": {
  "kernelspec": {
   "display_name": "Python 3 (ipykernel)",
   "language": "python",
   "name": "python3"
  },
  "language_info": {
   "codemirror_mode": {
    "name": "ipython",
    "version": 3
   },
   "file_extension": ".py",
   "mimetype": "text/x-python",
   "name": "python",
   "nbconvert_exporter": "python",
   "pygments_lexer": "ipython3",
   "version": "3.9.7"
  }
 },
 "nbformat": 4,
 "nbformat_minor": 5
}
