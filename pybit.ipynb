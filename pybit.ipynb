{
 "cells": [
  {
   "cell_type": "code",
   "execution_count": 1,
   "id": "8cc5e8b7",
   "metadata": {},
   "outputs": [],
   "source": [
    "import datetime\n",
    "import numpy as np\n",
    "import pandas as pd\n",
    "from dotenv import dotenv_values\n",
    "from pybit.unified_trading import HTTP"
   ]
  },
  {
   "cell_type": "code",
   "execution_count": 2,
   "id": "1c9e5b8b",
   "metadata": {},
   "outputs": [],
   "source": [
    "config = dotenv_values('.env')\n",
    "API_KEY = config.get('BYBIT_TEST_API_KEY')\n",
    "API_SECRET = config.get('BYBIT_TEST_API_SECRET')"
   ]
  },
  {
   "cell_type": "code",
   "execution_count": 3,
   "id": "94c6e5d6",
   "metadata": {},
   "outputs": [],
   "source": [
    "session = HTTP(testnet=True, api_key=API_KEY, api_secret=API_SECRET)"
   ]
  },
  {
   "cell_type": "code",
   "execution_count": 29,
   "id": "c05bb090",
   "metadata": {},
   "outputs": [
    {
     "ename": "InvalidRequestError",
     "evalue": "Set leverage not modified (ErrCode: 110043) (ErrTime: 18:28:37).\nRequest → POST https://api-testnet.bybit.com/v5/position/set-leverage: {\"category\": \"linear\", \"symbol\": \"BTCUSDT\", \"buyLeverage\": \"10\", \"sellLeverage\": \"10\"}.",
     "output_type": "error",
     "traceback": [
      "\u001b[1;31m---------------------------------------------------------------------------\u001b[0m",
      "\u001b[1;31mInvalidRequestError\u001b[0m                       Traceback (most recent call last)",
      "Input \u001b[1;32mIn [29]\u001b[0m, in \u001b[0;36m<cell line: 1>\u001b[1;34m()\u001b[0m\n\u001b[1;32m----> 1\u001b[0m \u001b[43msession\u001b[49m\u001b[38;5;241;43m.\u001b[39;49m\u001b[43mset_leverage\u001b[49m\u001b[43m(\u001b[49m\n\u001b[0;32m      2\u001b[0m \u001b[43m    \u001b[49m\u001b[43mcategory\u001b[49m\u001b[38;5;241;43m=\u001b[39;49m\u001b[38;5;124;43m\"\u001b[39;49m\u001b[38;5;124;43mlinear\u001b[39;49m\u001b[38;5;124;43m\"\u001b[39;49m\u001b[43m,\u001b[49m\n\u001b[0;32m      3\u001b[0m \u001b[43m    \u001b[49m\u001b[43msymbol\u001b[49m\u001b[38;5;241;43m=\u001b[39;49m\u001b[38;5;124;43m\"\u001b[39;49m\u001b[38;5;124;43mBTCUSDT\u001b[39;49m\u001b[38;5;124;43m\"\u001b[39;49m\u001b[43m,\u001b[49m\n\u001b[0;32m      4\u001b[0m \u001b[43m    \u001b[49m\u001b[43mbuyLeverage\u001b[49m\u001b[38;5;241;43m=\u001b[39;49m\u001b[38;5;124;43m\"\u001b[39;49m\u001b[38;5;124;43m10\u001b[39;49m\u001b[38;5;124;43m\"\u001b[39;49m\u001b[43m,\u001b[49m\n\u001b[0;32m      5\u001b[0m \u001b[43m    \u001b[49m\u001b[43msellLeverage\u001b[49m\u001b[38;5;241;43m=\u001b[39;49m\u001b[38;5;124;43m\"\u001b[39;49m\u001b[38;5;124;43m10\u001b[39;49m\u001b[38;5;124;43m\"\u001b[39;49m\u001b[43m,\u001b[49m\n\u001b[0;32m      6\u001b[0m \u001b[43m)\u001b[49m\n",
      "File \u001b[1;32mc:\\users\\aeali\\pycharmprojects\\trading-bot\\venv\\lib\\site-packages\\pybit\\_v5_position.py:50\u001b[0m, in \u001b[0;36mPositionHTTP.set_leverage\u001b[1;34m(self, **kwargs)\u001b[0m\n\u001b[0;32m     29\u001b[0m \u001b[38;5;28;01mdef\u001b[39;00m \u001b[38;5;21mset_leverage\u001b[39m(\u001b[38;5;28mself\u001b[39m, \u001b[38;5;241m*\u001b[39m\u001b[38;5;241m*\u001b[39mkwargs):\n\u001b[0;32m     30\u001b[0m     \u001b[38;5;124;03m\"\"\"Set the leverage\u001b[39;00m\n\u001b[0;32m     31\u001b[0m \n\u001b[0;32m     32\u001b[0m \u001b[38;5;124;03m    Required args:\u001b[39;00m\n\u001b[1;32m   (...)\u001b[0m\n\u001b[0;32m     48\u001b[0m \u001b[38;5;124;03m        https://bybit-exchange.github.io/docs/v5/position/leverage\u001b[39;00m\n\u001b[0;32m     49\u001b[0m \u001b[38;5;124;03m    \"\"\"\u001b[39;00m\n\u001b[1;32m---> 50\u001b[0m     \u001b[38;5;28;01mreturn\u001b[39;00m \u001b[38;5;28;43mself\u001b[39;49m\u001b[38;5;241;43m.\u001b[39;49m\u001b[43m_submit_request\u001b[49m\u001b[43m(\u001b[49m\n\u001b[0;32m     51\u001b[0m \u001b[43m        \u001b[49m\u001b[43mmethod\u001b[49m\u001b[38;5;241;43m=\u001b[39;49m\u001b[38;5;124;43m\"\u001b[39;49m\u001b[38;5;124;43mPOST\u001b[39;49m\u001b[38;5;124;43m\"\u001b[39;49m\u001b[43m,\u001b[49m\n\u001b[0;32m     52\u001b[0m \u001b[43m        \u001b[49m\u001b[43mpath\u001b[49m\u001b[38;5;241;43m=\u001b[39;49m\u001b[38;5;124;43mf\u001b[39;49m\u001b[38;5;124;43m\"\u001b[39;49m\u001b[38;5;132;43;01m{\u001b[39;49;00m\u001b[38;5;28;43mself\u001b[39;49m\u001b[38;5;241;43m.\u001b[39;49m\u001b[43mendpoint\u001b[49m\u001b[38;5;132;43;01m}\u001b[39;49;00m\u001b[38;5;132;43;01m{\u001b[39;49;00m\u001b[43mPosition\u001b[49m\u001b[38;5;241;43m.\u001b[39;49m\u001b[43mSET_LEVERAGE\u001b[49m\u001b[38;5;132;43;01m}\u001b[39;49;00m\u001b[38;5;124;43m\"\u001b[39;49m\u001b[43m,\u001b[49m\n\u001b[0;32m     53\u001b[0m \u001b[43m        \u001b[49m\u001b[43mquery\u001b[49m\u001b[38;5;241;43m=\u001b[39;49m\u001b[43mkwargs\u001b[49m\u001b[43m,\u001b[49m\n\u001b[0;32m     54\u001b[0m \u001b[43m        \u001b[49m\u001b[43mauth\u001b[49m\u001b[38;5;241;43m=\u001b[39;49m\u001b[38;5;28;43;01mTrue\u001b[39;49;00m\u001b[43m,\u001b[49m\n\u001b[0;32m     55\u001b[0m \u001b[43m    \u001b[49m\u001b[43m)\u001b[49m\n",
      "File \u001b[1;32mc:\\users\\aeali\\pycharmprojects\\trading-bot\\venv\\lib\\site-packages\\pybit\\_http_manager.py:343\u001b[0m, in \u001b[0;36m_V5HTTPManager._submit_request\u001b[1;34m(self, method, path, query, auth)\u001b[0m\n\u001b[0;32m    340\u001b[0m         \u001b[38;5;28;01mpass\u001b[39;00m\n\u001b[0;32m    342\u001b[0m     \u001b[38;5;28;01melse\u001b[39;00m:\n\u001b[1;32m--> 343\u001b[0m         \u001b[38;5;28;01mraise\u001b[39;00m InvalidRequestError(\n\u001b[0;32m    344\u001b[0m             request\u001b[38;5;241m=\u001b[39m\u001b[38;5;124mf\u001b[39m\u001b[38;5;124m\"\u001b[39m\u001b[38;5;132;01m{\u001b[39;00mmethod\u001b[38;5;132;01m}\u001b[39;00m\u001b[38;5;124m \u001b[39m\u001b[38;5;132;01m{\u001b[39;00mpath\u001b[38;5;132;01m}\u001b[39;00m\u001b[38;5;124m: \u001b[39m\u001b[38;5;132;01m{\u001b[39;00mreq_params\u001b[38;5;132;01m}\u001b[39;00m\u001b[38;5;124m\"\u001b[39m,\n\u001b[0;32m    345\u001b[0m             message\u001b[38;5;241m=\u001b[39ms_json[ret_msg],\n\u001b[0;32m    346\u001b[0m             status_code\u001b[38;5;241m=\u001b[39ms_json[ret_code],\n\u001b[0;32m    347\u001b[0m             time\u001b[38;5;241m=\u001b[39mdt\u001b[38;5;241m.\u001b[39mutcnow()\u001b[38;5;241m.\u001b[39mstrftime(\u001b[38;5;124m\"\u001b[39m\u001b[38;5;124m%\u001b[39m\u001b[38;5;124mH:\u001b[39m\u001b[38;5;124m%\u001b[39m\u001b[38;5;124mM:\u001b[39m\u001b[38;5;124m%\u001b[39m\u001b[38;5;124mS\u001b[39m\u001b[38;5;124m\"\u001b[39m),\n\u001b[0;32m    348\u001b[0m             resp_headers\u001b[38;5;241m=\u001b[39ms\u001b[38;5;241m.\u001b[39mheaders,\n\u001b[0;32m    349\u001b[0m         )\n\u001b[0;32m    350\u001b[0m \u001b[38;5;28;01melse\u001b[39;00m:\n\u001b[0;32m    351\u001b[0m     \u001b[38;5;28;01mif\u001b[39;00m \u001b[38;5;28mself\u001b[39m\u001b[38;5;241m.\u001b[39mlog_requests:\n",
      "\u001b[1;31mInvalidRequestError\u001b[0m: Set leverage not modified (ErrCode: 110043) (ErrTime: 18:28:37).\nRequest → POST https://api-testnet.bybit.com/v5/position/set-leverage: {\"category\": \"linear\", \"symbol\": \"BTCUSDT\", \"buyLeverage\": \"10\", \"sellLeverage\": \"10\"}."
     ]
    }
   ],
   "source": [
    "session.set_leverage(\n",
    "    category=\"linear\",\n",
    "    symbol=\"BTCUSDT\",\n",
    "    buyLeverage=\"10\",\n",
    "    sellLeverage=\"10\",\n",
    ")"
   ]
  },
  {
   "cell_type": "code",
   "execution_count": 4,
   "id": "1159be20",
   "metadata": {},
   "outputs": [
    {
     "data": {
      "text/plain": [
       "{'retCode': 0,\n",
       " 'retMsg': 'OK',\n",
       " 'result': {'symbol': 'BTCUSDT',\n",
       "  'category': 'inverse',\n",
       "  'list': [['1692381600000',\n",
       "    '26011.9',\n",
       "    '26026.1',\n",
       "    '25924',\n",
       "    '25944.8',\n",
       "    '92.993',\n",
       "    '2414968.5796'],\n",
       "   ['1692378000000',\n",
       "    '25905.3',\n",
       "    '26105',\n",
       "    '25690.9',\n",
       "    '26011.9',\n",
       "    '11132.69',\n",
       "    '287854554.9159']]},\n",
       " 'retExtInfo': {},\n",
       " 'time': 1692382518424}"
      ]
     },
     "execution_count": 4,
     "metadata": {},
     "output_type": "execute_result"
    }
   ],
   "source": [
    "session.get_kline(category=\"inverse\", symbol=\"BTCUSDT\", interval=60, limit=2)"
   ]
  },
  {
   "cell_type": "code",
   "execution_count": 5,
   "id": "d9182af5",
   "metadata": {},
   "outputs": [
    {
     "data": {
      "text/plain": [
       "{'retCode': 0,\n",
       " 'retMsg': 'OK',\n",
       " 'result': {'category': 'linear',\n",
       "  'list': [{'symbol': 'BTCUSDT',\n",
       "    'contractType': 'LinearPerpetual',\n",
       "    'status': 'Trading',\n",
       "    'baseCoin': 'BTC',\n",
       "    'quoteCoin': 'USDT',\n",
       "    'launchTime': '1585526400000',\n",
       "    'deliveryTime': '0',\n",
       "    'deliveryFeeRate': '',\n",
       "    'priceScale': '2',\n",
       "    'leverageFilter': {'minLeverage': '1',\n",
       "     'maxLeverage': '100.00',\n",
       "     'leverageStep': '0.01'},\n",
       "    'priceFilter': {'minPrice': '0.10',\n",
       "     'maxPrice': '199999.80',\n",
       "     'tickSize': '0.10'},\n",
       "    'lotSizeFilter': {'maxOrderQty': '100.000',\n",
       "     'minOrderQty': '0.001',\n",
       "     'qtyStep': '0.001',\n",
       "     'postOnlyMaxOrderQty': '1000.000'},\n",
       "    'unifiedMarginTrade': True,\n",
       "    'fundingInterval': 480,\n",
       "    'settleCoin': 'USDT',\n",
       "    'copyTrading': 'normalOnly'}],\n",
       "  'nextPageCursor': ''},\n",
       " 'retExtInfo': {},\n",
       " 'time': 1692382518647}"
      ]
     },
     "execution_count": 5,
     "metadata": {},
     "output_type": "execute_result"
    }
   ],
   "source": [
    "session.get_instruments_info(category=\"linear\", symbol=\"BTCUSDT\")"
   ]
  },
  {
   "cell_type": "code",
   "execution_count": 6,
   "id": "4369dc6d",
   "metadata": {},
   "outputs": [
    {
     "data": {
      "text/plain": [
       "{'retCode': 0,\n",
       " 'retMsg': 'OK',\n",
       " 'result': {'s': 'BTCUSDT',\n",
       "  'b': [['25940.9', '260.164'],\n",
       "   ['25940.7', '117.934'],\n",
       "   ['25940.5', '250.074'],\n",
       "   ['25940.3', '159.021'],\n",
       "   ['25940.1', '121.089']],\n",
       "  'a': [['25944.8', '104.126'],\n",
       "   ['25944.9', '21.131'],\n",
       "   ['25945', '121.426'],\n",
       "   ['25945.2', '234.442'],\n",
       "   ['25945.4', '206.248']],\n",
       "  'ts': 1692382517417,\n",
       "  'u': 7056682},\n",
       " 'retExtInfo': {},\n",
       " 'time': 1692382518845}"
      ]
     },
     "execution_count": 6,
     "metadata": {},
     "output_type": "execute_result"
    }
   ],
   "source": [
    "session.get_orderbook(category=\"linear\", symbol=\"BTCUSDT\", limit=5)"
   ]
  },
  {
   "cell_type": "code",
   "execution_count": 7,
   "id": "ea53557c",
   "metadata": {},
   "outputs": [
    {
     "data": {
      "text/plain": [
       "{'retCode': 0,\n",
       " 'retMsg': 'OK',\n",
       " 'result': {'category': 'linear',\n",
       "  'list': [{'symbol': 'BTCUSDT',\n",
       "    'lastPrice': '25944.80',\n",
       "    'indexPrice': '25948.14',\n",
       "    'markPrice': '25946.88',\n",
       "    'prevPrice24h': '27962.60',\n",
       "    'price24hPcnt': '-0.07216',\n",
       "    'highPrice24h': '28600.00',\n",
       "    'lowPrice24h': '25690.90',\n",
       "    'prevPrice1h': '25766.40',\n",
       "    'openInterest': '158620.215',\n",
       "    'openInterestValue': '4115699684.18',\n",
       "    'turnover24h': '6140084241.7626',\n",
       "    'volume24h': '231025.0890',\n",
       "    'fundingRate': '0.0001',\n",
       "    'nextFundingTime': '1692403200000',\n",
       "    'predictedDeliveryPrice': '',\n",
       "    'basisRate': '',\n",
       "    'deliveryFeeRate': '',\n",
       "    'deliveryTime': '0',\n",
       "    'ask1Size': '104.125',\n",
       "    'bid1Price': '25940.90',\n",
       "    'ask1Price': '25944.80',\n",
       "    'bid1Size': '260.164',\n",
       "    'basis': ''}]},\n",
       " 'retExtInfo': {},\n",
       " 'time': 1692382519044}"
      ]
     },
     "execution_count": 7,
     "metadata": {},
     "output_type": "execute_result"
    }
   ],
   "source": [
    "session.get_tickers(category=\"linear\", symbol=\"BTCUSDT\")"
   ]
  },
  {
   "cell_type": "code",
   "execution_count": 8,
   "id": "cfb46943",
   "metadata": {},
   "outputs": [
    {
     "data": {
      "text/plain": [
       "{'retCode': 0,\n",
       " 'retMsg': 'OK',\n",
       " 'result': {'list': [{'symbol': 'BTCUSDT',\n",
       "    'takerFeeRate': '0.00055',\n",
       "    'makerFeeRate': '0.0002'}]},\n",
       " 'retExtInfo': {},\n",
       " 'time': 1692382522028}"
      ]
     },
     "execution_count": 8,
     "metadata": {},
     "output_type": "execute_result"
    }
   ],
   "source": [
    "session.get_fee_rates(category=\"linear\", symbol=\"BTCUSDT\")"
   ]
  },
  {
   "cell_type": "code",
   "execution_count": 9,
   "id": "9da5f7bf",
   "metadata": {},
   "outputs": [
    {
     "data": {
      "text/plain": [
       "{'retCode': 0,\n",
       " 'retMsg': 'SUCCESS',\n",
       " 'category': 'option',\n",
       " 'result': [{'period': 30, 'value': '0.28241253', 'time': '1692381600000'}]}"
      ]
     },
     "execution_count": 9,
     "metadata": {},
     "output_type": "execute_result"
    }
   ],
   "source": [
    "session.get_historical_volatility(category=\"option\", symbol=\"BTC\", period=30)"
   ]
  },
  {
   "cell_type": "code",
   "execution_count": 20,
   "id": "7abb8797",
   "metadata": {},
   "outputs": [
    {
     "data": {
      "text/plain": [
       "[{'coin': 'USDT',\n",
       "  'equity': '1000',\n",
       "  'usdValue': '',\n",
       "  'walletBalance': '1000',\n",
       "  'borrowAmount': '',\n",
       "  'availableToBorrow': '',\n",
       "  'availableToWithdraw': '1000',\n",
       "  'accruedInterest': '',\n",
       "  'totalOrderIM': '0',\n",
       "  'totalPositionIM': '0',\n",
       "  'totalPositionMM': '',\n",
       "  'unrealisedPnl': '0',\n",
       "  'cumRealisedPnl': '0'}]"
      ]
     },
     "execution_count": 20,
     "metadata": {},
     "output_type": "execute_result"
    }
   ],
   "source": [
    "session.get_wallet_balance(accountType=\"CONTRACT\")['result']['list'][0]['coin']"
   ]
  },
  {
   "cell_type": "code",
   "execution_count": 21,
   "id": "2e922ac7",
   "metadata": {},
   "outputs": [
    {
     "data": {
      "text/plain": [
       "{'retCode': 0,\n",
       " 'retMsg': 'OK',\n",
       " 'result': {'orderId': '8badea66-e3f5-40a1-90a8-a28e1b9724be',\n",
       "  'orderLinkId': ''},\n",
       " 'retExtInfo': {},\n",
       " 'time': 1692382833730}"
      ]
     },
     "execution_count": 21,
     "metadata": {},
     "output_type": "execute_result"
    }
   ],
   "source": [
    "session.place_order(category=\"linear\",symbol=\"BTCUSDT\",side=\"Buy\",orderType=\"Market\",qty=\"0.1\")"
   ]
  },
  {
   "cell_type": "code",
   "execution_count": 25,
   "id": "419120ae",
   "metadata": {},
   "outputs": [
    {
     "data": {
      "text/plain": [
       "{'retCode': 0,\n",
       " 'retMsg': 'OK',\n",
       " 'result': {'orderId': '7940e2e7-7e41-42c1-a2f8-b542f2903ceb',\n",
       "  'orderLinkId': ''},\n",
       " 'retExtInfo': {},\n",
       " 'time': 1692382968604}"
      ]
     },
     "execution_count": 25,
     "metadata": {},
     "output_type": "execute_result"
    }
   ],
   "source": [
    "session.place_order(category=\"linear\",symbol=\"BTCUSDT\",side=\"Buy\",orderType=\"Market\",qty=\"0.1\")"
   ]
  },
  {
   "cell_type": "code",
   "execution_count": null,
   "id": "0048977f",
   "metadata": {},
   "outputs": [],
   "source": [
    "session.place_order(category=\"linear\",symbol=\"BTCUSDT\",side=\"Buy\",orderType=\"Market\",qty=\"0.1\")"
   ]
  },
  {
   "cell_type": "code",
   "execution_count": 39,
   "id": "a88ccdc2",
   "metadata": {},
   "outputs": [
    {
     "data": {
      "text/plain": [
       "[{'positionIdx': 0,\n",
       "  'riskId': 1,\n",
       "  'riskLimitValue': '2000000',\n",
       "  'symbol': 'BTCUSDT',\n",
       "  'side': 'Buy',\n",
       "  'size': '0.200',\n",
       "  'avgPrice': '26045.35',\n",
       "  'positionValue': '5209.07',\n",
       "  'tradeMode': 0,\n",
       "  'positionStatus': 'Normal',\n",
       "  'autoAddMargin': 0,\n",
       "  'adlRankIndicator': 2,\n",
       "  'leverage': '10',\n",
       "  'positionBalance': '523.48548965',\n",
       "  'markPrice': '26155.85',\n",
       "  'liqPrice': '21201.50',\n",
       "  'bustPrice': '21071.30',\n",
       "  'positionMM': '21.0713',\n",
       "  'positionIM': '52.0907',\n",
       "  'tpslMode': 'Full',\n",
       "  'takeProfit': '0.00',\n",
       "  'stopLoss': '0.00',\n",
       "  'trailingStop': '0.00',\n",
       "  'unrealisedPnl': '22.1',\n",
       "  'cumRealisedPnl': '-2.8649885',\n",
       "  'createdTime': '1692382684175',\n",
       "  'updatedTime': '1692382968606'}]"
      ]
     },
     "execution_count": 39,
     "metadata": {},
     "output_type": "execute_result"
    }
   ],
   "source": [
    "session.get_positions(category=\"linear\", symbol=\"BTCUSDT\")['result']['list']"
   ]
  },
  {
   "cell_type": "code",
   "execution_count": 36,
   "id": "5f122a9f",
   "metadata": {},
   "outputs": [
    {
     "data": {
      "text/plain": [
       "[{'coin': 'USDT',\n",
       "  'equity': '1020.8850115',\n",
       "  'usdValue': '',\n",
       "  'walletBalance': '997.1350115',\n",
       "  'borrowAmount': '',\n",
       "  'availableToBorrow': '',\n",
       "  'availableToWithdraw': '473.64952185',\n",
       "  'accruedInterest': '',\n",
       "  'totalOrderIM': '0',\n",
       "  'totalPositionIM': '523.48548965',\n",
       "  'totalPositionMM': '',\n",
       "  'unrealisedPnl': '23.75',\n",
       "  'cumRealisedPnl': '-2.8649885'}]"
      ]
     },
     "execution_count": 36,
     "metadata": {},
     "output_type": "execute_result"
    }
   ],
   "source": [
    "session.get_wallet_balance(accountType=\"CONTRACT\")['result']['list'][0]['coin']"
   ]
  },
  {
   "cell_type": "code",
   "execution_count": 46,
   "id": "85583983",
   "metadata": {},
   "outputs": [
    {
     "data": {
      "text/plain": [
       "{'retCode': 0,\n",
       " 'retMsg': 'OK',\n",
       " 'result': {'orderId': '7b0f1c40-24d4-4e5e-b03b-f482996c1e10',\n",
       "  'orderLinkId': ''},\n",
       " 'retExtInfo': {},\n",
       " 'time': 1692384305894}"
      ]
     },
     "execution_count": 46,
     "metadata": {},
     "output_type": "execute_result"
    }
   ],
   "source": [
    "pos_size = float(session.get_positions(category=\"linear\", symbol=\"BTCUSDT\")['result']['list'][0]['size'])\n",
    "session.place_order(category=\"linear\",symbol=\"BTCUSDT\",side=\"Sell\",orderType=\"Market\",qty=pos_size, reduceOnly=True)"
   ]
  },
  {
   "cell_type": "code",
   "execution_count": 47,
   "id": "f981df5e",
   "metadata": {},
   "outputs": [
    {
     "data": {
      "text/plain": [
       "[{'positionIdx': 0,\n",
       "  'riskId': 1,\n",
       "  'riskLimitValue': '2000000',\n",
       "  'symbol': 'BTCUSDT',\n",
       "  'side': 'None',\n",
       "  'size': '0.000',\n",
       "  'avgPrice': '0',\n",
       "  'positionValue': '0',\n",
       "  'tradeMode': 0,\n",
       "  'positionStatus': 'Normal',\n",
       "  'autoAddMargin': 0,\n",
       "  'adlRankIndicator': 0,\n",
       "  'leverage': '10',\n",
       "  'positionBalance': '0',\n",
       "  'markPrice': '26165.58',\n",
       "  'liqPrice': '',\n",
       "  'bustPrice': '0.00',\n",
       "  'positionMM': '0',\n",
       "  'positionIM': '0',\n",
       "  'tpslMode': 'Full',\n",
       "  'takeProfit': '0.00',\n",
       "  'stopLoss': '0.00',\n",
       "  'trailingStop': '0.00',\n",
       "  'unrealisedPnl': '0',\n",
       "  'cumRealisedPnl': '16.7276645',\n",
       "  'createdTime': '1692382684175',\n",
       "  'updatedTime': '1692384305896'}]"
      ]
     },
     "execution_count": 47,
     "metadata": {},
     "output_type": "execute_result"
    }
   ],
   "source": [
    "session.get_positions(category=\"linear\", symbol=\"BTCUSDT\")['result']['list']"
   ]
  },
  {
   "cell_type": "code",
   "execution_count": 48,
   "id": "dc57e6da",
   "metadata": {},
   "outputs": [
    {
     "data": {
      "text/plain": [
       "[{'coin': 'USDT',\n",
       "  'equity': '1016.7276645',\n",
       "  'usdValue': '',\n",
       "  'walletBalance': '1016.7276645',\n",
       "  'borrowAmount': '',\n",
       "  'availableToBorrow': '',\n",
       "  'availableToWithdraw': '1016.7276645',\n",
       "  'accruedInterest': '',\n",
       "  'totalOrderIM': '0',\n",
       "  'totalPositionIM': '0',\n",
       "  'totalPositionMM': '',\n",
       "  'unrealisedPnl': '0',\n",
       "  'cumRealisedPnl': '16.7276645'}]"
      ]
     },
     "execution_count": 48,
     "metadata": {},
     "output_type": "execute_result"
    }
   ],
   "source": [
    "session.get_wallet_balance(accountType=\"CONTRACT\")['result']['list'][0]['coin']"
   ]
  }
 ],
 "metadata": {
  "kernelspec": {
   "display_name": "Python 3 (ipykernel)",
   "language": "python",
   "name": "python3"
  },
  "language_info": {
   "codemirror_mode": {
    "name": "ipython",
    "version": 3
   },
   "file_extension": ".py",
   "mimetype": "text/x-python",
   "name": "python",
   "nbconvert_exporter": "python",
   "pygments_lexer": "ipython3",
   "version": "3.9.7"
  }
 },
 "nbformat": 4,
 "nbformat_minor": 5
}
