{
 "cells": [
  {
   "cell_type": "code",
   "execution_count": 1,
   "id": "87d0714f",
   "metadata": {},
   "outputs": [],
   "source": [
    "import numpy as np\n",
    "import pandas as pd\n",
    "from dateutil.parser import parse\n",
    "import matplotlib.pyplot as plt\n",
    "import yfinance\n",
    "from datetime import datetime"
   ]
  },
  {
   "cell_type": "code",
   "execution_count": 2,
   "id": "02d8b294",
   "metadata": {},
   "outputs": [
    {
     "name": "stdout",
     "output_type": "stream",
     "text": [
      "[*********************100%***********************]  1 of 1 completed\n"
     ]
    }
   ],
   "source": [
    "start = datetime(2011, 1, 1)\n",
    "data = yfinance.download('BTC-USD', start)"
   ]
  },
  {
   "cell_type": "code",
   "execution_count": 3,
   "id": "18538e80",
   "metadata": {},
   "outputs": [
    {
     "data": {
      "text/html": [
       "<div>\n",
       "<style scoped>\n",
       "    .dataframe tbody tr th:only-of-type {\n",
       "        vertical-align: middle;\n",
       "    }\n",
       "\n",
       "    .dataframe tbody tr th {\n",
       "        vertical-align: top;\n",
       "    }\n",
       "\n",
       "    .dataframe thead th {\n",
       "        text-align: right;\n",
       "    }\n",
       "</style>\n",
       "<table border=\"1\" class=\"dataframe\">\n",
       "  <thead>\n",
       "    <tr style=\"text-align: right;\">\n",
       "      <th></th>\n",
       "      <th>Open</th>\n",
       "      <th>High</th>\n",
       "      <th>Low</th>\n",
       "      <th>Close</th>\n",
       "      <th>Adj Close</th>\n",
       "      <th>Volume</th>\n",
       "    </tr>\n",
       "    <tr>\n",
       "      <th>Date</th>\n",
       "      <th></th>\n",
       "      <th></th>\n",
       "      <th></th>\n",
       "      <th></th>\n",
       "      <th></th>\n",
       "      <th></th>\n",
       "    </tr>\n",
       "  </thead>\n",
       "  <tbody>\n",
       "    <tr>\n",
       "      <th>2014-09-17</th>\n",
       "      <td>465.864014</td>\n",
       "      <td>468.174011</td>\n",
       "      <td>452.421997</td>\n",
       "      <td>457.334015</td>\n",
       "      <td>457.334015</td>\n",
       "      <td>21056800</td>\n",
       "    </tr>\n",
       "    <tr>\n",
       "      <th>2014-09-18</th>\n",
       "      <td>456.859985</td>\n",
       "      <td>456.859985</td>\n",
       "      <td>413.104004</td>\n",
       "      <td>424.440002</td>\n",
       "      <td>424.440002</td>\n",
       "      <td>34483200</td>\n",
       "    </tr>\n",
       "    <tr>\n",
       "      <th>2014-09-19</th>\n",
       "      <td>424.102997</td>\n",
       "      <td>427.834991</td>\n",
       "      <td>384.532013</td>\n",
       "      <td>394.795990</td>\n",
       "      <td>394.795990</td>\n",
       "      <td>37919700</td>\n",
       "    </tr>\n",
       "    <tr>\n",
       "      <th>2014-09-20</th>\n",
       "      <td>394.673004</td>\n",
       "      <td>423.295990</td>\n",
       "      <td>389.882996</td>\n",
       "      <td>408.903992</td>\n",
       "      <td>408.903992</td>\n",
       "      <td>36863600</td>\n",
       "    </tr>\n",
       "    <tr>\n",
       "      <th>2014-09-21</th>\n",
       "      <td>408.084991</td>\n",
       "      <td>412.425995</td>\n",
       "      <td>393.181000</td>\n",
       "      <td>398.821014</td>\n",
       "      <td>398.821014</td>\n",
       "      <td>26580100</td>\n",
       "    </tr>\n",
       "  </tbody>\n",
       "</table>\n",
       "</div>"
      ],
      "text/plain": [
       "                  Open        High         Low       Close   Adj Close  \\\n",
       "Date                                                                     \n",
       "2014-09-17  465.864014  468.174011  452.421997  457.334015  457.334015   \n",
       "2014-09-18  456.859985  456.859985  413.104004  424.440002  424.440002   \n",
       "2014-09-19  424.102997  427.834991  384.532013  394.795990  394.795990   \n",
       "2014-09-20  394.673004  423.295990  389.882996  408.903992  408.903992   \n",
       "2014-09-21  408.084991  412.425995  393.181000  398.821014  398.821014   \n",
       "\n",
       "              Volume  \n",
       "Date                  \n",
       "2014-09-17  21056800  \n",
       "2014-09-18  34483200  \n",
       "2014-09-19  37919700  \n",
       "2014-09-20  36863600  \n",
       "2014-09-21  26580100  "
      ]
     },
     "execution_count": 3,
     "metadata": {},
     "output_type": "execute_result"
    }
   ],
   "source": [
    "data.head()"
   ]
  },
  {
   "cell_type": "code",
   "execution_count": 4,
   "id": "20d9cf52",
   "metadata": {},
   "outputs": [
    {
     "data": {
      "text/html": [
       "<div>\n",
       "<style scoped>\n",
       "    .dataframe tbody tr th:only-of-type {\n",
       "        vertical-align: middle;\n",
       "    }\n",
       "\n",
       "    .dataframe tbody tr th {\n",
       "        vertical-align: top;\n",
       "    }\n",
       "\n",
       "    .dataframe thead th {\n",
       "        text-align: right;\n",
       "    }\n",
       "</style>\n",
       "<table border=\"1\" class=\"dataframe\">\n",
       "  <thead>\n",
       "    <tr style=\"text-align: right;\">\n",
       "      <th></th>\n",
       "      <th>Open</th>\n",
       "      <th>High</th>\n",
       "      <th>Low</th>\n",
       "      <th>Close</th>\n",
       "      <th>Adj Close</th>\n",
       "      <th>Volume</th>\n",
       "    </tr>\n",
       "    <tr>\n",
       "      <th>Date</th>\n",
       "      <th></th>\n",
       "      <th></th>\n",
       "      <th></th>\n",
       "      <th></th>\n",
       "      <th></th>\n",
       "      <th></th>\n",
       "    </tr>\n",
       "  </thead>\n",
       "  <tbody>\n",
       "    <tr>\n",
       "      <th>2023-07-30</th>\n",
       "      <td>29357.093750</td>\n",
       "      <td>29443.169922</td>\n",
       "      <td>29059.501953</td>\n",
       "      <td>29275.308594</td>\n",
       "      <td>29275.308594</td>\n",
       "      <td>8678454527</td>\n",
       "    </tr>\n",
       "    <tr>\n",
       "      <th>2023-07-31</th>\n",
       "      <td>29278.314453</td>\n",
       "      <td>29489.873047</td>\n",
       "      <td>29131.578125</td>\n",
       "      <td>29230.111328</td>\n",
       "      <td>29230.111328</td>\n",
       "      <td>11656781982</td>\n",
       "    </tr>\n",
       "    <tr>\n",
       "      <th>2023-08-01</th>\n",
       "      <td>29230.873047</td>\n",
       "      <td>29675.732422</td>\n",
       "      <td>28657.023438</td>\n",
       "      <td>29675.732422</td>\n",
       "      <td>29675.732422</td>\n",
       "      <td>18272392391</td>\n",
       "    </tr>\n",
       "    <tr>\n",
       "      <th>2023-08-02</th>\n",
       "      <td>29704.146484</td>\n",
       "      <td>29987.998047</td>\n",
       "      <td>28946.509766</td>\n",
       "      <td>29151.958984</td>\n",
       "      <td>29151.958984</td>\n",
       "      <td>19212655598</td>\n",
       "    </tr>\n",
       "    <tr>\n",
       "      <th>2023-08-04</th>\n",
       "      <td>29196.816406</td>\n",
       "      <td>29221.357422</td>\n",
       "      <td>29117.644531</td>\n",
       "      <td>29153.138672</td>\n",
       "      <td>29153.138672</td>\n",
       "      <td>12334159872</td>\n",
       "    </tr>\n",
       "  </tbody>\n",
       "</table>\n",
       "</div>"
      ],
      "text/plain": [
       "                    Open          High           Low         Close  \\\n",
       "Date                                                                 \n",
       "2023-07-30  29357.093750  29443.169922  29059.501953  29275.308594   \n",
       "2023-07-31  29278.314453  29489.873047  29131.578125  29230.111328   \n",
       "2023-08-01  29230.873047  29675.732422  28657.023438  29675.732422   \n",
       "2023-08-02  29704.146484  29987.998047  28946.509766  29151.958984   \n",
       "2023-08-04  29196.816406  29221.357422  29117.644531  29153.138672   \n",
       "\n",
       "               Adj Close       Volume  \n",
       "Date                                   \n",
       "2023-07-30  29275.308594   8678454527  \n",
       "2023-07-31  29230.111328  11656781982  \n",
       "2023-08-01  29675.732422  18272392391  \n",
       "2023-08-02  29151.958984  19212655598  \n",
       "2023-08-04  29153.138672  12334159872  "
      ]
     },
     "execution_count": 4,
     "metadata": {},
     "output_type": "execute_result"
    }
   ],
   "source": [
    "data.tail()"
   ]
  },
  {
   "cell_type": "code",
   "execution_count": 5,
   "id": "ceafb88a",
   "metadata": {},
   "outputs": [
    {
     "data": {
      "text/plain": [
       "[<matplotlib.lines.Line2D at 0x18d241afeb0>]"
      ]
     },
     "execution_count": 5,
     "metadata": {},
     "output_type": "execute_result"
    },
    {
     "data": {
      "image/png": "[encoded data removed]",
      "text/plain": [
       "<Figure size 432x288 with 1 Axes>"
      ]
     },
     "metadata": {
      "needs_background": "light"
     },
     "output_type": "display_data"
    }
   ],
   "source": [
    "plt.plot(data['Volume'])"
   ]
  },
  {
   "cell_type": "code",
   "execution_count": 6,
   "id": "a57b7bc7",
   "metadata": {},
   "outputs": [
    {
     "data": {
      "image/png": "[encoded data removed]",
      "text/plain": [
       "<Figure size 432x288 with 1 Axes>"
      ]
     },
     "metadata": {
      "needs_background": "light"
     },
     "output_type": "display_data"
    }
   ],
   "source": [
    "plt.hist(data['Close'], 100)\n",
    "plt.show()"
   ]
  },
  {
   "cell_type": "code",
   "execution_count": 7,
   "id": "4ebe679d",
   "metadata": {},
   "outputs": [],
   "source": [
    "data = data.assign(bins=pd.cut(data['Close'], 100))"
   ]
  },
  {
   "cell_type": "code",
   "execution_count": 8,
   "id": "988d1f6b",
   "metadata": {},
   "outputs": [
    {
     "data": {
      "text/html": [
       "<div>\n",
       "<style scoped>\n",
       "    .dataframe tbody tr th:only-of-type {\n",
       "        vertical-align: middle;\n",
       "    }\n",
       "\n",
       "    .dataframe tbody tr th {\n",
       "        vertical-align: top;\n",
       "    }\n",
       "\n",
       "    .dataframe thead th {\n",
       "        text-align: right;\n",
       "    }\n",
       "</style>\n",
       "<table border=\"1\" class=\"dataframe\">\n",
       "  <thead>\n",
       "    <tr style=\"text-align: right;\">\n",
       "      <th></th>\n",
       "      <th>Volume</th>\n",
       "    </tr>\n",
       "    <tr>\n",
       "      <th>bins</th>\n",
       "      <th></th>\n",
       "    </tr>\n",
       "  </thead>\n",
       "  <tbody>\n",
       "    <tr>\n",
       "      <th>(110.714, 851.99]</th>\n",
       "      <td>45529047788</td>\n",
       "    </tr>\n",
       "    <tr>\n",
       "      <th>(851.99, 1525.877]</th>\n",
       "      <td>32652960940</td>\n",
       "    </tr>\n",
       "    <tr>\n",
       "      <th>(1525.877, 2199.765]</th>\n",
       "      <td>24849811936</td>\n",
       "    </tr>\n",
       "    <tr>\n",
       "      <th>(2199.765, 2873.652]</th>\n",
       "      <td>83327936896</td>\n",
       "    </tr>\n",
       "    <tr>\n",
       "      <th>(2873.652, 3547.539]</th>\n",
       "      <td>132095919297</td>\n",
       "    </tr>\n",
       "    <tr>\n",
       "      <th>...</th>\n",
       "      <td>...</td>\n",
       "    </tr>\n",
       "    <tr>\n",
       "      <th>(64197.392, 64871.279]</th>\n",
       "      <td>70945425123</td>\n",
       "    </tr>\n",
       "    <tr>\n",
       "      <th>(64871.279, 65545.166]</th>\n",
       "      <td>109733553805</td>\n",
       "    </tr>\n",
       "    <tr>\n",
       "      <th>(65545.166, 66219.054]</th>\n",
       "      <td>40788955582</td>\n",
       "    </tr>\n",
       "    <tr>\n",
       "      <th>(66219.054, 66892.941]</th>\n",
       "      <td>0</td>\n",
       "    </tr>\n",
       "    <tr>\n",
       "      <th>(66892.941, 67566.828]</th>\n",
       "      <td>83483600051</td>\n",
       "    </tr>\n",
       "  </tbody>\n",
       "</table>\n",
       "<p>100 rows × 1 columns</p>\n",
       "</div>"
      ],
      "text/plain": [
       "                              Volume\n",
       "bins                                \n",
       "(110.714, 851.99]        45529047788\n",
       "(851.99, 1525.877]       32652960940\n",
       "(1525.877, 2199.765]     24849811936\n",
       "(2199.765, 2873.652]     83327936896\n",
       "(2873.652, 3547.539]    132095919297\n",
       "...                              ...\n",
       "(64197.392, 64871.279]   70945425123\n",
       "(64871.279, 65545.166]  109733553805\n",
       "(65545.166, 66219.054]   40788955582\n",
       "(66219.054, 66892.941]             0\n",
       "(66892.941, 67566.828]   83483600051\n",
       "\n",
       "[100 rows x 1 columns]"
      ]
     },
     "execution_count": 8,
     "metadata": {},
     "output_type": "execute_result"
    }
   ],
   "source": [
    "vp = data.groupby('bins').sum().drop(columns=['Open', 'High', 'Low', 'Close', 'Adj Close'])\n",
    "vp"
   ]
  },
  {
   "cell_type": "code",
   "execution_count": 9,
   "id": "537adc9d",
   "metadata": {},
   "outputs": [
    {
     "data": {
      "image/png": "[encoded data removed]",
      "text/plain": [
       "<Figure size 1080x360 with 1 Axes>"
      ]
     },
     "metadata": {
      "needs_background": "light"
     },
     "output_type": "display_data"
    }
   ],
   "source": [
    "plt.figure(figsize=(15, 5))\n",
    "plt.bar(np.array([i.right for i in vp.index]), np.array(vp['Volume'].to_numpy()), width=741.276)\n",
    "plt.xlabel('Price [USD]')\n",
    "plt.ylabel('Volume [USD]')\n",
    "plt.title('BTC Volume Profile in USD')\n",
    "plt.show()"
   ]
  }
 ],
 "metadata": {
  "kernelspec": {
   "display_name": "Python 3 (ipykernel)",
   "language": "python",
   "name": "python3"
  },
  "language_info": {
   "codemirror_mode": {
    "name": "ipython",
    "version": 3
   },
   "file_extension": ".py",
   "mimetype": "text/x-python",
   "name": "python",
   "nbconvert_exporter": "python",
   "pygments_lexer": "ipython3",
   "version": "3.9.7"
  }
 },
 "nbformat": 4,
 "nbformat_minor": 5
}
