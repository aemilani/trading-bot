{
 "cells": [
  {
   "cell_type": "code",
   "execution_count": null,
   "id": "8c6ba015",
   "metadata": {},
   "outputs": [],
   "source": [
    "import json\n",
    "import websocket\n",
    "import multiprocessing\n",
    "from binance_utils import get_order_book"
   ]
  },
  {
   "cell_type": "code",
   "execution_count": null,
   "id": "ca75e893",
   "metadata": {},
   "outputs": [],
   "source": [
    "def on_message_trades(wsapp, message):\n",
    "    with open(\"data/trades.txt\", \"a\") as f:\n",
    "        f.write(message + \"\\n\")"
   ]
  },
  {
   "cell_type": "code",
   "execution_count": null,
   "id": "2ee09245",
   "metadata": {},
   "outputs": [],
   "source": [
    "def on_message_orderbook(wsapp, message):\n",
    "    with open(\"data/orderbook.txt\", \"a\") as f:\n",
    "        f.write(message + \"\\n\")"
   ]
  },
  {
   "cell_type": "code",
   "execution_count": null,
   "id": "198dd185",
   "metadata": {},
   "outputs": [],
   "source": [
    "trade_endpoint = 'wss://stream.binance.com:9443/ws/btcusdt@aggTrade'\n",
    "orderbook_endpoint = 'wss://stream.binance.com:9443/ws/btcusdt@depth10'"
   ]
  },
  {
   "cell_type": "markdown",
   "id": "d435044d",
   "metadata": {},
   "source": [
    "- e: The event type. In this case, it is a trade event.\n",
    "- E: The event time in milliseconds.\n",
    "- s: The symbol for the trading pair. In this case, it is BTCUSDT.\n",
    "- t: The trade ID.\n",
    "- p: The price at which the trade occurred.\n",
    "- q: The quantity of the asset that was traded.\n",
    "- b: The buyer order ID.\n",
    "- a: The seller order ID.\n",
    "- T: The time in milliseconds when the trade was executed.\n",
    "- m: A flag that indicates whether the trade was a buyer or seller maker. \"true\" means the trade was a maker order, while \"false\" means the trade was a taker order.\n",
    "- M: A flag that indicates whether the trade was an order executed with the \"market\" order type."
   ]
  },
  {
   "cell_type": "code",
   "execution_count": null,
   "id": "3c4ae987",
   "metadata": {},
   "outputs": [],
   "source": [
    "wsapp_trades = websocket.WebSocketApp(trade_endpoint, on_message=on_message_trades)\n",
    "wsapp_trades.run_forever()"
   ]
  },
  {
   "cell_type": "code",
   "execution_count": null,
   "id": "f7b28f96",
   "metadata": {},
   "outputs": [],
   "source": [
    "wsapp_orderbook = websocket.WebSocketApp(orderbook_endpoint, on_message=on_message_orderbook)\n",
    "wsapp_orderbook.run_forever()"
   ]
  },
  {
   "cell_type": "code",
   "execution_count": null,
   "id": "9b22d6e2",
   "metadata": {},
   "outputs": [],
   "source": [
    "ws = websocket.WebSocket()\n",
    "ws.connect(orderbook_endpoint)\n",
    "ws.recv()"
   ]
  }
 ],
 "metadata": {
  "kernelspec": {
   "display_name": "Python 3 (ipykernel)",
   "language": "python",
   "name": "python3"
  },
  "language_info": {
   "codemirror_mode": {
    "name": "ipython",
    "version": 3
   },
   "file_extension": ".py",
   "mimetype": "text/x-python",
   "name": "python",
   "nbconvert_exporter": "python",
   "pygments_lexer": "ipython3",
   "version": "3.9.7"
  }
 },
 "nbformat": 4,
 "nbformat_minor": 5
}
