{
 "cells": [
  {
   "cell_type": "code",
   "execution_count": 1,
   "id": "e55c4c39",
   "metadata": {},
   "outputs": [],
   "source": [
    "import datetime\n",
    "import numpy as np\n",
    "import pandas as pd\n",
    "import pandas_ta as ta\n",
    "import matplotlib.pyplot as plt\n",
    "import mplfinance as mpf\n",
    "from dateutil.parser import parse\n",
    "from dataset import Dataset\n",
    "from portfolio import Portfolio"
   ]
  },
  {
   "cell_type": "code",
   "execution_count": 2,
   "id": "fa412a63",
   "metadata": {},
   "outputs": [],
   "source": [
    "def get_thr(l, std_ratio=3):\n",
    "    m = np.mean(l)\n",
    "    thr = 0\n",
    "    while thr < std_ratio:\n",
    "        ll = l.copy()\n",
    "        ll.append(m)\n",
    "        thr = (m - np.mean(ll)) / np.std(ll)\n",
    "        m += 1\n",
    "    return m - 1"
   ]
  },
  {
   "cell_type": "code",
   "execution_count": 61,
   "id": "b98a258f",
   "metadata": {},
   "outputs": [
    {
     "name": "stdout",
     "output_type": "stream",
     "text": [
      "days = 606\n"
     ]
    }
   ],
   "source": [
    "tf_hours = 1\n",
    "\n",
    "start_date = parse('2022-01-01')\n",
    "end_date = datetime.datetime.now() + datetime.timedelta(days=1)\n",
    "days = (end_date - start_date).days\n",
    "print(f'{days = }')\n",
    "\n",
    "data = Dataset().get_data(ticker='BTCUSDT', interval=f'{tf_hours}h', start_date=start_date.strftime('%Y-%m-%d'),\n",
    "                          end_date=end_date.strftime('%Y-%m-%d'))"
   ]
  },
  {
   "cell_type": "code",
   "execution_count": 62,
   "id": "1608baf0",
   "metadata": {},
   "outputs": [],
   "source": [
    "data = data[['open', 'high', 'low', 'close']]"
   ]
  },
  {
   "cell_type": "code",
   "execution_count": 63,
   "id": "d80e1fb9",
   "metadata": {},
   "outputs": [],
   "source": [
    "data['candle_size'] = data['high'] - data['low']\n",
    "data['candle_size_mean'] = data['candle_size'].rolling(14).mean()\n",
    "data['candle_size_std'] = data['candle_size'].rolling(14).std()\n",
    "data['std_ratio'] = (data['candle_size'] - data['candle_size_mean']) / data['candle_size_std']"
   ]
  },
  {
   "cell_type": "code",
   "execution_count": 64,
   "id": "c17b0ca5",
   "metadata": {},
   "outputs": [
    {
     "data": {
      "text/html": [
       "<div>\n",
       "<style scoped>\n",
       "    .dataframe tbody tr th:only-of-type {\n",
       "        vertical-align: middle;\n",
       "    }\n",
       "\n",
       "    .dataframe tbody tr th {\n",
       "        vertical-align: top;\n",
       "    }\n",
       "\n",
       "    .dataframe thead th {\n",
       "        text-align: right;\n",
       "    }\n",
       "</style>\n",
       "<table border=\"1\" class=\"dataframe\">\n",
       "  <thead>\n",
       "    <tr style=\"text-align: right;\">\n",
       "      <th></th>\n",
       "      <th>open</th>\n",
       "      <th>high</th>\n",
       "      <th>low</th>\n",
       "      <th>close</th>\n",
       "      <th>candle_size</th>\n",
       "      <th>candle_size_mean</th>\n",
       "      <th>candle_size_std</th>\n",
       "      <th>std_ratio</th>\n",
       "    </tr>\n",
       "    <tr>\n",
       "      <th>time</th>\n",
       "      <th></th>\n",
       "      <th></th>\n",
       "      <th></th>\n",
       "      <th></th>\n",
       "      <th></th>\n",
       "      <th></th>\n",
       "      <th></th>\n",
       "      <th></th>\n",
       "    </tr>\n",
       "  </thead>\n",
       "  <tbody>\n",
       "    <tr>\n",
       "      <th>2023-08-29 18:00:00</th>\n",
       "      <td>27999.99</td>\n",
       "      <td>28097.91</td>\n",
       "      <td>27793.33</td>\n",
       "      <td>27892.07</td>\n",
       "      <td>304.58</td>\n",
       "      <td>263.070000</td>\n",
       "      <td>444.601023</td>\n",
       "      <td>0.093365</td>\n",
       "    </tr>\n",
       "    <tr>\n",
       "      <th>2023-08-29 19:00:00</th>\n",
       "      <td>27892.08</td>\n",
       "      <td>28020.73</td>\n",
       "      <td>27835.84</td>\n",
       "      <td>27971.79</td>\n",
       "      <td>184.89</td>\n",
       "      <td>273.393571</td>\n",
       "      <td>440.692742</td>\n",
       "      <td>-0.200828</td>\n",
       "    </tr>\n",
       "    <tr>\n",
       "      <th>2023-08-29 20:00:00</th>\n",
       "      <td>27971.78</td>\n",
       "      <td>27995.00</td>\n",
       "      <td>27823.91</td>\n",
       "      <td>27831.33</td>\n",
       "      <td>171.09</td>\n",
       "      <td>281.113571</td>\n",
       "      <td>437.660002</td>\n",
       "      <td>-0.251391</td>\n",
       "    </tr>\n",
       "    <tr>\n",
       "      <th>2023-08-29 21:00:00</th>\n",
       "      <td>27831.33</td>\n",
       "      <td>27883.61</td>\n",
       "      <td>27561.24</td>\n",
       "      <td>27569.28</td>\n",
       "      <td>322.37</td>\n",
       "      <td>299.842857</td>\n",
       "      <td>433.063524</td>\n",
       "      <td>0.052018</td>\n",
       "    </tr>\n",
       "    <tr>\n",
       "      <th>2023-08-29 22:00:00</th>\n",
       "      <td>27569.28</td>\n",
       "      <td>27650.00</td>\n",
       "      <td>27564.39</td>\n",
       "      <td>27633.12</td>\n",
       "      <td>85.61</td>\n",
       "      <td>301.768571</td>\n",
       "      <td>431.967058</td>\n",
       "      <td>-0.500405</td>\n",
       "    </tr>\n",
       "  </tbody>\n",
       "</table>\n",
       "</div>"
      ],
      "text/plain": [
       "                         open      high       low     close  candle_size  \\\n",
       "time                                                                       \n",
       "2023-08-29 18:00:00  27999.99  28097.91  27793.33  27892.07       304.58   \n",
       "2023-08-29 19:00:00  27892.08  28020.73  27835.84  27971.79       184.89   \n",
       "2023-08-29 20:00:00  27971.78  27995.00  27823.91  27831.33       171.09   \n",
       "2023-08-29 21:00:00  27831.33  27883.61  27561.24  27569.28       322.37   \n",
       "2023-08-29 22:00:00  27569.28  27650.00  27564.39  27633.12        85.61   \n",
       "\n",
       "                     candle_size_mean  candle_size_std  std_ratio  \n",
       "time                                                               \n",
       "2023-08-29 18:00:00        263.070000       444.601023   0.093365  \n",
       "2023-08-29 19:00:00        273.393571       440.692742  -0.200828  \n",
       "2023-08-29 20:00:00        281.113571       437.660002  -0.251391  \n",
       "2023-08-29 21:00:00        299.842857       433.063524   0.052018  \n",
       "2023-08-29 22:00:00        301.768571       431.967058  -0.500405  "
      ]
     },
     "execution_count": 64,
     "metadata": {},
     "output_type": "execute_result"
    }
   ],
   "source": [
    "data.tail()"
   ]
  },
  {
   "cell_type": "code",
   "execution_count": 65,
   "id": "879f1331",
   "metadata": {},
   "outputs": [
    {
     "data": {
      "text/plain": [
       "3.469443395470328"
      ]
     },
     "execution_count": 65,
     "metadata": {},
     "output_type": "execute_result"
    }
   ],
   "source": [
    "data['std_ratio'].max()"
   ]
  },
  {
   "cell_type": "code",
   "execution_count": 66,
   "id": "2a05693c",
   "metadata": {},
   "outputs": [
    {
     "data": {
      "image/png": "[encoded data removed]",
      "text/plain": [
       "<Figure size 432x288 with 1 Axes>"
      ]
     },
     "metadata": {
      "needs_background": "light"
     },
     "output_type": "display_data"
    }
   ],
   "source": [
    "plt.hist(data['std_ratio'], bins=10)\n",
    "plt.show()"
   ]
  },
  {
   "cell_type": "code",
   "execution_count": 67,
   "id": "9032f8ff",
   "metadata": {},
   "outputs": [],
   "source": [
    "std_multiple = 3\n",
    "data_high_vol = data[data['std_ratio'] >= std_multiple]"
   ]
  },
  {
   "cell_type": "code",
   "execution_count": 68,
   "id": "c89dbce2",
   "metadata": {},
   "outputs": [
    {
     "data": {
      "text/html": [
       "<div>\n",
       "<style scoped>\n",
       "    .dataframe tbody tr th:only-of-type {\n",
       "        vertical-align: middle;\n",
       "    }\n",
       "\n",
       "    .dataframe tbody tr th {\n",
       "        vertical-align: top;\n",
       "    }\n",
       "\n",
       "    .dataframe thead th {\n",
       "        text-align: right;\n",
       "    }\n",
       "</style>\n",
       "<table border=\"1\" class=\"dataframe\">\n",
       "  <thead>\n",
       "    <tr style=\"text-align: right;\">\n",
       "      <th></th>\n",
       "      <th>open</th>\n",
       "      <th>high</th>\n",
       "      <th>low</th>\n",
       "      <th>close</th>\n",
       "      <th>candle_size</th>\n",
       "      <th>candle_size_mean</th>\n",
       "      <th>candle_size_std</th>\n",
       "      <th>std_ratio</th>\n",
       "    </tr>\n",
       "    <tr>\n",
       "      <th>time</th>\n",
       "      <th></th>\n",
       "      <th></th>\n",
       "      <th></th>\n",
       "      <th></th>\n",
       "      <th></th>\n",
       "      <th></th>\n",
       "      <th></th>\n",
       "      <th></th>\n",
       "    </tr>\n",
       "  </thead>\n",
       "  <tbody>\n",
       "    <tr>\n",
       "      <th>2022-01-07 04:00:00</th>\n",
       "      <td>42799.12</td>\n",
       "      <td>42827.07</td>\n",
       "      <td>41577.77</td>\n",
       "      <td>41803.11</td>\n",
       "      <td>1249.30</td>\n",
       "      <td>399.013571</td>\n",
       "      <td>265.628783</td>\n",
       "      <td>3.201033</td>\n",
       "    </tr>\n",
       "    <tr>\n",
       "      <th>2022-01-10 15:00:00</th>\n",
       "      <td>40774.01</td>\n",
       "      <td>41275.92</td>\n",
       "      <td>39650.00</td>\n",
       "      <td>40786.57</td>\n",
       "      <td>1625.92</td>\n",
       "      <td>401.798571</td>\n",
       "      <td>375.467522</td>\n",
       "      <td>3.260259</td>\n",
       "    </tr>\n",
       "    <tr>\n",
       "      <th>2022-01-12 12:00:00</th>\n",
       "      <td>42765.18</td>\n",
       "      <td>43443.60</td>\n",
       "      <td>42683.21</td>\n",
       "      <td>42935.92</td>\n",
       "      <td>760.39</td>\n",
       "      <td>282.051429</td>\n",
       "      <td>149.616642</td>\n",
       "      <td>3.197095</td>\n",
       "    </tr>\n",
       "    <tr>\n",
       "      <th>2022-01-13 15:00:00</th>\n",
       "      <td>43924.61</td>\n",
       "      <td>44500.00</td>\n",
       "      <td>43840.28</td>\n",
       "      <td>44154.52</td>\n",
       "      <td>659.72</td>\n",
       "      <td>265.218571</td>\n",
       "      <td>123.915523</td>\n",
       "      <td>3.183632</td>\n",
       "    </tr>\n",
       "    <tr>\n",
       "      <th>2022-01-13 16:00:00</th>\n",
       "      <td>44154.52</td>\n",
       "      <td>44211.00</td>\n",
       "      <td>42871.01</td>\n",
       "      <td>43200.00</td>\n",
       "      <td>1339.99</td>\n",
       "      <td>340.077857</td>\n",
       "      <td>313.243513</td>\n",
       "      <td>3.192124</td>\n",
       "    </tr>\n",
       "  </tbody>\n",
       "</table>\n",
       "</div>"
      ],
      "text/plain": [
       "                         open      high       low     close  candle_size  \\\n",
       "time                                                                       \n",
       "2022-01-07 04:00:00  42799.12  42827.07  41577.77  41803.11      1249.30   \n",
       "2022-01-10 15:00:00  40774.01  41275.92  39650.00  40786.57      1625.92   \n",
       "2022-01-12 12:00:00  42765.18  43443.60  42683.21  42935.92       760.39   \n",
       "2022-01-13 15:00:00  43924.61  44500.00  43840.28  44154.52       659.72   \n",
       "2022-01-13 16:00:00  44154.52  44211.00  42871.01  43200.00      1339.99   \n",
       "\n",
       "                     candle_size_mean  candle_size_std  std_ratio  \n",
       "time                                                               \n",
       "2022-01-07 04:00:00        399.013571       265.628783   3.201033  \n",
       "2022-01-10 15:00:00        401.798571       375.467522   3.260259  \n",
       "2022-01-12 12:00:00        282.051429       149.616642   3.197095  \n",
       "2022-01-13 15:00:00        265.218571       123.915523   3.183632  \n",
       "2022-01-13 16:00:00        340.077857       313.243513   3.192124  "
      ]
     },
     "execution_count": 68,
     "metadata": {},
     "output_type": "execute_result"
    }
   ],
   "source": [
    "data_high_vol.head()"
   ]
  },
  {
   "cell_type": "code",
   "execution_count": 69,
   "id": "03a26a25",
   "metadata": {},
   "outputs": [
    {
     "data": {
      "text/plain": [
       "(225, 8)"
      ]
     },
     "execution_count": 69,
     "metadata": {},
     "output_type": "execute_result"
    }
   ],
   "source": [
    "data_high_vol.shape"
   ]
  },
  {
   "cell_type": "code",
   "execution_count": 70,
   "id": "0b0156a9",
   "metadata": {},
   "outputs": [
    {
     "data": {
      "text/plain": [
       "(3.1911171556684494, 0.12229122090968167)"
      ]
     },
     "execution_count": 70,
     "metadata": {},
     "output_type": "execute_result"
    }
   ],
   "source": [
    "data_high_vol['std_ratio'].mean(), data_high_vol['std_ratio'].std()"
   ]
  },
  {
   "cell_type": "code",
   "execution_count": 71,
   "id": "214cc04c",
   "metadata": {
    "scrolled": true
   },
   "outputs": [
    {
     "name": "stdout",
     "output_type": "stream",
     "text": [
      "1 / 225\n"
     ]
    },
    {
     "name": "stderr",
     "output_type": "stream",
     "text": [
      "C:\\Users\\aeali\\AppData\\Local\\Temp\\ipykernel_14692\\1303148757.py:28: SettingWithCopyWarning: \n",
      "A value is trying to be set on a copy of a slice from a DataFrame.\n",
      "Try using .loc[row_indexer,col_indexer] = value instead\n",
      "\n",
      "See the caveats in the documentation: https://pandas.pydata.org/pandas-docs/stable/user_guide/indexing.html#returning-a-view-versus-a-copy\n",
      "  data_high_vol.loc[idx, 'entry'] = entry\n",
      "C:\\Users\\aeali\\AppData\\Local\\Temp\\ipykernel_14692\\1303148757.py:29: SettingWithCopyWarning: \n",
      "A value is trying to be set on a copy of a slice from a DataFrame.\n",
      "Try using .loc[row_indexer,col_indexer] = value instead\n",
      "\n",
      "See the caveats in the documentation: https://pandas.pydata.org/pandas-docs/stable/user_guide/indexing.html#returning-a-view-versus-a-copy\n",
      "  data_high_vol.loc[idx, 'exit'] = exit\n",
      "C:\\Users\\aeali\\AppData\\Local\\Temp\\ipykernel_14692\\1303148757.py:30: SettingWithCopyWarning: \n",
      "A value is trying to be set on a copy of a slice from a DataFrame.\n",
      "Try using .loc[row_indexer,col_indexer] = value instead\n",
      "\n",
      "See the caveats in the documentation: https://pandas.pydata.org/pandas-docs/stable/user_guide/indexing.html#returning-a-view-versus-a-copy\n",
      "  data_high_vol.loc[idx, 'return_pct'] = (exit - entry) / entry\n",
      "C:\\Users\\aeali\\AppData\\Local\\Temp\\ipykernel_14692\\1303148757.py:31: SettingWithCopyWarning: \n",
      "A value is trying to be set on a copy of a slice from a DataFrame.\n",
      "Try using .loc[row_indexer,col_indexer] = value instead\n",
      "\n",
      "See the caveats in the documentation: https://pandas.pydata.org/pandas-docs/stable/user_guide/indexing.html#returning-a-view-versus-a-copy\n",
      "  data_high_vol.loc[idx, 'darwdown'] = (entry - candle['low']) / entry\n"
     ]
    },
    {
     "name": "stdout",
     "output_type": "stream",
     "text": [
      "2 / 225\n",
      "3 / 225\n",
      "4 / 225\n",
      "5 / 225\n",
      "6 / 225\n",
      "7 / 225\n",
      "8 / 225\n",
      "9 / 225\n",
      "10 / 225\n",
      "11 / 225\n",
      "12 / 225\n",
      "13 / 225\n",
      "14 / 225\n",
      "15 / 225\n",
      "16 / 225\n",
      "17 / 225\n",
      "18 / 225\n",
      "19 / 225\n",
      "20 / 225\n",
      "21 / 225\n",
      "22 / 225\n",
      "23 / 225\n",
      "24 / 225\n",
      "25 / 225\n",
      "26 / 225\n",
      "27 / 225\n",
      "28 / 225\n",
      "29 / 225\n",
      "30 / 225\n",
      "31 / 225\n",
      "32 / 225\n",
      "33 / 225\n",
      "34 / 225\n",
      "35 / 225\n",
      "36 / 225\n",
      "37 / 225\n",
      "38 / 225\n",
      "39 / 225\n",
      "40 / 225\n",
      "41 / 225\n",
      "42 / 225\n",
      "43 / 225\n",
      "44 / 225\n",
      "45 / 225\n",
      "46 / 225\n",
      "47 / 225\n",
      "48 / 225\n",
      "49 / 225\n",
      "50 / 225\n",
      "51 / 225\n",
      "52 / 225\n",
      "53 / 225\n",
      "54 / 225\n",
      "55 / 225\n",
      "56 / 225\n",
      "57 / 225\n",
      "58 / 225\n",
      "59 / 225\n",
      "60 / 225\n",
      "61 / 225\n",
      "62 / 225\n",
      "63 / 225\n",
      "64 / 225\n",
      "65 / 225\n",
      "66 / 225\n",
      "67 / 225\n",
      "68 / 225\n",
      "69 / 225\n",
      "70 / 225\n",
      "71 / 225\n",
      "72 / 225\n",
      "73 / 225\n",
      "74 / 225\n",
      "75 / 225\n",
      "76 / 225\n",
      "77 / 225\n",
      "78 / 225\n",
      "79 / 225\n",
      "80 / 225\n",
      "81 / 225\n",
      "82 / 225\n",
      "83 / 225\n",
      "84 / 225\n",
      "85 / 225\n",
      "86 / 225\n",
      "87 / 225\n",
      "88 / 225\n",
      "89 / 225\n",
      "90 / 225\n",
      "91 / 225\n",
      "92 / 225\n",
      "93 / 225\n",
      "94 / 225\n",
      "95 / 225\n",
      "96 / 225\n",
      "97 / 225\n",
      "98 / 225\n",
      "99 / 225\n",
      "100 / 225\n",
      "101 / 225\n",
      "102 / 225\n",
      "103 / 225\n",
      "104 / 225\n",
      "105 / 225\n",
      "106 / 225\n",
      "107 / 225\n",
      "108 / 225\n",
      "109 / 225\n",
      "110 / 225\n",
      "111 / 225\n",
      "112 / 225\n",
      "113 / 225\n",
      "114 / 225\n",
      "115 / 225\n",
      "116 / 225\n",
      "117 / 225\n",
      "118 / 225\n",
      "119 / 225\n",
      "120 / 225\n",
      "121 / 225\n",
      "122 / 225\n",
      "123 / 225\n",
      "124 / 225\n",
      "125 / 225\n",
      "126 / 225\n",
      "127 / 225\n",
      "128 / 225\n",
      "129 / 225\n",
      "130 / 225\n",
      "131 / 225\n",
      "132 / 225\n",
      "133 / 225\n",
      "134 / 225\n",
      "135 / 225\n",
      "136 / 225\n",
      "137 / 225\n",
      "138 / 225\n",
      "139 / 225\n",
      "140 / 225\n",
      "141 / 225\n",
      "142 / 225\n",
      "143 / 225\n",
      "144 / 225\n",
      "145 / 225\n",
      "146 / 225\n",
      "147 / 225\n",
      "148 / 225\n",
      "149 / 225\n",
      "150 / 225\n",
      "151 / 225\n",
      "152 / 225\n",
      "153 / 225\n",
      "154 / 225\n",
      "155 / 225\n",
      "156 / 225\n",
      "157 / 225\n",
      "158 / 225\n",
      "159 / 225\n",
      "160 / 225\n",
      "161 / 225\n",
      "162 / 225\n",
      "163 / 225\n",
      "164 / 225\n",
      "165 / 225\n",
      "166 / 225\n",
      "167 / 225\n",
      "168 / 225\n",
      "169 / 225\n",
      "170 / 225\n",
      "171 / 225\n",
      "172 / 225\n",
      "173 / 225\n",
      "174 / 225\n",
      "175 / 225\n",
      "176 / 225\n",
      "177 / 225\n",
      "178 / 225\n",
      "179 / 225\n",
      "180 / 225\n",
      "181 / 225\n",
      "182 / 225\n",
      "183 / 225\n",
      "184 / 225\n",
      "185 / 225\n",
      "186 / 225\n",
      "187 / 225\n",
      "188 / 225\n",
      "189 / 225\n",
      "190 / 225\n",
      "191 / 225\n",
      "192 / 225\n",
      "193 / 225\n",
      "194 / 225\n",
      "195 / 225\n",
      "196 / 225\n",
      "197 / 225\n",
      "198 / 225\n",
      "199 / 225\n",
      "200 / 225\n",
      "201 / 225\n",
      "202 / 225\n",
      "203 / 225\n",
      "204 / 225\n",
      "205 / 225\n",
      "206 / 225\n",
      "207 / 225\n",
      "208 / 225\n",
      "209 / 225\n",
      "210 / 225\n",
      "211 / 225\n",
      "212 / 225\n",
      "213 / 225\n",
      "214 / 225\n",
      "215 / 225\n",
      "216 / 225\n",
      "217 / 225\n",
      "218 / 225\n",
      "219 / 225\n",
      "220 / 225\n",
      "221 / 225\n",
      "222 / 225\n",
      "223 / 225\n",
      "224 / 225\n",
      "225 / 225\n"
     ]
    }
   ],
   "source": [
    "t = 1\n",
    "for idx, candle in data_high_vol.iterrows():\n",
    "    print(f'{t} / {data_high_vol.shape[0]}')\n",
    "    t += 1\n",
    "    last_sizes = list(data.loc[:idx].iloc[-14:-1]['candle_size'])\n",
    "    entry_range = get_thr(last_sizes, std_multiple)\n",
    "    \n",
    "    start_date = idx - datetime.timedelta(minutes=tf_hours * 60)\n",
    "    end_date = idx - datetime.timedelta(minutes=1)\n",
    "    data_1m = Dataset().get_data(ticker='BTCUSDT', interval='1m', start_date=start_date.strftime('%Y-%m-%d %H:%M:%S'),\n",
    "                                 end_date=end_date.strftime('%Y-%m-%d %H:%M:%S'))\n",
    "    for i in data_1m.index:\n",
    "        data_1m.loc[i, 'roll_high'] = data_1m.loc[:i]['high'].max()\n",
    "        data_1m.loc[i, 'roll_low'] = data_1m.loc[:i]['low'].min()\n",
    "    data_1m['roll_candle_size'] = data_1m['roll_high'] - data_1m['roll_low']\n",
    "    rough_price = data_1m[data_1m['roll_candle_size'] > entry_range].iloc[0]['close']\n",
    "    \n",
    "    if rough_price > candle['open']:\n",
    "        entry = candle['low'] + entry_range\n",
    "        exit = candle['close']\n",
    "        data_high_vol.loc[idx, 'entry'] = entry\n",
    "        data_high_vol.loc[idx, 'exit'] = exit\n",
    "        data_high_vol.loc[idx, 'return_pct'] = (entry - exit) / entry\n",
    "        data_high_vol.loc[idx, 'darwdown'] = (candle['high'] - entry) / entry\n",
    "    elif rough_price < candle['open']:\n",
    "        entry = candle['high'] - entry_range\n",
    "        exit = candle['close']\n",
    "        data_high_vol.loc[idx, 'entry'] = entry\n",
    "        data_high_vol.loc[idx, 'exit'] = exit\n",
    "        data_high_vol.loc[idx, 'return_pct'] = (exit - entry) / entry\n",
    "        data_high_vol.loc[idx, 'darwdown'] = (entry - candle['low']) / entry\n",
    "    else:\n",
    "        data_high_vol.loc[idx, 'entry'] = np.nan\n",
    "        data_high_vol.loc[idx, 'exit'] = np.nan\n",
    "        data_high_vol.loc[idx, 'return_pct'] = 0\n",
    "        data_high_vol.loc[idx, 'darwdown'] = 0"
   ]
  },
  {
   "cell_type": "code",
   "execution_count": 54,
   "id": "6f7d0530",
   "metadata": {
    "scrolled": true
   },
   "outputs": [],
   "source": [
    "# t = 1\n",
    "# for idx, candle in data_high_vol.iterrows():\n",
    "#     print(f'{t} / {data_high_vol.shape[0]}')\n",
    "#     t += 1\n",
    "#     entry_range = candle['candle_size_mean'] + std_multiple * candle['candle_size_std']\n",
    "    \n",
    "#     start_date = idx - datetime.timedelta(minutes=tf_hours * 60)\n",
    "#     end_date = idx - datetime.timedelta(minutes=1)\n",
    "#     data_1m = Dataset().get_data(ticker='BTCUSDT', interval='1m', start_date=start_date.strftime('%Y-%m-%d %H:%M:%S'),\n",
    "#                                  end_date=end_date.strftime('%Y-%m-%d %H:%M:%S'))\n",
    "#     for i in data_1m.index:\n",
    "#         data_1m.loc[i, 'roll_high'] = data_1m.loc[:i]['high'].max()\n",
    "#         data_1m.loc[i, 'roll_low'] = data_1m.loc[:i]['low'].min()\n",
    "#     data_1m['roll_candle_size'] = data_1m['roll_high'] - data_1m['roll_low']\n",
    "#     rough_price = data_1m[data_1m['roll_candle_size'] > entry_range].iloc[0]['close']\n",
    "    \n",
    "#     if rough_price > candle['open']:\n",
    "#         entry = candle['low'] + entry_range\n",
    "#         exit = candle['close']\n",
    "#         data_high_vol.loc[idx, 'entry'] = entry\n",
    "#         data_high_vol.loc[idx, 'exit'] = exit\n",
    "#         data_high_vol.loc[idx, 'return_pct'] = (entry - exit) / entry\n",
    "#         data_high_vol.loc[idx, 'darwdown'] = (candle['high'] - entry) / entry\n",
    "#     elif rough_price < candle['open']:\n",
    "#         entry = candle['high'] - entry_range\n",
    "#         exit = candle['close']\n",
    "#         data_high_vol.loc[idx, 'entry'] = entry\n",
    "#         data_high_vol.loc[idx, 'exit'] = exit\n",
    "#         data_high_vol.loc[idx, 'return_pct'] = (exit - entry) / entry\n",
    "#         data_high_vol.loc[idx, 'darwdown'] = (entry - candle['low']) / entry\n",
    "#     else:\n",
    "#         data_high_vol.loc[idx, 'entry'] = np.nan\n",
    "#         data_high_vol.loc[idx, 'exit'] = np.nan\n",
    "#         data_high_vol.loc[idx, 'return_pct'] = 0\n",
    "#         data_high_vol.loc[idx, 'darwdown'] = 0"
   ]
  },
  {
   "cell_type": "code",
   "execution_count": 72,
   "id": "66b856fb",
   "metadata": {},
   "outputs": [
    {
     "data": {
      "text/plain": [
       "0.05630593320263191"
      ]
     },
     "execution_count": 72,
     "metadata": {},
     "output_type": "execute_result"
    }
   ],
   "source": [
    "data_high_vol['darwdown'].max()"
   ]
  },
  {
   "cell_type": "code",
   "execution_count": 56,
   "id": "a7afb3af",
   "metadata": {},
   "outputs": [],
   "source": [
    "# for idx, candle in data_high_vol.iterrows():\n",
    "#     start_date = idx - datetime.timedelta(minutes=tf_hours * 60 - 1)\n",
    "#     end_date = idx\n",
    "#     data_1m = Dataset().get_data(ticker='BTCUSDT', interval='1m', start_date=start_date.strftime('%Y-%m-%d %H:%M:%S'),\n",
    "#                                  end_date=end_date.strftime('%Y-%m-%d %H:%M:%S'))\n",
    "#     high_idx = data_1m.index[data_1m['high'].argmax()]\n",
    "#     low_idx = data_1m.index[data_1m['low'].argmin()]\n",
    "#     if high_idx > low_idx:\n",
    "#         entry = candle['low'] + candle['candle_size_mean'] + std_multiple * candle['candle_size_std']\n",
    "#         exit = candle['close']\n",
    "#         data_high_vol.loc[idx, 'entry'] = entry\n",
    "#         data_high_vol.loc[idx, 'exit'] = exit\n",
    "#         data_high_vol.loc[idx, 'return_pct'] = (entry - exit) / entry\n",
    "#         data_high_vol.loc[idx, 'darwdown'] = (candle['high'] - entry) / entry\n",
    "#     elif high_idx < low_idx:\n",
    "#         entry = candle['high'] - (candle['candle_size_mean'] + std_multiple * candle['candle_size_std'])\n",
    "#         exit = candle['close']\n",
    "#         data_high_vol.loc[idx, 'entry'] = entry\n",
    "#         data_high_vol.loc[idx, 'exit'] = exit\n",
    "#         data_high_vol.loc[idx, 'return_pct'] = (exit - entry) / entry\n",
    "#         data_high_vol.loc[idx, 'darwdown'] = (entry - candle['low']) / entry\n",
    "#     else:\n",
    "#         data_high_vol.loc[idx, 'entry'] = np.nan\n",
    "#         data_high_vol.loc[idx, 'exit'] = np.nan\n",
    "#         data_high_vol.loc[idx, 'return_pct'] = 0\n",
    "#         data_high_vol.loc[idx, 'darwdown'] = 0"
   ]
  },
  {
   "cell_type": "code",
   "execution_count": 73,
   "id": "659246ff",
   "metadata": {},
   "outputs": [
    {
     "data": {
      "text/plain": [
       "0.43555555555555553"
      ]
     },
     "execution_count": 73,
     "metadata": {},
     "output_type": "execute_result"
    }
   ],
   "source": [
    "winrate = data_high_vol[data_high_vol['return_pct'] > 0].shape[0] / data_high_vol.shape[0]\n",
    "winrate"
   ]
  },
  {
   "cell_type": "code",
   "execution_count": 74,
   "id": "dcd43d93",
   "metadata": {},
   "outputs": [
    {
     "data": {
      "text/plain": [
       "(0.03527626184622741,\n",
       " -0.047537982428501206,\n",
       " -0.0018025429310974622,\n",
       " 0.008731448929024582)"
      ]
     },
     "execution_count": 74,
     "metadata": {},
     "output_type": "execute_result"
    }
   ],
   "source": [
    "(data_high_vol['return_pct'].max(), data_high_vol['return_pct'].min(),\n",
    "data_high_vol['return_pct'].mean(), data_high_vol['return_pct'].std())"
   ]
  },
  {
   "cell_type": "code",
   "execution_count": 75,
   "id": "ee6ac35e",
   "metadata": {},
   "outputs": [
    {
     "data": {
      "text/plain": [
       "(0.05630593320263191,\n",
       " 0.0007576108112104049,\n",
       " 0.008473323803690579,\n",
       " 0.00873460891014604)"
      ]
     },
     "execution_count": 75,
     "metadata": {},
     "output_type": "execute_result"
    }
   ],
   "source": [
    "(data_high_vol['darwdown'].max(), data_high_vol['darwdown'].min(),\n",
    "data_high_vol['darwdown'].mean(), data_high_vol['darwdown'].std())"
   ]
  },
  {
   "cell_type": "code",
   "execution_count": 76,
   "id": "76272583",
   "metadata": {},
   "outputs": [
    {
     "data": {
      "image/png": "[encoded data removed]",
      "text/plain": [
       "<Figure size 720x432 with 1 Axes>"
      ]
     },
     "metadata": {
      "needs_background": "light"
     },
     "output_type": "display_data"
    }
   ],
   "source": [
    "plt.figure(figsize=(10, 6))\n",
    "plt.hist(data_high_vol['return_pct'], bins=50)\n",
    "plt.title('Returns')\n",
    "plt.show()"
   ]
  },
  {
   "cell_type": "code",
   "execution_count": 32,
   "id": "48cce17b",
   "metadata": {},
   "outputs": [
    {
     "data": {
      "image/png": "[encoded data removed]",
      "text/plain": [
       "<Figure size 720x432 with 1 Axes>"
      ]
     },
     "metadata": {
      "needs_background": "light"
     },
     "output_type": "display_data"
    }
   ],
   "source": [
    "plt.figure(figsize=(10, 6))\n",
    "plt.hist(data_high_vol['darwdown'], bins=50)\n",
    "plt.title('Drawdowns')\n",
    "plt.show()"
   ]
  },
  {
   "cell_type": "code",
   "execution_count": 33,
   "id": "d8412167",
   "metadata": {},
   "outputs": [],
   "source": [
    "max_drawdown = 0.1"
   ]
  },
  {
   "cell_type": "code",
   "execution_count": 34,
   "id": "ce442350",
   "metadata": {},
   "outputs": [
    {
     "data": {
      "text/plain": [
       "0.10690927556555116"
      ]
     },
     "execution_count": 34,
     "metadata": {},
     "output_type": "execute_result"
    }
   ],
   "source": [
    "data_high_vol['darwdown'].mean() + 5 * data_high_vol['darwdown'].std()"
   ]
  },
  {
   "cell_type": "code",
   "execution_count": 35,
   "id": "bcf7c98b",
   "metadata": {},
   "outputs": [
    {
     "name": "stderr",
     "output_type": "stream",
     "text": [
      "C:\\Users\\aeali\\AppData\\Local\\Temp\\ipykernel_14692\\2964797260.py:1: SettingWithCopyWarning: \n",
      "A value is trying to be set on a copy of a slice from a DataFrame.\n",
      "Try using .loc[row_indexer,col_indexer] = value instead\n",
      "\n",
      "See the caveats in the documentation: https://pandas.pydata.org/pandas-docs/stable/user_guide/indexing.html#returning-a-view-versus-a-copy\n",
      "  data_high_vol['return_pct_tot'] = 1 + data_high_vol['return_pct']\n"
     ]
    }
   ],
   "source": [
    "data_high_vol['return_pct_tot'] = 1 + data_high_vol['return_pct']"
   ]
  },
  {
   "cell_type": "code",
   "execution_count": 36,
   "id": "b85a035d",
   "metadata": {},
   "outputs": [
    {
     "data": {
      "text/plain": [
       "time\n",
       "2023-01-31    0.000078\n",
       "2023-02-28    0.000000\n",
       "2023-03-31   -0.032308\n",
       "2023-04-30   -0.000983\n",
       "2023-05-31    0.024562\n",
       "2023-06-30    0.005132\n",
       "2023-07-31    0.000000\n",
       "2023-08-31   -0.041891\n",
       "Freq: M, Name: return_pct_tot, dtype: float64"
      ]
     },
     "execution_count": 36,
     "metadata": {},
     "output_type": "execute_result"
    }
   ],
   "source": [
    "monthly_returns = data_high_vol['return_pct_tot'].resample('M').prod() - 1\n",
    "monthly_returns"
   ]
  },
  {
   "cell_type": "code",
   "execution_count": 37,
   "id": "d331b151",
   "metadata": {},
   "outputs": [
    {
     "data": {
      "text/plain": [
       "(-0.005676204305176097, 0.021285526006061026)"
      ]
     },
     "execution_count": 37,
     "metadata": {},
     "output_type": "execute_result"
    }
   ],
   "source": [
    "monthly_returns.mean(), monthly_returns.std()"
   ]
  },
  {
   "cell_type": "code",
   "execution_count": 38,
   "id": "85f838a9",
   "metadata": {},
   "outputs": [
    {
     "data": {
      "text/plain": [
       "-0.45459080045383"
      ]
     },
     "execution_count": 38,
     "metadata": {},
     "output_type": "execute_result"
    }
   ],
   "source": [
    "sharpe_ratio = (monthly_returns.mean() - 0.004) / monthly_returns.std()\n",
    "sharpe_ratio"
   ]
  },
  {
   "cell_type": "code",
   "execution_count": 39,
   "id": "4be092ea",
   "metadata": {},
   "outputs": [
    {
     "data": {
      "text/plain": [
       "0.9353725340574892"
      ]
     },
     "execution_count": 39,
     "metadata": {},
     "output_type": "execute_result"
    }
   ],
   "source": [
    "leverage = max_drawdown / (data_high_vol['darwdown'].mean() + 5 * data_high_vol['darwdown'].std())\n",
    "leverage"
   ]
  },
  {
   "cell_type": "code",
   "execution_count": 41,
   "id": "15698903",
   "metadata": {},
   "outputs": [],
   "source": [
    "taker_fee = 0.00055"
   ]
  },
  {
   "cell_type": "code",
   "execution_count": 42,
   "id": "f3ee1957",
   "metadata": {},
   "outputs": [
    {
     "data": {
      "text/plain": [
       "<AxesSubplot:xlabel='time'>"
      ]
     },
     "execution_count": 42,
     "metadata": {},
     "output_type": "execute_result"
    },
    {
     "data": {
      "image/png": "[encoded data removed]",
      "text/plain": [
       "<Figure size 432x288 with 1 Axes>"
      ]
     },
     "metadata": {
      "needs_background": "light"
     },
     "output_type": "display_data"
    }
   ],
   "source": [
    "(leverage * (data_high_vol['return_pct'] - 2 * taker_fee) + 1).cumprod().plot()"
   ]
  },
  {
   "cell_type": "code",
   "execution_count": null,
   "id": "9a6ef884",
   "metadata": {},
   "outputs": [],
   "source": []
  },
  {
   "cell_type": "code",
   "execution_count": null,
   "id": "8546a4ab",
   "metadata": {},
   "outputs": [],
   "source": []
  },
  {
   "cell_type": "code",
   "execution_count": 93,
   "id": "9d57b93f",
   "metadata": {
    "scrolled": true
   },
   "outputs": [
    {
     "name": "stdout",
     "output_type": "stream",
     "text": [
      "1 / 244\n"
     ]
    },
    {
     "name": "stderr",
     "output_type": "stream",
     "text": [
      "C:\\Users\\aeali\\AppData\\Local\\Temp\\ipykernel_8856\\3273599963.py:46: SettingWithCopyWarning: \n",
      "A value is trying to be set on a copy of a slice from a DataFrame\n",
      "\n",
      "See the caveats in the documentation: https://pandas.pydata.org/pandas-docs/stable/user_guide/indexing.html#returning-a-view-versus-a-copy\n",
      "  data_high_vol.loc[idx, 'entry'] = entry\n",
      "C:\\Users\\aeali\\AppData\\Local\\Temp\\ipykernel_8856\\3273599963.py:47: SettingWithCopyWarning: \n",
      "A value is trying to be set on a copy of a slice from a DataFrame\n",
      "\n",
      "See the caveats in the documentation: https://pandas.pydata.org/pandas-docs/stable/user_guide/indexing.html#returning-a-view-versus-a-copy\n",
      "  data_high_vol.loc[idx, 'exit'] = exit\n",
      "C:\\Users\\aeali\\AppData\\Local\\Temp\\ipykernel_8856\\3273599963.py:48: SettingWithCopyWarning: \n",
      "A value is trying to be set on a copy of a slice from a DataFrame\n",
      "\n",
      "See the caveats in the documentation: https://pandas.pydata.org/pandas-docs/stable/user_guide/indexing.html#returning-a-view-versus-a-copy\n",
      "  data_high_vol.loc[idx, 'return_pct'] = (exit - entry) / entry\n",
      "C:\\Users\\aeali\\AppData\\Local\\Temp\\ipykernel_8856\\3273599963.py:49: SettingWithCopyWarning: \n",
      "A value is trying to be set on a copy of a slice from a DataFrame\n",
      "\n",
      "See the caveats in the documentation: https://pandas.pydata.org/pandas-docs/stable/user_guide/indexing.html#returning-a-view-versus-a-copy\n",
      "  data_high_vol.loc[idx, 'darwdown'] = (entry - candle['low']) / entry\n"
     ]
    },
    {
     "name": "stdout",
     "output_type": "stream",
     "text": [
      "2 / 244\n"
     ]
    },
    {
     "name": "stderr",
     "output_type": "stream",
     "text": [
      "C:\\Users\\aeali\\AppData\\Local\\Temp\\ipykernel_8856\\3273599963.py:32: SettingWithCopyWarning: \n",
      "A value is trying to be set on a copy of a slice from a DataFrame\n",
      "\n",
      "See the caveats in the documentation: https://pandas.pydata.org/pandas-docs/stable/user_guide/indexing.html#returning-a-view-versus-a-copy\n",
      "  data_high_vol.loc[idx, 'entry'] = entry\n",
      "C:\\Users\\aeali\\AppData\\Local\\Temp\\ipykernel_8856\\3273599963.py:33: SettingWithCopyWarning: \n",
      "A value is trying to be set on a copy of a slice from a DataFrame\n",
      "\n",
      "See the caveats in the documentation: https://pandas.pydata.org/pandas-docs/stable/user_guide/indexing.html#returning-a-view-versus-a-copy\n",
      "  data_high_vol.loc[idx, 'exit'] = exit\n",
      "C:\\Users\\aeali\\AppData\\Local\\Temp\\ipykernel_8856\\3273599963.py:34: SettingWithCopyWarning: \n",
      "A value is trying to be set on a copy of a slice from a DataFrame\n",
      "\n",
      "See the caveats in the documentation: https://pandas.pydata.org/pandas-docs/stable/user_guide/indexing.html#returning-a-view-versus-a-copy\n",
      "  data_high_vol.loc[idx, 'return_pct'] = (entry - exit) / entry\n",
      "C:\\Users\\aeali\\AppData\\Local\\Temp\\ipykernel_8856\\3273599963.py:35: SettingWithCopyWarning: \n",
      "A value is trying to be set on a copy of a slice from a DataFrame\n",
      "\n",
      "See the caveats in the documentation: https://pandas.pydata.org/pandas-docs/stable/user_guide/indexing.html#returning-a-view-versus-a-copy\n",
      "  data_high_vol.loc[idx, 'darwdown'] = (candle['high'] - entry) / entry\n"
     ]
    },
    {
     "name": "stdout",
     "output_type": "stream",
     "text": [
      "3 / 244\n"
     ]
    },
    {
     "name": "stderr",
     "output_type": "stream",
     "text": [
      "C:\\Users\\aeali\\AppData\\Local\\Temp\\ipykernel_8856\\3273599963.py:46: SettingWithCopyWarning: \n",
      "A value is trying to be set on a copy of a slice from a DataFrame\n",
      "\n",
      "See the caveats in the documentation: https://pandas.pydata.org/pandas-docs/stable/user_guide/indexing.html#returning-a-view-versus-a-copy\n",
      "  data_high_vol.loc[idx, 'entry'] = entry\n",
      "C:\\Users\\aeali\\AppData\\Local\\Temp\\ipykernel_8856\\3273599963.py:47: SettingWithCopyWarning: \n",
      "A value is trying to be set on a copy of a slice from a DataFrame\n",
      "\n",
      "See the caveats in the documentation: https://pandas.pydata.org/pandas-docs/stable/user_guide/indexing.html#returning-a-view-versus-a-copy\n",
      "  data_high_vol.loc[idx, 'exit'] = exit\n",
      "C:\\Users\\aeali\\AppData\\Local\\Temp\\ipykernel_8856\\3273599963.py:48: SettingWithCopyWarning: \n",
      "A value is trying to be set on a copy of a slice from a DataFrame\n",
      "\n",
      "See the caveats in the documentation: https://pandas.pydata.org/pandas-docs/stable/user_guide/indexing.html#returning-a-view-versus-a-copy\n",
      "  data_high_vol.loc[idx, 'return_pct'] = (exit - entry) / entry\n",
      "C:\\Users\\aeali\\AppData\\Local\\Temp\\ipykernel_8856\\3273599963.py:49: SettingWithCopyWarning: \n",
      "A value is trying to be set on a copy of a slice from a DataFrame\n",
      "\n",
      "See the caveats in the documentation: https://pandas.pydata.org/pandas-docs/stable/user_guide/indexing.html#returning-a-view-versus-a-copy\n",
      "  data_high_vol.loc[idx, 'darwdown'] = (entry - candle['low']) / entry\n"
     ]
    },
    {
     "name": "stdout",
     "output_type": "stream",
     "text": [
      "4 / 244\n"
     ]
    },
    {
     "name": "stderr",
     "output_type": "stream",
     "text": [
      "C:\\Users\\aeali\\AppData\\Local\\Temp\\ipykernel_8856\\3273599963.py:46: SettingWithCopyWarning: \n",
      "A value is trying to be set on a copy of a slice from a DataFrame\n",
      "\n",
      "See the caveats in the documentation: https://pandas.pydata.org/pandas-docs/stable/user_guide/indexing.html#returning-a-view-versus-a-copy\n",
      "  data_high_vol.loc[idx, 'entry'] = entry\n",
      "C:\\Users\\aeali\\AppData\\Local\\Temp\\ipykernel_8856\\3273599963.py:47: SettingWithCopyWarning: \n",
      "A value is trying to be set on a copy of a slice from a DataFrame\n",
      "\n",
      "See the caveats in the documentation: https://pandas.pydata.org/pandas-docs/stable/user_guide/indexing.html#returning-a-view-versus-a-copy\n",
      "  data_high_vol.loc[idx, 'exit'] = exit\n",
      "C:\\Users\\aeali\\AppData\\Local\\Temp\\ipykernel_8856\\3273599963.py:48: SettingWithCopyWarning: \n",
      "A value is trying to be set on a copy of a slice from a DataFrame\n",
      "\n",
      "See the caveats in the documentation: https://pandas.pydata.org/pandas-docs/stable/user_guide/indexing.html#returning-a-view-versus-a-copy\n",
      "  data_high_vol.loc[idx, 'return_pct'] = (exit - entry) / entry\n",
      "C:\\Users\\aeali\\AppData\\Local\\Temp\\ipykernel_8856\\3273599963.py:49: SettingWithCopyWarning: \n",
      "A value is trying to be set on a copy of a slice from a DataFrame\n",
      "\n",
      "See the caveats in the documentation: https://pandas.pydata.org/pandas-docs/stable/user_guide/indexing.html#returning-a-view-versus-a-copy\n",
      "  data_high_vol.loc[idx, 'darwdown'] = (entry - candle['low']) / entry\n"
     ]
    },
    {
     "name": "stdout",
     "output_type": "stream",
     "text": [
      "5 / 244\n"
     ]
    },
    {
     "name": "stderr",
     "output_type": "stream",
     "text": [
      "C:\\Users\\aeali\\AppData\\Local\\Temp\\ipykernel_8856\\3273599963.py:32: SettingWithCopyWarning: \n",
      "A value is trying to be set on a copy of a slice from a DataFrame\n",
      "\n",
      "See the caveats in the documentation: https://pandas.pydata.org/pandas-docs/stable/user_guide/indexing.html#returning-a-view-versus-a-copy\n",
      "  data_high_vol.loc[idx, 'entry'] = entry\n",
      "C:\\Users\\aeali\\AppData\\Local\\Temp\\ipykernel_8856\\3273599963.py:33: SettingWithCopyWarning: \n",
      "A value is trying to be set on a copy of a slice from a DataFrame\n",
      "\n",
      "See the caveats in the documentation: https://pandas.pydata.org/pandas-docs/stable/user_guide/indexing.html#returning-a-view-versus-a-copy\n",
      "  data_high_vol.loc[idx, 'exit'] = exit\n",
      "C:\\Users\\aeali\\AppData\\Local\\Temp\\ipykernel_8856\\3273599963.py:34: SettingWithCopyWarning: \n",
      "A value is trying to be set on a copy of a slice from a DataFrame\n",
      "\n",
      "See the caveats in the documentation: https://pandas.pydata.org/pandas-docs/stable/user_guide/indexing.html#returning-a-view-versus-a-copy\n",
      "  data_high_vol.loc[idx, 'return_pct'] = (entry - exit) / entry\n",
      "C:\\Users\\aeali\\AppData\\Local\\Temp\\ipykernel_8856\\3273599963.py:35: SettingWithCopyWarning: \n",
      "A value is trying to be set on a copy of a slice from a DataFrame\n",
      "\n",
      "See the caveats in the documentation: https://pandas.pydata.org/pandas-docs/stable/user_guide/indexing.html#returning-a-view-versus-a-copy\n",
      "  data_high_vol.loc[idx, 'darwdown'] = (candle['high'] - entry) / entry\n"
     ]
    },
    {
     "name": "stdout",
     "output_type": "stream",
     "text": [
      "6 / 244\n"
     ]
    },
    {
     "name": "stderr",
     "output_type": "stream",
     "text": [
      "C:\\Users\\aeali\\AppData\\Local\\Temp\\ipykernel_8856\\3273599963.py:32: SettingWithCopyWarning: \n",
      "A value is trying to be set on a copy of a slice from a DataFrame\n",
      "\n",
      "See the caveats in the documentation: https://pandas.pydata.org/pandas-docs/stable/user_guide/indexing.html#returning-a-view-versus-a-copy\n",
      "  data_high_vol.loc[idx, 'entry'] = entry\n",
      "C:\\Users\\aeali\\AppData\\Local\\Temp\\ipykernel_8856\\3273599963.py:33: SettingWithCopyWarning: \n",
      "A value is trying to be set on a copy of a slice from a DataFrame\n",
      "\n",
      "See the caveats in the documentation: https://pandas.pydata.org/pandas-docs/stable/user_guide/indexing.html#returning-a-view-versus-a-copy\n",
      "  data_high_vol.loc[idx, 'exit'] = exit\n",
      "C:\\Users\\aeali\\AppData\\Local\\Temp\\ipykernel_8856\\3273599963.py:34: SettingWithCopyWarning: \n",
      "A value is trying to be set on a copy of a slice from a DataFrame\n",
      "\n",
      "See the caveats in the documentation: https://pandas.pydata.org/pandas-docs/stable/user_guide/indexing.html#returning-a-view-versus-a-copy\n",
      "  data_high_vol.loc[idx, 'return_pct'] = (entry - exit) / entry\n",
      "C:\\Users\\aeali\\AppData\\Local\\Temp\\ipykernel_8856\\3273599963.py:35: SettingWithCopyWarning: \n",
      "A value is trying to be set on a copy of a slice from a DataFrame\n",
      "\n",
      "See the caveats in the documentation: https://pandas.pydata.org/pandas-docs/stable/user_guide/indexing.html#returning-a-view-versus-a-copy\n",
      "  data_high_vol.loc[idx, 'darwdown'] = (candle['high'] - entry) / entry\n"
     ]
    },
    {
     "name": "stdout",
     "output_type": "stream",
     "text": [
      "7 / 244\n"
     ]
    },
    {
     "name": "stderr",
     "output_type": "stream",
     "text": [
      "C:\\Users\\aeali\\AppData\\Local\\Temp\\ipykernel_8856\\3273599963.py:32: SettingWithCopyWarning: \n",
      "A value is trying to be set on a copy of a slice from a DataFrame\n",
      "\n",
      "See the caveats in the documentation: https://pandas.pydata.org/pandas-docs/stable/user_guide/indexing.html#returning-a-view-versus-a-copy\n",
      "  data_high_vol.loc[idx, 'entry'] = entry\n",
      "C:\\Users\\aeali\\AppData\\Local\\Temp\\ipykernel_8856\\3273599963.py:33: SettingWithCopyWarning: \n",
      "A value is trying to be set on a copy of a slice from a DataFrame\n",
      "\n",
      "See the caveats in the documentation: https://pandas.pydata.org/pandas-docs/stable/user_guide/indexing.html#returning-a-view-versus-a-copy\n",
      "  data_high_vol.loc[idx, 'exit'] = exit\n",
      "C:\\Users\\aeali\\AppData\\Local\\Temp\\ipykernel_8856\\3273599963.py:34: SettingWithCopyWarning: \n",
      "A value is trying to be set on a copy of a slice from a DataFrame\n",
      "\n",
      "See the caveats in the documentation: https://pandas.pydata.org/pandas-docs/stable/user_guide/indexing.html#returning-a-view-versus-a-copy\n",
      "  data_high_vol.loc[idx, 'return_pct'] = (entry - exit) / entry\n",
      "C:\\Users\\aeali\\AppData\\Local\\Temp\\ipykernel_8856\\3273599963.py:35: SettingWithCopyWarning: \n",
      "A value is trying to be set on a copy of a slice from a DataFrame\n",
      "\n",
      "See the caveats in the documentation: https://pandas.pydata.org/pandas-docs/stable/user_guide/indexing.html#returning-a-view-versus-a-copy\n",
      "  data_high_vol.loc[idx, 'darwdown'] = (candle['high'] - entry) / entry\n"
     ]
    },
    {
     "name": "stdout",
     "output_type": "stream",
     "text": [
      "8 / 244\n"
     ]
    },
    {
     "name": "stderr",
     "output_type": "stream",
     "text": [
      "C:\\Users\\aeali\\AppData\\Local\\Temp\\ipykernel_8856\\3273599963.py:46: SettingWithCopyWarning: \n",
      "A value is trying to be set on a copy of a slice from a DataFrame\n",
      "\n",
      "See the caveats in the documentation: https://pandas.pydata.org/pandas-docs/stable/user_guide/indexing.html#returning-a-view-versus-a-copy\n",
      "  data_high_vol.loc[idx, 'entry'] = entry\n",
      "C:\\Users\\aeali\\AppData\\Local\\Temp\\ipykernel_8856\\3273599963.py:47: SettingWithCopyWarning: \n",
      "A value is trying to be set on a copy of a slice from a DataFrame\n",
      "\n",
      "See the caveats in the documentation: https://pandas.pydata.org/pandas-docs/stable/user_guide/indexing.html#returning-a-view-versus-a-copy\n",
      "  data_high_vol.loc[idx, 'exit'] = exit\n",
      "C:\\Users\\aeali\\AppData\\Local\\Temp\\ipykernel_8856\\3273599963.py:48: SettingWithCopyWarning: \n",
      "A value is trying to be set on a copy of a slice from a DataFrame\n",
      "\n",
      "See the caveats in the documentation: https://pandas.pydata.org/pandas-docs/stable/user_guide/indexing.html#returning-a-view-versus-a-copy\n",
      "  data_high_vol.loc[idx, 'return_pct'] = (exit - entry) / entry\n",
      "C:\\Users\\aeali\\AppData\\Local\\Temp\\ipykernel_8856\\3273599963.py:49: SettingWithCopyWarning: \n",
      "A value is trying to be set on a copy of a slice from a DataFrame\n",
      "\n",
      "See the caveats in the documentation: https://pandas.pydata.org/pandas-docs/stable/user_guide/indexing.html#returning-a-view-versus-a-copy\n",
      "  data_high_vol.loc[idx, 'darwdown'] = (entry - candle['low']) / entry\n"
     ]
    },
    {
     "name": "stdout",
     "output_type": "stream",
     "text": [
      "9 / 244\n"
     ]
    },
    {
     "ename": "KeyboardInterrupt",
     "evalue": "",
     "output_type": "error",
     "traceback": [
      "\u001b[1;31m---------------------------------------------------------------------------\u001b[0m",
      "\u001b[1;31mKeyboardInterrupt\u001b[0m                         Traceback (most recent call last)",
      "Input \u001b[1;32mIn [93]\u001b[0m, in \u001b[0;36m<cell line: 7>\u001b[1;34m()\u001b[0m\n\u001b[0;32m     12\u001b[0m start_date \u001b[38;5;241m=\u001b[39m idx \u001b[38;5;241m-\u001b[39m datetime\u001b[38;5;241m.\u001b[39mtimedelta(minutes\u001b[38;5;241m=\u001b[39mtf_hours \u001b[38;5;241m*\u001b[39m \u001b[38;5;241m60\u001b[39m)\n\u001b[0;32m     13\u001b[0m end_date \u001b[38;5;241m=\u001b[39m idx \u001b[38;5;241m-\u001b[39m datetime\u001b[38;5;241m.\u001b[39mtimedelta(minutes\u001b[38;5;241m=\u001b[39m\u001b[38;5;241m1\u001b[39m)\n\u001b[1;32m---> 14\u001b[0m data_1m \u001b[38;5;241m=\u001b[39m \u001b[43mDataset\u001b[49m\u001b[43m(\u001b[49m\u001b[43m)\u001b[49m\u001b[38;5;241;43m.\u001b[39;49m\u001b[43mget_data\u001b[49m\u001b[43m(\u001b[49m\u001b[43mticker\u001b[49m\u001b[38;5;241;43m=\u001b[39;49m\u001b[38;5;124;43m'\u001b[39;49m\u001b[38;5;124;43mBTCUSDT\u001b[39;49m\u001b[38;5;124;43m'\u001b[39;49m\u001b[43m,\u001b[49m\u001b[43m \u001b[49m\u001b[43minterval\u001b[49m\u001b[38;5;241;43m=\u001b[39;49m\u001b[38;5;124;43m'\u001b[39;49m\u001b[38;5;124;43m1m\u001b[39;49m\u001b[38;5;124;43m'\u001b[39;49m\u001b[43m,\u001b[49m\u001b[43m \u001b[49m\u001b[43mstart_date\u001b[49m\u001b[38;5;241;43m=\u001b[39;49m\u001b[43mstart_date\u001b[49m\u001b[38;5;241;43m.\u001b[39;49m\u001b[43mstrftime\u001b[49m\u001b[43m(\u001b[49m\u001b[38;5;124;43m'\u001b[39;49m\u001b[38;5;124;43m%\u001b[39;49m\u001b[38;5;124;43mY-\u001b[39;49m\u001b[38;5;124;43m%\u001b[39;49m\u001b[38;5;124;43mm-\u001b[39;49m\u001b[38;5;132;43;01m%d\u001b[39;49;00m\u001b[38;5;124;43m \u001b[39;49m\u001b[38;5;124;43m%\u001b[39;49m\u001b[38;5;124;43mH:\u001b[39;49m\u001b[38;5;124;43m%\u001b[39;49m\u001b[38;5;124;43mM:\u001b[39;49m\u001b[38;5;124;43m%\u001b[39;49m\u001b[38;5;124;43mS\u001b[39;49m\u001b[38;5;124;43m'\u001b[39;49m\u001b[43m)\u001b[49m\u001b[43m,\u001b[49m\n\u001b[0;32m     15\u001b[0m \u001b[43m                             \u001b[49m\u001b[43mend_date\u001b[49m\u001b[38;5;241;43m=\u001b[39;49m\u001b[43mend_date\u001b[49m\u001b[38;5;241;43m.\u001b[39;49m\u001b[43mstrftime\u001b[49m\u001b[43m(\u001b[49m\u001b[38;5;124;43m'\u001b[39;49m\u001b[38;5;124;43m%\u001b[39;49m\u001b[38;5;124;43mY-\u001b[39;49m\u001b[38;5;124;43m%\u001b[39;49m\u001b[38;5;124;43mm-\u001b[39;49m\u001b[38;5;132;43;01m%d\u001b[39;49;00m\u001b[38;5;124;43m \u001b[39;49m\u001b[38;5;124;43m%\u001b[39;49m\u001b[38;5;124;43mH:\u001b[39;49m\u001b[38;5;124;43m%\u001b[39;49m\u001b[38;5;124;43mM:\u001b[39;49m\u001b[38;5;124;43m%\u001b[39;49m\u001b[38;5;124;43mS\u001b[39;49m\u001b[38;5;124;43m'\u001b[39;49m\u001b[43m)\u001b[49m\u001b[43m)\u001b[49m\n\u001b[0;32m     16\u001b[0m \u001b[38;5;28;01mfor\u001b[39;00m i \u001b[38;5;129;01min\u001b[39;00m data_1m\u001b[38;5;241m.\u001b[39mindex:\n\u001b[0;32m     17\u001b[0m     data_1m\u001b[38;5;241m.\u001b[39mloc[i, \u001b[38;5;124m'\u001b[39m\u001b[38;5;124mroll_high\u001b[39m\u001b[38;5;124m'\u001b[39m] \u001b[38;5;241m=\u001b[39m data_1m\u001b[38;5;241m.\u001b[39mloc[:i][\u001b[38;5;124m'\u001b[39m\u001b[38;5;124mhigh\u001b[39m\u001b[38;5;124m'\u001b[39m]\u001b[38;5;241m.\u001b[39mmax()\n",
      "File \u001b[1;32m~\\PycharmProjects\\trading-bot\\dataset.py:53\u001b[0m, in \u001b[0;36mDataset.get_data\u001b[1;34m(self, ticker, interval, days_of_data, start_date, end_date)\u001b[0m\n\u001b[0;32m     51\u001b[0m     klines \u001b[38;5;241m=\u001b[39m binance_client\u001b[38;5;241m.\u001b[39mget_historical_klines(ticker, interval, start_date)\n\u001b[0;32m     52\u001b[0m \u001b[38;5;28;01melse\u001b[39;00m:\n\u001b[1;32m---> 53\u001b[0m     klines \u001b[38;5;241m=\u001b[39m \u001b[43mbinance_client\u001b[49m\u001b[38;5;241;43m.\u001b[39;49m\u001b[43mget_historical_klines\u001b[49m\u001b[43m(\u001b[49m\u001b[43mticker\u001b[49m\u001b[43m,\u001b[49m\u001b[43m \u001b[49m\u001b[43minterval\u001b[49m\u001b[43m,\u001b[49m\u001b[43m \u001b[49m\u001b[43mstart_date\u001b[49m\u001b[43m,\u001b[49m\u001b[43m \u001b[49m\u001b[43mend_date\u001b[49m\u001b[43m)\u001b[49m\n\u001b[0;32m     54\u001b[0m data \u001b[38;5;241m=\u001b[39m _convert_to_dataframe(klines)\n\u001b[0;32m     55\u001b[0m \u001b[38;5;28;01mreturn\u001b[39;00m data\n",
      "File \u001b[1;32mc:\\users\\aeali\\pycharmprojects\\trading-bot\\venv\\lib\\site-packages\\binance\\client.py:984\u001b[0m, in \u001b[0;36mClient.get_historical_klines\u001b[1;34m(self, symbol, interval, start_str, end_str, limit, klines_type)\u001b[0m\n\u001b[0;32m    964\u001b[0m \u001b[38;5;28;01mdef\u001b[39;00m \u001b[38;5;21mget_historical_klines\u001b[39m(\u001b[38;5;28mself\u001b[39m, symbol, interval, start_str\u001b[38;5;241m=\u001b[39m\u001b[38;5;28;01mNone\u001b[39;00m, end_str\u001b[38;5;241m=\u001b[39m\u001b[38;5;28;01mNone\u001b[39;00m, limit\u001b[38;5;241m=\u001b[39m\u001b[38;5;241m1000\u001b[39m,\n\u001b[0;32m    965\u001b[0m                           klines_type: HistoricalKlinesType \u001b[38;5;241m=\u001b[39m HistoricalKlinesType\u001b[38;5;241m.\u001b[39mSPOT):\n\u001b[0;32m    966\u001b[0m     \u001b[38;5;124;03m\"\"\"Get Historical Klines from Binance\u001b[39;00m\n\u001b[0;32m    967\u001b[0m \n\u001b[0;32m    968\u001b[0m \u001b[38;5;124;03m    :param symbol: Name of symbol pair e.g. BNBBTC\u001b[39;00m\n\u001b[1;32m   (...)\u001b[0m\n\u001b[0;32m    982\u001b[0m \n\u001b[0;32m    983\u001b[0m \u001b[38;5;124;03m    \"\"\"\u001b[39;00m\n\u001b[1;32m--> 984\u001b[0m     \u001b[38;5;28;01mreturn\u001b[39;00m \u001b[38;5;28;43mself\u001b[39;49m\u001b[38;5;241;43m.\u001b[39;49m\u001b[43m_historical_klines\u001b[49m\u001b[43m(\u001b[49m\n\u001b[0;32m    985\u001b[0m \u001b[43m        \u001b[49m\u001b[43msymbol\u001b[49m\u001b[43m,\u001b[49m\u001b[43m \u001b[49m\u001b[43minterval\u001b[49m\u001b[43m,\u001b[49m\u001b[43m \u001b[49m\u001b[43mstart_str\u001b[49m\u001b[38;5;241;43m=\u001b[39;49m\u001b[43mstart_str\u001b[49m\u001b[43m,\u001b[49m\u001b[43m \u001b[49m\u001b[43mend_str\u001b[49m\u001b[38;5;241;43m=\u001b[39;49m\u001b[43mend_str\u001b[49m\u001b[43m,\u001b[49m\u001b[43m \u001b[49m\u001b[43mlimit\u001b[49m\u001b[38;5;241;43m=\u001b[39;49m\u001b[43mlimit\u001b[49m\u001b[43m,\u001b[49m\u001b[43m \u001b[49m\u001b[43mklines_type\u001b[49m\u001b[38;5;241;43m=\u001b[39;49m\u001b[43mklines_type\u001b[49m\n\u001b[0;32m    986\u001b[0m \u001b[43m    \u001b[49m\u001b[43m)\u001b[49m\n",
      "File \u001b[1;32mc:\\users\\aeali\\pycharmprojects\\trading-bot\\venv\\lib\\site-packages\\binance\\client.py:1034\u001b[0m, in \u001b[0;36mClient._historical_klines\u001b[1;34m(self, symbol, interval, start_str, end_str, limit, klines_type)\u001b[0m\n\u001b[0;32m   1031\u001b[0m idx \u001b[38;5;241m=\u001b[39m \u001b[38;5;241m0\u001b[39m\n\u001b[0;32m   1032\u001b[0m \u001b[38;5;28;01mwhile\u001b[39;00m \u001b[38;5;28;01mTrue\u001b[39;00m:\n\u001b[0;32m   1033\u001b[0m     \u001b[38;5;66;03m# fetch the klines from start_ts up to max 500 entries or the end_ts if set\u001b[39;00m\n\u001b[1;32m-> 1034\u001b[0m     temp_data \u001b[38;5;241m=\u001b[39m \u001b[38;5;28;43mself\u001b[39;49m\u001b[38;5;241;43m.\u001b[39;49m\u001b[43m_klines\u001b[49m\u001b[43m(\u001b[49m\n\u001b[0;32m   1035\u001b[0m \u001b[43m        \u001b[49m\u001b[43mklines_type\u001b[49m\u001b[38;5;241;43m=\u001b[39;49m\u001b[43mklines_type\u001b[49m\u001b[43m,\u001b[49m\n\u001b[0;32m   1036\u001b[0m \u001b[43m        \u001b[49m\u001b[43msymbol\u001b[49m\u001b[38;5;241;43m=\u001b[39;49m\u001b[43msymbol\u001b[49m\u001b[43m,\u001b[49m\n\u001b[0;32m   1037\u001b[0m \u001b[43m        \u001b[49m\u001b[43minterval\u001b[49m\u001b[38;5;241;43m=\u001b[39;49m\u001b[43minterval\u001b[49m\u001b[43m,\u001b[49m\n\u001b[0;32m   1038\u001b[0m \u001b[43m        \u001b[49m\u001b[43mlimit\u001b[49m\u001b[38;5;241;43m=\u001b[39;49m\u001b[43mlimit\u001b[49m\u001b[43m,\u001b[49m\n\u001b[0;32m   1039\u001b[0m \u001b[43m        \u001b[49m\u001b[43mstartTime\u001b[49m\u001b[38;5;241;43m=\u001b[39;49m\u001b[43mstart_ts\u001b[49m\u001b[43m,\u001b[49m\n\u001b[0;32m   1040\u001b[0m \u001b[43m        \u001b[49m\u001b[43mendTime\u001b[49m\u001b[38;5;241;43m=\u001b[39;49m\u001b[43mend_ts\u001b[49m\n\u001b[0;32m   1041\u001b[0m \u001b[43m    \u001b[49m\u001b[43m)\u001b[49m\n\u001b[0;32m   1043\u001b[0m     \u001b[38;5;66;03m# append this loops data to our output data\u001b[39;00m\n\u001b[0;32m   1044\u001b[0m     \u001b[38;5;28;01mif\u001b[39;00m temp_data:\n",
      "File \u001b[1;32mc:\\users\\aeali\\pycharmprojects\\trading-bot\\venv\\lib\\site-packages\\binance\\client.py:933\u001b[0m, in \u001b[0;36mClient._klines\u001b[1;34m(self, klines_type, **params)\u001b[0m\n\u001b[0;32m    930\u001b[0m     \u001b[38;5;28;01mdel\u001b[39;00m params[\u001b[38;5;124m'\u001b[39m\u001b[38;5;124mendTime\u001b[39m\u001b[38;5;124m'\u001b[39m]\n\u001b[0;32m    932\u001b[0m \u001b[38;5;28;01mif\u001b[39;00m HistoricalKlinesType\u001b[38;5;241m.\u001b[39mSPOT \u001b[38;5;241m==\u001b[39m klines_type:\n\u001b[1;32m--> 933\u001b[0m     \u001b[38;5;28;01mreturn\u001b[39;00m \u001b[38;5;28mself\u001b[39m\u001b[38;5;241m.\u001b[39mget_klines(\u001b[38;5;241m*\u001b[39m\u001b[38;5;241m*\u001b[39mparams)\n\u001b[0;32m    934\u001b[0m \u001b[38;5;28;01melif\u001b[39;00m HistoricalKlinesType\u001b[38;5;241m.\u001b[39mFUTURES \u001b[38;5;241m==\u001b[39m klines_type:\n\u001b[0;32m    935\u001b[0m     \u001b[38;5;28;01mreturn\u001b[39;00m \u001b[38;5;28mself\u001b[39m\u001b[38;5;241m.\u001b[39mfutures_klines(\u001b[38;5;241m*\u001b[39m\u001b[38;5;241m*\u001b[39mparams)\n",
      "File \u001b[1;32mc:\\users\\aeali\\pycharmprojects\\trading-bot\\venv\\lib\\site-packages\\binance\\client.py:918\u001b[0m, in \u001b[0;36mClient.get_klines\u001b[1;34m(self, **params)\u001b[0m\n\u001b[0;32m    878\u001b[0m \u001b[38;5;28;01mdef\u001b[39;00m \u001b[38;5;21mget_klines\u001b[39m(\u001b[38;5;28mself\u001b[39m, \u001b[38;5;241m*\u001b[39m\u001b[38;5;241m*\u001b[39mparams) \u001b[38;5;241m-\u001b[39m\u001b[38;5;241m>\u001b[39m Dict:\n\u001b[0;32m    879\u001b[0m     \u001b[38;5;124;03m\"\"\"Kline/candlestick bars for a symbol. Klines are uniquely identified by their open time.\u001b[39;00m\n\u001b[0;32m    880\u001b[0m \n\u001b[0;32m    881\u001b[0m \u001b[38;5;124;03m    https://binance-docs.github.io/apidocs/spot/en/#kline-candlestick-data\u001b[39;00m\n\u001b[1;32m   (...)\u001b[0m\n\u001b[0;32m    916\u001b[0m \n\u001b[0;32m    917\u001b[0m \u001b[38;5;124;03m    \"\"\"\u001b[39;00m\n\u001b[1;32m--> 918\u001b[0m     \u001b[38;5;28;01mreturn\u001b[39;00m \u001b[38;5;28;43mself\u001b[39;49m\u001b[38;5;241;43m.\u001b[39;49m\u001b[43m_get\u001b[49m\u001b[43m(\u001b[49m\u001b[38;5;124;43m'\u001b[39;49m\u001b[38;5;124;43mklines\u001b[39;49m\u001b[38;5;124;43m'\u001b[39;49m\u001b[43m,\u001b[49m\u001b[43m \u001b[49m\u001b[43mdata\u001b[49m\u001b[38;5;241;43m=\u001b[39;49m\u001b[43mparams\u001b[49m\u001b[43m,\u001b[49m\u001b[43m \u001b[49m\u001b[43mversion\u001b[49m\u001b[38;5;241;43m=\u001b[39;49m\u001b[38;5;28;43mself\u001b[39;49m\u001b[38;5;241;43m.\u001b[39;49m\u001b[43mPRIVATE_API_VERSION\u001b[49m\u001b[43m)\u001b[49m\n",
      "File \u001b[1;32mc:\\users\\aeali\\pycharmprojects\\trading-bot\\venv\\lib\\site-packages\\binance\\client.py:414\u001b[0m, in \u001b[0;36mClient._get\u001b[1;34m(self, path, signed, version, **kwargs)\u001b[0m\n\u001b[0;32m    413\u001b[0m \u001b[38;5;28;01mdef\u001b[39;00m \u001b[38;5;21m_get\u001b[39m(\u001b[38;5;28mself\u001b[39m, path, signed\u001b[38;5;241m=\u001b[39m\u001b[38;5;28;01mFalse\u001b[39;00m, version\u001b[38;5;241m=\u001b[39mBaseClient\u001b[38;5;241m.\u001b[39mPUBLIC_API_VERSION, \u001b[38;5;241m*\u001b[39m\u001b[38;5;241m*\u001b[39mkwargs):\n\u001b[1;32m--> 414\u001b[0m     \u001b[38;5;28;01mreturn\u001b[39;00m \u001b[38;5;28mself\u001b[39m\u001b[38;5;241m.\u001b[39m_request_api(\u001b[38;5;124m'\u001b[39m\u001b[38;5;124mget\u001b[39m\u001b[38;5;124m'\u001b[39m, path, signed, version, \u001b[38;5;241m*\u001b[39m\u001b[38;5;241m*\u001b[39mkwargs)\n",
      "File \u001b[1;32mc:\\users\\aeali\\pycharmprojects\\trading-bot\\venv\\lib\\site-packages\\binance\\client.py:377\u001b[0m, in \u001b[0;36mClient._request_api\u001b[1;34m(self, method, path, signed, version, **kwargs)\u001b[0m\n\u001b[0;32m    373\u001b[0m \u001b[38;5;28;01mdef\u001b[39;00m \u001b[38;5;21m_request_api\u001b[39m(\n\u001b[0;32m    374\u001b[0m     \u001b[38;5;28mself\u001b[39m, method, path: \u001b[38;5;28mstr\u001b[39m, signed: \u001b[38;5;28mbool\u001b[39m \u001b[38;5;241m=\u001b[39m \u001b[38;5;28;01mFalse\u001b[39;00m, version\u001b[38;5;241m=\u001b[39mBaseClient\u001b[38;5;241m.\u001b[39mPUBLIC_API_VERSION, \u001b[38;5;241m*\u001b[39m\u001b[38;5;241m*\u001b[39mkwargs\n\u001b[0;32m    375\u001b[0m ):\n\u001b[0;32m    376\u001b[0m     uri \u001b[38;5;241m=\u001b[39m \u001b[38;5;28mself\u001b[39m\u001b[38;5;241m.\u001b[39m_create_api_uri(path, signed, version)\n\u001b[1;32m--> 377\u001b[0m     \u001b[38;5;28;01mreturn\u001b[39;00m \u001b[38;5;28mself\u001b[39m\u001b[38;5;241m.\u001b[39m_request(method, uri, signed, \u001b[38;5;241m*\u001b[39m\u001b[38;5;241m*\u001b[39mkwargs)\n",
      "File \u001b[1;32mc:\\users\\aeali\\pycharmprojects\\trading-bot\\venv\\lib\\site-packages\\binance\\client.py:357\u001b[0m, in \u001b[0;36mClient._request\u001b[1;34m(self, method, uri, signed, force_params, **kwargs)\u001b[0m\n\u001b[0;32m    353\u001b[0m \u001b[38;5;28;01mdef\u001b[39;00m \u001b[38;5;21m_request\u001b[39m(\u001b[38;5;28mself\u001b[39m, method, uri: \u001b[38;5;28mstr\u001b[39m, signed: \u001b[38;5;28mbool\u001b[39m, force_params: \u001b[38;5;28mbool\u001b[39m \u001b[38;5;241m=\u001b[39m \u001b[38;5;28;01mFalse\u001b[39;00m, \u001b[38;5;241m*\u001b[39m\u001b[38;5;241m*\u001b[39mkwargs):\n\u001b[0;32m    355\u001b[0m     kwargs \u001b[38;5;241m=\u001b[39m \u001b[38;5;28mself\u001b[39m\u001b[38;5;241m.\u001b[39m_get_request_kwargs(method, signed, force_params, \u001b[38;5;241m*\u001b[39m\u001b[38;5;241m*\u001b[39mkwargs)\n\u001b[1;32m--> 357\u001b[0m     \u001b[38;5;28mself\u001b[39m\u001b[38;5;241m.\u001b[39mresponse \u001b[38;5;241m=\u001b[39m \u001b[38;5;28mgetattr\u001b[39m(\u001b[38;5;28mself\u001b[39m\u001b[38;5;241m.\u001b[39msession, method)(uri, \u001b[38;5;241m*\u001b[39m\u001b[38;5;241m*\u001b[39mkwargs)\n\u001b[0;32m    358\u001b[0m     \u001b[38;5;28;01mreturn\u001b[39;00m \u001b[38;5;28mself\u001b[39m\u001b[38;5;241m.\u001b[39m_handle_response(\u001b[38;5;28mself\u001b[39m\u001b[38;5;241m.\u001b[39mresponse)\n",
      "File \u001b[1;32mc:\\users\\aeali\\pycharmprojects\\trading-bot\\venv\\lib\\site-packages\\requests\\sessions.py:542\u001b[0m, in \u001b[0;36mSession.get\u001b[1;34m(self, url, **kwargs)\u001b[0m\n\u001b[0;32m    534\u001b[0m \u001b[38;5;124mr\u001b[39m\u001b[38;5;124;03m\"\"\"Sends a GET request. Returns :class:`Response` object.\u001b[39;00m\n\u001b[0;32m    535\u001b[0m \n\u001b[0;32m    536\u001b[0m \u001b[38;5;124;03m:param url: URL for the new :class:`Request` object.\u001b[39;00m\n\u001b[0;32m    537\u001b[0m \u001b[38;5;124;03m:param \\*\\*kwargs: Optional arguments that ``request`` takes.\u001b[39;00m\n\u001b[0;32m    538\u001b[0m \u001b[38;5;124;03m:rtype: requests.Response\u001b[39;00m\n\u001b[0;32m    539\u001b[0m \u001b[38;5;124;03m\"\"\"\u001b[39;00m\n\u001b[0;32m    541\u001b[0m kwargs\u001b[38;5;241m.\u001b[39msetdefault(\u001b[38;5;124m'\u001b[39m\u001b[38;5;124mallow_redirects\u001b[39m\u001b[38;5;124m'\u001b[39m, \u001b[38;5;28;01mTrue\u001b[39;00m)\n\u001b[1;32m--> 542\u001b[0m \u001b[38;5;28;01mreturn\u001b[39;00m \u001b[38;5;28mself\u001b[39m\u001b[38;5;241m.\u001b[39mrequest(\u001b[38;5;124m'\u001b[39m\u001b[38;5;124mGET\u001b[39m\u001b[38;5;124m'\u001b[39m, url, \u001b[38;5;241m*\u001b[39m\u001b[38;5;241m*\u001b[39mkwargs)\n",
      "File \u001b[1;32mc:\\users\\aeali\\pycharmprojects\\trading-bot\\venv\\lib\\site-packages\\requests\\sessions.py:529\u001b[0m, in \u001b[0;36mSession.request\u001b[1;34m(self, method, url, params, data, headers, cookies, files, auth, timeout, allow_redirects, proxies, hooks, stream, verify, cert, json)\u001b[0m\n\u001b[0;32m    524\u001b[0m send_kwargs \u001b[38;5;241m=\u001b[39m {\n\u001b[0;32m    525\u001b[0m     \u001b[38;5;124m'\u001b[39m\u001b[38;5;124mtimeout\u001b[39m\u001b[38;5;124m'\u001b[39m: timeout,\n\u001b[0;32m    526\u001b[0m     \u001b[38;5;124m'\u001b[39m\u001b[38;5;124mallow_redirects\u001b[39m\u001b[38;5;124m'\u001b[39m: allow_redirects,\n\u001b[0;32m    527\u001b[0m }\n\u001b[0;32m    528\u001b[0m send_kwargs\u001b[38;5;241m.\u001b[39mupdate(settings)\n\u001b[1;32m--> 529\u001b[0m resp \u001b[38;5;241m=\u001b[39m \u001b[38;5;28mself\u001b[39m\u001b[38;5;241m.\u001b[39msend(prep, \u001b[38;5;241m*\u001b[39m\u001b[38;5;241m*\u001b[39msend_kwargs)\n\u001b[0;32m    531\u001b[0m \u001b[38;5;28;01mreturn\u001b[39;00m resp\n",
      "File \u001b[1;32mc:\\users\\aeali\\pycharmprojects\\trading-bot\\venv\\lib\\site-packages\\requests\\sessions.py:645\u001b[0m, in \u001b[0;36mSession.send\u001b[1;34m(self, request, **kwargs)\u001b[0m\n\u001b[0;32m    642\u001b[0m start \u001b[38;5;241m=\u001b[39m preferred_clock()\n\u001b[0;32m    644\u001b[0m \u001b[38;5;66;03m# Send the request\u001b[39;00m\n\u001b[1;32m--> 645\u001b[0m r \u001b[38;5;241m=\u001b[39m adapter\u001b[38;5;241m.\u001b[39msend(request, \u001b[38;5;241m*\u001b[39m\u001b[38;5;241m*\u001b[39mkwargs)\n\u001b[0;32m    647\u001b[0m \u001b[38;5;66;03m# Total elapsed time of the request (approximately)\u001b[39;00m\n\u001b[0;32m    648\u001b[0m elapsed \u001b[38;5;241m=\u001b[39m preferred_clock() \u001b[38;5;241m-\u001b[39m start\n",
      "File \u001b[1;32mc:\\users\\aeali\\pycharmprojects\\trading-bot\\venv\\lib\\site-packages\\requests\\adapters.py:440\u001b[0m, in \u001b[0;36mHTTPAdapter.send\u001b[1;34m(self, request, stream, timeout, verify, cert, proxies)\u001b[0m\n\u001b[0;32m    438\u001b[0m \u001b[38;5;28;01mtry\u001b[39;00m:\n\u001b[0;32m    439\u001b[0m     \u001b[38;5;28;01mif\u001b[39;00m \u001b[38;5;129;01mnot\u001b[39;00m chunked:\n\u001b[1;32m--> 440\u001b[0m         resp \u001b[38;5;241m=\u001b[39m \u001b[43mconn\u001b[49m\u001b[38;5;241;43m.\u001b[39;49m\u001b[43murlopen\u001b[49m\u001b[43m(\u001b[49m\n\u001b[0;32m    441\u001b[0m \u001b[43m            \u001b[49m\u001b[43mmethod\u001b[49m\u001b[38;5;241;43m=\u001b[39;49m\u001b[43mrequest\u001b[49m\u001b[38;5;241;43m.\u001b[39;49m\u001b[43mmethod\u001b[49m\u001b[43m,\u001b[49m\n\u001b[0;32m    442\u001b[0m \u001b[43m            \u001b[49m\u001b[43murl\u001b[49m\u001b[38;5;241;43m=\u001b[39;49m\u001b[43murl\u001b[49m\u001b[43m,\u001b[49m\n\u001b[0;32m    443\u001b[0m \u001b[43m            \u001b[49m\u001b[43mbody\u001b[49m\u001b[38;5;241;43m=\u001b[39;49m\u001b[43mrequest\u001b[49m\u001b[38;5;241;43m.\u001b[39;49m\u001b[43mbody\u001b[49m\u001b[43m,\u001b[49m\n\u001b[0;32m    444\u001b[0m \u001b[43m            \u001b[49m\u001b[43mheaders\u001b[49m\u001b[38;5;241;43m=\u001b[39;49m\u001b[43mrequest\u001b[49m\u001b[38;5;241;43m.\u001b[39;49m\u001b[43mheaders\u001b[49m\u001b[43m,\u001b[49m\n\u001b[0;32m    445\u001b[0m \u001b[43m            \u001b[49m\u001b[43mredirect\u001b[49m\u001b[38;5;241;43m=\u001b[39;49m\u001b[38;5;28;43;01mFalse\u001b[39;49;00m\u001b[43m,\u001b[49m\n\u001b[0;32m    446\u001b[0m \u001b[43m            \u001b[49m\u001b[43massert_same_host\u001b[49m\u001b[38;5;241;43m=\u001b[39;49m\u001b[38;5;28;43;01mFalse\u001b[39;49;00m\u001b[43m,\u001b[49m\n\u001b[0;32m    447\u001b[0m \u001b[43m            \u001b[49m\u001b[43mpreload_content\u001b[49m\u001b[38;5;241;43m=\u001b[39;49m\u001b[38;5;28;43;01mFalse\u001b[39;49;00m\u001b[43m,\u001b[49m\n\u001b[0;32m    448\u001b[0m \u001b[43m            \u001b[49m\u001b[43mdecode_content\u001b[49m\u001b[38;5;241;43m=\u001b[39;49m\u001b[38;5;28;43;01mFalse\u001b[39;49;00m\u001b[43m,\u001b[49m\n\u001b[0;32m    449\u001b[0m \u001b[43m            \u001b[49m\u001b[43mretries\u001b[49m\u001b[38;5;241;43m=\u001b[39;49m\u001b[38;5;28;43mself\u001b[39;49m\u001b[38;5;241;43m.\u001b[39;49m\u001b[43mmax_retries\u001b[49m\u001b[43m,\u001b[49m\n\u001b[0;32m    450\u001b[0m \u001b[43m            \u001b[49m\u001b[43mtimeout\u001b[49m\u001b[38;5;241;43m=\u001b[39;49m\u001b[43mtimeout\u001b[49m\n\u001b[0;32m    451\u001b[0m \u001b[43m        \u001b[49m\u001b[43m)\u001b[49m\n\u001b[0;32m    453\u001b[0m     \u001b[38;5;66;03m# Send the request.\u001b[39;00m\n\u001b[0;32m    454\u001b[0m     \u001b[38;5;28;01melse\u001b[39;00m:\n\u001b[0;32m    455\u001b[0m         \u001b[38;5;28;01mif\u001b[39;00m \u001b[38;5;28mhasattr\u001b[39m(conn, \u001b[38;5;124m'\u001b[39m\u001b[38;5;124mproxy_pool\u001b[39m\u001b[38;5;124m'\u001b[39m):\n",
      "File \u001b[1;32mc:\\users\\aeali\\pycharmprojects\\trading-bot\\venv\\lib\\site-packages\\urllib3\\connectionpool.py:703\u001b[0m, in \u001b[0;36mHTTPConnectionPool.urlopen\u001b[1;34m(self, method, url, body, headers, retries, redirect, assert_same_host, timeout, pool_timeout, release_conn, chunked, body_pos, **response_kw)\u001b[0m\n\u001b[0;32m    700\u001b[0m     \u001b[38;5;28mself\u001b[39m\u001b[38;5;241m.\u001b[39m_prepare_proxy(conn)\n\u001b[0;32m    702\u001b[0m \u001b[38;5;66;03m# Make the request on the httplib connection object.\u001b[39;00m\n\u001b[1;32m--> 703\u001b[0m httplib_response \u001b[38;5;241m=\u001b[39m \u001b[38;5;28;43mself\u001b[39;49m\u001b[38;5;241;43m.\u001b[39;49m\u001b[43m_make_request\u001b[49m\u001b[43m(\u001b[49m\n\u001b[0;32m    704\u001b[0m \u001b[43m    \u001b[49m\u001b[43mconn\u001b[49m\u001b[43m,\u001b[49m\n\u001b[0;32m    705\u001b[0m \u001b[43m    \u001b[49m\u001b[43mmethod\u001b[49m\u001b[43m,\u001b[49m\n\u001b[0;32m    706\u001b[0m \u001b[43m    \u001b[49m\u001b[43murl\u001b[49m\u001b[43m,\u001b[49m\n\u001b[0;32m    707\u001b[0m \u001b[43m    \u001b[49m\u001b[43mtimeout\u001b[49m\u001b[38;5;241;43m=\u001b[39;49m\u001b[43mtimeout_obj\u001b[49m\u001b[43m,\u001b[49m\n\u001b[0;32m    708\u001b[0m \u001b[43m    \u001b[49m\u001b[43mbody\u001b[49m\u001b[38;5;241;43m=\u001b[39;49m\u001b[43mbody\u001b[49m\u001b[43m,\u001b[49m\n\u001b[0;32m    709\u001b[0m \u001b[43m    \u001b[49m\u001b[43mheaders\u001b[49m\u001b[38;5;241;43m=\u001b[39;49m\u001b[43mheaders\u001b[49m\u001b[43m,\u001b[49m\n\u001b[0;32m    710\u001b[0m \u001b[43m    \u001b[49m\u001b[43mchunked\u001b[49m\u001b[38;5;241;43m=\u001b[39;49m\u001b[43mchunked\u001b[49m\u001b[43m,\u001b[49m\n\u001b[0;32m    711\u001b[0m \u001b[43m\u001b[49m\u001b[43m)\u001b[49m\n\u001b[0;32m    713\u001b[0m \u001b[38;5;66;03m# If we're going to release the connection in ``finally:``, then\u001b[39;00m\n\u001b[0;32m    714\u001b[0m \u001b[38;5;66;03m# the response doesn't need to know about the connection. Otherwise\u001b[39;00m\n\u001b[0;32m    715\u001b[0m \u001b[38;5;66;03m# it will also try to release it and we'll have a double-release\u001b[39;00m\n\u001b[0;32m    716\u001b[0m \u001b[38;5;66;03m# mess.\u001b[39;00m\n\u001b[0;32m    717\u001b[0m response_conn \u001b[38;5;241m=\u001b[39m conn \u001b[38;5;28;01mif\u001b[39;00m \u001b[38;5;129;01mnot\u001b[39;00m release_conn \u001b[38;5;28;01melse\u001b[39;00m \u001b[38;5;28;01mNone\u001b[39;00m\n",
      "File \u001b[1;32mc:\\users\\aeali\\pycharmprojects\\trading-bot\\venv\\lib\\site-packages\\urllib3\\connectionpool.py:449\u001b[0m, in \u001b[0;36mHTTPConnectionPool._make_request\u001b[1;34m(self, conn, method, url, timeout, chunked, **httplib_request_kw)\u001b[0m\n\u001b[0;32m    444\u001b[0m             httplib_response \u001b[38;5;241m=\u001b[39m conn\u001b[38;5;241m.\u001b[39mgetresponse()\n\u001b[0;32m    445\u001b[0m         \u001b[38;5;28;01mexcept\u001b[39;00m \u001b[38;5;167;01mBaseException\u001b[39;00m \u001b[38;5;28;01mas\u001b[39;00m e:\n\u001b[0;32m    446\u001b[0m             \u001b[38;5;66;03m# Remove the TypeError from the exception chain in\u001b[39;00m\n\u001b[0;32m    447\u001b[0m             \u001b[38;5;66;03m# Python 3 (including for exceptions like SystemExit).\u001b[39;00m\n\u001b[0;32m    448\u001b[0m             \u001b[38;5;66;03m# Otherwise it looks like a bug in the code.\u001b[39;00m\n\u001b[1;32m--> 449\u001b[0m             \u001b[43msix\u001b[49m\u001b[38;5;241;43m.\u001b[39;49m\u001b[43mraise_from\u001b[49m\u001b[43m(\u001b[49m\u001b[43me\u001b[49m\u001b[43m,\u001b[49m\u001b[43m \u001b[49m\u001b[38;5;28;43;01mNone\u001b[39;49;00m\u001b[43m)\u001b[49m\n\u001b[0;32m    450\u001b[0m \u001b[38;5;28;01mexcept\u001b[39;00m (SocketTimeout, BaseSSLError, SocketError) \u001b[38;5;28;01mas\u001b[39;00m e:\n\u001b[0;32m    451\u001b[0m     \u001b[38;5;28mself\u001b[39m\u001b[38;5;241m.\u001b[39m_raise_timeout(err\u001b[38;5;241m=\u001b[39me, url\u001b[38;5;241m=\u001b[39murl, timeout_value\u001b[38;5;241m=\u001b[39mread_timeout)\n",
      "File \u001b[1;32m<string>:3\u001b[0m, in \u001b[0;36mraise_from\u001b[1;34m(value, from_value)\u001b[0m\n",
      "File \u001b[1;32mc:\\users\\aeali\\pycharmprojects\\trading-bot\\venv\\lib\\site-packages\\urllib3\\connectionpool.py:444\u001b[0m, in \u001b[0;36mHTTPConnectionPool._make_request\u001b[1;34m(self, conn, method, url, timeout, chunked, **httplib_request_kw)\u001b[0m\n\u001b[0;32m    441\u001b[0m \u001b[38;5;28;01mexcept\u001b[39;00m \u001b[38;5;167;01mTypeError\u001b[39;00m:\n\u001b[0;32m    442\u001b[0m     \u001b[38;5;66;03m# Python 3\u001b[39;00m\n\u001b[0;32m    443\u001b[0m     \u001b[38;5;28;01mtry\u001b[39;00m:\n\u001b[1;32m--> 444\u001b[0m         httplib_response \u001b[38;5;241m=\u001b[39m \u001b[43mconn\u001b[49m\u001b[38;5;241;43m.\u001b[39;49m\u001b[43mgetresponse\u001b[49m\u001b[43m(\u001b[49m\u001b[43m)\u001b[49m\n\u001b[0;32m    445\u001b[0m     \u001b[38;5;28;01mexcept\u001b[39;00m \u001b[38;5;167;01mBaseException\u001b[39;00m \u001b[38;5;28;01mas\u001b[39;00m e:\n\u001b[0;32m    446\u001b[0m         \u001b[38;5;66;03m# Remove the TypeError from the exception chain in\u001b[39;00m\n\u001b[0;32m    447\u001b[0m         \u001b[38;5;66;03m# Python 3 (including for exceptions like SystemExit).\u001b[39;00m\n\u001b[0;32m    448\u001b[0m         \u001b[38;5;66;03m# Otherwise it looks like a bug in the code.\u001b[39;00m\n\u001b[0;32m    449\u001b[0m         six\u001b[38;5;241m.\u001b[39mraise_from(e, \u001b[38;5;28;01mNone\u001b[39;00m)\n",
      "File \u001b[1;32m~\\AppData\\Local\\Programs\\Python\\Python39\\lib\\http\\client.py:1371\u001b[0m, in \u001b[0;36mHTTPConnection.getresponse\u001b[1;34m(self)\u001b[0m\n\u001b[0;32m   1369\u001b[0m \u001b[38;5;28;01mtry\u001b[39;00m:\n\u001b[0;32m   1370\u001b[0m     \u001b[38;5;28;01mtry\u001b[39;00m:\n\u001b[1;32m-> 1371\u001b[0m         \u001b[43mresponse\u001b[49m\u001b[38;5;241;43m.\u001b[39;49m\u001b[43mbegin\u001b[49m\u001b[43m(\u001b[49m\u001b[43m)\u001b[49m\n\u001b[0;32m   1372\u001b[0m     \u001b[38;5;28;01mexcept\u001b[39;00m \u001b[38;5;167;01mConnectionError\u001b[39;00m:\n\u001b[0;32m   1373\u001b[0m         \u001b[38;5;28mself\u001b[39m\u001b[38;5;241m.\u001b[39mclose()\n",
      "File \u001b[1;32m~\\AppData\\Local\\Programs\\Python\\Python39\\lib\\http\\client.py:319\u001b[0m, in \u001b[0;36mHTTPResponse.begin\u001b[1;34m(self)\u001b[0m\n\u001b[0;32m    317\u001b[0m \u001b[38;5;66;03m# read until we get a non-100 response\u001b[39;00m\n\u001b[0;32m    318\u001b[0m \u001b[38;5;28;01mwhile\u001b[39;00m \u001b[38;5;28;01mTrue\u001b[39;00m:\n\u001b[1;32m--> 319\u001b[0m     version, status, reason \u001b[38;5;241m=\u001b[39m \u001b[38;5;28;43mself\u001b[39;49m\u001b[38;5;241;43m.\u001b[39;49m\u001b[43m_read_status\u001b[49m\u001b[43m(\u001b[49m\u001b[43m)\u001b[49m\n\u001b[0;32m    320\u001b[0m     \u001b[38;5;28;01mif\u001b[39;00m status \u001b[38;5;241m!=\u001b[39m CONTINUE:\n\u001b[0;32m    321\u001b[0m         \u001b[38;5;28;01mbreak\u001b[39;00m\n",
      "File \u001b[1;32m~\\AppData\\Local\\Programs\\Python\\Python39\\lib\\http\\client.py:280\u001b[0m, in \u001b[0;36mHTTPResponse._read_status\u001b[1;34m(self)\u001b[0m\n\u001b[0;32m    279\u001b[0m \u001b[38;5;28;01mdef\u001b[39;00m \u001b[38;5;21m_read_status\u001b[39m(\u001b[38;5;28mself\u001b[39m):\n\u001b[1;32m--> 280\u001b[0m     line \u001b[38;5;241m=\u001b[39m \u001b[38;5;28mstr\u001b[39m(\u001b[38;5;28;43mself\u001b[39;49m\u001b[38;5;241;43m.\u001b[39;49m\u001b[43mfp\u001b[49m\u001b[38;5;241;43m.\u001b[39;49m\u001b[43mreadline\u001b[49m\u001b[43m(\u001b[49m\u001b[43m_MAXLINE\u001b[49m\u001b[43m \u001b[49m\u001b[38;5;241;43m+\u001b[39;49m\u001b[43m \u001b[49m\u001b[38;5;241;43m1\u001b[39;49m\u001b[43m)\u001b[49m, \u001b[38;5;124m\"\u001b[39m\u001b[38;5;124miso-8859-1\u001b[39m\u001b[38;5;124m\"\u001b[39m)\n\u001b[0;32m    281\u001b[0m     \u001b[38;5;28;01mif\u001b[39;00m \u001b[38;5;28mlen\u001b[39m(line) \u001b[38;5;241m>\u001b[39m _MAXLINE:\n\u001b[0;32m    282\u001b[0m         \u001b[38;5;28;01mraise\u001b[39;00m LineTooLong(\u001b[38;5;124m\"\u001b[39m\u001b[38;5;124mstatus line\u001b[39m\u001b[38;5;124m\"\u001b[39m)\n",
      "File \u001b[1;32m~\\AppData\\Local\\Programs\\Python\\Python39\\lib\\socket.py:704\u001b[0m, in \u001b[0;36mSocketIO.readinto\u001b[1;34m(self, b)\u001b[0m\n\u001b[0;32m    702\u001b[0m \u001b[38;5;28;01mwhile\u001b[39;00m \u001b[38;5;28;01mTrue\u001b[39;00m:\n\u001b[0;32m    703\u001b[0m     \u001b[38;5;28;01mtry\u001b[39;00m:\n\u001b[1;32m--> 704\u001b[0m         \u001b[38;5;28;01mreturn\u001b[39;00m \u001b[38;5;28;43mself\u001b[39;49m\u001b[38;5;241;43m.\u001b[39;49m\u001b[43m_sock\u001b[49m\u001b[38;5;241;43m.\u001b[39;49m\u001b[43mrecv_into\u001b[49m\u001b[43m(\u001b[49m\u001b[43mb\u001b[49m\u001b[43m)\u001b[49m\n\u001b[0;32m    705\u001b[0m     \u001b[38;5;28;01mexcept\u001b[39;00m timeout:\n\u001b[0;32m    706\u001b[0m         \u001b[38;5;28mself\u001b[39m\u001b[38;5;241m.\u001b[39m_timeout_occurred \u001b[38;5;241m=\u001b[39m \u001b[38;5;28;01mTrue\u001b[39;00m\n",
      "File \u001b[1;32m~\\AppData\\Local\\Programs\\Python\\Python39\\lib\\ssl.py:1241\u001b[0m, in \u001b[0;36mSSLSocket.recv_into\u001b[1;34m(self, buffer, nbytes, flags)\u001b[0m\n\u001b[0;32m   1237\u001b[0m     \u001b[38;5;28;01mif\u001b[39;00m flags \u001b[38;5;241m!=\u001b[39m \u001b[38;5;241m0\u001b[39m:\n\u001b[0;32m   1238\u001b[0m         \u001b[38;5;28;01mraise\u001b[39;00m \u001b[38;5;167;01mValueError\u001b[39;00m(\n\u001b[0;32m   1239\u001b[0m           \u001b[38;5;124m\"\u001b[39m\u001b[38;5;124mnon-zero flags not allowed in calls to recv_into() on \u001b[39m\u001b[38;5;132;01m%s\u001b[39;00m\u001b[38;5;124m\"\u001b[39m \u001b[38;5;241m%\u001b[39m\n\u001b[0;32m   1240\u001b[0m           \u001b[38;5;28mself\u001b[39m\u001b[38;5;241m.\u001b[39m\u001b[38;5;18m__class__\u001b[39m)\n\u001b[1;32m-> 1241\u001b[0m     \u001b[38;5;28;01mreturn\u001b[39;00m \u001b[38;5;28;43mself\u001b[39;49m\u001b[38;5;241;43m.\u001b[39;49m\u001b[43mread\u001b[49m\u001b[43m(\u001b[49m\u001b[43mnbytes\u001b[49m\u001b[43m,\u001b[49m\u001b[43m \u001b[49m\u001b[43mbuffer\u001b[49m\u001b[43m)\u001b[49m\n\u001b[0;32m   1242\u001b[0m \u001b[38;5;28;01melse\u001b[39;00m:\n\u001b[0;32m   1243\u001b[0m     \u001b[38;5;28;01mreturn\u001b[39;00m \u001b[38;5;28msuper\u001b[39m()\u001b[38;5;241m.\u001b[39mrecv_into(buffer, nbytes, flags)\n",
      "File \u001b[1;32m~\\AppData\\Local\\Programs\\Python\\Python39\\lib\\ssl.py:1099\u001b[0m, in \u001b[0;36mSSLSocket.read\u001b[1;34m(self, len, buffer)\u001b[0m\n\u001b[0;32m   1097\u001b[0m \u001b[38;5;28;01mtry\u001b[39;00m:\n\u001b[0;32m   1098\u001b[0m     \u001b[38;5;28;01mif\u001b[39;00m buffer \u001b[38;5;129;01mis\u001b[39;00m \u001b[38;5;129;01mnot\u001b[39;00m \u001b[38;5;28;01mNone\u001b[39;00m:\n\u001b[1;32m-> 1099\u001b[0m         \u001b[38;5;28;01mreturn\u001b[39;00m \u001b[38;5;28;43mself\u001b[39;49m\u001b[38;5;241;43m.\u001b[39;49m\u001b[43m_sslobj\u001b[49m\u001b[38;5;241;43m.\u001b[39;49m\u001b[43mread\u001b[49m\u001b[43m(\u001b[49m\u001b[38;5;28;43mlen\u001b[39;49m\u001b[43m,\u001b[49m\u001b[43m \u001b[49m\u001b[43mbuffer\u001b[49m\u001b[43m)\u001b[49m\n\u001b[0;32m   1100\u001b[0m     \u001b[38;5;28;01melse\u001b[39;00m:\n\u001b[0;32m   1101\u001b[0m         \u001b[38;5;28;01mreturn\u001b[39;00m \u001b[38;5;28mself\u001b[39m\u001b[38;5;241m.\u001b[39m_sslobj\u001b[38;5;241m.\u001b[39mread(\u001b[38;5;28mlen\u001b[39m)\n",
      "\u001b[1;31mKeyboardInterrupt\u001b[0m: "
     ]
    }
   ],
   "source": [
    "start_cash = 1000\n",
    "risk = 1\n",
    "leverage = 10\n",
    "pf = Portfolio(start_cash=start_cash, max_pos_pct=1, max_leverage=100, maker_fee=0.0002, taker_fee=0.00055)\n",
    "\n",
    "t = 1\n",
    "for idx, candle in data_high_vol.iterrows():\n",
    "    print(f'{t} / {data_high_vol.shape[0]}')\n",
    "    t += 1\n",
    "    entry_range = candle['candle_size_mean'] + std_multiple * candle['candle_size_std']\n",
    "    \n",
    "    start_date = idx - datetime.timedelta(minutes=tf_hours * 60)\n",
    "    end_date = idx - datetime.timedelta(minutes=1)\n",
    "    data_1m = Dataset().get_data(ticker='BTCUSDT', interval='1m', start_date=start_date.strftime('%Y-%m-%d %H:%M:%S'),\n",
    "                                 end_date=end_date.strftime('%Y-%m-%d %H:%M:%S'))\n",
    "    for i in data_1m.index:\n",
    "        data_1m.loc[i, 'roll_high'] = data_1m.loc[:i]['high'].max()\n",
    "        data_1m.loc[i, 'roll_low'] = data_1m.loc[:i]['low'].min()\n",
    "    data_1m['roll_candle_size'] = data_1m['roll_high'] - data_1m['roll_low']\n",
    "    rough_price = data_1m[data_1m['roll_candle_size'] > entry_range].iloc[0]['close']\n",
    "    \n",
    "    if rough_price > candle['open']:\n",
    "        entry = candle['low'] + entry_range\n",
    "        exit = candle['close']\n",
    "        \n",
    "        pf.open_trade(entry, sl=1000000, tp=0, date=idx, risk=risk, lev=leverage)\n",
    "        if exit <= entry:\n",
    "            pf.take_profit(tp=exit, date=idx, order_type='market')\n",
    "        else:\n",
    "            pf.stop_loss(sl=exit, date=idx)\n",
    "        \n",
    "        data_high_vol.loc[idx, 'entry'] = entry\n",
    "        data_high_vol.loc[idx, 'exit'] = exit\n",
    "        data_high_vol.loc[idx, 'return_pct'] = (entry - exit) / entry\n",
    "        data_high_vol.loc[idx, 'darwdown'] = (candle['high'] - entry) / entry\n",
    "    elif rough_price < candle['open']:\n",
    "        entry = candle['high'] - entry_range\n",
    "        exit = candle['close']\n",
    "        \n",
    "        pf.open_trade(entry, sl=0, tp=1000000, date=idx, risk=risk, lev=leverage)\n",
    "        if exit >= entry:\n",
    "            pf.take_profit(tp=exit, date=idx, order_type='market')\n",
    "        else:\n",
    "            pf.stop_loss(sl=exit, date=idx)  \n",
    "        \n",
    "        data_high_vol.loc[idx, 'entry'] = entry\n",
    "        data_high_vol.loc[idx, 'exit'] = exit\n",
    "        data_high_vol.loc[idx, 'return_pct'] = (exit - entry) / entry\n",
    "        data_high_vol.loc[idx, 'darwdown'] = (entry - candle['low']) / entry\n",
    "    else:\n",
    "        data_high_vol.loc[idx, 'entry'] = np.nan\n",
    "        data_high_vol.loc[idx, 'exit'] = np.nan\n",
    "        data_high_vol.loc[idx, 'return_pct'] = 0\n",
    "        data_high_vol.loc[idx, 'darwdown'] = 0"
   ]
  },
  {
   "cell_type": "code",
   "execution_count": null,
   "id": "e129b06f",
   "metadata": {},
   "outputs": [],
   "source": [
    "pf.trade_ts"
   ]
  }
 ],
 "metadata": {
  "kernelspec": {
   "display_name": "Python 3 (ipykernel)",
   "language": "python",
   "name": "python3"
  },
  "language_info": {
   "codemirror_mode": {
    "name": "ipython",
    "version": 3
   },
   "file_extension": ".py",
   "mimetype": "text/x-python",
   "name": "python",
   "nbconvert_exporter": "python",
   "pygments_lexer": "ipython3",
   "version": "3.9.7"
  }
 },
 "nbformat": 4,
 "nbformat_minor": 5
}
